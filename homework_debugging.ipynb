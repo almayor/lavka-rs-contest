{
 "cells": [
  {
   "cell_type": "code",
   "execution_count": 1,
   "id": "bee3d8a0",
   "metadata": {},
   "outputs": [
    {
     "name": "stdout",
     "output_type": "stream",
     "text": [
      "/data/majoroval/jupyter/RS-25/homework/week02\n"
     ]
    }
   ],
   "source": [
    "%cd /data/majoroval/jupyter/RS-25/homework/week02"
   ]
  },
  {
   "cell_type": "code",
   "execution_count": 2,
   "id": "f364703d",
   "metadata": {},
   "outputs": [],
   "source": [
    "import requests\n",
    "\n",
    "import numpy as np\n",
    "import polars as pl\n",
    "import seaborn as sns\n",
    "import matplotlib.pyplot as plt\n",
    "\n",
    "from PIL import Image\n",
    "from io import BytesIO\n",
    "from textwrap import wrap\n",
    "from tqdm.auto import tqdm\n",
    "from concurrent.futures import ThreadPoolExecutor\n",
    "from sklearn.metrics import roc_auc_score, log_loss, ndcg_score\n",
    "from pprint import pprint"
   ]
  },
  {
   "cell_type": "code",
   "execution_count": 3,
   "id": "e3e69f73",
   "metadata": {},
   "outputs": [],
   "source": [
    "from framework import Config, DataLoader, FeatureFactory, ModelFactory"
   ]
  },
  {
   "cell_type": "code",
   "execution_count": 4,
   "id": "a2012059",
   "metadata": {},
   "outputs": [
    {
     "name": "stdout",
     "output_type": "stream",
     "text": [
      "2025-04-12 14:16:25,617 - lavka_recsys.DataLoader - INFO - Loaded train data: 14954417 rows\n",
      "2025-04-12 14:16:25,631 - lavka_recsys.DataLoader - INFO - Normalized timestamps\n",
      "2025-04-12 14:16:25,633 - lavka_recsys.DataLoader - INFO - Loaded test data: 565231 rows\n",
      "2025-04-12 14:16:25,636 - lavka_recsys.DataLoader - INFO - Normalized timestamps\n"
     ]
    }
   ],
   "source": [
    "config = Config()\n",
    "dl = DataLoader(config)\n",
    "dl.load_data();"
   ]
  },
  {
   "cell_type": "code",
   "execution_count": 5,
   "id": "2acd2500",
   "metadata": {},
   "outputs": [],
   "source": [
    "@FeatureFactory.register('count_purchase_product')\n",
    "def generate_count_purchase_product(\n",
    "    history_df: pl.DataFrame, target_df: pl.DataFrame\n",
    ") -> tuple[pl.DataFrame, list[str]]:\n",
    "    \"\"\"Count purchases by user-product pairs\"\"\"\n",
    "    return history_df.filter(\n",
    "        pl.col('action_type') == \"AT_Purchase\"\n",
    "    ).group_by(\n",
    "        'user_id', 'product_id'\n",
    "    ).agg(\n",
    "        pl.len().alias('count_purchase_product')\n",
    "    ).join(\n",
    "        target_df,\n",
    "        on=['user_id', 'product_id'],\n",
    "        how='right'\n",
    "    ).fill_null(0), []"
   ]
  },
  {
   "cell_type": "code",
   "execution_count": 6,
   "id": "70437547",
   "metadata": {},
   "outputs": [],
   "source": [
    "@FeatureFactory.register('count_purchase_store')\n",
    "def generate_count_purchase_store(\n",
    "    history_df: pl.DataFrame, target_df: pl.DataFrame\n",
    ") -> tuple[pl.DataFrame, list[str]]:\n",
    "    \"\"\"Count purchases by user-store pairs\"\"\"\n",
    "    return history_df.filter(\n",
    "        pl.col('action_type') == \"AT_Purchase\"\n",
    "    ).group_by(\n",
    "        'user_id', 'store_id'\n",
    "    ).agg(\n",
    "        pl.len().alias('count_purchase_store')\n",
    "    ).join(\n",
    "        target_df,\n",
    "        on=['user_id', 'store_id'],\n",
    "        how='right'\n",
    "    ).fill_null(0), []"
   ]
  },
  {
   "cell_type": "code",
   "execution_count": 7,
   "id": "7d85d64a",
   "metadata": {},
   "outputs": [],
   "source": [
    "@FeatureFactory.register('ctr_product')\n",
    "def generate_ctr_product(\n",
    "    history_df: pl.DataFrame, target_df: pl.DataFrame\n",
    ") -> tuple[pl.DataFrame, list[str]]:\n",
    "    \"\"\"Calculate CTR (Click-Through Rate) for products\"\"\"\n",
    "    actions = history_df.group_by(\n",
    "        'action_type', 'product_id'\n",
    "    ).agg(\n",
    "        pl.len()\n",
    "    )\n",
    "    \n",
    "    clicks = actions.filter(pl.col('action_type') == \"AT_Click\")\n",
    "    views = actions.filter(pl.col('action_type') == \"AT_View\")\n",
    "    \n",
    "    feature = clicks.join(\n",
    "        views, on='product_id'\n",
    "    ).with_columns(\n",
    "        ctr_product=pl.col('len') / pl.col('len_right')\n",
    "    ).select(\n",
    "        'product_id', 'ctr_product'\n",
    "    )\n",
    "    return target_df.join(\n",
    "        feature,\n",
    "        on=['product_id'],\n",
    "        how='left'\n",
    "    ), []"
   ]
  },
  {
   "cell_type": "code",
   "execution_count": 8,
   "id": "925fda7e",
   "metadata": {},
   "outputs": [],
   "source": [
    "@FeatureFactory.register('ctr_store')\n",
    "def generate_ctr_store(\n",
    "    history_df: pl.DataFrame, target_df: pl.DataFrame\n",
    ") -> tuple[pl.DataFrame, list[str]]:\n",
    "    \"\"\"Calculate CTR (Click-Through Rate) for store\"\"\"\n",
    "    actions = history_df.group_by(\n",
    "        'action_type', 'store_id'\n",
    "    ).agg(\n",
    "        pl.len()\n",
    "    )\n",
    "    \n",
    "    clicks = actions.filter(pl.col('action_type') == \"AT_Click\")\n",
    "    views = actions.filter(pl.col('action_type') == \"AT_View\")\n",
    "    \n",
    "    feature = clicks.join(\n",
    "        views, on='store_id'\n",
    "    ).with_columns(\n",
    "        ctr_store=pl.col('len') / pl.col('len_right')\n",
    "    ).select(\n",
    "        'store_id', 'ctr_store'\n",
    "    )\n",
    "    return target_df.join(\n",
    "        feature,\n",
    "        on=['store_id'],\n",
    "        how='left'\n",
    "    ), []"
   ]
  },
  {
   "cell_type": "code",
   "execution_count": 9,
   "id": "e2c7d40c",
   "metadata": {},
   "outputs": [],
   "source": [
    "@FeatureFactory.register('recency_user_product')\n",
    "def generate_recency_user_product(\n",
    "    history_df: pl.DataFrame, target_df: pl.DataFrame\n",
    ") -> tuple[pl.DataFrame, list[str]]:\n",
    "    \"\"\"Generate recency features for user-product pairs\"\"\"\n",
    "    latest_time = history_df['timestamp'].max()\n",
    "    \n",
    "    feature = history_df.group_by(['user_id', 'product_id']).agg(\n",
    "        pl.max('timestamp').alias('last_interaction_u_p')\n",
    "    ).with_columns(\n",
    "        days_since_interaction_u_p=(latest_time - pl.col('last_interaction_u_p')) / (24 * 60 * 60)\n",
    "    )\n",
    "    return target_df.join(\n",
    "        feature,\n",
    "        on=['user_id', 'product_id'],\n",
    "        how='left'\n",
    "    ), []"
   ]
  },
  {
   "cell_type": "code",
   "execution_count": 10,
   "id": "0d95d105",
   "metadata": {},
   "outputs": [],
   "source": [
    "@FeatureFactory.register('recency_user_store')\n",
    "def generate_recency_user_store(\n",
    "    history_df: pl.DataFrame, target_df: pl.DataFrame\n",
    ") -> tuple[pl.DataFrame, list[str]]:\n",
    "    \"\"\"Generate recency features for user-store pairs\"\"\"\n",
    "    latest_time = history_df['timestamp'].max()\n",
    "    \n",
    "    feature = history_df.group_by(['user_id', 'store_id']).agg(\n",
    "        pl.max('timestamp').alias('last_interaction_u_s')\n",
    "    ).with_columns(\n",
    "        days_since_interaction_u_s=(latest_time - pl.col('last_interaction_u_s')) / (24 * 60 * 60)\n",
    "    )\n",
    "    return target_df.join(\n",
    "        feature,\n",
    "        on=['user_id', 'store_id'],\n",
    "        how='left'\n",
    "    ), []"
   ]
  },
  {
   "cell_type": "code",
   "execution_count": 11,
   "id": "316f4a4a",
   "metadata": {},
   "outputs": [],
   "source": [
    "@FeatureFactory.register('user_stats')\n",
    "def generate_user_stats(\n",
    "    history_df: pl.DataFrame, target_df: pl.DataFrame\n",
    ") -> tuple[pl.DataFrame, list[str]]:\n",
    "    \"\"\"Generate user-level statistics\"\"\"\n",
    "    feature = history_df.group_by('user_id').agg([\n",
    "        pl.len().alias('user_total_interactions'),\n",
    "        pl.col('action_type').eq('AT_Purchase').sum().alias('user_total_purchases'),\n",
    "        pl.col('action_type').eq('AT_View').sum().alias('user_total_views'),\n",
    "        pl.n_unique('product_id').alias('user_unique_products')\n",
    "    ])\n",
    "    return target_df.join(\n",
    "        feature,\n",
    "        on=['user_id'],\n",
    "        how='left'\n",
    "    ), []"
   ]
  },
  {
   "cell_type": "code",
   "execution_count": 12,
   "id": "ecf08164",
   "metadata": {},
   "outputs": [],
   "source": [
    "@FeatureFactory.register('product_stats')\n",
    "def generate_product_stats(\n",
    "    history_df: pl.DataFrame, target_df: pl.DataFrame\n",
    ") -> tuple[pl.DataFrame, list[str]]:\n",
    "    \"\"\"Generate product-level statistics\"\"\"\n",
    "    features = history_df.group_by('product_id').agg([\n",
    "        pl.len().alias('product_total_interactions'),\n",
    "        pl.col('action_type').eq('AT_Purchase').sum().alias('product_total_purchases'),\n",
    "        pl.col('action_type').eq('AT_View').sum().alias('product_total_views'),\n",
    "        pl.n_unique('user_id').alias('product_unique_users')\n",
    "    ])\n",
    "    return target_df.join(\n",
    "        features,\n",
    "        on=['product_id'],\n",
    "        how='left'\n",
    "    ), []"
   ]
  },
  {
   "cell_type": "code",
   "execution_count": 13,
   "id": "7a549fda",
   "metadata": {},
   "outputs": [],
   "source": [
    "@FeatureFactory.register('store_stats')\n",
    "def generate_store_stats(\n",
    "    history_df: pl.DataFrame, target_df: pl.DataFrame\n",
    ") -> tuple[pl.DataFrame, list[str]]:\n",
    "    \"\"\"Generate store-level statistics\"\"\"\n",
    "    feature = history_df.group_by('store_id').agg([\n",
    "        pl.len().alias('store_total_interactions'),\n",
    "        pl.col('action_type').eq('AT_Purchase').sum().alias('store_total_purchases'),\n",
    "        pl.col('action_type').eq('AT_View').sum().alias('store_total_views'),\n",
    "        pl.n_unique('product_id').alias('store_unique_products')\n",
    "    ])\n",
    "    return target_df.join(\n",
    "        feature,\n",
    "        on=['store_id'],\n",
    "        how='left'\n",
    "    ), []"
   ]
  },
  {
   "cell_type": "code",
   "execution_count": 14,
   "id": "13cc045c",
   "metadata": {},
   "outputs": [],
   "source": [
    "@FeatureFactory.register_target('CartUpdate_vs_View')\n",
    "def generate_target(history_df: pl.DataFrame, target_df: pl.DataFrame) -> pl.Series:\n",
    "    \"\"\"Assign 0 for 'AT_View' and 1 for 'AT_CartUpdate'.\"\"\"\n",
    "    mapping = {\n",
    "        'AT_View': 0,\n",
    "        'AT_CartUpdate': 1,\n",
    "    }\n",
    "    target = target_df.with_columns(\n",
    "        target=pl.col(\"action_type\").map_elements(\n",
    "            lambda x: mapping.get(x, None),\n",
    "            return_dtype=pl.Int64\n",
    "        )\n",
    "    )['target']\n",
    "    return target"
   ]
  },
  {
   "cell_type": "code",
   "execution_count": 15,
   "id": "e678f207",
   "metadata": {},
   "outputs": [],
   "source": [
    "@FeatureFactory.register_target('CartUpdate_Purchase_vs_View')\n",
    "def generate_target(history_df: pl.DataFrame, target_df: pl.DataFrame) -> pl.Series:\n",
    "    \"\"\"Assign 0 for 'AT_View' and 1 for 'AT_CartUpdate' and 'AT_Purchase'.\"\"\"\n",
    "    mapping = {\n",
    "        'AT_View': 0,\n",
    "        'AT_CartUpdate': 1,\n",
    "        'AT_Purchase': 1,\n",
    "    }\n",
    "    target = target_df.with_columns(\n",
    "        target=pl.col(\"action_type\").map_elements(\n",
    "            lambda x: mapping.get(x, None),\n",
    "            return_dtype=pl.Int64\n",
    "        )\n",
    "    )['target']\n",
    "    return target"
   ]
  },
  {
   "cell_type": "code",
   "execution_count": 16,
   "id": "1e441ce9",
   "metadata": {},
   "outputs": [
    {
     "name": "stdout",
     "output_type": "stream",
     "text": [
      "2025-04-12 14:16:52,346 - lavka_recsys.DataLoader - INFO - Created 2 temporal validation folds\n"
     ]
    }
   ],
   "source": [
    "folds = dl.create_validation_splits(2)"
   ]
  },
  {
   "cell_type": "code",
   "execution_count": 26,
   "id": "0f115a92",
   "metadata": {},
   "outputs": [],
   "source": [
    "len(folds)\n",
    "(history, train_df, test_df) = folds[0]"
   ]
  },
  {
   "cell_type": "code",
   "execution_count": 27,
   "id": "4e47b80e",
   "metadata": {},
   "outputs": [],
   "source": [
    "ff = FeatureFactory(config)"
   ]
  },
  {
   "cell_type": "code",
   "execution_count": 28,
   "id": "b5e01cab",
   "metadata": {},
   "outputs": [],
   "source": [
    "requested_features = [\n",
    "    'count_purchase_product',\n",
    "    # 'count_purchase_store',\n",
    "    'ctr_product',\n",
    "    # 'ctr_store',\n",
    "    # 'recency_user_product',\n",
    "    'user_stats',\n",
    "    'store_stats',\n",
    "]"
   ]
  },
  {
   "cell_type": "code",
   "execution_count": 29,
   "id": "da965d07",
   "metadata": {},
   "outputs": [
    {
     "name": "stdout",
     "output_type": "stream",
     "text": [
      "2025-04-12 14:18:03,487 - lavka_recsys.FeatureFactory - INFO - Generating features: count_purchase_product, ctr_product, user_stats, store_stats\n",
      "2025-04-12 14:18:04,239 - lavka_recsys.FeatureFactory - INFO - Joined features\n",
      "2025-04-12 14:18:04,240 - lavka_recsys.FeatureFactory - INFO - All column names: {'user_total_interactions', 'user_total_views', 'store_total_views', 'count_purchase_product', 'ctr_product', 'user_total_purchases', 'store_unique_products', 'store_total_purchases', 'user_unique_products', 'store_total_interactions'}\n",
      "2025-04-12 14:18:04,241 - lavka_recsys.FeatureFactory - INFO - All categorical column names: set()\n"
     ]
    }
   ],
   "source": [
    "train = train_df\n",
    "train, target, _, _ = ff.generate_batch(history, train, requested_features)"
   ]
  },
  {
   "cell_type": "code",
   "execution_count": 30,
   "id": "6deb24f2",
   "metadata": {},
   "outputs": [
    {
     "data": {
      "text/plain": [
       "(3307808, 10)"
      ]
     },
     "execution_count": 30,
     "metadata": {},
     "output_type": "execute_result"
    }
   ],
   "source": [
    "train.shape"
   ]
  },
  {
   "cell_type": "code",
   "execution_count": 31,
   "id": "fc47201b",
   "metadata": {},
   "outputs": [
    {
     "name": "stdout",
     "output_type": "stream",
     "text": [
      "2025-04-12 14:18:07,976 - lavka_recsys.FeatureFactory - INFO - Generating features: count_purchase_product, ctr_product, user_stats, store_stats\n",
      "2025-04-12 14:18:09,758 - lavka_recsys.FeatureFactory - INFO - Joined features\n",
      "2025-04-12 14:18:09,759 - lavka_recsys.FeatureFactory - INFO - All column names: {'user_total_interactions', 'user_total_views', 'store_total_views', 'count_purchase_product', 'ctr_product', 'user_total_purchases', 'store_unique_products', 'store_total_purchases', 'user_unique_products', 'store_total_interactions'}\n",
      "2025-04-12 14:18:09,760 - lavka_recsys.FeatureFactory - INFO - All categorical column names: set()\n"
     ]
    }
   ],
   "source": [
    "val_history = pl.concat(\n",
    "    [history, train_df]\n",
    ")\n",
    "val = test_df\n",
    "val, val_target, _, _ = ff.generate_batch(val_history, val, requested_features)"
   ]
  },
  {
   "cell_type": "code",
   "execution_count": 32,
   "id": "b3d30247",
   "metadata": {},
   "outputs": [
    {
     "data": {
      "text/plain": [
       "(3653832, 10)"
      ]
     },
     "execution_count": 32,
     "metadata": {},
     "output_type": "execute_result"
    }
   ],
   "source": [
    "val.shape"
   ]
  },
  {
   "cell_type": "code",
   "execution_count": 65,
   "id": "d76944a9",
   "metadata": {},
   "outputs": [
    {
     "name": "stdout",
     "output_type": "stream",
     "text": [
      "['count_purchase_product', 'ctr_product'] 4590416\n"
     ]
    }
   ],
   "source": [
    "print(train.columns, train.height)"
   ]
  },
  {
   "cell_type": "code",
   "execution_count": null,
   "id": "3845cdd5",
   "metadata": {},
   "outputs": [
    {
     "name": "stdout",
     "output_type": "stream",
     "text": [
      "['user_unique_products', 'store_total_purchases', 'user_total_views', 'store_total_interactions', 'ctr_product', 'user_total_purchases', 'store_total_views', 'count_purchase_product', 'user_total_interactions', 'store_unique_products'] 4590416\n"
     ]
    }
   ],
   "source": [
    "print(train.columns, train.height)"
   ]
  },
  {
   "cell_type": "code",
   "execution_count": 66,
   "id": "f39ccf1f",
   "metadata": {},
   "outputs": [
    {
     "name": "stdout",
     "output_type": "stream",
     "text": [
      "['count_purchase_product', 'ctr_product'] 5727182\n"
     ]
    }
   ],
   "source": [
    "print(val.columns, val.height)"
   ]
  },
  {
   "cell_type": "code",
   "execution_count": 61,
   "id": "e88684a9",
   "metadata": {},
   "outputs": [
    {
     "name": "stdout",
     "output_type": "stream",
     "text": [
      "['user_unique_products', 'store_total_purchases', 'user_total_views', 'store_total_interactions', 'ctr_product', 'user_total_purchases', 'store_total_views', 'count_purchase_product', 'user_total_interactions', 'store_unique_products'] 5727182\n"
     ]
    }
   ],
   "source": [
    "print(val.columns, val.height)"
   ]
  },
  {
   "cell_type": "code",
   "execution_count": 76,
   "id": "bda49638",
   "metadata": {},
   "outputs": [
    {
     "data": {
      "text/plain": [
       "[UInt32,\n",
       " UInt32,\n",
       " UInt32,\n",
       " UInt32,\n",
       " Float64,\n",
       " UInt32,\n",
       " UInt32,\n",
       " UInt32,\n",
       " UInt32,\n",
       " UInt32]"
      ]
     },
     "execution_count": 76,
     "metadata": {},
     "output_type": "execute_result"
    }
   ],
   "source": [
    "val.dtypes"
   ]
  },
  {
   "cell_type": "code",
   "execution_count": 77,
   "id": "ddc3f9fd",
   "metadata": {},
   "outputs": [],
   "source": [
    "mf = ModelFactory(config)\n",
    "model = mf.create_model()"
   ]
  },
  {
   "cell_type": "code",
   "execution_count": 78,
   "id": "7fd6be40",
   "metadata": {},
   "outputs": [
    {
     "name": "stdout",
     "output_type": "stream",
     "text": [
      "0:\ttest: 0.5463692\tbest: 0.5463692 (0)\ttotal: 387ms\tremaining: 1m 55s\n",
      "1:\ttest: 0.5617999\tbest: 0.5617999 (1)\ttotal: 764ms\tremaining: 1m 53s\n",
      "2:\ttest: 0.5619614\tbest: 0.5619614 (2)\ttotal: 1.14s\tremaining: 1m 52s\n",
      "3:\ttest: 0.5612056\tbest: 0.5619614 (2)\ttotal: 1.49s\tremaining: 1m 50s\n",
      "4:\ttest: 0.5606505\tbest: 0.5619614 (2)\ttotal: 1.87s\tremaining: 1m 50s\n",
      "5:\ttest: 0.5797054\tbest: 0.5797054 (5)\ttotal: 2.23s\tremaining: 1m 49s\n",
      "6:\ttest: 0.5829886\tbest: 0.5829886 (6)\ttotal: 2.59s\tremaining: 1m 48s\n",
      "7:\ttest: 0.5835265\tbest: 0.5835265 (7)\ttotal: 2.95s\tremaining: 1m 47s\n",
      "8:\ttest: 0.5837335\tbest: 0.5837335 (8)\ttotal: 3.3s\tremaining: 1m 46s\n",
      "9:\ttest: 0.5829920\tbest: 0.5837335 (8)\ttotal: 3.65s\tremaining: 1m 45s\n",
      "10:\ttest: 0.5854915\tbest: 0.5854915 (10)\ttotal: 4.01s\tremaining: 1m 45s\n",
      "11:\ttest: 0.5852344\tbest: 0.5854915 (10)\ttotal: 4.37s\tremaining: 1m 44s\n",
      "12:\ttest: 0.6193729\tbest: 0.6193729 (12)\ttotal: 4.73s\tremaining: 1m 44s\n",
      "13:\ttest: 0.6233774\tbest: 0.6233774 (13)\ttotal: 5.09s\tremaining: 1m 43s\n",
      "14:\ttest: 0.6202735\tbest: 0.6233774 (13)\ttotal: 5.44s\tremaining: 1m 43s\n",
      "15:\ttest: 0.6200288\tbest: 0.6233774 (13)\ttotal: 5.78s\tremaining: 1m 42s\n",
      "16:\ttest: 0.6202599\tbest: 0.6233774 (13)\ttotal: 6.11s\tremaining: 1m 41s\n",
      "17:\ttest: 0.6225941\tbest: 0.6233774 (13)\ttotal: 6.47s\tremaining: 1m 41s\n",
      "18:\ttest: 0.6220300\tbest: 0.6233774 (13)\ttotal: 6.83s\tremaining: 1m 41s\n",
      "19:\ttest: 0.6219722\tbest: 0.6233774 (13)\ttotal: 7.19s\tremaining: 1m 40s\n",
      "20:\ttest: 0.6212992\tbest: 0.6233774 (13)\ttotal: 7.52s\tremaining: 1m 39s\n",
      "21:\ttest: 0.6214918\tbest: 0.6233774 (13)\ttotal: 7.87s\tremaining: 1m 39s\n",
      "22:\ttest: 0.6242212\tbest: 0.6242212 (22)\ttotal: 8.23s\tremaining: 1m 39s\n",
      "23:\ttest: 0.6242093\tbest: 0.6242212 (22)\ttotal: 8.59s\tremaining: 1m 38s\n",
      "24:\ttest: 0.6263696\tbest: 0.6263696 (24)\ttotal: 8.94s\tremaining: 1m 38s\n",
      "25:\ttest: 0.6266292\tbest: 0.6266292 (25)\ttotal: 9.28s\tremaining: 1m 37s\n",
      "26:\ttest: 0.6269502\tbest: 0.6269502 (26)\ttotal: 9.63s\tremaining: 1m 37s\n",
      "27:\ttest: 0.6246524\tbest: 0.6269502 (26)\ttotal: 9.99s\tremaining: 1m 37s\n",
      "28:\ttest: 0.6269448\tbest: 0.6269502 (26)\ttotal: 10.3s\tremaining: 1m 36s\n",
      "29:\ttest: 0.6269929\tbest: 0.6269929 (29)\ttotal: 10.7s\tremaining: 1m 36s\n",
      "30:\ttest: 0.6260571\tbest: 0.6269929 (29)\ttotal: 11s\tremaining: 1m 35s\n",
      "31:\ttest: 0.6264053\tbest: 0.6269929 (29)\ttotal: 11.4s\tremaining: 1m 35s\n",
      "32:\ttest: 0.6266997\tbest: 0.6269929 (29)\ttotal: 11.7s\tremaining: 1m 34s\n",
      "33:\ttest: 0.6269332\tbest: 0.6269929 (29)\ttotal: 12.1s\tremaining: 1m 34s\n",
      "34:\ttest: 0.6267453\tbest: 0.6269929 (29)\ttotal: 12.4s\tremaining: 1m 34s\n",
      "35:\ttest: 0.6278436\tbest: 0.6278436 (35)\ttotal: 12.8s\tremaining: 1m 33s\n",
      "36:\ttest: 0.6277559\tbest: 0.6278436 (35)\ttotal: 13.1s\tremaining: 1m 33s\n",
      "37:\ttest: 0.6277140\tbest: 0.6278436 (35)\ttotal: 13.5s\tremaining: 1m 32s\n",
      "38:\ttest: 0.6287224\tbest: 0.6287224 (38)\ttotal: 13.8s\tremaining: 1m 32s\n",
      "39:\ttest: 0.6287532\tbest: 0.6287532 (39)\ttotal: 14.2s\tremaining: 1m 32s\n",
      "40:\ttest: 0.6288576\tbest: 0.6288576 (40)\ttotal: 14.5s\tremaining: 1m 31s\n",
      "41:\ttest: 0.6281930\tbest: 0.6288576 (40)\ttotal: 14.9s\tremaining: 1m 31s\n",
      "42:\ttest: 0.6287568\tbest: 0.6288576 (40)\ttotal: 15.3s\tremaining: 1m 31s\n",
      "43:\ttest: 0.6287634\tbest: 0.6288576 (40)\ttotal: 15.6s\tremaining: 1m 30s\n",
      "44:\ttest: 0.6283401\tbest: 0.6288576 (40)\ttotal: 15.9s\tremaining: 1m 30s\n",
      "45:\ttest: 0.6291847\tbest: 0.6291847 (45)\ttotal: 16.3s\tremaining: 1m 30s\n",
      "46:\ttest: 0.6292671\tbest: 0.6292671 (46)\ttotal: 16.7s\tremaining: 1m 29s\n",
      "47:\ttest: 0.6290362\tbest: 0.6292671 (46)\ttotal: 17s\tremaining: 1m 29s\n",
      "48:\ttest: 0.6291426\tbest: 0.6292671 (46)\ttotal: 17.4s\tremaining: 1m 29s\n",
      "49:\ttest: 0.6291547\tbest: 0.6292671 (46)\ttotal: 17.7s\tremaining: 1m 28s\n",
      "50:\ttest: 0.6307687\tbest: 0.6307687 (50)\ttotal: 18.1s\tremaining: 1m 28s\n",
      "51:\ttest: 0.6326145\tbest: 0.6326145 (51)\ttotal: 18.5s\tremaining: 1m 28s\n",
      "52:\ttest: 0.6324175\tbest: 0.6326145 (51)\ttotal: 18.8s\tremaining: 1m 27s\n",
      "53:\ttest: 0.6322311\tbest: 0.6326145 (51)\ttotal: 19.2s\tremaining: 1m 27s\n",
      "54:\ttest: 0.6322031\tbest: 0.6326145 (51)\ttotal: 19.5s\tremaining: 1m 27s\n",
      "55:\ttest: 0.6322260\tbest: 0.6326145 (51)\ttotal: 19.9s\tremaining: 1m 26s\n",
      "56:\ttest: 0.6321175\tbest: 0.6326145 (51)\ttotal: 20.2s\tremaining: 1m 26s\n",
      "57:\ttest: 0.6318665\tbest: 0.6326145 (51)\ttotal: 20.6s\tremaining: 1m 25s\n",
      "58:\ttest: 0.6318698\tbest: 0.6326145 (51)\ttotal: 21s\tremaining: 1m 25s\n",
      "59:\ttest: 0.6323132\tbest: 0.6326145 (51)\ttotal: 21.3s\tremaining: 1m 25s\n",
      "60:\ttest: 0.6323189\tbest: 0.6326145 (51)\ttotal: 21.6s\tremaining: 1m 24s\n",
      "61:\ttest: 0.6320485\tbest: 0.6326145 (51)\ttotal: 22s\tremaining: 1m 24s\n",
      "62:\ttest: 0.6327698\tbest: 0.6327698 (62)\ttotal: 22.4s\tremaining: 1m 24s\n",
      "63:\ttest: 0.6324250\tbest: 0.6327698 (62)\ttotal: 22.7s\tremaining: 1m 23s\n",
      "64:\ttest: 0.6323575\tbest: 0.6327698 (62)\ttotal: 23s\tremaining: 1m 23s\n",
      "65:\ttest: 0.6314353\tbest: 0.6327698 (62)\ttotal: 23.4s\tremaining: 1m 22s\n",
      "66:\ttest: 0.6319835\tbest: 0.6327698 (62)\ttotal: 23.7s\tremaining: 1m 22s\n",
      "67:\ttest: 0.6319234\tbest: 0.6327698 (62)\ttotal: 24.1s\tremaining: 1m 22s\n",
      "68:\ttest: 0.6329825\tbest: 0.6329825 (68)\ttotal: 24.4s\tremaining: 1m 21s\n",
      "69:\ttest: 0.6338186\tbest: 0.6338186 (69)\ttotal: 24.8s\tremaining: 1m 21s\n",
      "70:\ttest: 0.6347558\tbest: 0.6347558 (70)\ttotal: 25.1s\tremaining: 1m 21s\n",
      "71:\ttest: 0.6356079\tbest: 0.6356079 (71)\ttotal: 25.5s\tremaining: 1m 20s\n",
      "72:\ttest: 0.6356199\tbest: 0.6356199 (72)\ttotal: 25.9s\tremaining: 1m 20s\n",
      "73:\ttest: 0.6356217\tbest: 0.6356217 (73)\ttotal: 26.2s\tremaining: 1m 20s\n",
      "74:\ttest: 0.6356135\tbest: 0.6356217 (73)\ttotal: 26.6s\tremaining: 1m 19s\n",
      "75:\ttest: 0.6353412\tbest: 0.6356217 (73)\ttotal: 26.9s\tremaining: 1m 19s\n",
      "76:\ttest: 0.6351957\tbest: 0.6356217 (73)\ttotal: 27.3s\tremaining: 1m 18s\n",
      "77:\ttest: 0.6351958\tbest: 0.6356217 (73)\ttotal: 27.6s\tremaining: 1m 18s\n",
      "78:\ttest: 0.6360532\tbest: 0.6360532 (78)\ttotal: 28s\tremaining: 1m 18s\n",
      "79:\ttest: 0.6367457\tbest: 0.6367457 (79)\ttotal: 28.3s\tremaining: 1m 17s\n",
      "80:\ttest: 0.6370762\tbest: 0.6370762 (80)\ttotal: 28.7s\tremaining: 1m 17s\n",
      "81:\ttest: 0.6371350\tbest: 0.6371350 (81)\ttotal: 29s\tremaining: 1m 17s\n",
      "82:\ttest: 0.6371580\tbest: 0.6371580 (82)\ttotal: 29.4s\tremaining: 1m 16s\n",
      "83:\ttest: 0.6372202\tbest: 0.6372202 (83)\ttotal: 29.8s\tremaining: 1m 16s\n",
      "84:\ttest: 0.6372171\tbest: 0.6372202 (83)\ttotal: 30.1s\tremaining: 1m 16s\n",
      "85:\ttest: 0.6374817\tbest: 0.6374817 (85)\ttotal: 30.5s\tremaining: 1m 15s\n",
      "86:\ttest: 0.6375140\tbest: 0.6375140 (86)\ttotal: 30.8s\tremaining: 1m 15s\n",
      "87:\ttest: 0.6373955\tbest: 0.6375140 (86)\ttotal: 31.2s\tremaining: 1m 15s\n",
      "88:\ttest: 0.6375314\tbest: 0.6375314 (88)\ttotal: 31.5s\tremaining: 1m 14s\n",
      "89:\ttest: 0.6376918\tbest: 0.6376918 (89)\ttotal: 31.9s\tremaining: 1m 14s\n",
      "90:\ttest: 0.6377718\tbest: 0.6377718 (90)\ttotal: 32.3s\tremaining: 1m 14s\n",
      "91:\ttest: 0.6377716\tbest: 0.6377718 (90)\ttotal: 32.6s\tremaining: 1m 13s\n",
      "92:\ttest: 0.6375407\tbest: 0.6377718 (90)\ttotal: 33s\tremaining: 1m 13s\n",
      "93:\ttest: 0.6373559\tbest: 0.6377718 (90)\ttotal: 33.3s\tremaining: 1m 13s\n",
      "94:\ttest: 0.6375832\tbest: 0.6377718 (90)\ttotal: 33.7s\tremaining: 1m 12s\n",
      "95:\ttest: 0.6377715\tbest: 0.6377718 (90)\ttotal: 34.1s\tremaining: 1m 12s\n",
      "96:\ttest: 0.6376119\tbest: 0.6377718 (90)\ttotal: 34.4s\tremaining: 1m 11s\n",
      "97:\ttest: 0.6377631\tbest: 0.6377718 (90)\ttotal: 34.8s\tremaining: 1m 11s\n",
      "98:\ttest: 0.6380383\tbest: 0.6380383 (98)\ttotal: 35.1s\tremaining: 1m 11s\n",
      "99:\ttest: 0.6380381\tbest: 0.6380383 (98)\ttotal: 35.5s\tremaining: 1m 10s\n",
      "100:\ttest: 0.6386724\tbest: 0.6386724 (100)\ttotal: 35.8s\tremaining: 1m 10s\n",
      "101:\ttest: 0.6387207\tbest: 0.6387207 (101)\ttotal: 36.2s\tremaining: 1m 10s\n",
      "102:\ttest: 0.6388452\tbest: 0.6388452 (102)\ttotal: 36.5s\tremaining: 1m 9s\n",
      "103:\ttest: 0.6389309\tbest: 0.6389309 (103)\ttotal: 36.9s\tremaining: 1m 9s\n",
      "104:\ttest: 0.6391071\tbest: 0.6391071 (104)\ttotal: 37.3s\tremaining: 1m 9s\n",
      "105:\ttest: 0.6387000\tbest: 0.6391071 (104)\ttotal: 37.6s\tremaining: 1m 8s\n",
      "106:\ttest: 0.6387155\tbest: 0.6391071 (104)\ttotal: 38s\tremaining: 1m 8s\n",
      "107:\ttest: 0.6386203\tbest: 0.6391071 (104)\ttotal: 38.4s\tremaining: 1m 8s\n",
      "108:\ttest: 0.6391960\tbest: 0.6391960 (108)\ttotal: 38.7s\tremaining: 1m 7s\n",
      "109:\ttest: 0.6393880\tbest: 0.6393880 (109)\ttotal: 39.1s\tremaining: 1m 7s\n",
      "110:\ttest: 0.6390826\tbest: 0.6393880 (109)\ttotal: 39.5s\tremaining: 1m 7s\n",
      "111:\ttest: 0.6389629\tbest: 0.6393880 (109)\ttotal: 39.8s\tremaining: 1m 6s\n",
      "112:\ttest: 0.6390991\tbest: 0.6393880 (109)\ttotal: 40.1s\tremaining: 1m 6s\n",
      "113:\ttest: 0.6392161\tbest: 0.6393880 (109)\ttotal: 40.5s\tremaining: 1m 6s\n",
      "114:\ttest: 0.6389802\tbest: 0.6393880 (109)\ttotal: 40.9s\tremaining: 1m 5s\n",
      "115:\ttest: 0.6392187\tbest: 0.6393880 (109)\ttotal: 41.2s\tremaining: 1m 5s\n",
      "116:\ttest: 0.6392694\tbest: 0.6393880 (109)\ttotal: 41.5s\tremaining: 1m 4s\n",
      "117:\ttest: 0.6392799\tbest: 0.6393880 (109)\ttotal: 41.9s\tremaining: 1m 4s\n",
      "118:\ttest: 0.6390680\tbest: 0.6393880 (109)\ttotal: 42.2s\tremaining: 1m 4s\n",
      "119:\ttest: 0.6390677\tbest: 0.6393880 (109)\ttotal: 42.6s\tremaining: 1m 3s\n",
      "120:\ttest: 0.6391055\tbest: 0.6393880 (109)\ttotal: 43s\tremaining: 1m 3s\n",
      "121:\ttest: 0.6390987\tbest: 0.6393880 (109)\ttotal: 43.3s\tremaining: 1m 3s\n",
      "122:\ttest: 0.6391113\tbest: 0.6393880 (109)\ttotal: 43.7s\tremaining: 1m 2s\n",
      "123:\ttest: 0.6391135\tbest: 0.6393880 (109)\ttotal: 44s\tremaining: 1m 2s\n",
      "124:\ttest: 0.6390776\tbest: 0.6393880 (109)\ttotal: 44.4s\tremaining: 1m 2s\n",
      "125:\ttest: 0.6390734\tbest: 0.6393880 (109)\ttotal: 44.7s\tremaining: 1m 1s\n",
      "126:\ttest: 0.6390745\tbest: 0.6393880 (109)\ttotal: 45.1s\tremaining: 1m 1s\n",
      "127:\ttest: 0.6391981\tbest: 0.6393880 (109)\ttotal: 45.4s\tremaining: 1m 1s\n",
      "128:\ttest: 0.6392589\tbest: 0.6393880 (109)\ttotal: 45.8s\tremaining: 1m\n",
      "129:\ttest: 0.6390667\tbest: 0.6393880 (109)\ttotal: 46.1s\tremaining: 1m\n",
      "130:\ttest: 0.6390256\tbest: 0.6393880 (109)\ttotal: 46.5s\tremaining: 1m\n",
      "131:\ttest: 0.6390070\tbest: 0.6393880 (109)\ttotal: 46.9s\tremaining: 59.7s\n",
      "132:\ttest: 0.6388219\tbest: 0.6393880 (109)\ttotal: 47.2s\tremaining: 59.3s\n",
      "133:\ttest: 0.6386366\tbest: 0.6393880 (109)\ttotal: 47.6s\tremaining: 59s\n",
      "134:\ttest: 0.6386268\tbest: 0.6393880 (109)\ttotal: 48s\tremaining: 58.6s\n",
      "135:\ttest: 0.6387408\tbest: 0.6393880 (109)\ttotal: 48.3s\tremaining: 58.3s\n",
      "136:\ttest: 0.6387307\tbest: 0.6393880 (109)\ttotal: 48.7s\tremaining: 57.9s\n",
      "137:\ttest: 0.6386451\tbest: 0.6393880 (109)\ttotal: 49s\tremaining: 57.5s\n",
      "138:\ttest: 0.6386464\tbest: 0.6393880 (109)\ttotal: 49.4s\tremaining: 57.2s\n",
      "139:\ttest: 0.6385487\tbest: 0.6393880 (109)\ttotal: 49.7s\tremaining: 56.8s\n",
      "140:\ttest: 0.6385228\tbest: 0.6393880 (109)\ttotal: 50.1s\tremaining: 56.5s\n",
      "141:\ttest: 0.6383782\tbest: 0.6393880 (109)\ttotal: 50.4s\tremaining: 56.1s\n",
      "142:\ttest: 0.6383700\tbest: 0.6393880 (109)\ttotal: 50.8s\tremaining: 55.7s\n",
      "143:\ttest: 0.6382571\tbest: 0.6393880 (109)\ttotal: 51.1s\tremaining: 55.4s\n",
      "144:\ttest: 0.6381106\tbest: 0.6393880 (109)\ttotal: 51.5s\tremaining: 55s\n",
      "145:\ttest: 0.6380022\tbest: 0.6393880 (109)\ttotal: 51.8s\tremaining: 54.6s\n",
      "146:\ttest: 0.6379011\tbest: 0.6393880 (109)\ttotal: 52.2s\tremaining: 54.3s\n",
      "147:\ttest: 0.6378299\tbest: 0.6393880 (109)\ttotal: 52.5s\tremaining: 54s\n",
      "148:\ttest: 0.6377851\tbest: 0.6393880 (109)\ttotal: 52.9s\tremaining: 53.6s\n",
      "149:\ttest: 0.6377867\tbest: 0.6393880 (109)\ttotal: 53.2s\tremaining: 53.2s\n",
      "150:\ttest: 0.6377586\tbest: 0.6393880 (109)\ttotal: 53.6s\tremaining: 52.9s\n",
      "151:\ttest: 0.6378084\tbest: 0.6393880 (109)\ttotal: 53.9s\tremaining: 52.5s\n",
      "152:\ttest: 0.6377657\tbest: 0.6393880 (109)\ttotal: 54.3s\tremaining: 52.2s\n",
      "153:\ttest: 0.6376583\tbest: 0.6393880 (109)\ttotal: 54.6s\tremaining: 51.8s\n",
      "154:\ttest: 0.6376567\tbest: 0.6393880 (109)\ttotal: 55s\tremaining: 51.4s\n",
      "155:\ttest: 0.6375995\tbest: 0.6393880 (109)\ttotal: 55.3s\tremaining: 51.1s\n",
      "156:\ttest: 0.6376477\tbest: 0.6393880 (109)\ttotal: 55.7s\tremaining: 50.7s\n",
      "157:\ttest: 0.6376508\tbest: 0.6393880 (109)\ttotal: 56s\tremaining: 50.4s\n",
      "158:\ttest: 0.6376745\tbest: 0.6393880 (109)\ttotal: 56.4s\tremaining: 50s\n",
      "159:\ttest: 0.6376894\tbest: 0.6393880 (109)\ttotal: 56.7s\tremaining: 49.6s\n",
      "Stopped by overfitting detector  (50 iterations wait)\n",
      "\n",
      "bestTest = 0.6393880247\n",
      "bestIteration = 109\n",
      "\n",
      "Shrink model to first 110 iterations.\n"
     ]
    },
    {
     "data": {
      "text/plain": [
       "<framework.model_factory.CatBoostModel at 0x7f584b61a410>"
      ]
     },
     "execution_count": 78,
     "metadata": {},
     "output_type": "execute_result"
    }
   ],
   "source": [
    "model.train(\n",
    "    train,\n",
    "    target,\n",
    "    eval_set=(val, val_target)\n",
    ")"
   ]
  },
  {
   "cell_type": "code",
   "execution_count": null,
   "id": "9e9c736b",
   "metadata": {},
   "outputs": [],
   "source": []
  }
 ],
 "metadata": {
  "kernelspec": {
   "display_name": "RS-venv",
   "language": "python",
   "name": "rs-venv"
  }
 },
 "nbformat": 4,
 "nbformat_minor": 5
}
