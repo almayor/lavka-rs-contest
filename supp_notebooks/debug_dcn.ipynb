{
 "cells": [
  {
   "cell_type": "code",
   "execution_count": 1,
   "id": "36d0f536",
   "metadata": {},
   "outputs": [],
   "source": [
    "import os\n",
    "import polars as pl\n",
    "import pandas as pd\n",
    "import matplotlib.pyplot as plt\n",
    "import json\n",
    "import time"
   ]
  },
  {
   "cell_type": "code",
   "execution_count": 2,
   "id": "417f847c",
   "metadata": {},
   "outputs": [],
   "source": [
    "import pickle\n",
    "\n",
    "with open('results/feature_cache/cache_973074193339d257ac46aa062ed1830d.pkl', 'rb') as f:\n",
    "    data = pickle.load(f)\n",
    "\n",
    "features = data[0]"
   ]
  },
  {
   "cell_type": "code",
   "execution_count": 17,
   "id": "69d61891",
   "metadata": {},
   "outputs": [],
   "source": [
    "cat_cols = data[2]"
   ]
  },
  {
   "cell_type": "code",
   "execution_count": 22,
   "id": "afec115b",
   "metadata": {},
   "outputs": [
    {
     "name": "stdout",
     "output_type": "stream",
     "text": [
      "user_segment 6\n",
      "city_name 12\n",
      "source_type 12\n"
     ]
    }
   ],
   "source": [
    "for cat_col in cat_cols:\n",
    "    print(cat_col, features.get_column(cat_col).n_unique())"
   ]
  },
  {
   "cell_type": "code",
   "execution_count": 10,
   "id": "47c7ac2b",
   "metadata": {},
   "outputs": [
    {
     "data": {
      "text/html": [
       "<div><style>\n",
       ".dataframe > thead > tr,\n",
       ".dataframe > tbody > tr {\n",
       "  text-align: right;\n",
       "  white-space: pre-wrap;\n",
       "}\n",
       "</style>\n",
       "<small>shape: (9, 2)</small><table border=\"1\" class=\"dataframe\"><thead><tr><th>statistic</th><th>is_weekend</th></tr><tr><td>str</td><td>f64</td></tr></thead><tbody><tr><td>&quot;count&quot;</td><td>1.474515e6</td></tr><tr><td>&quot;null_count&quot;</td><td>0.0</td></tr><tr><td>&quot;mean&quot;</td><td>0.302187</td></tr><tr><td>&quot;std&quot;</td><td>null</td></tr><tr><td>&quot;min&quot;</td><td>0.0</td></tr><tr><td>&quot;25%&quot;</td><td>null</td></tr><tr><td>&quot;50%&quot;</td><td>null</td></tr><tr><td>&quot;75%&quot;</td><td>null</td></tr><tr><td>&quot;max&quot;</td><td>1.0</td></tr></tbody></table></div>"
      ],
      "text/plain": [
       "shape: (9, 2)\n",
       "┌────────────┬────────────┐\n",
       "│ statistic  ┆ is_weekend │\n",
       "│ ---        ┆ ---        │\n",
       "│ str        ┆ f64        │\n",
       "╞════════════╪════════════╡\n",
       "│ count      ┆ 1.474515e6 │\n",
       "│ null_count ┆ 0.0        │\n",
       "│ mean       ┆ 0.302187   │\n",
       "│ std        ┆ null       │\n",
       "│ min        ┆ 0.0        │\n",
       "│ 25%        ┆ null       │\n",
       "│ 50%        ┆ null       │\n",
       "│ 75%        ┆ null       │\n",
       "│ max        ┆ 1.0        │\n",
       "└────────────┴────────────┘"
      ]
     },
     "execution_count": 10,
     "metadata": {},
     "output_type": "execute_result"
    }
   ],
   "source": [
    "features.describe().select('statistic', 'is_weekend')"
   ]
  },
  {
   "cell_type": "code",
   "execution_count": null,
   "id": "4eedbbb8",
   "metadata": {},
   "outputs": [],
   "source": []
  }
 ],
 "metadata": {
  "kernelspec": {
   "display_name": "RS-venv",
   "language": "python",
   "name": "python3"
  },
  "language_info": {
   "codemirror_mode": {
    "name": "ipython",
    "version": 3
   },
   "file_extension": ".py",
   "mimetype": "text/x-python",
   "name": "python",
   "nbconvert_exporter": "python",
   "pygments_lexer": "ipython3",
   "version": "3.10.12"
  }
 },
 "nbformat": 4,
 "nbformat_minor": 5
}
