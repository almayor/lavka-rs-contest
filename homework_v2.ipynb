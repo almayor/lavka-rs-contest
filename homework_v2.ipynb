{
 "cells": [
  {
   "cell_type": "code",
   "execution_count": 2,
   "id": "bee3d8a0",
   "metadata": {},
   "outputs": [
    {
     "name": "stdout",
     "output_type": "stream",
     "text": [
      "/data/majoroval/jupyter/RS-25/homework/week02\n"
     ]
    }
   ],
   "source": [
    "%cd /data/majoroval/jupyter/RS-25/homework/week02"
   ]
  },
  {
   "cell_type": "code",
   "execution_count": 3,
   "id": "f364703d",
   "metadata": {},
   "outputs": [],
   "source": [
    "import requests\n",
    "\n",
    "import numpy as np\n",
    "import polars as pl\n",
    "import seaborn as sns\n",
    "import matplotlib.pyplot as plt\n",
    "\n",
    "from PIL import Image\n",
    "from io import BytesIO\n",
    "from textwrap import wrap\n",
    "from tqdm.auto import tqdm\n",
    "from concurrent.futures import ThreadPoolExecutor\n",
    "from sklearn.metrics import roc_auc_score, log_loss, ndcg_score\n",
    "from pprint import pprint"
   ]
  },
  {
   "cell_type": "code",
   "execution_count": 4,
   "id": "e3e69f73",
   "metadata": {},
   "outputs": [],
   "source": [
    "from framework import Config, DataLoader, FeatureFactory, ModelFactory"
   ]
  },
  {
   "cell_type": "code",
   "execution_count": 5,
   "id": "a2012059",
   "metadata": {},
   "outputs": [
    {
     "name": "stdout",
     "output_type": "stream",
     "text": [
      "2025-04-12 13:52:25,484 - lavka_recsys.DataLoader - INFO - Loaded train data: 14954417 rows\n",
      "2025-04-12 13:52:25,497 - lavka_recsys.DataLoader - INFO - Normalized timestamps\n",
      "2025-04-12 13:52:25,500 - lavka_recsys.DataLoader - INFO - Loaded test data: 565231 rows\n",
      "2025-04-12 13:52:25,503 - lavka_recsys.DataLoader - INFO - Normalized timestamps\n"
     ]
    }
   ],
   "source": [
    "config = Config()\n",
    "dl = DataLoader(config)\n",
    "dl.load_data();"
   ]
  },
  {
   "cell_type": "code",
   "execution_count": 6,
   "id": "2acd2500",
   "metadata": {},
   "outputs": [],
   "source": [
    "@FeatureFactory.register('count_purchase_product')\n",
    "def generate_count_purchase_product(\n",
    "    history_df: pl.DataFrame, target_df: pl.DataFrame\n",
    ") -> tuple[pl.DataFrame, list[str]]:\n",
    "    \"\"\"Count purchases by user-product pairs\"\"\"\n",
    "    return history_df.filter(\n",
    "        pl.col('action_type') == \"AT_Purchase\"\n",
    "    ).group_by(\n",
    "        'user_id', 'product_id'\n",
    "    ).agg(\n",
    "        pl.len().alias('count_purchase_product')\n",
    "    ).join(\n",
    "        target_df,\n",
    "        on=['user_id', 'product_id'],\n",
    "        how='right'\n",
    "    ).fill_null(0), []"
   ]
  },
  {
   "cell_type": "code",
   "execution_count": 7,
   "id": "70437547",
   "metadata": {},
   "outputs": [],
   "source": [
    "@FeatureFactory.register('count_purchase_store')\n",
    "def generate_count_purchase_store(\n",
    "    history_df: pl.DataFrame, target_df: pl.DataFrame\n",
    ") -> tuple[pl.DataFrame, list[str]]:\n",
    "    \"\"\"Count purchases by user-store pairs\"\"\"\n",
    "    return history_df.filter(\n",
    "        pl.col('action_type') == \"AT_Purchase\"\n",
    "    ).group_by(\n",
    "        'user_id', 'store_id'\n",
    "    ).agg(\n",
    "        pl.len().alias('count_purchase_store')\n",
    "    ).join(\n",
    "        target_df,\n",
    "        on=['user_id', 'store_id'],\n",
    "        how='right'\n",
    "    ).fill_null(0), []"
   ]
  },
  {
   "cell_type": "code",
   "execution_count": 8,
   "id": "7d85d64a",
   "metadata": {},
   "outputs": [],
   "source": [
    "@FeatureFactory.register('ctr_product')\n",
    "def generate_ctr_product(\n",
    "    history_df: pl.DataFrame, target_df: pl.DataFrame\n",
    ") -> tuple[pl.DataFrame, list[str]]:\n",
    "    \"\"\"Calculate CTR (Click-Through Rate) for products\"\"\"\n",
    "    actions = history_df.group_by(\n",
    "        'action_type', 'product_id'\n",
    "    ).agg(\n",
    "        pl.len()\n",
    "    )\n",
    "    \n",
    "    clicks = actions.filter(pl.col('action_type') == \"AT_Click\")\n",
    "    views = actions.filter(pl.col('action_type') == \"AT_View\")\n",
    "    \n",
    "    feature = clicks.join(\n",
    "        views, on='product_id'\n",
    "    ).with_columns(\n",
    "        ctr_product=pl.col('len') / pl.col('len_right')\n",
    "    ).select(\n",
    "        'product_id', 'ctr_product'\n",
    "    )\n",
    "    return target_df.join(\n",
    "        feature,\n",
    "        on=['product_id'],\n",
    "        how='left'\n",
    "    ), []"
   ]
  },
  {
   "cell_type": "code",
   "execution_count": 9,
   "id": "925fda7e",
   "metadata": {},
   "outputs": [],
   "source": [
    "@FeatureFactory.register('ctr_store')\n",
    "def generate_ctr_store(\n",
    "    history_df: pl.DataFrame, target_df: pl.DataFrame\n",
    ") -> tuple[pl.DataFrame, list[str]]:\n",
    "    \"\"\"Calculate CTR (Click-Through Rate) for store\"\"\"\n",
    "    actions = history_df.group_by(\n",
    "        'action_type', 'store_id'\n",
    "    ).agg(\n",
    "        pl.len()\n",
    "    )\n",
    "    \n",
    "    clicks = actions.filter(pl.col('action_type') == \"AT_Click\")\n",
    "    views = actions.filter(pl.col('action_type') == \"AT_View\")\n",
    "    \n",
    "    feature = clicks.join(\n",
    "        views, on='store_id'\n",
    "    ).with_columns(\n",
    "        ctr_store=pl.col('len') / pl.col('len_right')\n",
    "    ).select(\n",
    "        'store_id', 'ctr_store'\n",
    "    )\n",
    "    return target_df.join(\n",
    "        feature,\n",
    "        on=['store_id'],\n",
    "        how='left'\n",
    "    ), []"
   ]
  },
  {
   "cell_type": "code",
   "execution_count": 10,
   "id": "e2c7d40c",
   "metadata": {},
   "outputs": [],
   "source": [
    "@FeatureFactory.register('recency_user_product')\n",
    "def generate_recency_user_product(\n",
    "    history_df: pl.DataFrame, target_df: pl.DataFrame\n",
    ") -> tuple[pl.DataFrame, list[str]]:\n",
    "    \"\"\"Generate recency features for user-product pairs\"\"\"\n",
    "    latest_time = history_df['timestamp'].max()\n",
    "    \n",
    "    feature = history_df.group_by(['user_id', 'product_id']).agg(\n",
    "        pl.max('timestamp').alias('last_interaction_u_p')\n",
    "    ).with_columns(\n",
    "        days_since_interaction_u_p=(latest_time - pl.col('last_interaction_u_p')) / (24 * 60 * 60)\n",
    "    )\n",
    "    return target_df.join(\n",
    "        feature,\n",
    "        on=['user_id', 'product_id'],\n",
    "        how='left'\n",
    "    ), []"
   ]
  },
  {
   "cell_type": "code",
   "execution_count": 11,
   "id": "0d95d105",
   "metadata": {},
   "outputs": [],
   "source": [
    "@FeatureFactory.register('recency_user_store')\n",
    "def generate_recency_user_store(\n",
    "    history_df: pl.DataFrame, target_df: pl.DataFrame\n",
    ") -> tuple[pl.DataFrame, list[str]]:\n",
    "    \"\"\"Generate recency features for user-store pairs\"\"\"\n",
    "    latest_time = history_df['timestamp'].max()\n",
    "    \n",
    "    feature = history_df.group_by(['user_id', 'store_id']).agg(\n",
    "        pl.max('timestamp').alias('last_interaction_u_s')\n",
    "    ).with_columns(\n",
    "        days_since_interaction_u_s=(latest_time - pl.col('last_interaction_u_s')) / (24 * 60 * 60)\n",
    "    )\n",
    "    return target_df.join(\n",
    "        feature,\n",
    "        on=['user_id', 'store_id'],\n",
    "        how='left'\n",
    "    ), []"
   ]
  },
  {
   "cell_type": "code",
   "execution_count": 12,
   "id": "316f4a4a",
   "metadata": {},
   "outputs": [],
   "source": [
    "@FeatureFactory.register('user_stats')\n",
    "def generate_user_stats(\n",
    "    history_df: pl.DataFrame, target_df: pl.DataFrame\n",
    ") -> tuple[pl.DataFrame, list[str]]:\n",
    "    \"\"\"Generate user-level statistics\"\"\"\n",
    "    feature = history_df.group_by('user_id').agg([\n",
    "        pl.len().alias('user_total_interactions'),\n",
    "        pl.col('action_type').eq('AT_Purchase').sum().alias('user_total_purchases'),\n",
    "        pl.col('action_type').eq('AT_View').sum().alias('user_total_views'),\n",
    "        pl.n_unique('product_id').alias('user_unique_products')\n",
    "    ])\n",
    "    return target_df.join(\n",
    "        feature,\n",
    "        on=['user_id'],\n",
    "        how='left'\n",
    "    ), []"
   ]
  },
  {
   "cell_type": "code",
   "execution_count": 13,
   "id": "ecf08164",
   "metadata": {},
   "outputs": [],
   "source": [
    "@FeatureFactory.register('product_stats')\n",
    "def generate_product_stats(\n",
    "    history_df: pl.DataFrame, target_df: pl.DataFrame\n",
    ") -> tuple[pl.DataFrame, list[str]]:\n",
    "    \"\"\"Generate product-level statistics\"\"\"\n",
    "    features = history_df.group_by('product_id').agg([\n",
    "        pl.len().alias('product_total_interactions'),\n",
    "        pl.col('action_type').eq('AT_Purchase').sum().alias('product_total_purchases'),\n",
    "        pl.col('action_type').eq('AT_View').alias('product_total_views'),\n",
    "        pl.n_unique('user_id').alias('product_unique_users')\n",
    "    ])\n",
    "    return target_df.join(\n",
    "        features,\n",
    "        on=['product_id'],\n",
    "        how='left'\n",
    "    ), []"
   ]
  },
  {
   "cell_type": "code",
   "execution_count": null,
   "id": "7a549fda",
   "metadata": {},
   "outputs": [],
   "source": [
    "@FeatureFactory.register('store_stats')\n",
    "def generate_store_stats(\n",
    "    history_df: pl.DataFrame, target_df: pl.DataFrame\n",
    ") -> tuple[pl.DataFrame, list[str]]:\n",
    "    \"\"\"Generate store-level statistics\"\"\"\n",
    "    feature = history_df.group_by('store_id').agg([\n",
    "        pl.len().alias('store_total_interactions'),\n",
    "        pl.col('action_type').eq('AT_Purchase').sum().alias('store_total_purchases'),\n",
    "        pl.col('action_type').eq('AT_View').sum().alias('store_total_views'),\n",
    "        pl.n_unique('product_id').alias('store_unique_products')\n",
    "    ])\n",
    "    return target_df.join(\n",
    "        feature,\n",
    "        on=['store_id'],\n",
    "        how='left'\n",
    "    ), []"
   ]
  },
  {
   "cell_type": "code",
   "execution_count": 15,
   "id": "13cc045c",
   "metadata": {},
   "outputs": [],
   "source": [
    "@FeatureFactory.register_target('CartUpdate_vs_View')\n",
    "def generate_target(history_df: pl.DataFrame, target_df: pl.DataFrame) -> pl.Series:\n",
    "    \"\"\"Assign 0 for 'AT_View' and 1 for 'AT_CartUpdate'.\"\"\"\n",
    "    mapping = {\n",
    "        'AT_View': 0,\n",
    "        'AT_CartUpdate': 1,\n",
    "    }\n",
    "    target = target_df.with_columns(\n",
    "        target=pl.col(\"action_type\").map_elements(\n",
    "            lambda x: mapping.get(x, None),\n",
    "            return_dtype=pl.Int64\n",
    "        )\n",
    "    )['target']\n",
    "    return target"
   ]
  },
  {
   "cell_type": "code",
   "execution_count": 16,
   "id": "e678f207",
   "metadata": {},
   "outputs": [],
   "source": [
    "@FeatureFactory.register_target('CartUpdate_Purchase_vs_View')\n",
    "def generate_target(history_df: pl.DataFrame, target_df: pl.DataFrame) -> pl.Series:\n",
    "    \"\"\"Assign 0 for 'AT_View' and 1 for 'AT_CartUpdate' and 'AT_Purchase'.\"\"\"\n",
    "    mapping = {\n",
    "        'AT_View': 0,\n",
    "        'AT_CartUpdate': 1,\n",
    "        'AT_Purchase': 1,\n",
    "    }\n",
    "    target = target_df.with_columns(\n",
    "        target=pl.col(\"action_type\").map_elements(\n",
    "            lambda x: mapping.get(x, None),\n",
    "            return_dtype=pl.Int64\n",
    "        )\n",
    "    )['target']\n",
    "    return target"
   ]
  },
  {
   "cell_type": "code",
   "execution_count": 17,
   "id": "1e441ce9",
   "metadata": {},
   "outputs": [
    {
     "name": "stdout",
     "output_type": "stream",
     "text": [
      "2025-04-12 13:52:28,669 - lavka_recsys.DataLoader - INFO - Created 1 temporal validation folds\n"
     ]
    }
   ],
   "source": [
    "[(history, train_df, test_df)] = dl.create_validation_splits()\n",
    "ff = FeatureFactory(config)"
   ]
  },
  {
   "cell_type": "code",
   "execution_count": 68,
   "id": "b5e01cab",
   "metadata": {},
   "outputs": [],
   "source": [
    "requested_features = [\n",
    "    'count_purchase_product',\n",
    "    # 'count_purchase_store',\n",
    "    'ctr_product',\n",
    "    # 'ctr_store',\n",
    "    # 'recency_user_product',\n",
    "    'user_stats',\n",
    "    'store_stats',\n",
    "]"
   ]
  },
  {
   "cell_type": "code",
   "execution_count": 69,
   "id": "da965d07",
   "metadata": {},
   "outputs": [
    {
     "name": "stdout",
     "output_type": "stream",
     "text": [
      "2025-04-12 14:08:54,377 - lavka_recsys.FeatureFactory - INFO - Generating features: count_purchase_product, ctr_product, user_stats, store_stats\n",
      "2025-04-12 14:09:04,248 - lavka_recsys.FeatureFactory - INFO - Joined features\n",
      "2025-04-12 14:09:04,250 - lavka_recsys.FeatureFactory - INFO - All column names: {'user_unique_products', 'store_total_purchases', 'user_total_views', 'store_total_interactions', 'ctr_product', 'user_total_purchases', 'store_total_views', 'count_purchase_product', 'user_total_interactions', 'store_unique_products'}\n",
      "2025-04-12 14:09:04,251 - lavka_recsys.FeatureFactory - INFO - All categorical column names: set()\n"
     ]
    }
   ],
   "source": [
    "train = train_df\n",
    "train, target, _, _ = ff.generate_batch(history, train, requested_features)"
   ]
  },
  {
   "cell_type": "code",
   "execution_count": 70,
   "id": "fc47201b",
   "metadata": {},
   "outputs": [
    {
     "name": "stdout",
     "output_type": "stream",
     "text": [
      "2025-04-12 14:09:31,333 - lavka_recsys.FeatureFactory - INFO - Generating features: count_purchase_product, ctr_product, user_stats, store_stats\n"
     ]
    },
    {
     "name": "stdout",
     "output_type": "stream",
     "text": [
      "2025-04-12 14:09:53,636 - lavka_recsys.FeatureFactory - INFO - Joined features\n",
      "2025-04-12 14:09:53,638 - lavka_recsys.FeatureFactory - INFO - All column names: {'user_unique_products', 'store_total_purchases', 'user_total_views', 'store_total_interactions', 'ctr_product', 'user_total_purchases', 'store_total_views', 'count_purchase_product', 'user_total_interactions', 'store_unique_products'}\n",
      "2025-04-12 14:09:53,639 - lavka_recsys.FeatureFactory - INFO - All categorical column names: set()\n"
     ]
    }
   ],
   "source": [
    "val_history = pl.concat(\n",
    "    [history, train_df]\n",
    ")\n",
    "val = test_df\n",
    "val, val_target, _, _ = ff.generate_batch(val_history, val, requested_features)"
   ]
  },
  {
   "cell_type": "code",
   "execution_count": 65,
   "id": "d76944a9",
   "metadata": {},
   "outputs": [
    {
     "name": "stdout",
     "output_type": "stream",
     "text": [
      "['count_purchase_product', 'ctr_product'] 4590416\n"
     ]
    }
   ],
   "source": [
    "print(train.columns, train.height)"
   ]
  },
  {
   "cell_type": "code",
   "execution_count": null,
   "id": "3845cdd5",
   "metadata": {},
   "outputs": [
    {
     "name": "stdout",
     "output_type": "stream",
     "text": [
      "['user_unique_products', 'store_total_purchases', 'user_total_views', 'store_total_interactions', 'ctr_product', 'user_total_purchases', 'store_total_views', 'count_purchase_product', 'user_total_interactions', 'store_unique_products'] 4590416\n"
     ]
    }
   ],
   "source": [
    "print(train.columns, train.height)"
   ]
  },
  {
   "cell_type": "code",
   "execution_count": 66,
   "id": "f39ccf1f",
   "metadata": {},
   "outputs": [
    {
     "name": "stdout",
     "output_type": "stream",
     "text": [
      "['count_purchase_product', 'ctr_product'] 5727182\n"
     ]
    }
   ],
   "source": [
    "print(val.columns, val.height)"
   ]
  },
  {
   "cell_type": "code",
   "execution_count": 61,
   "id": "e88684a9",
   "metadata": {},
   "outputs": [
    {
     "name": "stdout",
     "output_type": "stream",
     "text": [
      "['user_unique_products', 'store_total_purchases', 'user_total_views', 'store_total_interactions', 'ctr_product', 'user_total_purchases', 'store_total_views', 'count_purchase_product', 'user_total_interactions', 'store_unique_products'] 5727182\n"
     ]
    }
   ],
   "source": [
    "print(val.columns, val.height)"
   ]
  },
  {
   "cell_type": "code",
   "execution_count": 67,
   "id": "bda49638",
   "metadata": {},
   "outputs": [
    {
     "data": {
      "text/plain": [
       "[UInt32, Float64]"
      ]
     },
     "execution_count": 67,
     "metadata": {},
     "output_type": "execute_result"
    }
   ],
   "source": [
    "val.dtypes"
   ]
  },
  {
   "cell_type": "code",
   "execution_count": 58,
   "id": "ddc3f9fd",
   "metadata": {},
   "outputs": [],
   "source": [
    "mf = ModelFactory(config)\n",
    "model = mf.create_model()"
   ]
  },
  {
   "cell_type": "code",
   "execution_count": null,
   "id": "7fd6be40",
   "metadata": {},
   "outputs": [
    {
     "name": "stderr",
     "output_type": "stream",
     "text": [
      "\n",
      "thread '<unnamed>' panicked at crates/polars-core/src/chunked_array/ops/chunkops.rs:152:13:\n",
      "Polars' maximum length reached. Consider installing 'polars-u64-idx'.\n",
      "note: run with `RUST_BACKTRACE=1` environment variable to display a backtrace\n"
     ]
    },
    {
     "ename": "PanicException",
     "evalue": "Polars' maximum length reached. Consider installing 'polars-u64-idx'.",
     "output_type": "error",
     "traceback": [
      "\u001b[0;31m---------------------------------------------------------------------------\u001b[0m",
      "\u001b[0;31mPanicException\u001b[0m                            Traceback (most recent call last)",
      "\u001b[0;32m/tmp/ipykernel_1392298/242140101.py\u001b[0m in \u001b[0;36m?\u001b[0;34m()\u001b[0m\n\u001b[0;32m----> 1\u001b[0;31m model.train(\n\u001b[0m\u001b[1;32m      2\u001b[0m     \u001b[0mtrain\u001b[0m\u001b[0;34m,\u001b[0m\u001b[0;34m\u001b[0m\u001b[0;34m\u001b[0m\u001b[0m\n\u001b[1;32m      3\u001b[0m     \u001b[0mtarget\u001b[0m\u001b[0;34m,\u001b[0m\u001b[0;34m\u001b[0m\u001b[0;34m\u001b[0m\u001b[0m\n\u001b[1;32m      4\u001b[0m     \u001b[0meval_set\u001b[0m\u001b[0;34m=\u001b[0m\u001b[0;34m(\u001b[0m\u001b[0mval\u001b[0m\u001b[0;34m,\u001b[0m \u001b[0mval_target\u001b[0m\u001b[0;34m)\u001b[0m\u001b[0;34m\u001b[0m\u001b[0;34m\u001b[0m\u001b[0m\n",
      "\u001b[0;32m/data/majoroval/jupyter/RS-25/homework/week02/framework/model_factory.py\u001b[0m in \u001b[0;36m?\u001b[0;34m(self, train_features, train_labels, eval_set, cat_col_names)\u001b[0m\n\u001b[1;32m     82\u001b[0m         \u001b[0;32mfrom\u001b[0m \u001b[0mcatboost\u001b[0m \u001b[0;32mimport\u001b[0m \u001b[0mPool\u001b[0m\u001b[0;34m\u001b[0m\u001b[0;34m\u001b[0m\u001b[0m\n\u001b[1;32m     83\u001b[0m \u001b[0;34m\u001b[0m\u001b[0m\n\u001b[1;32m     84\u001b[0m         \u001b[0;31m# Convert to pandas for CatBoost\u001b[0m\u001b[0;34m\u001b[0m\u001b[0;34m\u001b[0m\u001b[0m\n\u001b[1;32m     85\u001b[0m         \u001b[0;32mif\u001b[0m \u001b[0misinstance\u001b[0m\u001b[0;34m(\u001b[0m\u001b[0mtrain_features\u001b[0m\u001b[0;34m,\u001b[0m \u001b[0mpl\u001b[0m\u001b[0;34m.\u001b[0m\u001b[0mDataFrame\u001b[0m\u001b[0;34m)\u001b[0m\u001b[0;34m:\u001b[0m\u001b[0;34m\u001b[0m\u001b[0;34m\u001b[0m\u001b[0m\n\u001b[0;32m---> 86\u001b[0;31m             \u001b[0mtrain_features\u001b[0m \u001b[0;34m=\u001b[0m \u001b[0mtrain_features\u001b[0m\u001b[0;34m.\u001b[0m\u001b[0mto_pandas\u001b[0m\u001b[0;34m(\u001b[0m\u001b[0;34m)\u001b[0m\u001b[0;34m\u001b[0m\u001b[0;34m\u001b[0m\u001b[0m\n\u001b[0m\u001b[1;32m     87\u001b[0m \u001b[0;34m\u001b[0m\u001b[0m\n\u001b[1;32m     88\u001b[0m         \u001b[0;32mif\u001b[0m \u001b[0misinstance\u001b[0m\u001b[0;34m(\u001b[0m\u001b[0mtrain_labels\u001b[0m\u001b[0;34m,\u001b[0m \u001b[0mpl\u001b[0m\u001b[0;34m.\u001b[0m\u001b[0mSeries\u001b[0m\u001b[0;34m)\u001b[0m\u001b[0;34m:\u001b[0m\u001b[0;34m\u001b[0m\u001b[0;34m\u001b[0m\u001b[0m\n\u001b[1;32m     89\u001b[0m             \u001b[0mtrain_labels\u001b[0m \u001b[0;34m=\u001b[0m \u001b[0mtrain_labels\u001b[0m\u001b[0;34m.\u001b[0m\u001b[0mto_list\u001b[0m\u001b[0;34m(\u001b[0m\u001b[0;34m)\u001b[0m\u001b[0;34m\u001b[0m\u001b[0;34m\u001b[0m\u001b[0m\n",
      "\u001b[0;32m/data/majoroval/jupyter/RS-25/RS-venv/lib/python3.10/site-packages/polars/dataframe/frame.py\u001b[0m in \u001b[0;36m?\u001b[0;34m(self, use_pyarrow_extension_array, **kwargs)\u001b[0m\n\u001b[1;32m   2417\u001b[0m             return self._to_pandas_with_object_columns(\n\u001b[1;32m   2418\u001b[0m                 \u001b[0muse_pyarrow_extension_array\u001b[0m\u001b[0;34m=\u001b[0m\u001b[0muse_pyarrow_extension_array\u001b[0m\u001b[0;34m,\u001b[0m \u001b[0;34m**\u001b[0m\u001b[0mkwargs\u001b[0m\u001b[0;34m\u001b[0m\u001b[0;34m\u001b[0m\u001b[0m\n\u001b[1;32m   2419\u001b[0m             )\n\u001b[1;32m   2420\u001b[0m \u001b[0;34m\u001b[0m\u001b[0m\n\u001b[0;32m-> 2421\u001b[0;31m         return self._to_pandas_without_object_columns(\n\u001b[0m\u001b[1;32m   2422\u001b[0m             \u001b[0mself\u001b[0m\u001b[0;34m,\u001b[0m \u001b[0muse_pyarrow_extension_array\u001b[0m\u001b[0;34m=\u001b[0m\u001b[0muse_pyarrow_extension_array\u001b[0m\u001b[0;34m,\u001b[0m \u001b[0;34m**\u001b[0m\u001b[0mkwargs\u001b[0m\u001b[0;34m\u001b[0m\u001b[0;34m\u001b[0m\u001b[0m\n\u001b[1;32m   2423\u001b[0m         )\n",
      "\u001b[0;32m/data/majoroval/jupyter/RS-25/RS-venv/lib/python3.10/site-packages/polars/dataframe/frame.py\u001b[0m in \u001b[0;36m?\u001b[0;34m(self, df, use_pyarrow_extension_array, **kwargs)\u001b[0m\n\u001b[1;32m   2468\u001b[0m     ) -> pd.DataFrame:\n\u001b[1;32m   2469\u001b[0m         \u001b[0;32mif\u001b[0m \u001b[0;32mnot\u001b[0m \u001b[0mdf\u001b[0m\u001b[0;34m.\u001b[0m\u001b[0mwidth\u001b[0m\u001b[0;34m:\u001b[0m  \u001b[0;31m# Empty dataframe, cannot infer schema from batches\u001b[0m\u001b[0;34m\u001b[0m\u001b[0;34m\u001b[0m\u001b[0m\n\u001b[1;32m   2470\u001b[0m             \u001b[0;32mreturn\u001b[0m \u001b[0mpd\u001b[0m\u001b[0;34m.\u001b[0m\u001b[0mDataFrame\u001b[0m\u001b[0;34m(\u001b[0m\u001b[0;34m)\u001b[0m\u001b[0;34m\u001b[0m\u001b[0;34m\u001b[0m\u001b[0m\n\u001b[1;32m   2471\u001b[0m \u001b[0;34m\u001b[0m\u001b[0m\n\u001b[0;32m-> 2472\u001b[0;31m         \u001b[0mrecord_batches\u001b[0m \u001b[0;34m=\u001b[0m \u001b[0mdf\u001b[0m\u001b[0;34m.\u001b[0m\u001b[0m_df\u001b[0m\u001b[0;34m.\u001b[0m\u001b[0mto_pandas\u001b[0m\u001b[0;34m(\u001b[0m\u001b[0;34m)\u001b[0m\u001b[0;34m\u001b[0m\u001b[0;34m\u001b[0m\u001b[0m\n\u001b[0m\u001b[1;32m   2473\u001b[0m         \u001b[0mtbl\u001b[0m \u001b[0;34m=\u001b[0m \u001b[0mpa\u001b[0m\u001b[0;34m.\u001b[0m\u001b[0mTable\u001b[0m\u001b[0;34m.\u001b[0m\u001b[0mfrom_batches\u001b[0m\u001b[0;34m(\u001b[0m\u001b[0mrecord_batches\u001b[0m\u001b[0;34m)\u001b[0m\u001b[0;34m\u001b[0m\u001b[0;34m\u001b[0m\u001b[0m\n\u001b[1;32m   2474\u001b[0m         \u001b[0;32mif\u001b[0m \u001b[0muse_pyarrow_extension_array\u001b[0m\u001b[0;34m:\u001b[0m\u001b[0;34m\u001b[0m\u001b[0;34m\u001b[0m\u001b[0m\n\u001b[1;32m   2475\u001b[0m             return tbl.to_pandas(\n",
      "\u001b[0;31mPanicException\u001b[0m: Polars' maximum length reached. Consider installing 'polars-u64-idx'."
     ]
    }
   ],
   "source": [
    "model.train(\n",
    "    train,\n",
    "    target,\n",
    "    eval_set=(val, val_target)\n",
    ")"
   ]
  },
  {
   "cell_type": "code",
   "execution_count": null,
   "id": "9e9c736b",
   "metadata": {},
   "outputs": [],
   "source": []
  }
 ],
 "metadata": {
  "kernelspec": {
   "display_name": "RS-venv",
   "language": "python",
   "name": "rs-venv"
  },
  "language_info": {
   "codemirror_mode": {
    "name": "ipython",
    "version": 3
   },
   "file_extension": ".py",
   "mimetype": "text/x-python",
   "name": "python",
   "nbconvert_exporter": "python",
   "pygments_lexer": "ipython3",
   "version": "3.10.12"
  }
 },
 "nbformat": 4,
 "nbformat_minor": 5
}
