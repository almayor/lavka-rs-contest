{
 "cells": [
  {
   "cell_type": "code",
   "execution_count": 1,
   "id": "490d47b9",
   "metadata": {},
   "outputs": [],
   "source": [
    "import requests\n",
    "import zipfile\n",
    "\n",
    "import numpy as np\n",
    "import polars as pl\n",
    "import seaborn as sns\n",
    "import matplotlib.pyplot as plt\n",
    "\n",
    "from PIL import Image\n",
    "from io import BytesIO\n",
    "from textwrap import wrap\n",
    "from tqdm.auto import tqdm\n",
    "from concurrent.futures import ThreadPoolExecutor\n",
    "from sklearn.metrics import roc_auc_score, log_loss, ndcg_score\n",
    "from pprint import pprint"
   ]
  },
  {
   "cell_type": "code",
   "execution_count": 9,
   "id": "271b05f6",
   "metadata": {},
   "outputs": [],
   "source": [
    "from implicit.bpr import BayesianPersonalizedRanking"
   ]
  },
  {
   "cell_type": "code",
   "execution_count": 2,
   "id": "f44608dd",
   "metadata": {},
   "outputs": [],
   "source": [
    "train = pl.read_parquet('../../data/lavka/train.parquet')\n",
    "train = train.sample(fraction=0.3)"
   ]
  },
  {
   "cell_type": "code",
   "execution_count": 3,
   "id": "677b3216",
   "metadata": {},
   "outputs": [],
   "source": [
    "import implicit"
   ]
  },
  {
   "cell_type": "code",
   "execution_count": 4,
   "id": "5150a702",
   "metadata": {},
   "outputs": [],
   "source": [
    "df_interact = train.filter(\n",
    "    pl.col(\"action_type\").is_in([\"AT_Purchase\", \"AT_CartUpdate\", \"AT_Click\"])\n",
    ")"
   ]
  },
  {
   "cell_type": "code",
   "execution_count": 5,
   "id": "93e8f76e",
   "metadata": {},
   "outputs": [],
   "source": [
    "from lavka_recsys.utils.matrix_operations import build_interaction_matrix"
   ]
  },
  {
   "cell_type": "code",
   "execution_count": 13,
   "id": "c87e620e",
   "metadata": {},
   "outputs": [],
   "source": [
    "interaction_matrix, user2idx, idx2user, item2idx, idx2item = \\\n",
    "            build_interaction_matrix(df_interact,\n",
    "                                    user_col=\"user_id\",\n",
    "                                    item_col=\"product_id\",\n",
    "                                    binary=True)"
   ]
  },
  {
   "cell_type": "code",
   "execution_count": 28,
   "id": "2fd73d8e",
   "metadata": {},
   "outputs": [
    {
     "data": {
      "text/plain": [
       "scipy.sparse._csr.csr_matrix"
      ]
     },
     "execution_count": 28,
     "metadata": {},
     "output_type": "execute_result"
    }
   ],
   "source": [
    "type(interaction_matrix)"
   ]
  },
  {
   "cell_type": "code",
   "execution_count": 10,
   "id": "aa797c39",
   "metadata": {},
   "outputs": [],
   "source": [
    "bpr_model = BayesianPersonalizedRanking(\n",
    "    factors=100,\n",
    "    random_state=42\n",
    ")"
   ]
  },
  {
   "cell_type": "code",
   "execution_count": 11,
   "id": "3581bc4e",
   "metadata": {},
   "outputs": [
    {
     "data": {
      "application/vnd.jupyter.widget-view+json": {
       "model_id": "46e2a7a6d1a54155bc61ab21efdcc232",
       "version_major": 2,
       "version_minor": 0
      },
      "text/plain": [
       "  0%|          | 0/100 [00:00<?, ?it/s]"
      ]
     },
     "metadata": {},
     "output_type": "display_data"
    }
   ],
   "source": [
    "bpr_model.fit(interaction_matrix)"
   ]
  },
  {
   "cell_type": "code",
   "execution_count": 26,
   "id": "cab4d52f",
   "metadata": {},
   "outputs": [],
   "source": [
    "grouped = train.to_pandas().groupby('user_id')"
   ]
  },
  {
   "cell_type": "code",
   "execution_count": 29,
   "id": "9540f552",
   "metadata": {},
   "outputs": [
    {
     "data": {
      "application/vnd.jupyter.widget-view+json": {
       "model_id": "aee70f18e0c44c42bbc56379912df36b",
       "version_major": 2,
       "version_minor": 0
      },
      "text/plain": [
       "  0%|          | 0/3446 [00:00<?, ?it/s]"
      ]
     },
     "metadata": {},
     "output_type": "display_data"
    }
   ],
   "source": [
    "import numpy as np\n",
    "\n",
    "# Dictionary to store scores for each request_id\n",
    "request_scores = {}\n",
    "\n",
    "for user_id, group in tqdm(grouped):\n",
    "    # Skip cold users\n",
    "    if user_id not in user2idx:\n",
    "        continue\n",
    "    \n",
    "    # Converting ids to idxs\n",
    "    user_idx = user2idx[user_id]\n",
    "    product_ids = group['product_id'].values\n",
    "    product_idxs = [item2idx[pid] for pid in product_ids if pid in item2idx]\n",
    "\n",
    "    # Get scores for the specified products\n",
    "    product_idxs, scores = bpr_model.recommend(\n",
    "        userid=user_idx,\n",
    "        user_items=interaction_matrix,\n",
    "        N=len(product_idxs),\n",
    "        filter_already_liked_items=False,\n",
    "        items=product_idxs\n",
    "    )\n",
    "\n",
    "    # Store the results\n",
    "    scores_list = [(idx2item[pidx], score) for pidx, score in zip(product_idxs, scores)]\n",
    "    request_scores[user_id] = scores_list"
   ]
  },
  {
   "cell_type": "code",
   "execution_count": 31,
   "id": "a48d1d9e",
   "metadata": {},
   "outputs": [
    {
     "data": {
      "text/plain": [
       "Schema([('action_type', String),\n",
       "        ('city_name', String),\n",
       "        ('position_in_request', Int64),\n",
       "        ('product_category', String),\n",
       "        ('product_id', UInt64),\n",
       "        ('product_image', String),\n",
       "        ('product_name', String),\n",
       "        ('request_id', UInt64),\n",
       "        ('source_type', String),\n",
       "        ('store_id', UInt64),\n",
       "        ('timestamp', Int64),\n",
       "        ('user_id', UInt64)])"
      ]
     },
     "execution_count": 31,
     "metadata": {},
     "output_type": "execute_result"
    }
   ],
   "source": [
    "train.schema"
   ]
  },
  {
   "cell_type": "code",
   "execution_count": 32,
   "id": "3bb16ece",
   "metadata": {},
   "outputs": [],
   "source": [
    "import polars as pl\n",
    "\n",
    "# Flatten the dictionary into a list of records\n",
    "records = []\n",
    "for user_id, items in request_scores.items():\n",
    "    for product_id, score in items:\n",
    "        records.append({'user_id': user_id, 'product_id': product_id, 'score': score})\n",
    "\n",
    "# Create a Polars DataFrame\n",
    "schema = {\n",
    "    'user_id': pl.UInt64,\n",
    "    'product_id': pl.UInt64,\n",
    "    'score': float\n",
    "}\n",
    "result_df = pl.DataFrame(records, schema=schema)"
   ]
  },
  {
   "cell_type": "code",
   "execution_count": 35,
   "id": "c283fb6f",
   "metadata": {},
   "outputs": [
    {
     "data": {
      "text/html": [
       "<div><style>\n",
       ".dataframe > thead > tr,\n",
       ".dataframe > tbody > tr {\n",
       "  text-align: right;\n",
       "  white-space: pre-wrap;\n",
       "}\n",
       "</style>\n",
       "<small>shape: (9, 14)</small><table border=\"1\" class=\"dataframe\"><thead><tr><th>statistic</th><th>action_type</th><th>city_name</th><th>position_in_request</th><th>product_category</th><th>product_id</th><th>product_image</th><th>product_name</th><th>request_id</th><th>source_type</th><th>store_id</th><th>timestamp</th><th>user_id</th><th>score</th></tr><tr><td>str</td><td>str</td><td>str</td><td>f64</td><td>str</td><td>f64</td><td>str</td><td>str</td><td>f64</td><td>str</td><td>f64</td><td>f64</td><td>f64</td><td>f64</td></tr></thead><tbody><tr><td>&quot;count&quot;</td><td>&quot;55083124&quot;</td><td>&quot;55083124&quot;</td><td>5.254544e7</td><td>&quot;55083124&quot;</td><td>5.5083124e7</td><td>&quot;55083124&quot;</td><td>&quot;55083124&quot;</td><td>5.3218782e7</td><td>&quot;53248783&quot;</td><td>5.5083124e7</td><td>5.5083124e7</td><td>5.5083124e7</td><td>5.490994e7</td></tr><tr><td>&quot;null_count&quot;</td><td>&quot;0&quot;</td><td>&quot;0&quot;</td><td>2.537684e6</td><td>&quot;0&quot;</td><td>0.0</td><td>&quot;0&quot;</td><td>&quot;0&quot;</td><td>1.864342e6</td><td>&quot;1834341&quot;</td><td>0.0</td><td>0.0</td><td>0.0</td><td>173184.0</td></tr><tr><td>&quot;mean&quot;</td><td>null</td><td>null</td><td>20.677003</td><td>null</td><td>9.2030e18</td><td>null</td><td>null</td><td>9.2093e18</td><td>null</td><td>9.5054e18</td><td>1.6913e9</td><td>8.6518e18</td><td>1.666702</td></tr><tr><td>&quot;std&quot;</td><td>null</td><td>null</td><td>40.215798</td><td>null</td><td>5.3232e18</td><td>null</td><td>null</td><td>5.3362e18</td><td>null</td><td>5.7427e18</td><td>9.5134e6</td><td>5.0993e18</td><td>1.101319</td></tr><tr><td>&quot;min&quot;</td><td>&quot;AT_CartUpdate&quot;</td><td>&quot;Екатеринбург&quot;</td><td>0.0</td><td>&quot;L-карнитин&quot;</td><td>1.3531e14</td><td>&quot;https://avatars.mds.yandex.net…</td><td>&quot;10 шведских фрикаделек с брусн…</td><td>4.6265e12</td><td>&quot;ST_Catalog&quot;</td><td>1.2752e15</td><td>1.6725e9</td><td>2.8492e15</td><td>-4.526204</td></tr><tr><td>&quot;25%&quot;</td><td>null</td><td>null</td><td>3.0</td><td>null</td><td>4.6563e18</td><td>null</td><td>null</td><td>4.5903e18</td><td>null</td><td>4.1970e18</td><td>1.6836e9</td><td>4.4812e18</td><td>0.954798</td></tr><tr><td>&quot;50%&quot;</td><td>null</td><td>null</td><td>8.0</td><td>null</td><td>9.0017e18</td><td>null</td><td>null</td><td>9.2019e18</td><td>null</td><td>1.0290e19</td><td>1.6923e9</td><td>7.5464e18</td><td>1.85258</td></tr><tr><td>&quot;75%&quot;</td><td>null</td><td>null</td><td>21.0</td><td>null</td><td>1.4100e19</td><td>null</td><td>null</td><td>1.3842e19</td><td>null</td><td>1.4641e19</td><td>1.6993e9</td><td>1.3746e19</td><td>2.468862</td></tr><tr><td>&quot;max&quot;</td><td>&quot;AT_View&quot;</td><td>&quot;Челябинск&quot;</td><td>780.0</td><td>&quot;сахар коричневый рафинад/колот…</td><td>1.8445e19</td><td>&quot;https://avatars.mds.yandex.net…</td><td>&quot;хлеб Бородинский «Вкус хлеба» …</td><td>1.8447e19</td><td>&quot;ST_Upsale&quot;</td><td>1.8370e19</td><td>1.7069e9</td><td>1.8437e19</td><td>5.417954</td></tr></tbody></table></div>"
      ],
      "text/plain": [
       "shape: (9, 14)\n",
       "┌───────────┬───────────┬───────────┬───────────┬───┬───────────┬───────────┬───────────┬──────────┐\n",
       "│ statistic ┆ action_ty ┆ city_name ┆ position_ ┆ … ┆ store_id  ┆ timestamp ┆ user_id   ┆ score    │\n",
       "│ ---       ┆ pe        ┆ ---       ┆ in_reques ┆   ┆ ---       ┆ ---       ┆ ---       ┆ ---      │\n",
       "│ str       ┆ ---       ┆ str       ┆ t         ┆   ┆ f64       ┆ f64       ┆ f64       ┆ f64      │\n",
       "│           ┆ str       ┆           ┆ ---       ┆   ┆           ┆           ┆           ┆          │\n",
       "│           ┆           ┆           ┆ f64       ┆   ┆           ┆           ┆           ┆          │\n",
       "╞═══════════╪═══════════╪═══════════╪═══════════╪═══╪═══════════╪═══════════╪═══════════╪══════════╡\n",
       "│ count     ┆ 55083124  ┆ 55083124  ┆ 5.254544e ┆ … ┆ 5.5083124 ┆ 5.5083124 ┆ 5.5083124 ┆ 5.490994 │\n",
       "│           ┆           ┆           ┆ 7         ┆   ┆ e7        ┆ e7        ┆ e7        ┆ e7       │\n",
       "│ null_coun ┆ 0         ┆ 0         ┆ 2.537684e ┆ … ┆ 0.0       ┆ 0.0       ┆ 0.0       ┆ 173184.0 │\n",
       "│ t         ┆           ┆           ┆ 6         ┆   ┆           ┆           ┆           ┆          │\n",
       "│ mean      ┆ null      ┆ null      ┆ 20.677003 ┆ … ┆ 9.5054e18 ┆ 1.6913e9  ┆ 8.6518e18 ┆ 1.666702 │\n",
       "│ std       ┆ null      ┆ null      ┆ 40.215798 ┆ … ┆ 5.7427e18 ┆ 9.5134e6  ┆ 5.0993e18 ┆ 1.101319 │\n",
       "│ min       ┆ AT_CartUp ┆ Екатеринб ┆ 0.0       ┆ … ┆ 1.2752e15 ┆ 1.6725e9  ┆ 2.8492e15 ┆ -4.52620 │\n",
       "│           ┆ date      ┆ ург       ┆           ┆   ┆           ┆           ┆           ┆ 4        │\n",
       "│ 25%       ┆ null      ┆ null      ┆ 3.0       ┆ … ┆ 4.1970e18 ┆ 1.6836e9  ┆ 4.4812e18 ┆ 0.954798 │\n",
       "│ 50%       ┆ null      ┆ null      ┆ 8.0       ┆ … ┆ 1.0290e19 ┆ 1.6923e9  ┆ 7.5464e18 ┆ 1.85258  │\n",
       "│ 75%       ┆ null      ┆ null      ┆ 21.0      ┆ … ┆ 1.4641e19 ┆ 1.6993e9  ┆ 1.3746e19 ┆ 2.468862 │\n",
       "│ max       ┆ AT_View   ┆ Челябинск ┆ 780.0     ┆ … ┆ 1.8370e19 ┆ 1.7069e9  ┆ 1.8437e19 ┆ 5.417954 │\n",
       "└───────────┴───────────┴───────────┴───────────┴───┴───────────┴───────────┴───────────┴──────────┘"
      ]
     },
     "execution_count": 35,
     "metadata": {},
     "output_type": "execute_result"
    }
   ],
   "source": [
    "train.join(result_df, on=['user_id', 'product_id'], how='left').describe()"
   ]
  },
  {
   "cell_type": "code",
   "execution_count": null,
   "id": "b63350b4",
   "metadata": {},
   "outputs": [],
   "source": []
  }
 ],
 "metadata": {
  "kernelspec": {
   "display_name": "RS-venv",
   "language": "python",
   "name": "python3"
  },
  "language_info": {
   "codemirror_mode": {
    "name": "ipython",
    "version": 3
   },
   "file_extension": ".py",
   "mimetype": "text/x-python",
   "name": "python",
   "nbconvert_exporter": "python",
   "pygments_lexer": "ipython3",
   "version": "3.10.12"
  }
 },
 "nbformat": 4,
 "nbformat_minor": 5
}
