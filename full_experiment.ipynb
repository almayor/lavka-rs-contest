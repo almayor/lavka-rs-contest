{
 "cells": [
  {
   "cell_type": "markdown",
   "metadata": {},
   "source": [
    "# Full Experiment with CatBoost Models\n",
    "\n",
    "This notebook runs a complete experiment using all available features with both CatBoostClassifier and CatBoostRanker models."
   ]
  },
  {
   "cell_type": "code",
   "execution_count": 1,
   "metadata": {},
   "outputs": [],
   "source": [
    "import os\n",
    "import polars as pl\n",
    "import pandas as pd\n",
    "import matplotlib.pyplot as plt\n",
    "import json\n",
    "import time\n",
    "\n",
    "from lavka_recsys import Config, Experiment, setup_logging"
   ]
  },
  {
   "cell_type": "code",
   "execution_count": 2,
   "metadata": {},
   "outputs": [
    {
     "data": {
      "text/plain": [
       "<Logger lavka_recsys (DEBUG)>"
      ]
     },
     "execution_count": 2,
     "metadata": {},
     "output_type": "execute_result"
    }
   ],
   "source": [
    "setup_logging()"
   ]
  },
  {
   "cell_type": "markdown",
   "metadata": {},
   "source": [
    "## Baseline Experiments"
   ]
  },
  {
   "cell_type": "markdown",
   "metadata": {},
   "source": [
    "First, let's see how well a model that outputs random predictions does."
   ]
  },
  {
   "cell_type": "code",
   "execution_count": 3,
   "metadata": {},
   "outputs": [
    {
     "name": "stdout",
     "output_type": "stream",
     "text": [
      "2025-05-05 17:04:52,189 - lavka_recsys.Experiment(random_baseline_587898) - INFO - Initialized experiment: random_baseline_587898\n",
      "2025-05-05 17:04:52,198 - lavka_recsys.Experiment(random_baseline_587898) - INFO - Config saved: results/random_baseline_587898_config.json\n",
      "2025-05-05 17:04:52,199 - lavka_recsys.Experiment(random_baseline_587898) - INFO - Setting up experiment environment...\n",
      "2025-05-05 17:04:52,201 - lavka_recsys.DataLoader - INFO - Loading training data from ../../data/lavka/train.parquet\n"
     ]
    },
    {
     "name": "stdout",
     "output_type": "stream",
     "text": [
      "2025-05-05 17:04:52,508 - lavka_recsys.DataLoader - INFO - Loading test data from ../../data/lavka/test.parquet\n",
      "2025-05-05 17:04:52,924 - lavka_recsys.DataLoader - INFO - Holdout Split:\n",
      "2025-05-05 17:04:52,951 - lavka_recsys.DataLoader - INFO -   train: 2022-12-31 18:46:42 → 2024-01-03 17:31:52 (15_070_276 rows, 367 days)\n",
      "2025-05-05 17:04:52,955 - lavka_recsys.DataLoader - INFO -   holdout: 2024-01-03 17:56:48 → 2024-02-02 17:34:51 (1_438_338 rows, 29 days)\n",
      "2025-05-05 17:04:52,956 - lavka_recsys.Experiment(random_baseline_587898) - INFO - Setup complete.\n",
      "2025-05-05 17:04:52,957 - lavka_recsys.Experiment(random_baseline_587898) - INFO - Starting experiment run...\n",
      "2025-05-05 17:04:53,437 - lavka_recsys.DataLoader - INFO - Validation Split:\n",
      "2025-05-05 17:04:53,459 - lavka_recsys.DataLoader - INFO -   train_history: 2022-12-31 18:46:42 → 2023-11-04 17:16:23 (12_082_523 rows, 307 days)\n",
      "2025-05-05 17:04:53,463 - lavka_recsys.DataLoader - INFO -   train_target: 2023-11-04 18:19:12 → 2023-12-04 17:25:02 (1_498_126 rows, 29 days)\n",
      "2025-05-05 17:04:53,497 - lavka_recsys.DataLoader - INFO -   val_history: 2022-12-31 18:46:42 → 2023-12-04 17:25:02 (13_580_649 rows, 337 days)\n",
      "2025-05-05 17:04:53,504 - lavka_recsys.DataLoader - INFO -   val_target: 2023-12-04 18:02:13 → 2024-01-03 17:31:52 (1_489_627 rows, 29 days)\n",
      "2025-05-05 17:04:53,596 - lavka_recsys.CachedFeatureFactory - INFO - Using cached feature batch\n",
      "2025-05-05 17:04:53,695 - lavka_recsys.CachedFeatureFactory - INFO - Using cached feature batch\n",
      "2025-05-05 17:04:53,697 - lavka_recsys.ModelFactory - INFO - Creating random_baseline model with params: {'task_type': 'CPU', 'thread_count': -1}\n",
      "2025-05-05 17:04:53,698 - lavka_recsys.Experiment(random_baseline_587898) - INFO - Training completed in 0.00s\n",
      "2025-05-05 17:04:53,698 - lavka_recsys.Experiment(random_baseline_587898) - INFO - Evaluating on holdout.\n",
      "2025-05-05 17:04:53,795 - lavka_recsys.CachedFeatureFactory - INFO - Using cached feature batch\n",
      "2025-05-05 17:05:05,421 - lavka_recsys.Experiment(random_baseline_587898) - INFO - Run results saved: results/random_baseline_587898_results.json\n",
      "2025-05-05 17:05:05,422 - lavka_recsys.Experiment(random_baseline_587898) - INFO - Run finished and results saved.\n",
      "\n",
      "Random Baseline Results (completed in 13.24 seconds):\n",
      "  auc: 0.500740\n",
      "  logloss: 0.998270\n",
      "  ndcg@10: 0.367397\n"
     ]
    }
   ],
   "source": [
    "# Create experiment\n",
    "config = (Config\n",
    "    .load('default_config.yaml')\n",
    "    .set('features', ['random_noise'])\n",
    "    .set('model.type', 'random_baseline')\n",
    ")\n",
    "random_experiment = Experiment(\"random_baseline\", config)\n",
    "\n",
    "# Setup and run\n",
    "start_time = time.time()\n",
    "random_experiment.setup()\n",
    "random_results = random_experiment.run()\n",
    "random_time = time.time() - start_time\n",
    "\n",
    "# Print metrics\n",
    "print(f\"\\nRandom Baseline Results (completed in {random_time:.2f} seconds):\")\n",
    "for metric, value in random_results['metrics'].items():\n",
    "    print(f\"  {metric}: {value:.6f}\")"
   ]
  },
  {
   "cell_type": "code",
   "execution_count": 4,
   "metadata": {},
   "outputs": [],
   "source": [
    "# random_experiment.create_submission()"
   ]
  },
  {
   "cell_type": "markdown",
   "metadata": {},
   "source": [
    "Kaggle Public Score = `0.30071`."
   ]
  },
  {
   "cell_type": "markdown",
   "metadata": {},
   "source": [
    "Now let's consider a baseline that only considers popularity (i.e. `product_total_purchases`)."
   ]
  },
  {
   "cell_type": "code",
   "execution_count": 5,
   "metadata": {},
   "outputs": [
    {
     "name": "stdout",
     "output_type": "stream",
     "text": [
      "2025-05-05 17:05:05,667 - lavka_recsys.Experiment(popularity_baseline_03697e) - INFO - Initialized experiment: popularity_baseline_03697e\n",
      "2025-05-05 17:05:05,674 - lavka_recsys.Experiment(popularity_baseline_03697e) - INFO - Config saved: results/popularity_baseline_03697e_config.json\n",
      "2025-05-05 17:05:05,675 - lavka_recsys.Experiment(popularity_baseline_03697e) - INFO - Setting up experiment environment...\n",
      "2025-05-05 17:05:05,677 - lavka_recsys.DataLoader - INFO - Loading training data from ../../data/lavka/train.parquet\n"
     ]
    },
    {
     "name": "stdout",
     "output_type": "stream",
     "text": [
      "2025-05-05 17:05:06,006 - lavka_recsys.DataLoader - INFO - Loading test data from ../../data/lavka/test.parquet\n",
      "2025-05-05 17:05:06,297 - lavka_recsys.DataLoader - INFO - Holdout Split:\n",
      "2025-05-05 17:05:06,324 - lavka_recsys.DataLoader - INFO -   train: 2022-12-31 18:46:42 → 2024-01-03 17:31:52 (15_070_276 rows, 367 days)\n",
      "2025-05-05 17:05:06,328 - lavka_recsys.DataLoader - INFO -   holdout: 2024-01-03 17:56:48 → 2024-02-02 17:34:51 (1_438_338 rows, 29 days)\n",
      "2025-05-05 17:05:06,329 - lavka_recsys.Experiment(popularity_baseline_03697e) - INFO - Setup complete.\n",
      "2025-05-05 17:05:06,330 - lavka_recsys.Experiment(popularity_baseline_03697e) - INFO - Starting experiment run...\n",
      "2025-05-05 17:05:06,725 - lavka_recsys.DataLoader - INFO - Validation Split:\n",
      "2025-05-05 17:05:06,745 - lavka_recsys.DataLoader - INFO -   train_history: 2022-12-31 18:46:42 → 2023-11-04 17:16:23 (12_082_523 rows, 307 days)\n",
      "2025-05-05 17:05:06,749 - lavka_recsys.DataLoader - INFO -   train_target: 2023-11-04 18:19:12 → 2023-12-04 17:25:02 (1_498_126 rows, 29 days)\n",
      "2025-05-05 17:05:06,773 - lavka_recsys.DataLoader - INFO -   val_history: 2022-12-31 18:46:42 → 2023-12-04 17:25:02 (13_580_649 rows, 337 days)\n",
      "2025-05-05 17:05:06,777 - lavka_recsys.DataLoader - INFO -   val_target: 2023-12-04 18:02:13 → 2024-01-03 17:31:52 (1_489_627 rows, 29 days)\n",
      "2025-05-05 17:05:06,897 - lavka_recsys.CachedFeatureFactory - INFO - Using cached feature batch\n",
      "2025-05-05 17:05:06,997 - lavka_recsys.CachedFeatureFactory - INFO - Using cached feature batch\n",
      "2025-05-05 17:05:06,999 - lavka_recsys.ModelFactory - INFO - Creating single_feature model with params: {'feature_name': 'product_total_purchases', 'desc': True, 'task_type': 'CPU', 'thread_count': -1}\n",
      "2025-05-05 17:05:07,000 - lavka_recsys.Experiment(popularity_baseline_03697e) - INFO - Training completed in 0.00s\n",
      "2025-05-05 17:05:07,001 - lavka_recsys.Experiment(popularity_baseline_03697e) - INFO - Evaluating on holdout.\n",
      "2025-05-05 17:05:07,101 - lavka_recsys.CachedFeatureFactory - INFO - Using cached feature batch\n",
      "2025-05-05 17:05:18,649 - lavka_recsys.Experiment(popularity_baseline_03697e) - INFO - Run results saved: results/popularity_baseline_03697e_results.json\n",
      "2025-05-05 17:05:18,653 - lavka_recsys.Experiment(popularity_baseline_03697e) - INFO - Run finished and results saved.\n",
      "\n",
      "Popularity Baseline Results (completed in 13.02 seconds):\n",
      "  auc: 0.612540\n",
      "  logloss: 31.678228\n",
      "  ndcg@10: 0.395567\n"
     ]
    }
   ],
   "source": [
    "# Create experiment\n",
    "config = (Config\n",
    "    .load('default_config.yaml')\n",
    "    .set('features', ['product_stats'])\n",
    "    .set('model.type', 'single_feature')\n",
    "    .set('model.config.single_feature.feature_name', 'product_total_purchases')\n",
    "    .set('model.config.single_feature.desc', True)\n",
    ")\n",
    "pop_experiment = Experiment(\n",
    "    \"popularity_baseline\",\n",
    "    config\n",
    ")\n",
    "\n",
    "# Setup and run\n",
    "start_time = time.time()\n",
    "pop_experiment.setup()\n",
    "pop_results = pop_experiment.run()\n",
    "pop_time = time.time() - start_time\n",
    "\n",
    "# Print metrics\n",
    "print(f\"\\nPopularity Baseline Results (completed in {pop_time:.2f} seconds):\")\n",
    "for metric, value in pop_results['metrics'].items():\n",
    "    print(f\"  {metric}: {value:.6f}\")"
   ]
  },
  {
   "cell_type": "code",
   "execution_count": 7,
   "metadata": {},
   "outputs": [],
   "source": [
    "# pop_experiment.create_submission()"
   ]
  },
  {
   "cell_type": "markdown",
   "metadata": {},
   "source": [
    "Kaggle Public Score = `0.33188`."
   ]
  },
  {
   "cell_type": "markdown",
   "metadata": {},
   "source": [
    "## CatBoost Classifier Experiment\n",
    "\n",
    "Run an experiment with CatBoost Classifier."
   ]
  },
  {
   "cell_type": "code",
   "execution_count": 8,
   "metadata": {},
   "outputs": [
    {
     "name": "stdout",
     "output_type": "stream",
     "text": [
      "2025-05-05 19:08:48,054 - lavka_recsys.Experiment(catboost_classifier_4f314c) - INFO - Initialized experiment: catboost_classifier_4f314c\n"
     ]
    },
    {
     "name": "stdout",
     "output_type": "stream",
     "text": [
      "2025-05-05 19:08:48,068 - lavka_recsys.Experiment(catboost_classifier_4f314c) - INFO - Config saved: results/catboost_classifier_4f314c_config.json\n",
      "2025-05-05 19:08:48,069 - lavka_recsys.Experiment(catboost_classifier_4f314c) - INFO - Setting up experiment environment...\n",
      "2025-05-05 19:08:48,071 - lavka_recsys.DataLoader - INFO - Loading training data from ../../data/lavka/train.parquet\n",
      "2025-05-05 19:08:48,363 - lavka_recsys.DataLoader - INFO - Loading test data from ../../data/lavka/test.parquet\n",
      "2025-05-05 19:08:48,574 - lavka_recsys.DataLoader - INFO - Holdout Split:\n",
      "2025-05-05 19:08:48,603 - lavka_recsys.DataLoader - INFO -   train: 2022-12-31 18:46:42 → 2024-01-03 17:31:52 (15_070_276 rows, 367 days)\n",
      "2025-05-05 19:08:48,607 - lavka_recsys.DataLoader - INFO -   holdout: 2024-01-03 17:56:48 → 2024-02-02 17:34:51 (1_438_338 rows, 29 days)\n",
      "2025-05-05 19:08:48,609 - lavka_recsys.Experiment(catboost_classifier_4f314c) - INFO - Setup complete.\n",
      "2025-05-05 19:08:48,609 - lavka_recsys.Experiment(catboost_classifier_4f314c) - INFO - Starting experiment run...\n",
      "2025-05-05 19:08:48,950 - lavka_recsys.DataLoader - INFO - Validation Split:\n",
      "2025-05-05 19:08:48,986 - lavka_recsys.DataLoader - INFO -   train_history: 2022-12-31 18:46:42 → 2023-11-04 17:16:23 (12_082_523 rows, 307 days)\n",
      "2025-05-05 19:08:48,990 - lavka_recsys.DataLoader - INFO -   train_target: 2023-11-04 18:19:12 → 2023-12-04 17:25:02 (1_498_126 rows, 29 days)\n",
      "2025-05-05 19:08:49,017 - lavka_recsys.DataLoader - INFO -   val_history: 2022-12-31 18:46:42 → 2023-12-04 17:25:02 (13_580_649 rows, 337 days)\n",
      "2025-05-05 19:08:49,021 - lavka_recsys.DataLoader - INFO -   val_target: 2023-12-04 18:02:13 → 2024-01-03 17:31:52 (1_489_627 rows, 29 days)\n",
      "2025-05-05 19:08:50,254 - lavka_recsys.CachedFeatureFactory - INFO - Using cached feature batch\n",
      "2025-05-05 19:08:51,471 - lavka_recsys.CachedFeatureFactory - INFO - Using cached feature batch\n",
      "2025-05-05 19:08:51,473 - lavka_recsys.ModelFactory - INFO - Creating catboost_classifier model with params: {'loss_function': 'Logloss', 'eval_metric': 'AUC', 'early_stopping_rounds': 50, 'custom_metric': ['AUC', 'NDCG:top=10'], 'task_type': 'GPU', 'devices': '4,5', 'thread_count': -1}\n",
      "2025-05-05 19:08:51,718 - lavka_recsys.CatBoostClassifierModel - INFO - Sorting data by group_id for grouped ranking\n",
      "2025-05-05 19:08:55,651 - lavka_recsys.CatBoostClassifierModel - INFO - Sorting data by group_id for grouped ranking\n",
      "2025-05-05 19:08:59,205 - lavka_recsys.CatBoostClassifierModel - INFO - Converting 'user_segment' to string for CatBoost\n",
      "2025-05-05 19:08:59,227 - lavka_recsys.CatBoostClassifierModel - INFO - Converting 'city_name' to string for CatBoost\n",
      "2025-05-05 19:08:59,248 - lavka_recsys.CatBoostClassifierModel - INFO - Converting 'source_type' to string for CatBoost\n",
      "2025-05-05 19:09:00,925 - lavka_recsys.CatBoostClassifierModel - INFO - Converting 'user_segment' to string for CatBoost\n",
      "2025-05-05 19:09:00,955 - lavka_recsys.CatBoostClassifierModel - INFO - Converting 'city_name' to string for CatBoost\n",
      "2025-05-05 19:09:00,984 - lavka_recsys.CatBoostClassifierModel - INFO - Converting 'source_type' to string for CatBoost\n",
      "2025-05-05 19:09:02,594 - lavka_recsys.CatBoostClassifierModel - INFO - Training CatBoostClassifier model with columns: Index(['user_total_views', 'source_type', 'month', 'std_purchase_hour',\n",
      "       'session_unique_products', 'user_total_purchases', 'purchases_day_u_p',\n",
      "       'day_of_week_relevance', 'hour_of_day', 'user_unique_products',\n",
      "       'count_purchase_u_p', 'puresvd_cf_score', 'cart_to_purchase_rate',\n",
      "       'cf_score', 'session_duration_seconds', 'store_total_interactions',\n",
      "       'user_product_purchase_cross', 'session_purchases',\n",
      "       'product_unique_users', 'days_since_interaction_u_s',\n",
      "       'store_total_purchases', 'is_weekend', 'views_day_u_p',\n",
      "       'most_common_purchase_day', 'count_purchase_u_s', 'purchases_week_u_p',\n",
      "       'interactions_month_u_p', 'avg_purchase_hour',\n",
      "       'user_total_interactions', 'city_name', 'mean_interval_days',\n",
      "       'interactions_week_u_p', 'purchase_view_ratio',\n",
      "       'days_since_interaction_u_p', 'user_store_purchase_cross',\n",
      "       'city_total_purchases', 'city_total_interactions', 'ctr_product',\n",
      "       'hour_relevance', 'user_segment', 'session_unique_stores',\n",
      "       'product_total_views', 'day_of_week', 'purchases_month_u_p',\n",
      "       'interaction_trend', 'npmi_cf_score', 'product_total_purchases',\n",
      "       'user_product_store_cross', 'svd_cf_score', 'store_total_views',\n",
      "       'interactions_day_u_p', 'views_week_u_p', 'city_unique_stores',\n",
      "       'store_unique_products', 'purchase_trend', 'session_length',\n",
      "       'views_month_u_p', 'city_total_views', 'product_total_interactions'],\n",
      "      dtype='object') (cat_columns: ['user_segment', 'city_name', 'source_type'])\n"
     ]
    },
    {
     "data": {
      "application/vnd.jupyter.widget-view+json": {
       "model_id": "524e56aa7a604b1f8b891dd7aaeafa9f",
       "version_major": 2,
       "version_minor": 0
      },
      "text/plain": [
       "MetricVisualizer(layout=Layout(align_self='stretch', height='500px'))"
      ]
     },
     "metadata": {},
     "output_type": "display_data"
    },
    {
     "name": "stderr",
     "output_type": "stream",
     "text": [
      "Default metric period is 5 because AUC, NDCG is/are not implemented for GPU\n",
      "Metric NDCG:top=10;type=Base is not implemented on GPU. Will use CPU for metric computation, this could significantly affect learning time\n"
     ]
    },
    {
     "name": "stdout",
     "output_type": "stream",
     "text": [
      "2025-05-05 19:10:03,497 - lavka_recsys.Experiment(catboost_classifier_4f314c) - INFO - Training completed in 72.02s\n",
      "2025-05-05 19:10:03,502 - lavka_recsys.Experiment(catboost_classifier_4f314c) - INFO - Evaluating on holdout.\n",
      "2025-05-05 19:10:04,762 - lavka_recsys.CachedFeatureFactory - INFO - Using cached feature batch\n",
      "2025-05-05 19:10:04,967 - lavka_recsys.CatBoostClassifierModel - INFO - Converting 'source_type' to string for CatBoost\n",
      "2025-05-05 19:10:05,008 - lavka_recsys.CatBoostClassifierModel - INFO - Converting 'city_name' to string for CatBoost\n",
      "2025-05-05 19:10:05,028 - lavka_recsys.CatBoostClassifierModel - INFO - Converting 'user_segment' to string for CatBoost\n",
      "2025-05-05 19:10:19,304 - lavka_recsys.Experiment(catboost_classifier_4f314c) - INFO - Run results saved: results/catboost_classifier_4f314c_results.json\n",
      "2025-05-05 19:10:19,309 - lavka_recsys.Experiment(catboost_classifier_4f314c) - INFO - Run finished and results saved.\n",
      "\n",
      "CatBoost Classifier Results (completed in 91.27 seconds):\n",
      "  auc: 0.853803\n",
      "  logloss: 0.083214\n",
      "  ndcg@10: 0.484795\n",
      "\n",
      "Top 10 Important Features:\n",
      "  source_type: 65.197461\n",
      "  purchase_view_ratio: 4.724825\n",
      "  count_purchase_u_p: 3.587317\n",
      "  purchases_month_u_p: 2.384760\n",
      "  mean_interval_days: 1.523780\n",
      "  user_total_views: 1.422659\n",
      "  cf_score: 1.410100\n",
      "  user_total_interactions: 1.218540\n",
      "  npmi_cf_score: 1.199734\n",
      "  user_total_purchases: 0.987326\n"
     ]
    }
   ],
   "source": [
    "classifier_experiment = Experiment(\"catboost_classifier\", (Config\n",
    "    .load('default_config.yaml')\n",
    "    .set('model.type', 'catboost_classifier')\n",
    "))\n",
    "\n",
    "# Setup and run\n",
    "start_time = time.time()\n",
    "classifier_experiment.setup()\n",
    "classifier_results = classifier_experiment.run()\n",
    "classifier_time = time.time() - start_time\n",
    "\n",
    "# Print metrics\n",
    "print(f\"\\nCatBoost Classifier Results (completed in {classifier_time:.2f} seconds):\")\n",
    "for metric, value in classifier_results['metrics'].items():\n",
    "    print(f\"  {metric}: {value:.6f}\")\n",
    "\n",
    "# Print feature importance\n",
    "if 'feature_importance' in classifier_results:\n",
    "    print(\"\\nTop 10 Important Features:\")\n",
    "    top_features = sorted(classifier_results['feature_importance'].items(), \n",
    "                        key=lambda x: x[1], reverse=True)[:10]\n",
    "    for feature, importance in top_features:\n",
    "        print(f\"  {feature}: {importance:.6f}\")"
   ]
  },
  {
   "cell_type": "code",
   "execution_count": 4,
   "metadata": {},
   "outputs": [
    {
     "name": "stdout",
     "output_type": "stream",
     "text": [
      "2025-05-05 18:30:06,493 - lavka_recsys.Experiment(catboost_classifier_3f6423) - INFO - Computing predictions...\n",
      "2025-05-05 18:30:06,500 - lavka_recsys.DataLoader - INFO - Holdout data merged back into training data.\n",
      "2025-05-05 18:30:06,555 - lavka_recsys.DataLoader - INFO - Validation Split:\n",
      "2025-05-05 18:30:06,584 - lavka_recsys.DataLoader - INFO -   history: 2022-12-31 18:46:42 → 2024-01-03 17:31:52 (15_070_276 rows, 367 days)\n",
      "2025-05-05 18:30:06,588 - lavka_recsys.DataLoader - INFO -   target: 2024-01-03 17:56:48 → 2024-02-02 17:34:51 (1_438_338 rows, 29 days)\n",
      "2025-05-05 18:30:07,838 - lavka_recsys.CachedFeatureFactory - INFO - Using cached feature batch\n",
      "2025-05-05 18:30:07,842 - lavka_recsys.ModelFactory - INFO - Creating catboost_classifier model with params: {'loss_function': 'Logloss', 'eval_metric': 'AUC', 'early_stopping_rounds': 50, 'custom_metric': ['AUC', 'NDCG:top=10'], 'task_type': 'GPU', 'devices': '3,4,5', 'thread_count': -1}\n",
      "2025-05-05 18:30:08,102 - lavka_recsys.CatBoostClassifierModel - INFO - Sorting data by group_id for grouped ranking\n",
      "2025-05-05 18:30:11,586 - lavka_recsys.CatBoostClassifierModel - INFO - Converting 'user_segment' to string for CatBoost\n",
      "2025-05-05 18:30:11,626 - lavka_recsys.CatBoostClassifierModel - INFO - Converting 'city_name' to string for CatBoost\n",
      "2025-05-05 18:30:11,662 - lavka_recsys.CatBoostClassifierModel - INFO - Converting 'source_type' to string for CatBoost\n",
      "2025-05-05 18:30:13,396 - lavka_recsys.CatBoostClassifierModel - INFO - Training CatBoostClassifier model with columns: Index(['user_total_views', 'source_type', 'month', 'std_purchase_hour',\n",
      "       'session_unique_products', 'user_total_purchases', 'purchases_day_u_p',\n",
      "       'day_of_week_relevance', 'hour_of_day', 'user_unique_products',\n",
      "       'count_purchase_u_p', 'puresvd_cf_score', 'cart_to_purchase_rate',\n",
      "       'cf_score', 'session_duration_seconds', 'store_total_interactions',\n",
      "       'user_product_purchase_cross', 'session_purchases',\n",
      "       'product_unique_users', 'days_since_interaction_u_s',\n",
      "       'store_total_purchases', 'is_weekend', 'views_day_u_p',\n",
      "       'most_common_purchase_day', 'count_purchase_u_s', 'purchases_week_u_p',\n",
      "       'interactions_month_u_p', 'avg_purchase_hour',\n",
      "       'user_total_interactions', 'city_name', 'mean_interval_days',\n",
      "       'interactions_week_u_p', 'purchase_view_ratio',\n",
      "       'days_since_interaction_u_p', 'user_store_purchase_cross',\n",
      "       'city_total_purchases', 'city_total_interactions', 'ctr_product',\n",
      "       'hour_relevance', 'user_segment', 'session_unique_stores',\n",
      "       'product_total_views', 'day_of_week', 'purchases_month_u_p',\n",
      "       'interaction_trend', 'npmi_cf_score', 'product_total_purchases',\n",
      "       'user_product_store_cross', 'svd_cf_score', 'store_total_views',\n",
      "       'interactions_day_u_p', 'views_week_u_p', 'city_unique_stores',\n",
      "       'store_unique_products', 'purchase_trend', 'session_length',\n",
      "       'views_month_u_p', 'city_total_views', 'product_total_interactions'],\n",
      "      dtype='object') (cat_columns: ['user_segment', 'city_name', 'source_type'])\n"
     ]
    },
    {
     "data": {
      "application/vnd.jupyter.widget-view+json": {
       "model_id": "3957fbd4c2f44927bdbde5ef191f3d32",
       "version_major": 2,
       "version_minor": 0
      },
      "text/plain": [
       "MetricVisualizer(layout=Layout(align_self='stretch', height='500px'))"
      ]
     },
     "metadata": {},
     "output_type": "display_data"
    },
    {
     "name": "stderr",
     "output_type": "stream",
     "text": [
      "Warning: less than 75% GPU memory available for training. Free: 5240.5625 Total: 16004.8125\n",
      "Default metric period is 5 because AUC, NDCG is/are not implemented for GPU\n",
      "Metric NDCG:top=10;type=Base is not implemented on GPU. Will use CPU for metric computation, this could significantly affect learning time\n"
     ]
    },
    {
     "name": "stdout",
     "output_type": "stream",
     "text": [
      "2025-05-05 18:31:30,942 - lavka_recsys.Experiment(catboost_classifier_3f6423) - INFO - Training completed in 83.10s\n",
      "2025-05-05 18:31:30,949 - lavka_recsys.DataLoader - INFO - Holdout data merged back into training data.\n",
      "2025-05-05 18:31:31,020 - lavka_recsys.CachedFeatureFactory - INFO - Generating feature batch\n",
      "2025-05-05 18:31:31,021 - lavka_recsys.FeatureFactory - INFO - Invoking feature generators: source_type, count_purchase_user_product, count_purchase_user_store, ctr_product, cart_to_purchase_rate, purchase_view_ratio, recency_user_product, user_stats, product_stats, store_stats, city_stats, product_temporal_patterns, recency_user_store, time_features, time_window_user_product, session_features, frequency_features, product_popularity_trend, cross_features, user_segments, memory-based-cf, npmi-cf, puresvd-cf, svd-cf\n",
      "2025-05-05 18:32:54,839 - lavka_recsys.FeatureFactory - INFO - Joined features\n",
      "2025-05-05 18:32:54,843 - lavka_recsys.FeatureFactory - INFO - All column names: {'user_total_views', 'product_unique_users', 'city_name', 'ctr_product', 'city_total_purchases', 'session_unique_products', 'user_total_interactions', 'city_unique_stores', 'user_product_purchase_cross', 'month', 'interactions_day_u_p', 'mean_interval_days', 'most_common_purchase_day', 'interactions_month_u_p', 'count_purchase_u_p', 'cart_to_purchase_rate', 'city_total_views', 'npmi_cf_score', 'store_total_interactions', 'is_weekend', 'views_week_u_p', 'session_purchases', 'puresvd_cf_score', 'purchase_view_ratio', 'day_of_week', 'session_duration_seconds', 'interaction_trend', 'store_total_purchases', 'avg_purchase_hour', 'session_length', 'city_total_interactions', 'user_total_purchases', 'source_type', 'user_unique_products', 'days_since_interaction_u_s', 'user_segment', 'hour_of_day', 'std_purchase_hour', 'interactions_week_u_p', 'purchases_day_u_p', 'purchases_month_u_p', 'purchases_week_u_p', 'svd_cf_score', 'session_unique_stores', 'cf_score', 'product_total_interactions', 'hour_relevance', 'views_month_u_p', 'user_store_purchase_cross', 'user_product_store_cross', 'count_purchase_u_s', 'product_total_purchases', 'product_total_views', 'purchase_trend', 'store_total_views', 'day_of_week_relevance', 'days_since_interaction_u_p', 'store_unique_products', 'views_day_u_p'}\n",
      "2025-05-05 18:32:54,845 - lavka_recsys.FeatureFactory - INFO - All categorical column names: ['source_type', 'city_name', 'user_segment']\n",
      "2025-05-05 18:32:54,941 - lavka_recsys.CatBoostClassifierModel - INFO - Converting 'source_type' to string for CatBoost\n",
      "2025-05-05 18:32:54,956 - lavka_recsys.CatBoostClassifierModel - INFO - Converting 'city_name' to string for CatBoost\n",
      "2025-05-05 18:32:54,965 - lavka_recsys.CatBoostClassifierModel - INFO - Converting 'user_segment' to string for CatBoost\n",
      "2025-05-05 18:32:55,464 - lavka_recsys.Experiment(catboost_classifier_3f6423) - INFO - Submission saved: results/submissions/catboost_classifier_3f6423_submission.csv\n",
      "2025-05-05 18:32:55,496 - lavka_recsys.Experiment(catboost_classifier_3f6423) - INFO - Submission model saved: results/submissions/catboost_classifier_3f6423_model.pkl\n"
     ]
    },
    {
     "data": {
      "text/html": [
       "<div><style>\n",
       ".dataframe > thead > tr,\n",
       ".dataframe > tbody > tr {\n",
       "  text-align: right;\n",
       "  white-space: pre-wrap;\n",
       "}\n",
       "</style>\n",
       "<small>shape: (292_826, 2)</small><table border=\"1\" class=\"dataframe\"><thead><tr><th>index</th><th>request_id</th></tr><tr><td>u32</td><td>u64</td></tr></thead><tbody><tr><td>177</td><td>3019379937258044704</td></tr><tr><td>3452</td><td>14439634211702568835</td></tr><tr><td>23810</td><td>3019379937258044704</td></tr><tr><td>36411</td><td>14439634211702568835</td></tr><tr><td>41213</td><td>14439634211702568835</td></tr><tr><td>&hellip;</td><td>&hellip;</td></tr><tr><td>102967</td><td>3826735201843318451</td></tr><tr><td>201356</td><td>3826735201843318451</td></tr><tr><td>198443</td><td>5291459374113443837</td></tr><tr><td>118932</td><td>1084759691034249444</td></tr><tr><td>288805</td><td>1084759691034249444</td></tr></tbody></table></div>"
      ],
      "text/plain": [
       "shape: (292_826, 2)\n",
       "┌────────┬──────────────────────┐\n",
       "│ index  ┆ request_id           │\n",
       "│ ---    ┆ ---                  │\n",
       "│ u32    ┆ u64                  │\n",
       "╞════════╪══════════════════════╡\n",
       "│ 177    ┆ 3019379937258044704  │\n",
       "│ 3452   ┆ 14439634211702568835 │\n",
       "│ 23810  ┆ 3019379937258044704  │\n",
       "│ 36411  ┆ 14439634211702568835 │\n",
       "│ 41213  ┆ 14439634211702568835 │\n",
       "│ …      ┆ …                    │\n",
       "│ 102967 ┆ 3826735201843318451  │\n",
       "│ 201356 ┆ 3826735201843318451  │\n",
       "│ 198443 ┆ 5291459374113443837  │\n",
       "│ 118932 ┆ 1084759691034249444  │\n",
       "│ 288805 ┆ 1084759691034249444  │\n",
       "└────────┴──────────────────────┘"
      ]
     },
     "execution_count": 4,
     "metadata": {},
     "output_type": "execute_result"
    }
   ],
   "source": [
    "classifier_experiment.create_submission()"
   ]
  },
  {
   "cell_type": "markdown",
   "metadata": {},
   "source": [
    "Kaggle Public Score: `NDCG@10 = 0.40858`"
   ]
  },
  {
   "cell_type": "markdown",
   "metadata": {},
   "source": [
    "## CatBoost Ranker Experiment\n",
    "\n",
    "Run an experiment with CatBoost Ranker."
   ]
  },
  {
   "cell_type": "code",
   "execution_count": 5,
   "metadata": {},
   "outputs": [
    {
     "name": "stdout",
     "output_type": "stream",
     "text": [
      "2025-05-05 18:54:53,413 - lavka_recsys.Experiment(catboost_ranker_611ad3) - INFO - Initialized experiment: catboost_ranker_611ad3\n",
      "2025-05-05 18:54:53,423 - lavka_recsys.Experiment(catboost_ranker_611ad3) - INFO - Config saved: results/catboost_ranker_611ad3_config.json\n",
      "2025-05-05 18:54:53,436 - lavka_recsys.Experiment(catboost_ranker_611ad3) - INFO - Setting up experiment environment...\n",
      "2025-05-05 18:54:53,437 - lavka_recsys.DataLoader - INFO - Loading training data from ../../data/lavka/train.parquet\n"
     ]
    },
    {
     "name": "stdout",
     "output_type": "stream",
     "text": [
      "2025-05-05 18:54:53,798 - lavka_recsys.DataLoader - INFO - Loading test data from ../../data/lavka/test.parquet\n",
      "2025-05-05 18:54:54,012 - lavka_recsys.DataLoader - INFO - Holdout Split:\n",
      "2025-05-05 18:54:54,039 - lavka_recsys.DataLoader - INFO -   train: 2022-12-31 18:46:42 → 2024-01-03 17:31:52 (15_070_276 rows, 367 days)\n",
      "2025-05-05 18:54:54,044 - lavka_recsys.DataLoader - INFO -   holdout: 2024-01-03 17:56:48 → 2024-02-02 17:34:51 (1_438_338 rows, 29 days)\n",
      "2025-05-05 18:54:54,045 - lavka_recsys.Experiment(catboost_ranker_611ad3) - INFO - Setup complete.\n",
      "2025-05-05 18:54:54,047 - lavka_recsys.Experiment(catboost_ranker_611ad3) - INFO - Starting experiment run...\n",
      "2025-05-05 18:54:54,399 - lavka_recsys.DataLoader - INFO - Validation Split:\n",
      "2025-05-05 18:54:54,421 - lavka_recsys.DataLoader - INFO -   train_history: 2022-12-31 18:46:42 → 2023-11-04 17:16:23 (12_082_523 rows, 307 days)\n",
      "2025-05-05 18:54:54,425 - lavka_recsys.DataLoader - INFO -   train_target: 2023-11-04 18:19:12 → 2023-12-04 17:25:02 (1_498_126 rows, 29 days)\n",
      "2025-05-05 18:54:54,451 - lavka_recsys.DataLoader - INFO -   val_history: 2022-12-31 18:46:42 → 2023-12-04 17:25:02 (13_580_649 rows, 337 days)\n",
      "2025-05-05 18:54:54,456 - lavka_recsys.DataLoader - INFO -   val_target: 2023-12-04 18:02:13 → 2024-01-03 17:31:52 (1_489_627 rows, 29 days)\n",
      "2025-05-05 18:54:55,880 - lavka_recsys.CachedFeatureFactory - INFO - Using cached feature batch\n",
      "2025-05-05 18:54:57,124 - lavka_recsys.CachedFeatureFactory - INFO - Using cached feature batch\n",
      "2025-05-05 18:54:57,130 - lavka_recsys.ModelFactory - INFO - Creating catboost_ranker model with params: {'iterations': 300, 'loss_function': 'YetiRankPairwise', 'eval_metric': 'NDCG:top=10', 'early_stopping_rounds': 50, 'custom_metric': ['NDCG:top=10', 'PrecisionAt:top=10', 'RecallAt:top=10'], 'task_type': 'GPU', 'devices': '4,5', 'thread_count': -1}\n",
      "2025-05-05 18:54:57,407 - lavka_recsys.CatBoostRankerModel - INFO - Sorting data by group_id for grouped ranking\n",
      "2025-05-05 18:55:01,468 - lavka_recsys.CatBoostRankerModel - INFO - Sorting data by group_id for grouped ranking\n",
      "2025-05-05 18:55:04,927 - lavka_recsys.CatBoostRankerModel - INFO - Converting 'user_segment' to string for CatBoost\n",
      "2025-05-05 18:55:04,948 - lavka_recsys.CatBoostRankerModel - INFO - Converting 'city_name' to string for CatBoost\n",
      "2025-05-05 18:55:04,972 - lavka_recsys.CatBoostRankerModel - INFO - Converting 'source_type' to string for CatBoost\n",
      "2025-05-05 18:55:06,605 - lavka_recsys.CatBoostRankerModel - INFO - Converting 'user_segment' to string for CatBoost\n",
      "2025-05-05 18:55:06,626 - lavka_recsys.CatBoostRankerModel - INFO - Converting 'city_name' to string for CatBoost\n",
      "2025-05-05 18:55:06,645 - lavka_recsys.CatBoostRankerModel - INFO - Converting 'source_type' to string for CatBoost\n",
      "2025-05-05 18:55:08,152 - lavka_recsys.CatBoostRankerModel - INFO - Training CatBoostRanker model with columns: ['user_total_views', 'source_type', 'month', 'std_purchase_hour', 'session_unique_products', 'user_total_purchases', 'purchases_day_u_p', 'day_of_week_relevance', 'hour_of_day', 'user_unique_products', 'count_purchase_u_p', 'puresvd_cf_score', 'cart_to_purchase_rate', 'cf_score', 'session_duration_seconds', 'store_total_interactions', 'user_product_purchase_cross', 'session_purchases', 'product_unique_users', 'days_since_interaction_u_s', 'store_total_purchases', 'is_weekend', 'views_day_u_p', 'most_common_purchase_day', 'count_purchase_u_s', 'purchases_week_u_p', 'interactions_month_u_p', 'avg_purchase_hour', 'user_total_interactions', 'city_name', 'mean_interval_days', 'interactions_week_u_p', 'purchase_view_ratio', 'days_since_interaction_u_p', 'user_store_purchase_cross', 'city_total_purchases', 'city_total_interactions', 'ctr_product', 'hour_relevance', 'user_segment', 'session_unique_stores', 'product_total_views', 'day_of_week', 'purchases_month_u_p', 'interaction_trend', 'npmi_cf_score', 'product_total_purchases', 'user_product_store_cross', 'svd_cf_score', 'store_total_views', 'interactions_day_u_p', 'views_week_u_p', 'city_unique_stores', 'store_unique_products', 'purchase_trend', 'session_length', 'views_month_u_p', 'city_total_views', 'product_total_interactions'] (cat_columns: ['user_segment', 'city_name', 'source_type'])\n"
     ]
    },
    {
     "data": {
      "application/vnd.jupyter.widget-view+json": {
       "model_id": "3e5ba799f6c94a7584632dd1f2adcb8e",
       "version_major": 2,
       "version_minor": 0
      },
      "text/plain": [
       "MetricVisualizer(layout=Layout(align_self='stretch', height='500px'))"
      ]
     },
     "metadata": {},
     "output_type": "display_data"
    },
    {
     "name": "stderr",
     "output_type": "stream",
     "text": [
      "Default metric period is 5 because PFound, PrecisionAt, RecallAt, NDCG is/are not implemented for GPU\n",
      "Metric PFound is not implemented on GPU. Will use CPU for metric computation, this could significantly affect learning time\n",
      "Metric NDCG:top=10;type=Base is not implemented on GPU. Will use CPU for metric computation, this could significantly affect learning time\n",
      "Metric NDCG:top=10;type=Base is not implemented on GPU. Will use CPU for metric computation, this could significantly affect learning time\n",
      "Metric PrecisionAt:top=10 is not implemented on GPU. Will use CPU for metric computation, this could significantly affect learning time\n",
      "Metric RecallAt:top=10 is not implemented on GPU. Will use CPU for metric computation, this could significantly affect learning time\n"
     ]
    },
    {
     "name": "stdout",
     "output_type": "stream",
     "text": [
      "2025-05-05 18:55:48,449 - lavka_recsys.Experiment(catboost_ranker_611ad3) - INFO - Training completed in 51.32s\n",
      "2025-05-05 18:55:48,454 - lavka_recsys.Experiment(catboost_ranker_611ad3) - INFO - Evaluating on holdout.\n",
      "2025-05-05 18:55:49,698 - lavka_recsys.CachedFeatureFactory - INFO - Using cached feature batch\n",
      "2025-05-05 18:55:49,979 - lavka_recsys.CatBoostRankerModel - INFO - Sorting data by group_id for grouped ranking\n",
      "2025-05-05 18:55:52,842 - lavka_recsys.CatBoostRankerModel - INFO - Converting 'source_type' to string for CatBoost\n",
      "2025-05-05 18:55:52,866 - lavka_recsys.CatBoostRankerModel - INFO - Converting 'city_name' to string for CatBoost\n",
      "2025-05-05 18:55:52,886 - lavka_recsys.CatBoostRankerModel - INFO - Converting 'user_segment' to string for CatBoost\n",
      "2025-05-05 18:56:08,590 - lavka_recsys.Experiment(catboost_ranker_611ad3) - INFO - Run results saved: results/catboost_ranker_611ad3_results.json\n",
      "2025-05-05 18:56:08,593 - lavka_recsys.Experiment(catboost_ranker_611ad3) - INFO - Run finished and results saved.\n",
      "\n",
      "CatBoost Ranker Results (completed in 75.18 seconds):\n",
      "  auc: 0.796661\n",
      "  logloss: 1.109689\n",
      "  ndcg@10: 0.452561\n",
      "\n",
      "Top 10 Important Features:\n",
      "  source_type: 78.322564\n",
      "  purchase_view_ratio: 3.358576\n",
      "  hour_of_day: 2.782396\n",
      "  count_purchase_u_p: 2.747350\n",
      "  cf_score: 1.023112\n",
      "  days_since_interaction_u_s: 0.868969\n",
      "  count_purchase_u_s: 0.850243\n",
      "  purchases_month_u_p: 0.775251\n",
      "  cart_to_purchase_rate: 0.763102\n",
      "  puresvd_cf_score: 0.736117\n"
     ]
    }
   ],
   "source": [
    "ranker_experiment = Experiment(\"catboost_ranker\", (Config\n",
    "    .load('default_config.yaml')\n",
    "    .set('model.type', 'catboost_ranker')\n",
    "    .set('model.config.catboost_ranker.iterations', 300)\n",
    "))\n",
    "\n",
    "# Setup and run\n",
    "start_time = time.time()\n",
    "ranker_experiment.setup()\n",
    "ranker_results = ranker_experiment.run()\n",
    "ranker_time = time.time() - start_time\n",
    "\n",
    "# Print metrics\n",
    "print(f\"\\nCatBoost Ranker Results (completed in {ranker_time:.2f} seconds):\")\n",
    "for metric, value in ranker_results['metrics'].items():\n",
    "    print(f\"  {metric}: {value:.6f}\")\n",
    "\n",
    "# Print feature importance\n",
    "if 'feature_importance' in ranker_results:\n",
    "    print(\"\\nTop 10 Important Features:\")\n",
    "    top_features = sorted(ranker_results['feature_importance'].items(), \n",
    "                        key=lambda x: x[1], reverse=True)[:10]\n",
    "    for feature, importance in top_features:\n",
    "        print(f\"  {feature}: {importance:.6f}\")"
   ]
  },
  {
   "cell_type": "code",
   "execution_count": 6,
   "metadata": {},
   "outputs": [
    {
     "name": "stdout",
     "output_type": "stream",
     "text": [
      "2025-05-05 18:56:08,711 - lavka_recsys.Experiment(catboost_ranker_611ad3) - INFO - Computing predictions...\n",
      "2025-05-05 18:56:08,718 - lavka_recsys.DataLoader - INFO - Holdout data merged back into training data.\n",
      "2025-05-05 18:56:08,758 - lavka_recsys.DataLoader - INFO - Validation Split:\n",
      "2025-05-05 18:56:08,787 - lavka_recsys.DataLoader - INFO -   history: 2022-12-31 18:46:42 → 2024-01-03 17:31:52 (15_070_276 rows, 367 days)\n",
      "2025-05-05 18:56:08,792 - lavka_recsys.DataLoader - INFO -   target: 2024-01-03 17:56:48 → 2024-02-02 17:34:51 (1_438_338 rows, 29 days)\n",
      "2025-05-05 18:56:10,080 - lavka_recsys.CachedFeatureFactory - INFO - Using cached feature batch\n",
      "2025-05-05 18:56:10,083 - lavka_recsys.ModelFactory - INFO - Creating catboost_ranker model with params: {'iterations': 300, 'loss_function': 'YetiRankPairwise', 'eval_metric': 'NDCG:top=10', 'early_stopping_rounds': 50, 'custom_metric': ['NDCG:top=10', 'PrecisionAt:top=10', 'RecallAt:top=10'], 'task_type': 'GPU', 'devices': '4,5', 'thread_count': -1}\n",
      "2025-05-05 18:56:10,356 - lavka_recsys.CatBoostRankerModel - INFO - Sorting data by group_id for grouped ranking\n",
      "2025-05-05 18:56:14,079 - lavka_recsys.CatBoostRankerModel - INFO - Converting 'user_segment' to string for CatBoost\n",
      "2025-05-05 18:56:14,116 - lavka_recsys.CatBoostRankerModel - INFO - Converting 'city_name' to string for CatBoost\n",
      "2025-05-05 18:56:14,139 - lavka_recsys.CatBoostRankerModel - INFO - Converting 'source_type' to string for CatBoost\n",
      "2025-05-05 18:56:15,656 - lavka_recsys.CatBoostRankerModel - INFO - Training CatBoostRanker model with columns: ['user_total_views', 'source_type', 'month', 'std_purchase_hour', 'session_unique_products', 'user_total_purchases', 'purchases_day_u_p', 'day_of_week_relevance', 'hour_of_day', 'user_unique_products', 'count_purchase_u_p', 'puresvd_cf_score', 'cart_to_purchase_rate', 'cf_score', 'session_duration_seconds', 'store_total_interactions', 'user_product_purchase_cross', 'session_purchases', 'product_unique_users', 'days_since_interaction_u_s', 'store_total_purchases', 'is_weekend', 'views_day_u_p', 'most_common_purchase_day', 'count_purchase_u_s', 'purchases_week_u_p', 'interactions_month_u_p', 'avg_purchase_hour', 'user_total_interactions', 'city_name', 'mean_interval_days', 'interactions_week_u_p', 'purchase_view_ratio', 'days_since_interaction_u_p', 'user_store_purchase_cross', 'city_total_purchases', 'city_total_interactions', 'ctr_product', 'hour_relevance', 'user_segment', 'session_unique_stores', 'product_total_views', 'day_of_week', 'purchases_month_u_p', 'interaction_trend', 'npmi_cf_score', 'product_total_purchases', 'user_product_store_cross', 'svd_cf_score', 'store_total_views', 'interactions_day_u_p', 'views_week_u_p', 'city_unique_stores', 'store_unique_products', 'purchase_trend', 'session_length', 'views_month_u_p', 'city_total_views', 'product_total_interactions'] (cat_columns: ['user_segment', 'city_name', 'source_type'])\n"
     ]
    },
    {
     "data": {
      "application/vnd.jupyter.widget-view+json": {
       "model_id": "4fe664f6649f4222bea983f4cb2ce07f",
       "version_major": 2,
       "version_minor": 0
      },
      "text/plain": [
       "MetricVisualizer(layout=Layout(align_self='stretch', height='500px'))"
      ]
     },
     "metadata": {},
     "output_type": "display_data"
    },
    {
     "name": "stderr",
     "output_type": "stream",
     "text": [
      "Default metric period is 5 because PFound, PrecisionAt, RecallAt, NDCG is/are not implemented for GPU\n",
      "Metric PFound is not implemented on GPU. Will use CPU for metric computation, this could significantly affect learning time\n",
      "Metric NDCG:top=10;type=Base is not implemented on GPU. Will use CPU for metric computation, this could significantly affect learning time\n",
      "Metric NDCG:top=10;type=Base is not implemented on GPU. Will use CPU for metric computation, this could significantly affect learning time\n",
      "Metric PrecisionAt:top=10 is not implemented on GPU. Will use CPU for metric computation, this could significantly affect learning time\n",
      "Metric RecallAt:top=10 is not implemented on GPU. Will use CPU for metric computation, this could significantly affect learning time\n"
     ]
    },
    {
     "name": "stdout",
     "output_type": "stream",
     "text": [
      "2025-05-05 18:56:54,691 - lavka_recsys.Experiment(catboost_ranker_611ad3) - INFO - Training completed in 44.61s\n",
      "2025-05-05 18:56:54,697 - lavka_recsys.DataLoader - INFO - Holdout data merged back into training data.\n",
      "2025-05-05 18:56:54,755 - lavka_recsys.CachedFeatureFactory - INFO - Generating feature batch\n",
      "2025-05-05 18:56:54,756 - lavka_recsys.FeatureFactory - INFO - Invoking feature generators: source_type, count_purchase_user_product, count_purchase_user_store, ctr_product, cart_to_purchase_rate, purchase_view_ratio, recency_user_product, user_stats, product_stats, store_stats, city_stats, product_temporal_patterns, recency_user_store, time_features, time_window_user_product, session_features, frequency_features, product_popularity_trend, cross_features, user_segments, memory-based-cf, npmi-cf, puresvd-cf, svd-cf\n",
      "2025-05-05 18:58:23,838 - lavka_recsys.FeatureFactory - INFO - Joined features\n",
      "2025-05-05 18:58:23,841 - lavka_recsys.FeatureFactory - INFO - All column names: {'store_total_views', 'std_purchase_hour', 'store_unique_products', 'avg_purchase_hour', 'session_length', 'month', 'user_store_purchase_cross', 'purchases_month_u_p', 'is_weekend', 'purchases_week_u_p', 'hour_relevance', 'store_total_interactions', 'session_unique_products', 'user_product_purchase_cross', 'user_product_store_cross', 'city_total_interactions', 'product_unique_users', 'session_purchases', 'purchase_view_ratio', 'product_total_views', 'store_total_purchases', 'user_segment', 'npmi_cf_score', 'puresvd_cf_score', 'days_since_interaction_u_p', 'ctr_product', 'user_total_interactions', 'day_of_week', 'session_unique_stores', 'product_total_purchases', 'product_total_interactions', 'hour_of_day', 'views_day_u_p', 'interaction_trend', 'user_total_purchases', 'user_unique_products', 'user_total_views', 'count_purchase_u_s', 'city_total_views', 'city_unique_stores', 'count_purchase_u_p', 'day_of_week_relevance', 'purchases_day_u_p', 'mean_interval_days', 'cart_to_purchase_rate', 'city_total_purchases', 'most_common_purchase_day', 'city_name', 'interactions_day_u_p', 'views_week_u_p', 'views_month_u_p', 'days_since_interaction_u_s', 'session_duration_seconds', 'purchase_trend', 'cf_score', 'interactions_month_u_p', 'svd_cf_score', 'source_type', 'interactions_week_u_p'}\n",
      "2025-05-05 18:58:23,842 - lavka_recsys.FeatureFactory - INFO - All categorical column names: ['city_name', 'user_segment', 'source_type']\n",
      "2025-05-05 18:58:23,924 - lavka_recsys.CatBoostRankerModel - INFO - Sorting data by group_id for grouped ranking\n",
      "2025-05-05 18:58:24,169 - lavka_recsys.CatBoostRankerModel - INFO - Converting 'source_type' to string for CatBoost\n",
      "2025-05-05 18:58:24,177 - lavka_recsys.CatBoostRankerModel - INFO - Converting 'city_name' to string for CatBoost\n",
      "2025-05-05 18:58:24,184 - lavka_recsys.CatBoostRankerModel - INFO - Converting 'user_segment' to string for CatBoost\n",
      "2025-05-05 18:58:24,693 - lavka_recsys.Experiment(catboost_ranker_611ad3) - INFO - Submission saved: results/submissions/catboost_ranker_611ad3_submission.csv\n",
      "2025-05-05 18:58:24,743 - lavka_recsys.Experiment(catboost_ranker_611ad3) - INFO - Submission model saved: results/submissions/catboost_ranker_611ad3_model.pkl\n"
     ]
    },
    {
     "data": {
      "text/html": [
       "<div><style>\n",
       ".dataframe > thead > tr,\n",
       ".dataframe > tbody > tr {\n",
       "  text-align: right;\n",
       "  white-space: pre-wrap;\n",
       "}\n",
       "</style>\n",
       "<small>shape: (292_826, 2)</small><table border=\"1\" class=\"dataframe\"><thead><tr><th>index</th><th>request_id</th></tr><tr><td>u32</td><td>u64</td></tr></thead><tbody><tr><td>95970</td><td>18037997914549181289</td></tr><tr><td>30298</td><td>9569074287073451052</td></tr><tr><td>250864</td><td>9569074287073451052</td></tr><tr><td>196870</td><td>6482228966567928247</td></tr><tr><td>49</td><td>7031063856632495722</td></tr><tr><td>&hellip;</td><td>&hellip;</td></tr><tr><td>66172</td><td>18222817017553787800</td></tr><tr><td>170115</td><td>18222817017553787800</td></tr><tr><td>46261</td><td>10721779790431623309</td></tr><tr><td>173676</td><td>16484356581068129663</td></tr><tr><td>185520</td><td>16484356581068129663</td></tr></tbody></table></div>"
      ],
      "text/plain": [
       "shape: (292_826, 2)\n",
       "┌────────┬──────────────────────┐\n",
       "│ index  ┆ request_id           │\n",
       "│ ---    ┆ ---                  │\n",
       "│ u32    ┆ u64                  │\n",
       "╞════════╪══════════════════════╡\n",
       "│ 95970  ┆ 18037997914549181289 │\n",
       "│ 30298  ┆ 9569074287073451052  │\n",
       "│ 250864 ┆ 9569074287073451052  │\n",
       "│ 196870 ┆ 6482228966567928247  │\n",
       "│ 49     ┆ 7031063856632495722  │\n",
       "│ …      ┆ …                    │\n",
       "│ 66172  ┆ 18222817017553787800 │\n",
       "│ 170115 ┆ 18222817017553787800 │\n",
       "│ 46261  ┆ 10721779790431623309 │\n",
       "│ 173676 ┆ 16484356581068129663 │\n",
       "│ 185520 ┆ 16484356581068129663 │\n",
       "└────────┴──────────────────────┘"
      ]
     },
     "execution_count": 6,
     "metadata": {},
     "output_type": "execute_result"
    }
   ],
   "source": [
    "ranker_experiment.create_submission()"
   ]
  },
  {
   "cell_type": "markdown",
   "metadata": {},
   "source": [
    "Kaggle Public Score: `NDCG@10 = 0.40905`"
   ]
  },
  {
   "cell_type": "markdown",
   "metadata": {},
   "source": [
    "## 7. Feature Importance Comparison"
   ]
  },
  {
   "cell_type": "code",
   "execution_count": 10,
   "metadata": {},
   "outputs": [
    {
     "name": "stdout",
     "output_type": "stream",
     "text": [
      "Top 20 Features by Average Importance:\n"
     ]
    },
    {
     "data": {
      "text/html": [
       "<div>\n",
       "<style scoped>\n",
       "    .dataframe tbody tr th:only-of-type {\n",
       "        vertical-align: middle;\n",
       "    }\n",
       "\n",
       "    .dataframe tbody tr th {\n",
       "        vertical-align: top;\n",
       "    }\n",
       "\n",
       "    .dataframe thead th {\n",
       "        text-align: right;\n",
       "    }\n",
       "</style>\n",
       "<table border=\"1\" class=\"dataframe\">\n",
       "  <thead>\n",
       "    <tr style=\"text-align: right;\">\n",
       "      <th></th>\n",
       "      <th>Feature</th>\n",
       "      <th>Classifier Importance</th>\n",
       "      <th>Ranker Importance</th>\n",
       "      <th>Average Importance</th>\n",
       "    </tr>\n",
       "  </thead>\n",
       "  <tbody>\n",
       "    <tr>\n",
       "      <th>0</th>\n",
       "      <td>source_type</td>\n",
       "      <td>65.197461</td>\n",
       "      <td>78.322564</td>\n",
       "      <td>71.760012</td>\n",
       "    </tr>\n",
       "    <tr>\n",
       "      <th>1</th>\n",
       "      <td>purchase_view_ratio</td>\n",
       "      <td>4.724825</td>\n",
       "      <td>3.358576</td>\n",
       "      <td>4.041701</td>\n",
       "    </tr>\n",
       "    <tr>\n",
       "      <th>2</th>\n",
       "      <td>count_purchase_u_p</td>\n",
       "      <td>3.587317</td>\n",
       "      <td>2.747350</td>\n",
       "      <td>3.167333</td>\n",
       "    </tr>\n",
       "    <tr>\n",
       "      <th>3</th>\n",
       "      <td>hour_of_day</td>\n",
       "      <td>0.718127</td>\n",
       "      <td>2.782396</td>\n",
       "      <td>1.750261</td>\n",
       "    </tr>\n",
       "    <tr>\n",
       "      <th>4</th>\n",
       "      <td>purchases_month_u_p</td>\n",
       "      <td>2.384760</td>\n",
       "      <td>0.775251</td>\n",
       "      <td>1.580005</td>\n",
       "    </tr>\n",
       "    <tr>\n",
       "      <th>5</th>\n",
       "      <td>cf_score</td>\n",
       "      <td>1.410100</td>\n",
       "      <td>1.023112</td>\n",
       "      <td>1.216606</td>\n",
       "    </tr>\n",
       "    <tr>\n",
       "      <th>6</th>\n",
       "      <td>mean_interval_days</td>\n",
       "      <td>1.523780</td>\n",
       "      <td>0.642426</td>\n",
       "      <td>1.083103</td>\n",
       "    </tr>\n",
       "    <tr>\n",
       "      <th>7</th>\n",
       "      <td>user_total_views</td>\n",
       "      <td>1.422659</td>\n",
       "      <td>0.290614</td>\n",
       "      <td>0.856636</td>\n",
       "    </tr>\n",
       "    <tr>\n",
       "      <th>8</th>\n",
       "      <td>cart_to_purchase_rate</td>\n",
       "      <td>0.757468</td>\n",
       "      <td>0.763102</td>\n",
       "      <td>0.760285</td>\n",
       "    </tr>\n",
       "    <tr>\n",
       "      <th>9</th>\n",
       "      <td>svd_cf_score</td>\n",
       "      <td>0.862317</td>\n",
       "      <td>0.617547</td>\n",
       "      <td>0.739932</td>\n",
       "    </tr>\n",
       "    <tr>\n",
       "      <th>10</th>\n",
       "      <td>count_purchase_u_s</td>\n",
       "      <td>0.586990</td>\n",
       "      <td>0.850243</td>\n",
       "      <td>0.718616</td>\n",
       "    </tr>\n",
       "    <tr>\n",
       "      <th>11</th>\n",
       "      <td>user_total_interactions</td>\n",
       "      <td>1.218540</td>\n",
       "      <td>0.160384</td>\n",
       "      <td>0.689462</td>\n",
       "    </tr>\n",
       "    <tr>\n",
       "      <th>12</th>\n",
       "      <td>npmi_cf_score</td>\n",
       "      <td>1.199734</td>\n",
       "      <td>0.118696</td>\n",
       "      <td>0.659215</td>\n",
       "    </tr>\n",
       "    <tr>\n",
       "      <th>13</th>\n",
       "      <td>user_total_purchases</td>\n",
       "      <td>0.987326</td>\n",
       "      <td>0.301962</td>\n",
       "      <td>0.644644</td>\n",
       "    </tr>\n",
       "    <tr>\n",
       "      <th>14</th>\n",
       "      <td>puresvd_cf_score</td>\n",
       "      <td>0.511723</td>\n",
       "      <td>0.736117</td>\n",
       "      <td>0.623920</td>\n",
       "    </tr>\n",
       "    <tr>\n",
       "      <th>15</th>\n",
       "      <td>days_since_interaction_u_s</td>\n",
       "      <td>0.316107</td>\n",
       "      <td>0.868969</td>\n",
       "      <td>0.592538</td>\n",
       "    </tr>\n",
       "    <tr>\n",
       "      <th>16</th>\n",
       "      <td>views_month_u_p</td>\n",
       "      <td>0.775005</td>\n",
       "      <td>0.402325</td>\n",
       "      <td>0.588665</td>\n",
       "    </tr>\n",
       "    <tr>\n",
       "      <th>17</th>\n",
       "      <td>session_purchases</td>\n",
       "      <td>0.787948</td>\n",
       "      <td>0.154662</td>\n",
       "      <td>0.471305</td>\n",
       "    </tr>\n",
       "    <tr>\n",
       "      <th>18</th>\n",
       "      <td>user_unique_products</td>\n",
       "      <td>0.679750</td>\n",
       "      <td>0.226094</td>\n",
       "      <td>0.452922</td>\n",
       "    </tr>\n",
       "    <tr>\n",
       "      <th>19</th>\n",
       "      <td>purchases_week_u_p</td>\n",
       "      <td>0.707403</td>\n",
       "      <td>0.176334</td>\n",
       "      <td>0.441868</td>\n",
       "    </tr>\n",
       "  </tbody>\n",
       "</table>\n",
       "</div>"
      ],
      "text/plain": [
       "                       Feature  Classifier Importance  Ranker Importance  \\\n",
       "0                  source_type              65.197461          78.322564   \n",
       "1          purchase_view_ratio               4.724825           3.358576   \n",
       "2           count_purchase_u_p               3.587317           2.747350   \n",
       "3                  hour_of_day               0.718127           2.782396   \n",
       "4          purchases_month_u_p               2.384760           0.775251   \n",
       "5                     cf_score               1.410100           1.023112   \n",
       "6           mean_interval_days               1.523780           0.642426   \n",
       "7             user_total_views               1.422659           0.290614   \n",
       "8        cart_to_purchase_rate               0.757468           0.763102   \n",
       "9                 svd_cf_score               0.862317           0.617547   \n",
       "10          count_purchase_u_s               0.586990           0.850243   \n",
       "11     user_total_interactions               1.218540           0.160384   \n",
       "12               npmi_cf_score               1.199734           0.118696   \n",
       "13        user_total_purchases               0.987326           0.301962   \n",
       "14            puresvd_cf_score               0.511723           0.736117   \n",
       "15  days_since_interaction_u_s               0.316107           0.868969   \n",
       "16             views_month_u_p               0.775005           0.402325   \n",
       "17           session_purchases               0.787948           0.154662   \n",
       "18        user_unique_products               0.679750           0.226094   \n",
       "19          purchases_week_u_p               0.707403           0.176334   \n",
       "\n",
       "    Average Importance  \n",
       "0            71.760012  \n",
       "1             4.041701  \n",
       "2             3.167333  \n",
       "3             1.750261  \n",
       "4             1.580005  \n",
       "5             1.216606  \n",
       "6             1.083103  \n",
       "7             0.856636  \n",
       "8             0.760285  \n",
       "9             0.739932  \n",
       "10            0.718616  \n",
       "11            0.689462  \n",
       "12            0.659215  \n",
       "13            0.644644  \n",
       "14            0.623920  \n",
       "15            0.592538  \n",
       "16            0.588665  \n",
       "17            0.471305  \n",
       "18            0.452922  \n",
       "19            0.441868  "
      ]
     },
     "metadata": {},
     "output_type": "display_data"
    },
    {
     "data": {
      "image/png": "[encoded data removed]",
      "text/plain": [
       "<Figure size 1200x800 with 1 Axes>"
      ]
     },
     "metadata": {},
     "output_type": "display_data"
    }
   ],
   "source": [
    "# Compare feature importance between models\n",
    "if 'feature_importance' in classifier_results and 'feature_importance' in ranker_results:\n",
    "    # Get all features from both models\n",
    "    all_features = set(list(classifier_results['feature_importance'].keys()) + \n",
    "                        list(ranker_results['feature_importance'].keys()))\n",
    "    \n",
    "    # Create comparison dataframe\n",
    "    fi_comparison = {'Feature': []}\n",
    "    fi_comparison['Classifier Importance'] = []\n",
    "    fi_comparison['Ranker Importance'] = []\n",
    "    \n",
    "    for feature in all_features:\n",
    "        fi_comparison['Feature'].append(feature)\n",
    "        fi_comparison['Classifier Importance'].append(\n",
    "            classifier_results['feature_importance'].get(feature, 0))\n",
    "        fi_comparison['Ranker Importance'].append(\n",
    "            ranker_results['feature_importance'].get(feature, 0))\n",
    "        \n",
    "    # Convert to DataFrame and sort by average importance\n",
    "    fi_df = pd.DataFrame(fi_comparison)\n",
    "    fi_df['Average Importance'] = (fi_df['Classifier Importance'] + fi_df['Ranker Importance']) / 2\n",
    "    fi_df = fi_df.sort_values('Average Importance', ascending=False).reset_index(drop=True)\n",
    "    \n",
    "    # Save to results directory\n",
    "    # fi_df.to_csv(f\"{results_dir}/feature_importance_comparison.csv\", index=False)\n",
    "    \n",
    "    # Display top features\n",
    "    print(\"Top 20 Features by Average Importance:\")\n",
    "    display(fi_df.head(20))\n",
    "    \n",
    "    # Plot top 15 features\n",
    "    plt.figure(figsize=(12, 8))\n",
    "    top_n = 15\n",
    "    top_features = fi_df.head(top_n)\n",
    "    \n",
    "    x = range(len(top_features))\n",
    "    width = 0.35\n",
    "    \n",
    "    plt.barh([p + width/2 for p in x], top_features['Classifier Importance'], \n",
    "            height=width, label='Classifier', color='#3498db')\n",
    "    plt.barh([p - width/2 for p in x], top_features['Ranker Importance'], \n",
    "            height=width, label='Ranker', color='#e74c3c')\n",
    "    \n",
    "    plt.yticks(x, top_features['Feature'])\n",
    "    plt.xlabel('Importance')\n",
    "    plt.title(f'Top {top_n} Feature Importance Comparison')\n",
    "    plt.legend()\n",
    "    plt.tight_layout()\n",
    "    plt.show()"
   ]
  },
  {
   "cell_type": "code",
   "execution_count": null,
   "metadata": {},
   "outputs": [],
   "source": []
  }
 ],
 "metadata": {
  "kernelspec": {
   "display_name": "RS-venv",
   "language": "python",
   "name": "python3"
  },
  "language_info": {
   "codemirror_mode": {
    "name": "ipython",
    "version": 3
   },
   "file_extension": ".py",
   "mimetype": "text/x-python",
   "name": "python",
   "nbconvert_exporter": "python",
   "pygments_lexer": "ipython3",
   "version": "3.10.12"
  }
 },
 "nbformat": 4,
 "nbformat_minor": 4
}
