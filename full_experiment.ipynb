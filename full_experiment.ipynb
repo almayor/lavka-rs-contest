{
 "cells": [
  {
   "cell_type": "markdown",
   "metadata": {},
   "source": [
    "# Full Experiment with CatBoost Models\n",
    "\n",
    "This notebook runs a complete experiment using all available features with both CatBoostClassifier and CatBoostRanker models."
   ]
  },
  {
   "cell_type": "code",
   "execution_count": 1,
   "metadata": {},
   "outputs": [],
   "source": [
    "import os\n",
    "import polars as pl\n",
    "import pandas as pd\n",
    "import matplotlib.pyplot as plt\n",
    "import json\n",
    "import time\n",
    "\n",
    "from lavka_recsys import Config, Experiment, setup_logging"
   ]
  },
  {
   "cell_type": "code",
   "execution_count": 2,
   "metadata": {},
   "outputs": [
    {
     "data": {
      "text/plain": [
       "<Logger lavka_recsys (DEBUG)>"
      ]
     },
     "execution_count": 2,
     "metadata": {},
     "output_type": "execute_result"
    }
   ],
   "source": [
    "setup_logging()"
   ]
  },
  {
   "cell_type": "markdown",
   "metadata": {},
   "source": [
    "## Baseline Experiments"
   ]
  },
  {
   "cell_type": "markdown",
   "metadata": {},
   "source": [
    "First, let's see how well a model that outputs random predictions does."
   ]
  },
  {
   "cell_type": "code",
   "execution_count": null,
   "metadata": {},
   "outputs": [
    {
     "name": "stdout",
     "output_type": "stream",
     "text": [
      "2025-05-05 17:04:52,189 - lavka_recsys.Experiment(random_baseline_587898) - INFO - Initialized experiment: random_baseline_587898\n",
      "2025-05-05 17:04:52,198 - lavka_recsys.Experiment(random_baseline_587898) - INFO - Config saved: results/random_baseline_587898_config.json\n",
      "2025-05-05 17:04:52,199 - lavka_recsys.Experiment(random_baseline_587898) - INFO - Setting up experiment environment...\n",
      "2025-05-05 17:04:52,201 - lavka_recsys.DataLoader - INFO - Loading training data from ../../data/lavka/train.parquet\n"
     ]
    },
    {
     "name": "stdout",
     "output_type": "stream",
     "text": [
      "2025-05-05 17:04:52,508 - lavka_recsys.DataLoader - INFO - Loading test data from ../../data/lavka/test.parquet\n",
      "2025-05-05 17:04:52,924 - lavka_recsys.DataLoader - INFO - Holdout Split:\n",
      "2025-05-05 17:04:52,951 - lavka_recsys.DataLoader - INFO -   train: 2022-12-31 18:46:42 → 2024-01-03 17:31:52 (15_070_276 rows, 367 days)\n",
      "2025-05-05 17:04:52,955 - lavka_recsys.DataLoader - INFO -   holdout: 2024-01-03 17:56:48 → 2024-02-02 17:34:51 (1_438_338 rows, 29 days)\n",
      "2025-05-05 17:04:52,956 - lavka_recsys.Experiment(random_baseline_587898) - INFO - Setup complete.\n",
      "2025-05-05 17:04:52,957 - lavka_recsys.Experiment(random_baseline_587898) - INFO - Starting experiment run...\n",
      "2025-05-05 17:04:53,437 - lavka_recsys.DataLoader - INFO - Validation Split:\n",
      "2025-05-05 17:04:53,459 - lavka_recsys.DataLoader - INFO -   train_history: 2022-12-31 18:46:42 → 2023-11-04 17:16:23 (12_082_523 rows, 307 days)\n",
      "2025-05-05 17:04:53,463 - lavka_recsys.DataLoader - INFO -   train_target: 2023-11-04 18:19:12 → 2023-12-04 17:25:02 (1_498_126 rows, 29 days)\n",
      "2025-05-05 17:04:53,497 - lavka_recsys.DataLoader - INFO -   val_history: 2022-12-31 18:46:42 → 2023-12-04 17:25:02 (13_580_649 rows, 337 days)\n",
      "2025-05-05 17:04:53,504 - lavka_recsys.DataLoader - INFO -   val_target: 2023-12-04 18:02:13 → 2024-01-03 17:31:52 (1_489_627 rows, 29 days)\n",
      "2025-05-05 17:04:53,596 - lavka_recsys.CachedFeatureFactory - INFO - Using cached feature batch\n",
      "2025-05-05 17:04:53,695 - lavka_recsys.CachedFeatureFactory - INFO - Using cached feature batch\n",
      "2025-05-05 17:04:53,697 - lavka_recsys.ModelFactory - INFO - Creating random_baseline model with params: {'task_type': 'CPU', 'thread_count': -1}\n",
      "2025-05-05 17:04:53,698 - lavka_recsys.Experiment(random_baseline_587898) - INFO - Training completed in 0.00s\n",
      "2025-05-05 17:04:53,698 - lavka_recsys.Experiment(random_baseline_587898) - INFO - Evaluating on holdout.\n",
      "2025-05-05 17:04:53,795 - lavka_recsys.CachedFeatureFactory - INFO - Using cached feature batch\n",
      "2025-05-05 17:05:05,421 - lavka_recsys.Experiment(random_baseline_587898) - INFO - Run results saved: results/random_baseline_587898_results.json\n",
      "2025-05-05 17:05:05,422 - lavka_recsys.Experiment(random_baseline_587898) - INFO - Run finished and results saved.\n",
      "\n",
      "Random Baseline Results (completed in 13.24 seconds):\n",
      "  auc: 0.500740\n",
      "  logloss: 0.998270\n",
      "  ndcg@10: 0.367397\n"
     ]
    }
   ],
   "source": [
    "# Create experiment\n",
    "config = (Config\n",
    "    .load('default_config.yaml')\n",
    "    .set('feature_generators', ['random_noise'])\n",
    "    .set('model.type', 'random_baseline')\n",
    ")\n",
    "random_experiment = Experiment(\"random_baseline\", config)\n",
    "\n",
    "# Setup and run\n",
    "start_time = time.time()\n",
    "random_experiment.setup()\n",
    "random_results = random_experiment.run()\n",
    "random_time = time.time() - start_time\n",
    "\n",
    "# Print metrics\n",
    "print(f\"\\nRandom Baseline Results (completed in {random_time:.2f} seconds):\")\n",
    "for metric, value in random_results['metrics'].items():\n",
    "    print(f\"  {metric}: {value:.6f}\")"
   ]
  },
  {
   "cell_type": "code",
   "execution_count": 4,
   "metadata": {},
   "outputs": [],
   "source": [
    "# random_experiment.create_submission()"
   ]
  },
  {
   "cell_type": "markdown",
   "metadata": {},
   "source": [
    "Kaggle Public Score = `0.30071`."
   ]
  },
  {
   "cell_type": "markdown",
   "metadata": {},
   "source": [
    "Now let's consider a baseline that only considers popularity (i.e. `product_total_purchases`)."
   ]
  },
  {
   "cell_type": "code",
   "execution_count": null,
   "metadata": {},
   "outputs": [
    {
     "name": "stdout",
     "output_type": "stream",
     "text": [
      "2025-05-05 17:05:05,667 - lavka_recsys.Experiment(popularity_baseline_03697e) - INFO - Initialized experiment: popularity_baseline_03697e\n",
      "2025-05-05 17:05:05,674 - lavka_recsys.Experiment(popularity_baseline_03697e) - INFO - Config saved: results/popularity_baseline_03697e_config.json\n",
      "2025-05-05 17:05:05,675 - lavka_recsys.Experiment(popularity_baseline_03697e) - INFO - Setting up experiment environment...\n",
      "2025-05-05 17:05:05,677 - lavka_recsys.DataLoader - INFO - Loading training data from ../../data/lavka/train.parquet\n"
     ]
    },
    {
     "name": "stdout",
     "output_type": "stream",
     "text": [
      "2025-05-05 17:05:06,006 - lavka_recsys.DataLoader - INFO - Loading test data from ../../data/lavka/test.parquet\n",
      "2025-05-05 17:05:06,297 - lavka_recsys.DataLoader - INFO - Holdout Split:\n",
      "2025-05-05 17:05:06,324 - lavka_recsys.DataLoader - INFO -   train: 2022-12-31 18:46:42 → 2024-01-03 17:31:52 (15_070_276 rows, 367 days)\n",
      "2025-05-05 17:05:06,328 - lavka_recsys.DataLoader - INFO -   holdout: 2024-01-03 17:56:48 → 2024-02-02 17:34:51 (1_438_338 rows, 29 days)\n",
      "2025-05-05 17:05:06,329 - lavka_recsys.Experiment(popularity_baseline_03697e) - INFO - Setup complete.\n",
      "2025-05-05 17:05:06,330 - lavka_recsys.Experiment(popularity_baseline_03697e) - INFO - Starting experiment run...\n",
      "2025-05-05 17:05:06,725 - lavka_recsys.DataLoader - INFO - Validation Split:\n",
      "2025-05-05 17:05:06,745 - lavka_recsys.DataLoader - INFO -   train_history: 2022-12-31 18:46:42 → 2023-11-04 17:16:23 (12_082_523 rows, 307 days)\n",
      "2025-05-05 17:05:06,749 - lavka_recsys.DataLoader - INFO -   train_target: 2023-11-04 18:19:12 → 2023-12-04 17:25:02 (1_498_126 rows, 29 days)\n",
      "2025-05-05 17:05:06,773 - lavka_recsys.DataLoader - INFO -   val_history: 2022-12-31 18:46:42 → 2023-12-04 17:25:02 (13_580_649 rows, 337 days)\n",
      "2025-05-05 17:05:06,777 - lavka_recsys.DataLoader - INFO -   val_target: 2023-12-04 18:02:13 → 2024-01-03 17:31:52 (1_489_627 rows, 29 days)\n",
      "2025-05-05 17:05:06,897 - lavka_recsys.CachedFeatureFactory - INFO - Using cached feature batch\n",
      "2025-05-05 17:05:06,997 - lavka_recsys.CachedFeatureFactory - INFO - Using cached feature batch\n",
      "2025-05-05 17:05:06,999 - lavka_recsys.ModelFactory - INFO - Creating single_feature model with params: {'feature_name': 'product_total_purchases', 'desc': True, 'task_type': 'CPU', 'thread_count': -1}\n",
      "2025-05-05 17:05:07,000 - lavka_recsys.Experiment(popularity_baseline_03697e) - INFO - Training completed in 0.00s\n",
      "2025-05-05 17:05:07,001 - lavka_recsys.Experiment(popularity_baseline_03697e) - INFO - Evaluating on holdout.\n",
      "2025-05-05 17:05:07,101 - lavka_recsys.CachedFeatureFactory - INFO - Using cached feature batch\n",
      "2025-05-05 17:05:18,649 - lavka_recsys.Experiment(popularity_baseline_03697e) - INFO - Run results saved: results/popularity_baseline_03697e_results.json\n",
      "2025-05-05 17:05:18,653 - lavka_recsys.Experiment(popularity_baseline_03697e) - INFO - Run finished and results saved.\n",
      "\n",
      "Popularity Baseline Results (completed in 13.02 seconds):\n",
      "  auc: 0.612540\n",
      "  logloss: 31.678228\n",
      "  ndcg@10: 0.395567\n"
     ]
    }
   ],
   "source": [
    "# Create experiment\n",
    "config = (Config\n",
    "    .load('default_config.yaml')\n",
    "    .set('feature_generators', ['product_stats'])\n",
    "    .set('model.type', 'single_feature')\n",
    "    .set('model.config.single_feature.feature_name', 'product_total_purchases')\n",
    "    .set('model.config.single_feature.desc', True)\n",
    ")\n",
    "pop_experiment = Experiment(\n",
    "    \"popularity_baseline\",\n",
    "    config\n",
    ")\n",
    "\n",
    "# Setup and run\n",
    "start_time = time.time()\n",
    "pop_experiment.setup()\n",
    "pop_results = pop_experiment.run()\n",
    "pop_time = time.time() - start_time\n",
    "\n",
    "# Print metrics\n",
    "print(f\"\\nPopularity Baseline Results (completed in {pop_time:.2f} seconds):\")\n",
    "for metric, value in pop_results['metrics'].items():\n",
    "    print(f\"  {metric}: {value:.6f}\")"
   ]
  },
  {
   "cell_type": "code",
   "execution_count": 7,
   "metadata": {},
   "outputs": [],
   "source": [
    "# pop_experiment.create_submission()"
   ]
  },
  {
   "cell_type": "markdown",
   "metadata": {},
   "source": [
    "Kaggle Public Score = `0.33188`."
   ]
  },
  {
   "cell_type": "markdown",
   "metadata": {},
   "source": [
    "## CatBoost Classifier Experiment\n",
    "\n",
    "Run an experiment with CatBoost Classifier."
   ]
  },
  {
   "cell_type": "code",
   "execution_count": 6,
   "metadata": {},
   "outputs": [
    {
     "name": "stdout",
     "output_type": "stream",
     "text": [
      "2025-05-05 23:21:34,439 - lavka_recsys.Experiment(catboost_classifier_05fa4e) - INFO - Initialized experiment: catboost_classifier_05fa4e\n",
      "2025-05-05 23:21:34,452 - lavka_recsys.Experiment(catboost_classifier_05fa4e) - INFO - Config saved: results/catboost_classifier_05fa4e_config.json\n",
      "2025-05-05 23:21:34,453 - lavka_recsys.Experiment(catboost_classifier_05fa4e) - INFO - Setting up experiment environment...\n",
      "2025-05-05 23:21:34,455 - lavka_recsys.DataLoader - INFO - Loading training data from ../../data/lavka/train.parquet\n"
     ]
    },
    {
     "name": "stdout",
     "output_type": "stream",
     "text": [
      "2025-05-05 23:21:34,762 - lavka_recsys.DataLoader - INFO - Loading test data from ../../data/lavka/test.parquet\n",
      "2025-05-05 23:21:34,990 - lavka_recsys.DataLoader - INFO - Holdout Split:\n",
      "2025-05-05 23:21:35,019 - lavka_recsys.DataLoader - INFO -   train: 2022-12-31 18:46:42 → 2024-01-03 17:31:52 (15_070_276 rows, 367 days)\n",
      "2025-05-05 23:21:35,022 - lavka_recsys.DataLoader - INFO -   holdout: 2024-01-03 17:56:48 → 2024-02-02 17:34:51 (1_438_338 rows, 29 days)\n",
      "2025-05-05 23:21:35,023 - lavka_recsys.Experiment(catboost_classifier_05fa4e) - INFO - Setup complete.\n",
      "2025-05-05 23:21:35,025 - lavka_recsys.Experiment(catboost_classifier_05fa4e) - INFO - Starting experiment run...\n",
      "2025-05-05 23:21:35,358 - lavka_recsys.DataLoader - INFO - Validation Split:\n",
      "2025-05-05 23:21:35,382 - lavka_recsys.DataLoader - INFO -   train_history: 2022-12-31 18:46:42 → 2023-11-04 17:16:23 (12_082_523 rows, 307 days)\n",
      "2025-05-05 23:21:35,386 - lavka_recsys.DataLoader - INFO -   train_target: 2023-11-04 18:19:12 → 2023-12-04 17:25:02 (1_498_126 rows, 29 days)\n",
      "2025-05-05 23:21:35,415 - lavka_recsys.DataLoader - INFO -   val_history: 2022-12-31 18:46:42 → 2023-12-04 17:25:02 (13_580_649 rows, 337 days)\n",
      "2025-05-05 23:21:35,419 - lavka_recsys.DataLoader - INFO -   val_target: 2023-12-04 18:02:13 → 2024-01-03 17:31:52 (1_489_627 rows, 29 days)\n",
      "2025-05-05 23:21:36,988 - lavka_recsys.CachedFeatureFactory - INFO - Using cached feature batch\n",
      "2025-05-05 23:21:38,321 - lavka_recsys.CachedFeatureFactory - INFO - Using cached feature batch\n",
      "2025-05-05 23:21:38,326 - lavka_recsys.ModelFactory - INFO - Creating catboost_classifier model with params: {'loss_function': 'Logloss', 'eval_metric': 'NDCG:top=10', 'early_stopping_rounds': 50, 'custom_metric': ['AUC'], 'iterations': 500, 'learning_rate': 0.1, 'depth': 6, 'l2_leaf_reg': 3.0, 'task_type': 'GPU', 'devices': '4,5', 'thread_count': -1}\n",
      "2025-05-05 23:21:38,548 - lavka_recsys.CatBoostClassifierModel - INFO - Sorting data by group_id for grouped ranking\n",
      "2025-05-05 23:21:42,606 - lavka_recsys.CatBoostClassifierModel - INFO - Sorting data by group_id for grouped ranking\n",
      "2025-05-05 23:21:46,169 - lavka_recsys.CatBoostClassifierModel - INFO - Converting 'city_name' to string for CatBoost\n",
      "2025-05-05 23:21:46,192 - lavka_recsys.CatBoostClassifierModel - INFO - Converting 'user_segment' to string for CatBoost\n",
      "2025-05-05 23:21:46,215 - lavka_recsys.CatBoostClassifierModel - INFO - Converting 'source_type' to string for CatBoost\n",
      "2025-05-05 23:21:47,767 - lavka_recsys.CatBoostClassifierModel - INFO - Converting 'city_name' to string for CatBoost\n",
      "2025-05-05 23:21:47,787 - lavka_recsys.CatBoostClassifierModel - INFO - Converting 'user_segment' to string for CatBoost\n",
      "2025-05-05 23:21:47,807 - lavka_recsys.CatBoostClassifierModel - INFO - Converting 'source_type' to string for CatBoost\n",
      "2025-05-05 23:21:49,416 - lavka_recsys.CatBoostClassifierModel - INFO - Training CatBoostClassifier model with columns: Index(['city_total_purchases', 'hour_of_day_sin', 'month_sin',\n",
      "       'user_total_interactions', 'interaction_trend', 'svd_cf_score',\n",
      "       'views_week_u_p', 'views_month_u_p', 'product_total_interactions',\n",
      "       'session_purchases', 'is_weekend', 'purchases_week_u_p',\n",
      "       'session_duration_seconds', 'store_total_purchases', 'npmi_cf_score',\n",
      "       'session_unique_products', 'puresvd_cf_score', 'day_of_week_sin',\n",
      "       'mean_interval_days', 'purchases_month_u_p', 'session_length',\n",
      "       'hour_relevance', 'store_total_interactions', 'product_total_purchases',\n",
      "       'count_purchase_u_s', 'views_day_u_p', 'cart_to_purchase_rate',\n",
      "       'interactions_week_u_p', 'days_since_interaction_u_p',\n",
      "       'product_total_views', 'product_unique_users',\n",
      "       'user_product_store_cross', 'cf_score', 'user_segment',\n",
      "       'city_total_views', 'purchases_day_u_p', 'bpr_popular_score',\n",
      "       'most_common_purchase_day', 'session_unique_stores',\n",
      "       'user_product_purchase_cross', 'user_unique_products', 'city_name',\n",
      "       'city_unique_stores', 'days_since_interaction_u_s',\n",
      "       'city_total_interactions', 'interactions_day_u_p',\n",
      "       'user_total_purchases', 'user_total_views', 'interactions_month_u_p',\n",
      "       'store_total_views', 'store_unique_products', 'purchase_trend',\n",
      "       'user_store_purchase_cross', 'day_of_week_relevance',\n",
      "       'count_purchase_u_p', 'purchase_view_ratio', 'ctr_product',\n",
      "       'source_type', 'std_purchase_hour', 'avg_purchase_hour'],\n",
      "      dtype='object') (cat_columns: ['city_name', 'user_segment', 'source_type'])\n"
     ]
    },
    {
     "data": {
      "application/vnd.jupyter.widget-view+json": {
       "model_id": "ac777f2569cb48cdac397567ccebe1dd",
       "version_major": 2,
       "version_minor": 0
      },
      "text/plain": [
       "MetricVisualizer(layout=Layout(align_self='stretch', height='500px'))"
      ]
     },
     "metadata": {},
     "output_type": "display_data"
    },
    {
     "name": "stderr",
     "output_type": "stream",
     "text": [
      "Default metric period is 5 because AUC, NDCG is/are not implemented for GPU\n",
      "Metric NDCG:top=10;type=Base is not implemented on GPU. Will use CPU for metric computation, this could significantly affect learning time\n"
     ]
    },
    {
     "name": "stdout",
     "output_type": "stream",
     "text": [
      "2025-05-05 23:22:15,738 - lavka_recsys.Experiment(catboost_classifier_05fa4e) - INFO - Training completed in 37.41s\n",
      "2025-05-05 23:22:15,742 - lavka_recsys.Experiment(catboost_classifier_05fa4e) - INFO - Evaluating on holdout.\n",
      "2025-05-05 23:22:17,151 - lavka_recsys.CachedFeatureFactory - INFO - Using cached feature batch\n",
      "2025-05-05 23:22:17,379 - lavka_recsys.CatBoostClassifierModel - INFO - Converting 'user_segment' to string for CatBoost\n",
      "2025-05-05 23:22:17,415 - lavka_recsys.CatBoostClassifierModel - INFO - Converting 'city_name' to string for CatBoost\n",
      "2025-05-05 23:22:17,436 - lavka_recsys.CatBoostClassifierModel - INFO - Converting 'source_type' to string for CatBoost\n",
      "2025-05-05 23:22:32,059 - lavka_recsys.Experiment(catboost_classifier_05fa4e) - INFO - Run results saved: results/catboost_classifier_05fa4e_results.json\n",
      "2025-05-05 23:22:32,061 - lavka_recsys.Experiment(catboost_classifier_05fa4e) - INFO - Run finished and results saved.\n",
      "\n",
      "CatBoost Classifier Results:\n",
      "  auc: 0.852456\n",
      "  logloss: 0.083363\n",
      "  ndcg@10: 0.483261\n",
      "\n",
      "Top 10 Important Features:\n",
      "  source_type: 66.951228\n",
      "  purchase_view_ratio: 4.511302\n",
      "  count_purchase_u_p: 4.048052\n",
      "  purchases_month_u_p: 2.470713\n",
      "  npmi_cf_score: 1.720794\n",
      "  mean_interval_days: 1.589401\n",
      "  user_total_interactions: 1.537934\n",
      "  user_total_purchases: 1.149126\n",
      "  user_total_views: 1.143374\n",
      "  cf_score: 0.997711\n"
     ]
    }
   ],
   "source": [
    "classifier_experiment = Experiment(\"catboost_classifier\", (Config\n",
    "    .load('default_config.yaml')\n",
    "    .set('model.type', 'catboost_classifier')\n",
    "))\n",
    "\n",
    "# Setup and run\n",
    "classifier_experiment.setup()\n",
    "classifier_results = classifier_experiment.run()\n",
    "\n",
    "# Print metrics\n",
    "print(f\"\\nCatBoost Classifier Results:\")\n",
    "for metric, value in classifier_results['metrics'].items():\n",
    "    print(f\"  {metric}: {value:.6f}\")\n",
    "\n",
    "# Print feature importance\n",
    "if 'feature_importance' in classifier_results:\n",
    "    print(\"\\nTop 10 Important Features:\")\n",
    "    top_features = sorted(classifier_results['feature_importance'].items(), \n",
    "                        key=lambda x: x[1], reverse=True)[:10]\n",
    "    for feature, importance in top_features:\n",
    "        print(f\"  {feature}: {importance:.6f}\")"
   ]
  },
  {
   "cell_type": "code",
   "execution_count": 6,
   "metadata": {},
   "outputs": [
    {
     "name": "stdout",
     "output_type": "stream",
     "text": [
      "2025-05-05 21:17:27,157 - lavka_recsys.Experiment(catboost_classifier_ebe53b) - INFO - Computing predictions...\n",
      "2025-05-05 21:17:27,163 - lavka_recsys.DataLoader - INFO - Holdout data merged back into training data.\n",
      "2025-05-05 21:17:27,198 - lavka_recsys.DataLoader - INFO - Validation Split:\n",
      "2025-05-05 21:17:27,228 - lavka_recsys.DataLoader - INFO -   history: 2022-12-31 18:46:42 → 2024-01-03 17:31:52 (15_070_276 rows, 367 days)\n",
      "2025-05-05 21:17:27,232 - lavka_recsys.DataLoader - INFO -   target: 2024-01-03 17:56:48 → 2024-02-02 17:34:51 (1_438_338 rows, 29 days)\n",
      "2025-05-05 21:17:28,350 - lavka_recsys.CachedFeatureFactory - INFO - Using cached feature batch\n",
      "2025-05-05 21:17:28,352 - lavka_recsys.ModelFactory - INFO - Creating catboost_classifier model with params: {'loss_function': 'Logloss', 'eval_metric': 'AUC', 'early_stopping_rounds': 50, 'custom_metric': ['AUC', 'NDCG:top=10'], 'task_type': 'GPU', 'devices': '4,5', 'thread_count': -1}\n",
      "2025-05-05 21:17:28,599 - lavka_recsys.CatBoostClassifierModel - INFO - Sorting data by group_id for grouped ranking\n",
      "2025-05-05 21:17:31,757 - lavka_recsys.CatBoostClassifierModel - INFO - Converting 'user_segment' to string for CatBoost\n",
      "2025-05-05 21:17:31,778 - lavka_recsys.CatBoostClassifierModel - INFO - Converting 'city_name' to string for CatBoost\n",
      "2025-05-05 21:17:31,801 - lavka_recsys.CatBoostClassifierModel - INFO - Converting 'source_type' to string for CatBoost\n",
      "2025-05-05 21:17:33,326 - lavka_recsys.CatBoostClassifierModel - INFO - Training CatBoostClassifier model with columns: Index(['user_total_purchases', 'product_total_purchases', 'is_weekend',\n",
      "       'user_product_purchase_cross', 'views_month_u_p', 'user_total_views',\n",
      "       'interactions_week_u_p', 'std_purchase_hour', 'day_of_week',\n",
      "       'session_purchases', 'count_purchase_u_s', 'user_product_store_cross',\n",
      "       'mean_interval_days', 'purchase_trend', 'product_total_views',\n",
      "       'source_type', 'session_unique_stores', 'purchase_view_ratio',\n",
      "       'purchases_week_u_p', 'cf_score', 'session_unique_products',\n",
      "       'hour_of_day', 'product_total_interactions', 'session_length',\n",
      "       'city_total_views', 'days_since_interaction_u_s',\n",
      "       'interactions_day_u_p', 'user_segment', 'month', 'purchases_month_u_p',\n",
      "       'user_store_purchase_cross', 'user_total_interactions',\n",
      "       'store_total_interactions', 'most_common_purchase_day',\n",
      "       'days_since_interaction_u_p', 'product_unique_users', 'views_week_u_p',\n",
      "       'svd_cf_score', 'city_name', 'bpr_popular_score', 'count_purchase_u_p',\n",
      "       'city_unique_stores', 'session_duration_seconds', 'avg_purchase_hour',\n",
      "       'store_total_purchases', 'hour_relevance', 'interactions_month_u_p',\n",
      "       'user_unique_products', 'npmi_cf_score', 'ctr_product',\n",
      "       'store_total_views', 'interaction_trend', 'purchases_day_u_p',\n",
      "       'city_total_interactions', 'day_of_week_relevance', 'puresvd_cf_score',\n",
      "       'views_day_u_p', 'city_total_purchases', 'store_unique_products',\n",
      "       'cart_to_purchase_rate'],\n",
      "      dtype='object') (cat_columns: ['user_segment', 'city_name', 'source_type'])\n"
     ]
    },
    {
     "data": {
      "application/vnd.jupyter.widget-view+json": {
       "model_id": "e56fac232a204993bc3191e9e3384ecf",
       "version_major": 2,
       "version_minor": 0
      },
      "text/plain": [
       "MetricVisualizer(layout=Layout(align_self='stretch', height='500px'))"
      ]
     },
     "metadata": {},
     "output_type": "display_data"
    },
    {
     "name": "stderr",
     "output_type": "stream",
     "text": [
      "Default metric period is 5 because AUC, NDCG is/are not implemented for GPU\n",
      "Metric NDCG:top=10;type=Base is not implemented on GPU. Will use CPU for metric computation, this could significantly affect learning time\n"
     ]
    },
    {
     "name": "stdout",
     "output_type": "stream",
     "text": [
      "2025-05-05 21:18:26,595 - lavka_recsys.Experiment(catboost_classifier_ebe53b) - INFO - Training completed in 58.24s\n",
      "2025-05-05 21:18:26,600 - lavka_recsys.DataLoader - INFO - Holdout data merged back into training data.\n",
      "2025-05-05 21:18:26,633 - lavka_recsys.CachedFeatureFactory - INFO - Generating feature batch\n",
      "2025-05-05 21:18:26,636 - lavka_recsys.FeatureFactory - INFO - Invoking feature generators: source_type, count_purchase_user_product, count_purchase_user_store, ctr_product, cart_to_purchase_rate, purchase_view_ratio, recency_user_product, user_stats, product_stats, store_stats, city_stats, product_temporal_patterns, recency_user_store, time_features, time_window_user_product, session_features, frequency_features, product_popularity_trend, cross_features, user_segments, memory-based-cf, npmi-cf, puresvd-cf, svd-cf, bpr-popular\n"
     ]
    },
    {
     "data": {
      "application/vnd.jupyter.widget-view+json": {
       "model_id": "22598992b72244e38b219d63559430ef",
       "version_major": 2,
       "version_minor": 0
      },
      "text/plain": [
       "  0%|          | 0/100 [00:00<?, ?it/s]"
      ]
     },
     "metadata": {},
     "output_type": "display_data"
    },
    {
     "data": {
      "application/vnd.jupyter.widget-view+json": {
       "model_id": "b3ed070c5311413bba6e91608730d172",
       "version_major": 2,
       "version_minor": 0
      },
      "text/plain": [
       "BPR processing:   0%|          | 0/807 [00:00<?, ?it/s]"
      ]
     },
     "metadata": {},
     "output_type": "display_data"
    },
    {
     "name": "stdout",
     "output_type": "stream",
     "text": [
      "2025-05-05 21:19:58,736 - lavka_recsys.FeatureFactory - INFO - Joined features\n",
      "2025-05-05 21:19:58,737 - lavka_recsys.FeatureFactory - INFO - All column names: {'user_total_purchases', 'product_total_purchases', 'is_weekend', 'user_product_purchase_cross', 'views_month_u_p', 'user_total_views', 'interactions_week_u_p', 'std_purchase_hour', 'day_of_week', 'session_purchases', 'count_purchase_u_s', 'user_product_store_cross', 'mean_interval_days', 'purchase_trend', 'product_total_views', 'source_type', 'session_unique_stores', 'purchase_view_ratio', 'purchases_week_u_p', 'cf_score', 'session_unique_products', 'hour_of_day', 'product_total_interactions', 'session_length', 'city_total_views', 'days_since_interaction_u_s', 'interactions_day_u_p', 'user_segment', 'month', 'purchases_month_u_p', 'user_store_purchase_cross', 'user_total_interactions', 'store_total_interactions', 'most_common_purchase_day', 'days_since_interaction_u_p', 'product_unique_users', 'views_week_u_p', 'svd_cf_score', 'city_name', 'bpr_popular_score', 'count_purchase_u_p', 'city_unique_stores', 'session_duration_seconds', 'avg_purchase_hour', 'store_total_purchases', 'hour_relevance', 'interactions_month_u_p', 'user_unique_products', 'npmi_cf_score', 'ctr_product', 'store_total_views', 'interaction_trend', 'purchases_day_u_p', 'city_total_interactions', 'day_of_week_relevance', 'puresvd_cf_score', 'views_day_u_p', 'city_total_purchases', 'store_unique_products', 'cart_to_purchase_rate'}\n",
      "2025-05-05 21:19:58,738 - lavka_recsys.FeatureFactory - INFO - All categorical column names: ['user_segment', 'city_name', 'source_type']\n",
      "2025-05-05 21:19:59,177 - lavka_recsys.CatBoostClassifierModel - INFO - Converting 'source_type' to string for CatBoost\n",
      "2025-05-05 21:19:59,184 - lavka_recsys.CatBoostClassifierModel - INFO - Converting 'user_segment' to string for CatBoost\n",
      "2025-05-05 21:19:59,190 - lavka_recsys.CatBoostClassifierModel - INFO - Converting 'city_name' to string for CatBoost\n",
      "2025-05-05 21:19:59,681 - lavka_recsys.Experiment(catboost_classifier_ebe53b) - INFO - Submission saved: results/submissions/catboost_classifier_ebe53b_submission.csv\n",
      "2025-05-05 21:19:59,730 - lavka_recsys.Experiment(catboost_classifier_ebe53b) - INFO - Submission model saved: results/submissions/catboost_classifier_ebe53b_model.pkl\n"
     ]
    },
    {
     "data": {
      "text/html": [
       "<div><style>\n",
       ".dataframe > thead > tr,\n",
       ".dataframe > tbody > tr {\n",
       "  text-align: right;\n",
       "  white-space: pre-wrap;\n",
       "}\n",
       "</style>\n",
       "<small>shape: (292_826, 2)</small><table border=\"1\" class=\"dataframe\"><thead><tr><th>index</th><th>request_id</th></tr><tr><td>u32</td><td>u64</td></tr></thead><tbody><tr><td>10580</td><td>18249322439088082464</td></tr><tr><td>175497</td><td>18249322439088082464</td></tr><tr><td>194218</td><td>18249322439088082464</td></tr><tr><td>240500</td><td>18249322439088082464</td></tr><tr><td>196870</td><td>6482228966567928247</td></tr><tr><td>&hellip;</td><td>&hellip;</td></tr><tr><td>185742</td><td>9521914430913884488</td></tr><tr><td>158989</td><td>8125801675136871061</td></tr><tr><td>246665</td><td>8125801675136871061</td></tr><tr><td>198443</td><td>5291459374113443837</td></tr><tr><td>225904</td><td>7724004428801224267</td></tr></tbody></table></div>"
      ],
      "text/plain": [
       "shape: (292_826, 2)\n",
       "┌────────┬──────────────────────┐\n",
       "│ index  ┆ request_id           │\n",
       "│ ---    ┆ ---                  │\n",
       "│ u32    ┆ u64                  │\n",
       "╞════════╪══════════════════════╡\n",
       "│ 10580  ┆ 18249322439088082464 │\n",
       "│ 175497 ┆ 18249322439088082464 │\n",
       "│ 194218 ┆ 18249322439088082464 │\n",
       "│ 240500 ┆ 18249322439088082464 │\n",
       "│ 196870 ┆ 6482228966567928247  │\n",
       "│ …      ┆ …                    │\n",
       "│ 185742 ┆ 9521914430913884488  │\n",
       "│ 158989 ┆ 8125801675136871061  │\n",
       "│ 246665 ┆ 8125801675136871061  │\n",
       "│ 198443 ┆ 5291459374113443837  │\n",
       "│ 225904 ┆ 7724004428801224267  │\n",
       "└────────┴──────────────────────┘"
      ]
     },
     "execution_count": 6,
     "metadata": {},
     "output_type": "execute_result"
    }
   ],
   "source": [
    "classifier_experiment.create_submission()"
   ]
  },
  {
   "cell_type": "markdown",
   "metadata": {},
   "source": [
    "Kaggle Public Score: `NDCG@10 = 0.40962`."
   ]
  },
  {
   "cell_type": "markdown",
   "metadata": {},
   "source": [
    "## CatBoost Ranker Experiment\n",
    "\n",
    "Run an experiment with CatBoost Ranker."
   ]
  },
  {
   "cell_type": "code",
   "execution_count": 4,
   "metadata": {},
   "outputs": [
    {
     "name": "stdout",
     "output_type": "stream",
     "text": [
      "2025-05-05 23:09:36,899 - lavka_recsys.Experiment(catboost_ranker_9239b0) - INFO - Initialized experiment: catboost_ranker_9239b0\n",
      "2025-05-05 23:09:36,908 - lavka_recsys.Experiment(catboost_ranker_9239b0) - INFO - Config saved: results/catboost_ranker_9239b0_config.json\n",
      "2025-05-05 23:09:36,909 - lavka_recsys.Experiment(catboost_ranker_9239b0) - INFO - Setting up experiment environment...\n",
      "2025-05-05 23:09:36,911 - lavka_recsys.DataLoader - INFO - Loading training data from ../../data/lavka/train.parquet\n"
     ]
    },
    {
     "name": "stdout",
     "output_type": "stream",
     "text": [
      "2025-05-05 23:09:37,200 - lavka_recsys.DataLoader - INFO - Loading test data from ../../data/lavka/test.parquet\n",
      "2025-05-05 23:09:37,487 - lavka_recsys.DataLoader - INFO - Holdout Split:\n",
      "2025-05-05 23:09:37,515 - lavka_recsys.DataLoader - INFO -   train: 2022-12-31 18:46:42 → 2024-01-03 17:31:52 (15_070_276 rows, 367 days)\n",
      "2025-05-05 23:09:37,519 - lavka_recsys.DataLoader - INFO -   holdout: 2024-01-03 17:56:48 → 2024-02-02 17:34:51 (1_438_338 rows, 29 days)\n",
      "2025-05-05 23:09:37,520 - lavka_recsys.Experiment(catboost_ranker_9239b0) - INFO - Setup complete.\n",
      "2025-05-05 23:09:37,521 - lavka_recsys.Experiment(catboost_ranker_9239b0) - INFO - Starting experiment run...\n",
      "2025-05-05 23:09:37,891 - lavka_recsys.DataLoader - INFO - Validation Split:\n",
      "2025-05-05 23:09:37,914 - lavka_recsys.DataLoader - INFO -   train_history: 2022-12-31 18:46:42 → 2023-11-04 17:16:23 (12_082_523 rows, 307 days)\n",
      "2025-05-05 23:09:37,918 - lavka_recsys.DataLoader - INFO -   train_target: 2023-11-04 18:19:12 → 2023-12-04 17:25:02 (1_498_126 rows, 29 days)\n",
      "2025-05-05 23:09:37,945 - lavka_recsys.DataLoader - INFO -   val_history: 2022-12-31 18:46:42 → 2023-12-04 17:25:02 (13_580_649 rows, 337 days)\n",
      "2025-05-05 23:09:37,949 - lavka_recsys.DataLoader - INFO -   val_target: 2023-12-04 18:02:13 → 2024-01-03 17:31:52 (1_489_627 rows, 29 days)\n",
      "2025-05-05 23:09:39,293 - lavka_recsys.CachedFeatureFactory - INFO - Using cached feature batch\n",
      "2025-05-05 23:09:40,412 - lavka_recsys.CachedFeatureFactory - INFO - Using cached feature batch\n",
      "2025-05-05 23:09:40,415 - lavka_recsys.ModelFactory - INFO - Creating catboost_ranker model with params: {'iterations': 300, 'loss_function': 'YetiRankPairwise', 'eval_metric': 'NDCG:top=10', 'early_stopping_rounds': 50, 'custom_metric': ['NDCG:top=10', 'PrecisionAt:top=10', 'RecallAt:top=10'], 'task_type': 'GPU', 'devices': '4,5', 'thread_count': -1}\n",
      "2025-05-05 23:09:40,667 - lavka_recsys.CatBoostRankerModel - INFO - Sorting data by group_id for grouped ranking\n",
      "2025-05-05 23:09:44,389 - lavka_recsys.CatBoostRankerModel - INFO - Sorting data by group_id for grouped ranking\n",
      "2025-05-05 23:09:47,754 - lavka_recsys.CatBoostRankerModel - INFO - Converting 'city_name' to string for CatBoost\n",
      "2025-05-05 23:09:47,779 - lavka_recsys.CatBoostRankerModel - INFO - Converting 'user_segment' to string for CatBoost\n",
      "2025-05-05 23:09:47,798 - lavka_recsys.CatBoostRankerModel - INFO - Converting 'source_type' to string for CatBoost\n",
      "2025-05-05 23:09:49,859 - lavka_recsys.CatBoostRankerModel - INFO - Converting 'city_name' to string for CatBoost\n",
      "2025-05-05 23:09:49,884 - lavka_recsys.CatBoostRankerModel - INFO - Converting 'user_segment' to string for CatBoost\n",
      "2025-05-05 23:09:49,924 - lavka_recsys.CatBoostRankerModel - INFO - Converting 'source_type' to string for CatBoost\n",
      "2025-05-05 23:09:51,686 - lavka_recsys.CatBoostRankerModel - INFO - Training CatBoostRanker model with columns: ['city_total_purchases', 'hour_of_day_sin', 'month_sin', 'user_total_interactions', 'interaction_trend', 'svd_cf_score', 'views_week_u_p', 'views_month_u_p', 'product_total_interactions', 'session_purchases', 'is_weekend', 'purchases_week_u_p', 'session_duration_seconds', 'store_total_purchases', 'npmi_cf_score', 'session_unique_products', 'puresvd_cf_score', 'day_of_week_sin', 'mean_interval_days', 'purchases_month_u_p', 'session_length', 'hour_relevance', 'store_total_interactions', 'product_total_purchases', 'count_purchase_u_s', 'views_day_u_p', 'cart_to_purchase_rate', 'interactions_week_u_p', 'days_since_interaction_u_p', 'product_total_views', 'product_unique_users', 'user_product_store_cross', 'cf_score', 'user_segment', 'city_total_views', 'purchases_day_u_p', 'bpr_popular_score', 'most_common_purchase_day', 'session_unique_stores', 'user_product_purchase_cross', 'user_unique_products', 'city_name', 'city_unique_stores', 'days_since_interaction_u_s', 'city_total_interactions', 'interactions_day_u_p', 'user_total_purchases', 'user_total_views', 'interactions_month_u_p', 'store_total_views', 'store_unique_products', 'purchase_trend', 'user_store_purchase_cross', 'day_of_week_relevance', 'count_purchase_u_p', 'purchase_view_ratio', 'ctr_product', 'source_type', 'std_purchase_hour', 'avg_purchase_hour'] (cat_columns: ['city_name', 'user_segment', 'source_type'])\n"
     ]
    },
    {
     "data": {
      "application/vnd.jupyter.widget-view+json": {
       "model_id": "e2314715ded249839c3e305e5ebfaaee",
       "version_major": 2,
       "version_minor": 0
      },
      "text/plain": [
       "MetricVisualizer(layout=Layout(align_self='stretch', height='500px'))"
      ]
     },
     "metadata": {},
     "output_type": "display_data"
    },
    {
     "name": "stderr",
     "output_type": "stream",
     "text": [
      "Default metric period is 5 because PFound, PrecisionAt, RecallAt, NDCG is/are not implemented for GPU\n",
      "Metric PFound is not implemented on GPU. Will use CPU for metric computation, this could significantly affect learning time\n",
      "Metric NDCG:top=10;type=Base is not implemented on GPU. Will use CPU for metric computation, this could significantly affect learning time\n",
      "Metric NDCG:top=10;type=Base is not implemented on GPU. Will use CPU for metric computation, this could significantly affect learning time\n",
      "Metric PrecisionAt:top=10 is not implemented on GPU. Will use CPU for metric computation, this could significantly affect learning time\n",
      "Metric RecallAt:top=10 is not implemented on GPU. Will use CPU for metric computation, this could significantly affect learning time\n"
     ]
    },
    {
     "name": "stdout",
     "output_type": "stream",
     "text": [
      "2025-05-05 23:10:40,484 - lavka_recsys.Experiment(catboost_ranker_9239b0) - INFO - Training completed in 60.07s\n",
      "2025-05-05 23:10:40,489 - lavka_recsys.Experiment(catboost_ranker_9239b0) - INFO - Evaluating on holdout.\n",
      "2025-05-05 23:10:40,554 - lavka_recsys.CachedFeatureFactory - INFO - Generating feature batch\n",
      "2025-05-05 23:10:40,555 - lavka_recsys.FeatureFactory - INFO - Invoking feature generators: source_type, count_purchase_user_product, count_purchase_user_store, ctr_product, cart_to_purchase_rate, purchase_view_ratio, recency_user_product, user_stats, product_stats, store_stats, city_stats, product_temporal_patterns, recency_user_store, time_features_cycl, time_window_user_product, session_features, frequency_features, product_popularity_trend, cross_features, user_segments, memory-based-cf, npmi-cf, puresvd-cf, svd-cf, bpr-popular\n"
     ]
    },
    {
     "data": {
      "application/vnd.jupyter.widget-view+json": {
       "model_id": "0c8300ce16764693a6a7ae112a80f88e",
       "version_major": 2,
       "version_minor": 0
      },
      "text/plain": [
       "  0%|          | 0/100 [00:00<?, ?it/s]"
      ]
     },
     "metadata": {},
     "output_type": "display_data"
    },
    {
     "data": {
      "application/vnd.jupyter.widget-view+json": {
       "model_id": "c54285d17c45475a82f340656afdf1a2",
       "version_major": 2,
       "version_minor": 0
      },
      "text/plain": [
       "BPR processing:   0%|          | 0/1283 [00:00<?, ?it/s]"
      ]
     },
     "metadata": {},
     "output_type": "display_data"
    },
    {
     "name": "stdout",
     "output_type": "stream",
     "text": [
      "2025-05-05 23:12:30,052 - lavka_recsys.FeatureFactory - INFO - Joined features\n",
      "2025-05-05 23:12:30,053 - lavka_recsys.FeatureFactory - INFO - All column names: {'city_total_purchases', 'hour_of_day_sin', 'month_sin', 'user_total_interactions', 'interaction_trend', 'svd_cf_score', 'views_week_u_p', 'views_month_u_p', 'product_total_interactions', 'session_purchases', 'is_weekend', 'purchases_week_u_p', 'session_duration_seconds', 'store_total_purchases', 'npmi_cf_score', 'session_unique_products', 'puresvd_cf_score', 'day_of_week_sin', 'mean_interval_days', 'purchases_month_u_p', 'session_length', 'hour_relevance', 'store_total_interactions', 'product_total_purchases', 'count_purchase_u_s', 'views_day_u_p', 'cart_to_purchase_rate', 'interactions_week_u_p', 'days_since_interaction_u_p', 'product_total_views', 'product_unique_users', 'user_product_store_cross', 'cf_score', 'user_segment', 'city_total_views', 'purchases_day_u_p', 'bpr_popular_score', 'most_common_purchase_day', 'session_unique_stores', 'user_product_purchase_cross', 'user_unique_products', 'city_name', 'city_unique_stores', 'days_since_interaction_u_s', 'city_total_interactions', 'interactions_day_u_p', 'user_total_purchases', 'user_total_views', 'interactions_month_u_p', 'store_total_views', 'store_unique_products', 'purchase_trend', 'user_store_purchase_cross', 'day_of_week_relevance', 'count_purchase_u_p', 'purchase_view_ratio', 'ctr_product', 'source_type', 'std_purchase_hour', 'avg_purchase_hour'}\n",
      "2025-05-05 23:12:30,055 - lavka_recsys.FeatureFactory - INFO - All categorical column names: ['city_name', 'user_segment', 'source_type']\n",
      "2025-05-05 23:12:32,805 - lavka_recsys.CatBoostRankerModel - INFO - Sorting data by group_id for grouped ranking\n",
      "2025-05-05 23:12:35,574 - lavka_recsys.CatBoostRankerModel - INFO - Converting 'user_segment' to string for CatBoost\n",
      "2025-05-05 23:12:35,595 - lavka_recsys.CatBoostRankerModel - INFO - Converting 'city_name' to string for CatBoost\n",
      "2025-05-05 23:12:35,621 - lavka_recsys.CatBoostRankerModel - INFO - Converting 'source_type' to string for CatBoost\n",
      "2025-05-05 23:12:50,575 - lavka_recsys.Experiment(catboost_ranker_9239b0) - INFO - Run results saved: results/catboost_ranker_9239b0_results.json\n",
      "2025-05-05 23:12:50,576 - lavka_recsys.Experiment(catboost_ranker_9239b0) - INFO - Run finished and results saved.\n",
      "\n",
      "CatBoost Ranker Results:\n",
      "  auc: 0.802260\n",
      "  logloss: 1.293776\n",
      "  ndcg@10: 0.454146\n",
      "\n",
      "Top 10 Important Features:\n",
      "  source_type: 78.145273\n",
      "  purchase_view_ratio: 3.471939\n",
      "  count_purchase_u_p: 2.749533\n",
      "  bpr_popular_score: 1.322204\n",
      "  hour_of_day_sin: 1.020020\n",
      "  store_unique_products: 0.891969\n",
      "  cart_to_purchase_rate: 0.852040\n",
      "  days_since_interaction_u_s: 0.802170\n",
      "  purchases_month_u_p: 0.767363\n",
      "  mean_interval_days: 0.721399\n"
     ]
    }
   ],
   "source": [
    "ranker_experiment = Experiment(\"catboost_ranker\", (Config\n",
    "    .load('default_config.yaml')\n",
    "    .set('model.type', 'catboost_ranker')\n",
    "    .set('model.config.catboost_ranker.iterations', 300)\n",
    "))\n",
    "\n",
    "# Setup and run\n",
    "ranker_experiment.setup()\n",
    "ranker_results = ranker_experiment.run()\n",
    "\n",
    "# Print metrics\n",
    "print(f\"\\nCatBoost Ranker Results:\")\n",
    "for metric, value in ranker_results['metrics'].items():\n",
    "    print(f\"  {metric}: {value:.6f}\")\n",
    "\n",
    "# Print feature importance\n",
    "if 'feature_importance' in ranker_results:\n",
    "    print(\"\\nTop 10 Important Features:\")\n",
    "    top_features = sorted(ranker_results['feature_importance'].items(), \n",
    "                        key=lambda x: x[1], reverse=True)[:10]\n",
    "    for feature, importance in top_features:\n",
    "        print(f\"  {feature}: {importance:.6f}\")"
   ]
  },
  {
   "cell_type": "code",
   "execution_count": 5,
   "metadata": {},
   "outputs": [
    {
     "name": "stdout",
     "output_type": "stream",
     "text": [
      "2025-05-05 23:13:55,497 - lavka_recsys.Experiment(catboost_ranker_9239b0) - INFO - Computing predictions...\n",
      "2025-05-05 23:13:55,506 - lavka_recsys.DataLoader - INFO - Holdout data merged back into training data.\n",
      "2025-05-05 23:13:55,558 - lavka_recsys.DataLoader - INFO - Validation Split:\n",
      "2025-05-05 23:13:55,587 - lavka_recsys.DataLoader - INFO -   history: 2022-12-31 18:46:42 → 2024-01-03 17:31:52 (15_070_276 rows, 367 days)\n",
      "2025-05-05 23:13:55,591 - lavka_recsys.DataLoader - INFO -   target: 2024-01-03 17:56:48 → 2024-02-02 17:34:51 (1_438_338 rows, 29 days)\n",
      "2025-05-05 23:13:56,931 - lavka_recsys.CachedFeatureFactory - INFO - Using cached feature batch\n",
      "2025-05-05 23:13:56,934 - lavka_recsys.ModelFactory - INFO - Creating catboost_ranker model with params: {'iterations': 300, 'loss_function': 'YetiRankPairwise', 'eval_metric': 'NDCG:top=10', 'early_stopping_rounds': 50, 'custom_metric': ['NDCG:top=10', 'PrecisionAt:top=10', 'RecallAt:top=10'], 'task_type': 'GPU', 'devices': '4,5', 'thread_count': -1}\n",
      "2025-05-05 23:13:57,178 - lavka_recsys.CatBoostRankerModel - INFO - Sorting data by group_id for grouped ranking\n",
      "2025-05-05 23:14:00,716 - lavka_recsys.CatBoostRankerModel - INFO - Converting 'city_name' to string for CatBoost\n",
      "2025-05-05 23:14:00,752 - lavka_recsys.CatBoostRankerModel - INFO - Converting 'user_segment' to string for CatBoost\n",
      "2025-05-05 23:14:00,774 - lavka_recsys.CatBoostRankerModel - INFO - Converting 'source_type' to string for CatBoost\n",
      "2025-05-05 23:14:02,221 - lavka_recsys.CatBoostRankerModel - INFO - Training CatBoostRanker model with columns: ['city_total_purchases', 'hour_of_day_sin', 'month_sin', 'user_total_interactions', 'interaction_trend', 'svd_cf_score', 'views_week_u_p', 'views_month_u_p', 'product_total_interactions', 'session_purchases', 'is_weekend', 'purchases_week_u_p', 'session_duration_seconds', 'store_total_purchases', 'npmi_cf_score', 'session_unique_products', 'puresvd_cf_score', 'day_of_week_sin', 'mean_interval_days', 'purchases_month_u_p', 'session_length', 'hour_relevance', 'store_total_interactions', 'product_total_purchases', 'count_purchase_u_s', 'views_day_u_p', 'cart_to_purchase_rate', 'interactions_week_u_p', 'days_since_interaction_u_p', 'product_total_views', 'product_unique_users', 'user_product_store_cross', 'cf_score', 'user_segment', 'city_total_views', 'purchases_day_u_p', 'bpr_popular_score', 'most_common_purchase_day', 'session_unique_stores', 'user_product_purchase_cross', 'user_unique_products', 'city_name', 'city_unique_stores', 'days_since_interaction_u_s', 'city_total_interactions', 'interactions_day_u_p', 'user_total_purchases', 'user_total_views', 'interactions_month_u_p', 'store_total_views', 'store_unique_products', 'purchase_trend', 'user_store_purchase_cross', 'day_of_week_relevance', 'count_purchase_u_p', 'purchase_view_ratio', 'ctr_product', 'source_type', 'std_purchase_hour', 'avg_purchase_hour'] (cat_columns: ['city_name', 'user_segment', 'source_type'])\n"
     ]
    },
    {
     "data": {
      "application/vnd.jupyter.widget-view+json": {
       "model_id": "a1e871c2c34d486da4bc2f3b41562563",
       "version_major": 2,
       "version_minor": 0
      },
      "text/plain": [
       "MetricVisualizer(layout=Layout(align_self='stretch', height='500px'))"
      ]
     },
     "metadata": {},
     "output_type": "display_data"
    },
    {
     "name": "stderr",
     "output_type": "stream",
     "text": [
      "Default metric period is 5 because PFound, PrecisionAt, RecallAt, NDCG is/are not implemented for GPU\n",
      "Metric PFound is not implemented on GPU. Will use CPU for metric computation, this could significantly affect learning time\n",
      "Metric NDCG:top=10;type=Base is not implemented on GPU. Will use CPU for metric computation, this could significantly affect learning time\n",
      "Metric NDCG:top=10;type=Base is not implemented on GPU. Will use CPU for metric computation, this could significantly affect learning time\n",
      "Metric PrecisionAt:top=10 is not implemented on GPU. Will use CPU for metric computation, this could significantly affect learning time\n",
      "Metric RecallAt:top=10 is not implemented on GPU. Will use CPU for metric computation, this could significantly affect learning time\n"
     ]
    },
    {
     "name": "stdout",
     "output_type": "stream",
     "text": [
      "2025-05-05 23:14:44,356 - lavka_recsys.Experiment(catboost_ranker_9239b0) - INFO - Training completed in 47.42s\n",
      "2025-05-05 23:14:44,365 - lavka_recsys.DataLoader - INFO - Holdout data merged back into training data.\n",
      "2025-05-05 23:14:44,432 - lavka_recsys.CachedFeatureFactory - INFO - Generating feature batch\n",
      "2025-05-05 23:14:44,433 - lavka_recsys.FeatureFactory - INFO - Invoking feature generators: source_type, count_purchase_user_product, count_purchase_user_store, ctr_product, cart_to_purchase_rate, purchase_view_ratio, recency_user_product, user_stats, product_stats, store_stats, city_stats, product_temporal_patterns, recency_user_store, time_features_cycl, time_window_user_product, session_features, frequency_features, product_popularity_trend, cross_features, user_segments, memory-based-cf, npmi-cf, puresvd-cf, svd-cf, bpr-popular\n"
     ]
    },
    {
     "data": {
      "application/vnd.jupyter.widget-view+json": {
       "model_id": "ea80969893aa46839645979d280d4be3",
       "version_major": 2,
       "version_minor": 0
      },
      "text/plain": [
       "  0%|          | 0/100 [00:00<?, ?it/s]"
      ]
     },
     "metadata": {},
     "output_type": "display_data"
    },
    {
     "data": {
      "application/vnd.jupyter.widget-view+json": {
       "model_id": "8e688fbbb4a24b16857ac44bccca2198",
       "version_major": 2,
       "version_minor": 0
      },
      "text/plain": [
       "BPR processing:   0%|          | 0/807 [00:00<?, ?it/s]"
      ]
     },
     "metadata": {},
     "output_type": "display_data"
    },
    {
     "name": "stdout",
     "output_type": "stream",
     "text": [
      "2025-05-05 23:16:16,511 - lavka_recsys.FeatureFactory - INFO - Joined features\n",
      "2025-05-05 23:16:16,513 - lavka_recsys.FeatureFactory - INFO - All column names: {'city_total_purchases', 'hour_of_day_sin', 'month_sin', 'user_total_interactions', 'interaction_trend', 'svd_cf_score', 'views_week_u_p', 'views_month_u_p', 'product_total_interactions', 'session_purchases', 'is_weekend', 'purchases_week_u_p', 'session_duration_seconds', 'store_total_purchases', 'npmi_cf_score', 'session_unique_products', 'puresvd_cf_score', 'day_of_week_sin', 'mean_interval_days', 'purchases_month_u_p', 'session_length', 'hour_relevance', 'store_total_interactions', 'product_total_purchases', 'count_purchase_u_s', 'views_day_u_p', 'cart_to_purchase_rate', 'interactions_week_u_p', 'days_since_interaction_u_p', 'product_total_views', 'product_unique_users', 'user_product_store_cross', 'cf_score', 'user_segment', 'city_total_views', 'purchases_day_u_p', 'bpr_popular_score', 'most_common_purchase_day', 'session_unique_stores', 'user_product_purchase_cross', 'user_unique_products', 'city_name', 'city_unique_stores', 'days_since_interaction_u_s', 'city_total_interactions', 'interactions_day_u_p', 'user_total_purchases', 'user_total_views', 'interactions_month_u_p', 'store_total_views', 'store_unique_products', 'purchase_trend', 'user_store_purchase_cross', 'day_of_week_relevance', 'count_purchase_u_p', 'purchase_view_ratio', 'ctr_product', 'source_type', 'std_purchase_hour', 'avg_purchase_hour'}\n",
      "2025-05-05 23:16:16,514 - lavka_recsys.FeatureFactory - INFO - All categorical column names: ['city_name', 'user_segment', 'source_type']\n",
      "2025-05-05 23:16:16,914 - lavka_recsys.CatBoostRankerModel - INFO - Sorting data by group_id for grouped ranking\n",
      "2025-05-05 23:16:17,189 - lavka_recsys.CatBoostRankerModel - INFO - Converting 'user_segment' to string for CatBoost\n",
      "2025-05-05 23:16:17,195 - lavka_recsys.CatBoostRankerModel - INFO - Converting 'city_name' to string for CatBoost\n",
      "2025-05-05 23:16:17,200 - lavka_recsys.CatBoostRankerModel - INFO - Converting 'source_type' to string for CatBoost\n",
      "2025-05-05 23:16:17,683 - lavka_recsys.Experiment(catboost_ranker_9239b0) - INFO - Submission saved: results/submissions/catboost_ranker_9239b0_submission.csv\n",
      "2025-05-05 23:16:17,744 - lavka_recsys.Experiment(catboost_ranker_9239b0) - INFO - Submission model saved: results/submissions/catboost_ranker_9239b0_model.pkl\n"
     ]
    },
    {
     "data": {
      "text/html": [
       "<div><style>\n",
       ".dataframe > thead > tr,\n",
       ".dataframe > tbody > tr {\n",
       "  text-align: right;\n",
       "  white-space: pre-wrap;\n",
       "}\n",
       "</style>\n",
       "<small>shape: (292_826, 2)</small><table border=\"1\" class=\"dataframe\"><thead><tr><th>index</th><th>request_id</th></tr><tr><td>u32</td><td>u64</td></tr></thead><tbody><tr><td>95970</td><td>18037997914549181289</td></tr><tr><td>118676</td><td>15207620247861633206</td></tr><tr><td>131326</td><td>15207620247861633206</td></tr><tr><td>225106</td><td>15207620247861633206</td></tr><tr><td>41187</td><td>9106065009157563665</td></tr><tr><td>&hellip;</td><td>&hellip;</td></tr><tr><td>201945</td><td>13718769544022533931</td></tr><tr><td>114866</td><td>2499694595598766468</td></tr><tr><td>275274</td><td>6169200570541966232</td></tr><tr><td>132510</td><td>4777856639691010986</td></tr><tr><td>267419</td><td>4777856639691010986</td></tr></tbody></table></div>"
      ],
      "text/plain": [
       "shape: (292_826, 2)\n",
       "┌────────┬──────────────────────┐\n",
       "│ index  ┆ request_id           │\n",
       "│ ---    ┆ ---                  │\n",
       "│ u32    ┆ u64                  │\n",
       "╞════════╪══════════════════════╡\n",
       "│ 95970  ┆ 18037997914549181289 │\n",
       "│ 118676 ┆ 15207620247861633206 │\n",
       "│ 131326 ┆ 15207620247861633206 │\n",
       "│ 225106 ┆ 15207620247861633206 │\n",
       "│ 41187  ┆ 9106065009157563665  │\n",
       "│ …      ┆ …                    │\n",
       "│ 201945 ┆ 13718769544022533931 │\n",
       "│ 114866 ┆ 2499694595598766468  │\n",
       "│ 275274 ┆ 6169200570541966232  │\n",
       "│ 132510 ┆ 4777856639691010986  │\n",
       "│ 267419 ┆ 4777856639691010986  │\n",
       "└────────┴──────────────────────┘"
      ]
     },
     "execution_count": 5,
     "metadata": {},
     "output_type": "execute_result"
    }
   ],
   "source": [
    "ranker_experiment.create_submission()"
   ]
  },
  {
   "cell_type": "markdown",
   "metadata": {},
   "source": [
    "Kaggle Public Score `NDCG@10 = 0.41037`"
   ]
  },
  {
   "cell_type": "code",
   "execution_count": 3,
   "metadata": {},
   "outputs": [
    {
     "name": "stdout",
     "output_type": "stream",
     "text": [
      "2025-05-05 23:51:01,670 - lavka_recsys.Experiment(catboost_ranker_ebb94e) - INFO - Initialized experiment: catboost_ranker_ebb94e\n",
      "2025-05-05 23:51:01,680 - lavka_recsys.Experiment(catboost_ranker_ebb94e) - INFO - Config saved: results/catboost_ranker_ebb94e_config.json\n",
      "2025-05-05 23:51:01,681 - lavka_recsys.Experiment(catboost_ranker_ebb94e) - INFO - Setting up experiment environment...\n",
      "2025-05-05 23:51:01,683 - lavka_recsys.DataLoader - INFO - Loading training data from ../../data/lavka/train.parquet\n",
      "2025-05-05 23:51:02,007 - lavka_recsys.DataLoader - INFO - Loading test data from ../../data/lavka/test.parquet\n",
      "2025-05-05 23:51:02,444 - lavka_recsys.DataLoader - INFO - Holdout Split:\n",
      "2025-05-05 23:51:02,474 - lavka_recsys.DataLoader - INFO -   train: 2022-12-31 18:46:42 → 2024-01-03 17:31:52 (15_070_276 rows, 367 days)\n",
      "2025-05-05 23:51:02,480 - lavka_recsys.DataLoader - INFO -   holdout: 2024-01-03 17:56:48 → 2024-02-02 17:34:51 (1_438_338 rows, 29 days)\n",
      "2025-05-05 23:51:02,481 - lavka_recsys.Experiment(catboost_ranker_ebb94e) - INFO - Setup complete.\n",
      "2025-05-05 23:51:02,482 - lavka_recsys.Experiment(catboost_ranker_ebb94e) - INFO - Starting experiment run...\n",
      "2025-05-05 23:51:02,939 - lavka_recsys.DataLoader - INFO - Validation Split:\n",
      "2025-05-05 23:51:02,962 - lavka_recsys.DataLoader - INFO -   train_history: 2022-12-31 18:46:42 → 2023-11-04 17:16:23 (12_082_523 rows, 307 days)\n",
      "2025-05-05 23:51:02,966 - lavka_recsys.DataLoader - INFO -   train_target: 2023-11-04 18:19:12 → 2023-12-04 17:25:02 (1_498_126 rows, 29 days)\n",
      "2025-05-05 23:51:02,993 - lavka_recsys.DataLoader - INFO -   val_history: 2022-12-31 18:46:42 → 2023-12-04 17:25:02 (13_580_649 rows, 337 days)\n",
      "2025-05-05 23:51:02,996 - lavka_recsys.DataLoader - INFO -   val_target: 2023-12-04 18:02:13 → 2024-01-03 17:31:52 (1_489_627 rows, 29 days)\n",
      "2025-05-05 23:51:03,023 - lavka_recsys.CachedFeatureFactory - INFO - Generating feature batch\n",
      "2025-05-05 23:51:03,025 - lavka_recsys.FeatureFactory - INFO - Invoking feature generators: source_type, count_purchase_user_product, count_purchase_user_store, ctr_product, cart_to_purchase_rate, purchase_view_ratio, recency_user_product, user_stats, product_stats, store_stats, city_stats, product_temporal_patterns, recency_user_store, time_features_cycl, time_window_user_product, session_features, frequency_features, product_popularity_trend, cross_features, user_segments, memory-based-cf, npmi-cf, puresvd-cf, svd-cf, bpr-popular\n"
     ]
    },
    {
     "data": {
      "application/vnd.jupyter.widget-view+json": {
       "model_id": "fc9b1242b40645d9b0225136a9e203d9",
       "version_major": 2,
       "version_minor": 0
      },
      "text/plain": [
       "  0%|          | 0/100 [00:00<?, ?it/s]"
      ]
     },
     "metadata": {},
     "output_type": "display_data"
    },
    {
     "data": {
      "application/vnd.jupyter.widget-view+json": {
       "model_id": "6c9fb096907e4bb8b72a6c1a11796046",
       "version_major": 2,
       "version_minor": 0
      },
      "text/plain": [
       "BPR processing:   0%|          | 0/1213 [00:00<?, ?it/s]"
      ]
     },
     "metadata": {},
     "output_type": "display_data"
    },
    {
     "name": "stdout",
     "output_type": "stream",
     "text": [
      "2025-05-05 23:52:36,094 - lavka_recsys.FeatureFactory - INFO - Joined features\n",
      "2025-05-05 23:52:36,097 - lavka_recsys.FeatureFactory - INFO - All column names: {'session_unique_products', 'user_product_purchase_cross', 'hour_of_day_sin', 'city_total_interactions', 'purchases_month_u_p', 'product_total_views', 'interactions_week_u_p', 'session_unique_stores', 'count_purchase_u_p', 'purchase_view_ratio', 'interaction_trend', 'ctr_product', 'views_week_u_p', 'count_purchase_u_s', 'interactions_day_u_p', 'purchases_day_u_p', 'purchase_trend', 'user_total_interactions', 'session_length', 'svd_cf_score', 'cf_score', 'days_since_interaction_u_s', 'city_total_views', 'session_duration_seconds', 'city_unique_stores', 'source_type', 'most_common_purchase_day', 'product_unique_users', 'store_unique_products', 'purchases_week_u_p', 'bpr_popular_score', 'month_sin', 'product_total_purchases', 'product_total_interactions', 'std_purchase_hour', 'user_store_purchase_cross', 'views_month_u_p', 'city_name', 'avg_purchase_hour', 'user_product_store_cross', 'mean_interval_days', 'user_total_purchases', 'day_of_week_sin', 'npmi_cf_score', 'puresvd_cf_score', 'days_since_interaction_u_p', 'city_total_purchases', 'is_weekend', 'store_total_interactions', 'cart_to_purchase_rate', 'day_of_week_relevance', 'store_total_views', 'session_purchases', 'store_total_purchases', 'views_day_u_p', 'user_total_views', 'interactions_month_u_p', 'user_segment', 'user_unique_products', 'hour_relevance'}\n",
      "2025-05-05 23:52:36,099 - lavka_recsys.FeatureFactory - INFO - All categorical column names: ['user_segment', 'city_name', 'source_type', 'is_weekend']\n"
     ]
    },
    {
     "ename": "TypeError",
     "evalue": "unexpected value while building Series of type Int64; found value of type Float64: 0.85\n\nHint: Try setting `strict=False` to allow passing data with mixed types.",
     "output_type": "error",
     "traceback": [
      "\u001b[0;31m---------------------------------------------------------------------------\u001b[0m",
      "\u001b[0;31mTypeError\u001b[0m                                 Traceback (most recent call last)",
      "File \u001b[0;32m~/RS-25/RS-venv/lib/python3.10/site-packages/polars/_utils/construction/series.py:316\u001b[0m, in \u001b[0;36m_construct_series_with_fallbacks\u001b[0;34m(constructor, name, values, dtype, strict)\u001b[0m\n\u001b[1;32m    315\u001b[0m \u001b[38;5;28;01mtry\u001b[39;00m:\n\u001b[0;32m--> 316\u001b[0m     \u001b[38;5;28;01mreturn\u001b[39;00m \u001b[43mconstructor\u001b[49m\u001b[43m(\u001b[49m\u001b[43mname\u001b[49m\u001b[43m,\u001b[49m\u001b[43m \u001b[49m\u001b[43mvalues\u001b[49m\u001b[43m,\u001b[49m\u001b[43m \u001b[49m\u001b[43mstrict\u001b[49m\u001b[43m)\u001b[49m\n\u001b[1;32m    317\u001b[0m \u001b[38;5;28;01mexcept\u001b[39;00m (\u001b[38;5;167;01mTypeError\u001b[39;00m, \u001b[38;5;167;01mOverflowError\u001b[39;00m) \u001b[38;5;28;01mas\u001b[39;00m e:\n\u001b[1;32m    318\u001b[0m     \u001b[38;5;66;03m# # This retry with i64 is related to https://github.com/pola-rs/polars/issues/17231\u001b[39;00m\n\u001b[1;32m    319\u001b[0m     \u001b[38;5;66;03m# # Essentially, when given a [0, u64::MAX] then it would Overflow.\u001b[39;00m\n",
      "\u001b[0;31mTypeError\u001b[0m: 'float' object cannot be interpreted as an integer",
      "\nDuring handling of the above exception, another exception occurred:\n",
      "\u001b[0;31mTypeError\u001b[0m                                 Traceback (most recent call last)",
      "Cell \u001b[0;32mIn[3], line 10\u001b[0m\n\u001b[1;32m      8\u001b[0m \u001b[38;5;66;03m# Setup and run\u001b[39;00m\n\u001b[1;32m      9\u001b[0m ranker_experiment\u001b[38;5;241m.\u001b[39msetup()\n\u001b[0;32m---> 10\u001b[0m ranker_results \u001b[38;5;241m=\u001b[39m \u001b[43mranker_experiment\u001b[49m\u001b[38;5;241;43m.\u001b[39;49m\u001b[43mrun\u001b[49m\u001b[43m(\u001b[49m\u001b[43m)\u001b[49m\n\u001b[1;32m     12\u001b[0m \u001b[38;5;66;03m# Print metrics\u001b[39;00m\n\u001b[1;32m     13\u001b[0m \u001b[38;5;28mprint\u001b[39m(\u001b[38;5;124mf\u001b[39m\u001b[38;5;124m\"\u001b[39m\u001b[38;5;130;01m\\n\u001b[39;00m\u001b[38;5;124mCatBoost Ranker Results:\u001b[39m\u001b[38;5;124m\"\u001b[39m)\n",
      "File \u001b[0;32m~/RS-25/homework/lavka-rs-contest/lavka_recsys/experiment.py:70\u001b[0m, in \u001b[0;36mExperiment.run\u001b[0;34m(self)\u001b[0m\n\u001b[1;32m     68\u001b[0m \u001b[38;5;28mself\u001b[39m\u001b[38;5;241m.\u001b[39mlogger\u001b[38;5;241m.\u001b[39minfo(\u001b[38;5;124m\"\u001b[39m\u001b[38;5;124mStarting experiment run...\u001b[39m\u001b[38;5;124m\"\u001b[39m)\n\u001b[1;32m     69\u001b[0m train_history, train_target, val_history, val_target \u001b[38;5;241m=\u001b[39m \u001b[38;5;28mself\u001b[39m\u001b[38;5;241m.\u001b[39mdata_loader\u001b[38;5;241m.\u001b[39mtrain_split()\n\u001b[0;32m---> 70\u001b[0m \u001b[38;5;28mself\u001b[39m\u001b[38;5;241m.\u001b[39mlast_model \u001b[38;5;241m=\u001b[39m \u001b[38;5;28;43mself\u001b[39;49m\u001b[38;5;241;43m.\u001b[39;49m\u001b[43m_train_model\u001b[49m\u001b[43m(\u001b[49m\u001b[43m(\u001b[49m\u001b[43mtrain_history\u001b[49m\u001b[43m,\u001b[49m\u001b[43m \u001b[49m\u001b[43mtrain_target\u001b[49m\u001b[43m)\u001b[49m\u001b[43m,\u001b[49m\u001b[43m \u001b[49m\u001b[43m(\u001b[49m\u001b[43mval_history\u001b[49m\u001b[43m,\u001b[49m\u001b[43m \u001b[49m\u001b[43mval_target\u001b[49m\u001b[43m)\u001b[49m\u001b[43m)\u001b[49m\n\u001b[1;32m     72\u001b[0m \u001b[38;5;28;01mif\u001b[39;00m \u001b[38;5;28mself\u001b[39m\u001b[38;5;241m.\u001b[39mconfig\u001b[38;5;241m.\u001b[39mget(\u001b[38;5;124m'\u001b[39m\u001b[38;5;124mdata.holdout.enabled\u001b[39m\u001b[38;5;124m'\u001b[39m, \u001b[38;5;28;01mFalse\u001b[39;00m):\n\u001b[1;32m     73\u001b[0m     \u001b[38;5;28mself\u001b[39m\u001b[38;5;241m.\u001b[39mlogger\u001b[38;5;241m.\u001b[39minfo(\u001b[38;5;124m\"\u001b[39m\u001b[38;5;124mEvaluating on holdout.\u001b[39m\u001b[38;5;124m\"\u001b[39m)\n",
      "File \u001b[0;32m~/RS-25/homework/lavka-rs-contest/lavka_recsys/experiment.py:117\u001b[0m, in \u001b[0;36mExperiment._train_model\u001b[0;34m(self, train_splits, val_splits, model_params)\u001b[0m\n\u001b[1;32m    105\u001b[0m \u001b[38;5;28;01mdef\u001b[39;00m\u001b[38;5;250m \u001b[39m\u001b[38;5;21m_train_model\u001b[39m(\n\u001b[1;32m    106\u001b[0m     \u001b[38;5;28mself\u001b[39m,\n\u001b[1;32m    107\u001b[0m     train_splits: \u001b[38;5;28mtuple\u001b[39m[pl\u001b[38;5;241m.\u001b[39mDataFrame, pl\u001b[38;5;241m.\u001b[39mDataFrame],\n\u001b[1;32m    108\u001b[0m     val_splits: Optional[\u001b[38;5;28mtuple\u001b[39m[pl\u001b[38;5;241m.\u001b[39mDataFrame, pl\u001b[38;5;241m.\u001b[39mDataFrame]] \u001b[38;5;241m=\u001b[39m \u001b[38;5;28;01mNone\u001b[39;00m,\n\u001b[1;32m    109\u001b[0m     model_params: Optional[Dict[\u001b[38;5;28mstr\u001b[39m, Any]] \u001b[38;5;241m=\u001b[39m \u001b[38;5;28;01mNone\u001b[39;00m,\n\u001b[1;32m    110\u001b[0m ) \u001b[38;5;241m-\u001b[39m\u001b[38;5;241m>\u001b[39m Model:\n\u001b[1;32m    111\u001b[0m \u001b[38;5;250m    \u001b[39m\u001b[38;5;124;03m\"\"\"\u001b[39;00m\n\u001b[1;32m    112\u001b[0m \u001b[38;5;124;03m    Train a model using the specified split and parameters.\u001b[39;00m\n\u001b[1;32m    113\u001b[0m \u001b[38;5;124;03m    Returns the trained model.\u001b[39;00m\n\u001b[1;32m    114\u001b[0m \u001b[38;5;124;03m    \"\"\"\u001b[39;00m\n\u001b[1;32m    116\u001b[0m     X_train, y_train, cat_cols, train_group_ids \u001b[38;5;241m=\u001b[39m \\\n\u001b[0;32m--> 117\u001b[0m         \u001b[38;5;28;43mself\u001b[39;49m\u001b[38;5;241;43m.\u001b[39;49m\u001b[43mfeature_factory\u001b[49m\u001b[38;5;241;43m.\u001b[39;49m\u001b[43mgenerate_batch\u001b[49m\u001b[43m(\u001b[49m\u001b[38;5;241;43m*\u001b[39;49m\u001b[43mtrain_splits\u001b[49m\u001b[43m)\u001b[49m\n\u001b[1;32m    118\u001b[0m     \u001b[38;5;28;01mif\u001b[39;00m val_splits:\n\u001b[1;32m    119\u001b[0m         X_val, y_val, _, val_group_ids \u001b[38;5;241m=\u001b[39m \\\n\u001b[1;32m    120\u001b[0m             \u001b[38;5;28mself\u001b[39m\u001b[38;5;241m.\u001b[39mfeature_factory\u001b[38;5;241m.\u001b[39mgenerate_batch(\u001b[38;5;241m*\u001b[39mval_splits)\n",
      "File \u001b[0;32m~/RS-25/homework/lavka-rs-contest/lavka_recsys/feature_factory.py:311\u001b[0m, in \u001b[0;36mCachedFeatureFactory.generate_batch\u001b[0;34m(self, history_df, target_df, feature_names, target_name)\u001b[0m\n\u001b[1;32m    309\u001b[0m \u001b[38;5;66;03m# No cache: generate\u001b[39;00m\n\u001b[1;32m    310\u001b[0m \u001b[38;5;28mself\u001b[39m\u001b[38;5;241m.\u001b[39mlogger\u001b[38;5;241m.\u001b[39minfo(\u001b[38;5;124m\"\u001b[39m\u001b[38;5;124mGenerating feature batch\u001b[39m\u001b[38;5;124m\"\u001b[39m)\n\u001b[0;32m--> 311\u001b[0m batch \u001b[38;5;241m=\u001b[39m \u001b[38;5;28;43mself\u001b[39;49m\u001b[38;5;241;43m.\u001b[39;49m\u001b[43mfactory\u001b[49m\u001b[38;5;241;43m.\u001b[39;49m\u001b[43mgenerate_batch\u001b[49m\u001b[43m(\u001b[49m\u001b[43mhistory_df\u001b[49m\u001b[43m,\u001b[49m\u001b[43m \u001b[49m\u001b[43mtarget_df\u001b[49m\u001b[43m,\u001b[49m\u001b[43m \u001b[49m\u001b[43mfeature_names\u001b[49m\u001b[43m,\u001b[49m\u001b[43m \u001b[49m\u001b[43mtarget_name\u001b[49m\u001b[43m)\u001b[49m  \u001b[38;5;66;03m# type: ignore\u001b[39;00m\n\u001b[1;32m    312\u001b[0m \u001b[38;5;28mself\u001b[39m\u001b[38;5;241m.\u001b[39m_save(key, batch)\n\u001b[1;32m    313\u001b[0m \u001b[38;5;28;01mreturn\u001b[39;00m batch\n",
      "File \u001b[0;32m~/RS-25/homework/lavka-rs-contest/lavka_recsys/feature_factory.py:112\u001b[0m, in \u001b[0;36mFeatureFactory.generate_batch\u001b[0;34m(self, history_df, target_df, requested_fgens, requested_target)\u001b[0m\n\u001b[1;32m    110\u001b[0m request_ids \u001b[38;5;241m=\u001b[39m target_df[\u001b[38;5;124m'\u001b[39m\u001b[38;5;124mrequest_id\u001b[39m\u001b[38;5;124m'\u001b[39m]\n\u001b[1;32m    111\u001b[0m features, cat_columns \u001b[38;5;241m=\u001b[39m \u001b[38;5;28mself\u001b[39m\u001b[38;5;241m.\u001b[39mgenerate_features(history_df, target_df, requested_fgens)\n\u001b[0;32m--> 112\u001b[0m target \u001b[38;5;241m=\u001b[39m \u001b[38;5;28;43mself\u001b[39;49m\u001b[38;5;241;43m.\u001b[39;49m\u001b[43mgenerate_target\u001b[49m\u001b[43m(\u001b[49m\u001b[43mhistory_df\u001b[49m\u001b[43m,\u001b[49m\u001b[43m \u001b[49m\u001b[43mtarget_df\u001b[49m\u001b[43m,\u001b[49m\u001b[43m \u001b[49m\u001b[43mrequested_target\u001b[49m\u001b[43m)\u001b[49m\n\u001b[1;32m    113\u001b[0m mask \u001b[38;5;241m=\u001b[39m \u001b[38;5;241m~\u001b[39mtarget\u001b[38;5;241m.\u001b[39mis_null()\n\u001b[1;32m    114\u001b[0m \u001b[38;5;28;01mreturn\u001b[39;00m (\n\u001b[1;32m    115\u001b[0m     features\u001b[38;5;241m.\u001b[39mfilter(mask),\n\u001b[1;32m    116\u001b[0m     target\u001b[38;5;241m.\u001b[39mfilter(mask),\n\u001b[1;32m    117\u001b[0m     cat_columns,\n\u001b[1;32m    118\u001b[0m     request_ids\u001b[38;5;241m.\u001b[39mfilter(mask),\n\u001b[1;32m    119\u001b[0m )\n",
      "File \u001b[0;32m~/RS-25/homework/lavka-rs-contest/lavka_recsys/feature_factory.py:196\u001b[0m, in \u001b[0;36mFeatureFactory.generate_target\u001b[0;34m(self, history_df, target_df, requested_target)\u001b[0m\n\u001b[1;32m    193\u001b[0m \u001b[38;5;28;01mif\u001b[39;00m requested_target \u001b[38;5;129;01mnot\u001b[39;00m \u001b[38;5;129;01min\u001b[39;00m \u001b[38;5;28mself\u001b[39m\u001b[38;5;241m.\u001b[39m\u001b[38;5;18m__class__\u001b[39m\u001b[38;5;241m.\u001b[39m_possible_targets:\n\u001b[1;32m    194\u001b[0m     \u001b[38;5;28;01mraise\u001b[39;00m \u001b[38;5;167;01mValueError\u001b[39;00m(\u001b[38;5;124mf\u001b[39m\u001b[38;5;124m\"\u001b[39m\u001b[38;5;124mUnknown target \u001b[39m\u001b[38;5;132;01m{\u001b[39;00mrequested_target\u001b[38;5;132;01m}\u001b[39;00m\u001b[38;5;124m\"\u001b[39m)\n\u001b[0;32m--> 196\u001b[0m feature, _ \u001b[38;5;241m=\u001b[39m \u001b[38;5;28;43mself\u001b[39;49m\u001b[38;5;241;43m.\u001b[39;49m\u001b[43m_generate_feature\u001b[49m\u001b[43m(\u001b[49m\u001b[43mrequested_target\u001b[49m\u001b[43m,\u001b[49m\u001b[43m \u001b[49m\u001b[43mhistory_df\u001b[49m\u001b[43m,\u001b[49m\u001b[43m \u001b[49m\u001b[43mtarget_df\u001b[49m\u001b[43m)\u001b[49m\n\u001b[1;32m    197\u001b[0m \u001b[38;5;28;01mreturn\u001b[39;00m feature\n",
      "File \u001b[0;32m~/RS-25/homework/lavka-rs-contest/lavka_recsys/feature_factory.py:236\u001b[0m, in \u001b[0;36mFeatureFactory._generate_feature\u001b[0;34m(self, fgen_name, history_df, target_df, invoked_fgens)\u001b[0m\n\u001b[1;32m    234\u001b[0m \u001b[38;5;66;03m# Generate this feature\u001b[39;00m\n\u001b[1;32m    235\u001b[0m \u001b[38;5;28mself\u001b[39m\u001b[38;5;241m.\u001b[39mlogger\u001b[38;5;241m.\u001b[39mdebug(\u001b[38;5;124mf\u001b[39m\u001b[38;5;124m\"\u001b[39m\u001b[38;5;124mGenerating feature: \u001b[39m\u001b[38;5;132;01m{\u001b[39;00mfgen_name\u001b[38;5;132;01m}\u001b[39;00m\u001b[38;5;124m\"\u001b[39m)\n\u001b[0;32m--> 236\u001b[0m features \u001b[38;5;241m=\u001b[39m \u001b[43mgenerator_func\u001b[49m\u001b[43m(\u001b[49m\u001b[43mhistory_df\u001b[49m\u001b[43m,\u001b[49m\u001b[43m \u001b[49m\u001b[43mtarget_df\u001b[49m\u001b[43m)\u001b[49m\n\u001b[1;32m    238\u001b[0m invoked_fgens\u001b[38;5;241m.\u001b[39madd(fgen_name)\n\u001b[1;32m    239\u001b[0m \u001b[38;5;28;01mreturn\u001b[39;00m features\n",
      "File \u001b[0;32m~/RS-25/homework/lavka-rs-contest/lavka_recsys/feature_factory.py:73\u001b[0m, in \u001b[0;36mFeatureFactory.register_target.<locals>.decorator.<locals>.wrapper\u001b[0;34m(*args, **kwargs)\u001b[0m\n\u001b[1;32m     71\u001b[0m \u001b[38;5;129m@wraps\u001b[39m(func)\n\u001b[1;32m     72\u001b[0m \u001b[38;5;28;01mdef\u001b[39;00m\u001b[38;5;250m \u001b[39m\u001b[38;5;21mwrapper\u001b[39m(\u001b[38;5;241m*\u001b[39margs, \u001b[38;5;241m*\u001b[39m\u001b[38;5;241m*\u001b[39mkwargs):\n\u001b[0;32m---> 73\u001b[0m     result \u001b[38;5;241m=\u001b[39m \u001b[43mfunc\u001b[49m\u001b[43m(\u001b[49m\u001b[38;5;241;43m*\u001b[39;49m\u001b[43margs\u001b[49m\u001b[43m,\u001b[49m\u001b[43m \u001b[49m\u001b[38;5;241;43m*\u001b[39;49m\u001b[38;5;241;43m*\u001b[39;49m\u001b[43mkwargs\u001b[49m\u001b[43m)\u001b[49m\n\u001b[1;32m     74\u001b[0m     \u001b[38;5;28;01mreturn\u001b[39;00m result, []\n",
      "File \u001b[0;32m~/RS-25/homework/lavka-rs-contest/lavka_recsys/feature_generators/targets.py:47\u001b[0m, in \u001b[0;36mregister_target_fgens.<locals>.target_weighted\u001b[0;34m(history_df, target_df)\u001b[0m\n\u001b[1;32m     37\u001b[0m \u001b[38;5;250m\u001b[39m\u001b[38;5;124;03m\"\"\"Assign different weights for 'AT_View', 'AT_CartUpdate', 'AT_Purchase', 'AT_Click'.\"\"\"\u001b[39;00m\n\u001b[1;32m     38\u001b[0m mapping \u001b[38;5;241m=\u001b[39m {\n\u001b[1;32m     39\u001b[0m     \u001b[38;5;124m'\u001b[39m\u001b[38;5;124mAT_View\u001b[39m\u001b[38;5;124m'\u001b[39m: \u001b[38;5;241m0\u001b[39m,\n\u001b[1;32m     40\u001b[0m     \u001b[38;5;124m'\u001b[39m\u001b[38;5;124mAT_CartUpdate\u001b[39m\u001b[38;5;124m'\u001b[39m: \u001b[38;5;241m0.85\u001b[39m,\n\u001b[1;32m     41\u001b[0m     \u001b[38;5;124m'\u001b[39m\u001b[38;5;124mAT_Purchase\u001b[39m\u001b[38;5;124m'\u001b[39m: \u001b[38;5;241m1\u001b[39m,\n\u001b[1;32m     42\u001b[0m     \u001b[38;5;124m'\u001b[39m\u001b[38;5;124mAT_Click\u001b[39m\u001b[38;5;124m'\u001b[39m: \u001b[38;5;241m0.3\u001b[39m,\n\u001b[1;32m     43\u001b[0m }\n\u001b[1;32m     44\u001b[0m \u001b[38;5;28;01mreturn\u001b[39;00m (\n\u001b[1;32m     45\u001b[0m     target_df\n\u001b[1;32m     46\u001b[0m     \u001b[38;5;241m.\u001b[39mwith_columns(\n\u001b[0;32m---> 47\u001b[0m         \u001b[43mpl\u001b[49m\u001b[38;5;241;43m.\u001b[39;49m\u001b[43mcol\u001b[49m\u001b[43m(\u001b[49m\u001b[38;5;124;43m'\u001b[39;49m\u001b[38;5;124;43maction_type\u001b[39;49m\u001b[38;5;124;43m'\u001b[39;49m\u001b[43m)\u001b[49m\u001b[38;5;241;43m.\u001b[39;49m\u001b[43mreplace_strict\u001b[49m\u001b[43m(\u001b[49m\u001b[43mmapping\u001b[49m\u001b[43m,\u001b[49m\u001b[43m \u001b[49m\u001b[43mdefault\u001b[49m\u001b[38;5;241;43m=\u001b[39;49m\u001b[38;5;241;43m0\u001b[39;49m\u001b[43m)\u001b[49m\u001b[38;5;241m.\u001b[39malias(\u001b[38;5;124m'\u001b[39m\u001b[38;5;124mtarget\u001b[39m\u001b[38;5;124m'\u001b[39m)\n\u001b[1;32m     48\u001b[0m     )\n\u001b[1;32m     49\u001b[0m     \u001b[38;5;241m.\u001b[39mgroup_by([\u001b[38;5;124m'\u001b[39m\u001b[38;5;124mrequest_id\u001b[39m\u001b[38;5;124m'\u001b[39m, \u001b[38;5;124m'\u001b[39m\u001b[38;5;124mproduct_id\u001b[39m\u001b[38;5;124m'\u001b[39m])\n\u001b[1;32m     50\u001b[0m     \u001b[38;5;241m.\u001b[39magg(\n\u001b[1;32m     51\u001b[0m         \u001b[38;5;66;03m#taking maximum score\u001b[39;00m\n\u001b[1;32m     52\u001b[0m         pl\u001b[38;5;241m.\u001b[39mcol(\u001b[38;5;124m'\u001b[39m\u001b[38;5;124mtarget\u001b[39m\u001b[38;5;124m'\u001b[39m)\u001b[38;5;241m.\u001b[39mmax()\u001b[38;5;241m.\u001b[39malias(\u001b[38;5;124m'\u001b[39m\u001b[38;5;124mtarget\u001b[39m\u001b[38;5;124m'\u001b[39m)\n\u001b[1;32m     53\u001b[0m     )\n\u001b[1;32m     54\u001b[0m     \u001b[38;5;241m.\u001b[39mget_column(\u001b[38;5;124m'\u001b[39m\u001b[38;5;124mtarget\u001b[39m\u001b[38;5;124m'\u001b[39m)\n\u001b[1;32m     55\u001b[0m )\n",
      "File \u001b[0;32m~/RS-25/RS-venv/lib/python3.10/site-packages/polars/expr/expr.py:10607\u001b[0m, in \u001b[0;36mExpr.replace_strict\u001b[0;34m(self, old, new, default, return_dtype)\u001b[0m\n\u001b[1;32m  10603\u001b[0m         msg \u001b[38;5;241m=\u001b[39m (\n\u001b[1;32m  10604\u001b[0m             \u001b[38;5;124m\"\u001b[39m\u001b[38;5;124m`new` argument is required if `old` argument is not a Mapping type\u001b[39m\u001b[38;5;124m\"\u001b[39m\n\u001b[1;32m  10605\u001b[0m         )\n\u001b[1;32m  10606\u001b[0m         \u001b[38;5;28;01mraise\u001b[39;00m \u001b[38;5;167;01mTypeError\u001b[39;00m(msg)\n\u001b[0;32m> 10607\u001b[0m     new \u001b[38;5;241m=\u001b[39m \u001b[43mpl\u001b[49m\u001b[38;5;241;43m.\u001b[39;49m\u001b[43mSeries\u001b[49m\u001b[43m(\u001b[49m\u001b[43mold\u001b[49m\u001b[38;5;241;43m.\u001b[39;49m\u001b[43mvalues\u001b[49m\u001b[43m(\u001b[49m\u001b[43m)\u001b[49m\u001b[43m)\u001b[49m\n\u001b[1;32m  10608\u001b[0m     old \u001b[38;5;241m=\u001b[39m pl\u001b[38;5;241m.\u001b[39mSeries(old\u001b[38;5;241m.\u001b[39mkeys())\n\u001b[1;32m  10610\u001b[0m old \u001b[38;5;241m=\u001b[39m parse_into_expression(old, str_as_lit\u001b[38;5;241m=\u001b[39m\u001b[38;5;28;01mTrue\u001b[39;00m, list_as_series\u001b[38;5;241m=\u001b[39m\u001b[38;5;28;01mTrue\u001b[39;00m)  \u001b[38;5;66;03m# type: ignore[arg-type]\u001b[39;00m\n",
      "File \u001b[0;32m~/RS-25/RS-venv/lib/python3.10/site-packages/polars/series/series.py:337\u001b[0m, in \u001b[0;36mSeries.__init__\u001b[0;34m(self, name, values, dtype, strict, nan_to_null)\u001b[0m\n\u001b[1;32m    334\u001b[0m     \u001b[38;5;28mself\u001b[39m\u001b[38;5;241m.\u001b[39m_s \u001b[38;5;241m=\u001b[39m pandas_to_pyseries(name, values, dtype\u001b[38;5;241m=\u001b[39mdtype, strict\u001b[38;5;241m=\u001b[39mstrict)\n\u001b[1;32m    336\u001b[0m \u001b[38;5;28;01melif\u001b[39;00m \u001b[38;5;129;01mnot\u001b[39;00m \u001b[38;5;28mhasattr\u001b[39m(values, \u001b[38;5;124m\"\u001b[39m\u001b[38;5;124m__arrow_c_stream__\u001b[39m\u001b[38;5;124m\"\u001b[39m) \u001b[38;5;129;01mand\u001b[39;00m _is_generator(values):\n\u001b[0;32m--> 337\u001b[0m     \u001b[38;5;28mself\u001b[39m\u001b[38;5;241m.\u001b[39m_s \u001b[38;5;241m=\u001b[39m \u001b[43miterable_to_pyseries\u001b[49m\u001b[43m(\u001b[49m\u001b[43mname\u001b[49m\u001b[43m,\u001b[49m\u001b[43m \u001b[49m\u001b[43mvalues\u001b[49m\u001b[43m,\u001b[49m\u001b[43m \u001b[49m\u001b[43mdtype\u001b[49m\u001b[38;5;241;43m=\u001b[39;49m\u001b[43mdtype\u001b[49m\u001b[43m,\u001b[49m\u001b[43m \u001b[49m\u001b[43mstrict\u001b[49m\u001b[38;5;241;43m=\u001b[39;49m\u001b[43mstrict\u001b[49m\u001b[43m)\u001b[49m\n\u001b[1;32m    339\u001b[0m \u001b[38;5;28;01melif\u001b[39;00m \u001b[38;5;28misinstance\u001b[39m(values, Series):\n\u001b[1;32m    340\u001b[0m     \u001b[38;5;28mself\u001b[39m\u001b[38;5;241m.\u001b[39m_s \u001b[38;5;241m=\u001b[39m series_to_pyseries(\n\u001b[1;32m    341\u001b[0m         original_name, values, dtype\u001b[38;5;241m=\u001b[39mdtype, strict\u001b[38;5;241m=\u001b[39mstrict\n\u001b[1;32m    342\u001b[0m     )\n",
      "File \u001b[0;32m~/RS-25/RS-venv/lib/python3.10/site-packages/polars/_utils/construction/series.py:362\u001b[0m, in \u001b[0;36miterable_to_pyseries\u001b[0;34m(name, values, dtype, chunk_size, strict)\u001b[0m\n\u001b[1;32m    360\u001b[0m \u001b[38;5;28;01mif\u001b[39;00m \u001b[38;5;129;01mnot\u001b[39;00m slice_values:\n\u001b[1;32m    361\u001b[0m     \u001b[38;5;28;01mbreak\u001b[39;00m\n\u001b[0;32m--> 362\u001b[0m schunk \u001b[38;5;241m=\u001b[39m \u001b[43mto_series_chunk\u001b[49m\u001b[43m(\u001b[49m\u001b[43mslice_values\u001b[49m\u001b[43m,\u001b[49m\u001b[43m \u001b[49m\u001b[43mdtype\u001b[49m\u001b[43m)\u001b[49m\n\u001b[1;32m    363\u001b[0m \u001b[38;5;28;01mif\u001b[39;00m series \u001b[38;5;129;01mis\u001b[39;00m \u001b[38;5;28;01mNone\u001b[39;00m:\n\u001b[1;32m    364\u001b[0m     series \u001b[38;5;241m=\u001b[39m schunk\n",
      "File \u001b[0;32m~/RS-25/RS-venv/lib/python3.10/site-packages/polars/_utils/construction/series.py:349\u001b[0m, in \u001b[0;36miterable_to_pyseries.<locals>.to_series_chunk\u001b[0;34m(values, dtype)\u001b[0m\n\u001b[1;32m    348\u001b[0m \u001b[38;5;28;01mdef\u001b[39;00m\u001b[38;5;250m \u001b[39m\u001b[38;5;21mto_series_chunk\u001b[39m(values: \u001b[38;5;28mlist\u001b[39m[Any], dtype: PolarsDataType \u001b[38;5;241m|\u001b[39m \u001b[38;5;28;01mNone\u001b[39;00m) \u001b[38;5;241m-\u001b[39m\u001b[38;5;241m>\u001b[39m Series:\n\u001b[0;32m--> 349\u001b[0m     \u001b[38;5;28;01mreturn\u001b[39;00m \u001b[43mpl\u001b[49m\u001b[38;5;241;43m.\u001b[39;49m\u001b[43mSeries\u001b[49m\u001b[43m(\u001b[49m\n\u001b[1;32m    350\u001b[0m \u001b[43m        \u001b[49m\u001b[43mname\u001b[49m\u001b[38;5;241;43m=\u001b[39;49m\u001b[43mname\u001b[49m\u001b[43m,\u001b[49m\n\u001b[1;32m    351\u001b[0m \u001b[43m        \u001b[49m\u001b[43mvalues\u001b[49m\u001b[38;5;241;43m=\u001b[39;49m\u001b[43mvalues\u001b[49m\u001b[43m,\u001b[49m\n\u001b[1;32m    352\u001b[0m \u001b[43m        \u001b[49m\u001b[43mdtype\u001b[49m\u001b[38;5;241;43m=\u001b[39;49m\u001b[43mdtype\u001b[49m\u001b[43m,\u001b[49m\n\u001b[1;32m    353\u001b[0m \u001b[43m        \u001b[49m\u001b[43mstrict\u001b[49m\u001b[38;5;241;43m=\u001b[39;49m\u001b[43mstrict\u001b[49m\u001b[43m,\u001b[49m\n\u001b[1;32m    354\u001b[0m \u001b[43m    \u001b[49m\u001b[43m)\u001b[49m\n",
      "File \u001b[0;32m~/RS-25/RS-venv/lib/python3.10/site-packages/polars/series/series.py:293\u001b[0m, in \u001b[0;36mSeries.__init__\u001b[0;34m(self, name, values, dtype, strict, nan_to_null)\u001b[0m\n\u001b[1;32m    290\u001b[0m         \u001b[38;5;28;01mraise\u001b[39;00m \u001b[38;5;167;01mTypeError\u001b[39;00m(msg)\n\u001b[1;32m    292\u001b[0m \u001b[38;5;28;01mif\u001b[39;00m \u001b[38;5;28misinstance\u001b[39m(values, Sequence):\n\u001b[0;32m--> 293\u001b[0m     \u001b[38;5;28mself\u001b[39m\u001b[38;5;241m.\u001b[39m_s \u001b[38;5;241m=\u001b[39m \u001b[43msequence_to_pyseries\u001b[49m\u001b[43m(\u001b[49m\n\u001b[1;32m    294\u001b[0m \u001b[43m        \u001b[49m\u001b[43mname\u001b[49m\u001b[43m,\u001b[49m\n\u001b[1;32m    295\u001b[0m \u001b[43m        \u001b[49m\u001b[43mvalues\u001b[49m\u001b[43m,\u001b[49m\n\u001b[1;32m    296\u001b[0m \u001b[43m        \u001b[49m\u001b[43mdtype\u001b[49m\u001b[38;5;241;43m=\u001b[39;49m\u001b[43mdtype\u001b[49m\u001b[43m,\u001b[49m\n\u001b[1;32m    297\u001b[0m \u001b[43m        \u001b[49m\u001b[43mstrict\u001b[49m\u001b[38;5;241;43m=\u001b[39;49m\u001b[43mstrict\u001b[49m\u001b[43m,\u001b[49m\n\u001b[1;32m    298\u001b[0m \u001b[43m        \u001b[49m\u001b[43mnan_to_null\u001b[49m\u001b[38;5;241;43m=\u001b[39;49m\u001b[43mnan_to_null\u001b[49m\u001b[43m,\u001b[49m\n\u001b[1;32m    299\u001b[0m \u001b[43m    \u001b[49m\u001b[43m)\u001b[49m\n\u001b[1;32m    301\u001b[0m \u001b[38;5;28;01melif\u001b[39;00m values \u001b[38;5;129;01mis\u001b[39;00m \u001b[38;5;28;01mNone\u001b[39;00m:\n\u001b[1;32m    302\u001b[0m     \u001b[38;5;28mself\u001b[39m\u001b[38;5;241m.\u001b[39m_s \u001b[38;5;241m=\u001b[39m sequence_to_pyseries(name, [], dtype\u001b[38;5;241m=\u001b[39mdtype)\n",
      "File \u001b[0;32m~/RS-25/RS-venv/lib/python3.10/site-packages/polars/_utils/construction/series.py:301\u001b[0m, in \u001b[0;36msequence_to_pyseries\u001b[0;34m(name, values, dtype, strict, nan_to_null)\u001b[0m\n\u001b[1;32m    298\u001b[0m     \u001b[38;5;28;01mexcept\u001b[39;00m \u001b[38;5;167;01mRuntimeError\u001b[39;00m:\n\u001b[1;32m    299\u001b[0m         \u001b[38;5;28;01mreturn\u001b[39;00m PySeries\u001b[38;5;241m.\u001b[39mnew_from_any_values(name, values, strict\u001b[38;5;241m=\u001b[39mstrict)\n\u001b[0;32m--> 301\u001b[0m \u001b[38;5;28;01mreturn\u001b[39;00m \u001b[43m_construct_series_with_fallbacks\u001b[49m\u001b[43m(\u001b[49m\n\u001b[1;32m    302\u001b[0m \u001b[43m    \u001b[49m\u001b[43mconstructor\u001b[49m\u001b[43m,\u001b[49m\u001b[43m \u001b[49m\u001b[43mname\u001b[49m\u001b[43m,\u001b[49m\u001b[43m \u001b[49m\u001b[43mvalues\u001b[49m\u001b[43m,\u001b[49m\u001b[43m \u001b[49m\u001b[43mdtype\u001b[49m\u001b[43m,\u001b[49m\u001b[43m \u001b[49m\u001b[43mstrict\u001b[49m\u001b[38;5;241;43m=\u001b[39;49m\u001b[43mstrict\u001b[49m\n\u001b[1;32m    303\u001b[0m \u001b[43m\u001b[49m\u001b[43m)\u001b[49m\n",
      "File \u001b[0;32m~/RS-25/RS-venv/lib/python3.10/site-packages/polars/_utils/construction/series.py:329\u001b[0m, in \u001b[0;36m_construct_series_with_fallbacks\u001b[0;34m(constructor, name, values, dtype, strict)\u001b[0m\n\u001b[1;32m    325\u001b[0m     \u001b[38;5;28;01mreturn\u001b[39;00m _construct_series_with_fallbacks(\n\u001b[1;32m    326\u001b[0m         PySeries\u001b[38;5;241m.\u001b[39mnew_opt_u64, name, values, dtype, strict\u001b[38;5;241m=\u001b[39mstrict\n\u001b[1;32m    327\u001b[0m     )\n\u001b[1;32m    328\u001b[0m \u001b[38;5;28;01melif\u001b[39;00m dtype \u001b[38;5;129;01mis\u001b[39;00m \u001b[38;5;28;01mNone\u001b[39;00m:\n\u001b[0;32m--> 329\u001b[0m     \u001b[38;5;28;01mreturn\u001b[39;00m \u001b[43mPySeries\u001b[49m\u001b[38;5;241;43m.\u001b[39;49m\u001b[43mnew_from_any_values\u001b[49m\u001b[43m(\u001b[49m\u001b[43mname\u001b[49m\u001b[43m,\u001b[49m\u001b[43m \u001b[49m\u001b[43mvalues\u001b[49m\u001b[43m,\u001b[49m\u001b[43m \u001b[49m\u001b[43mstrict\u001b[49m\u001b[38;5;241;43m=\u001b[39;49m\u001b[43mstrict\u001b[49m\u001b[43m)\u001b[49m\n\u001b[1;32m    330\u001b[0m \u001b[38;5;28;01melse\u001b[39;00m:\n\u001b[1;32m    331\u001b[0m     \u001b[38;5;28;01mreturn\u001b[39;00m PySeries\u001b[38;5;241m.\u001b[39mnew_from_any_values_and_dtype(\n\u001b[1;32m    332\u001b[0m         name, values, dtype, strict\u001b[38;5;241m=\u001b[39mstrict\n\u001b[1;32m    333\u001b[0m     )\n",
      "\u001b[0;31mTypeError\u001b[0m: unexpected value while building Series of type Int64; found value of type Float64: 0.85\n\nHint: Try setting `strict=False` to allow passing data with mixed types."
     ]
    }
   ],
   "source": [
    "ranker_experiment = Experiment(\"catboost_ranker\", (Config\n",
    "    .load('default_config.yaml')\n",
    "    .set('model.type', 'catboost_ranker')\n",
    "    .set('model.config.catboost_ranker.iterations', 300)\n",
    "    .set('target', 'Weighted')\n",
    "))\n",
    "\n",
    "# Setup and run\n",
    "ranker_experiment.setup()\n",
    "ranker_results = ranker_experiment.run()\n",
    "\n",
    "# Print metrics\n",
    "print(f\"\\nCatBoost Ranker Results:\")\n",
    "for metric, value in ranker_results['metrics'].items():\n",
    "    print(f\"  {metric}: {value:.6f}\")\n",
    "\n",
    "# Print feature importance\n",
    "if 'feature_importance' in ranker_results:\n",
    "    print(\"\\nTop 10 Important Features:\")\n",
    "    top_features = sorted(ranker_results['feature_importance'].items(), \n",
    "                        key=lambda x: x[1], reverse=True)[:10]\n",
    "    for feature, importance in top_features:\n",
    "        print(f\"  {feature}: {importance:.6f}\")"
   ]
  },
  {
   "cell_type": "markdown",
   "metadata": {},
   "source": [
    "## 7. Feature Importance Comparison"
   ]
  },
  {
   "cell_type": "code",
   "execution_count": 7,
   "metadata": {},
   "outputs": [
    {
     "name": "stdout",
     "output_type": "stream",
     "text": [
      "Top 20 Features by Average Importance:\n"
     ]
    },
    {
     "data": {
      "text/html": [
       "<div>\n",
       "<style scoped>\n",
       "    .dataframe tbody tr th:only-of-type {\n",
       "        vertical-align: middle;\n",
       "    }\n",
       "\n",
       "    .dataframe tbody tr th {\n",
       "        vertical-align: top;\n",
       "    }\n",
       "\n",
       "    .dataframe thead th {\n",
       "        text-align: right;\n",
       "    }\n",
       "</style>\n",
       "<table border=\"1\" class=\"dataframe\">\n",
       "  <thead>\n",
       "    <tr style=\"text-align: right;\">\n",
       "      <th></th>\n",
       "      <th>Feature</th>\n",
       "      <th>Classifier Importance</th>\n",
       "      <th>Ranker Importance</th>\n",
       "      <th>Average Importance</th>\n",
       "    </tr>\n",
       "  </thead>\n",
       "  <tbody>\n",
       "    <tr>\n",
       "      <th>0</th>\n",
       "      <td>source_type</td>\n",
       "      <td>66.951228</td>\n",
       "      <td>78.145273</td>\n",
       "      <td>72.548251</td>\n",
       "    </tr>\n",
       "    <tr>\n",
       "      <th>1</th>\n",
       "      <td>purchase_view_ratio</td>\n",
       "      <td>4.511302</td>\n",
       "      <td>3.471939</td>\n",
       "      <td>3.991620</td>\n",
       "    </tr>\n",
       "    <tr>\n",
       "      <th>2</th>\n",
       "      <td>count_purchase_u_p</td>\n",
       "      <td>4.048052</td>\n",
       "      <td>2.749533</td>\n",
       "      <td>3.398792</td>\n",
       "    </tr>\n",
       "    <tr>\n",
       "      <th>3</th>\n",
       "      <td>purchases_month_u_p</td>\n",
       "      <td>2.470713</td>\n",
       "      <td>0.767363</td>\n",
       "      <td>1.619038</td>\n",
       "    </tr>\n",
       "    <tr>\n",
       "      <th>4</th>\n",
       "      <td>mean_interval_days</td>\n",
       "      <td>1.589401</td>\n",
       "      <td>0.721399</td>\n",
       "      <td>1.155400</td>\n",
       "    </tr>\n",
       "    <tr>\n",
       "      <th>5</th>\n",
       "      <td>bpr_popular_score</td>\n",
       "      <td>0.642718</td>\n",
       "      <td>1.322204</td>\n",
       "      <td>0.982461</td>\n",
       "    </tr>\n",
       "    <tr>\n",
       "      <th>6</th>\n",
       "      <td>npmi_cf_score</td>\n",
       "      <td>1.720794</td>\n",
       "      <td>0.205699</td>\n",
       "      <td>0.963246</td>\n",
       "    </tr>\n",
       "    <tr>\n",
       "      <th>7</th>\n",
       "      <td>cf_score</td>\n",
       "      <td>0.997711</td>\n",
       "      <td>0.675051</td>\n",
       "      <td>0.836381</td>\n",
       "    </tr>\n",
       "    <tr>\n",
       "      <th>8</th>\n",
       "      <td>cart_to_purchase_rate</td>\n",
       "      <td>0.805088</td>\n",
       "      <td>0.852040</td>\n",
       "      <td>0.828564</td>\n",
       "    </tr>\n",
       "    <tr>\n",
       "      <th>9</th>\n",
       "      <td>user_total_interactions</td>\n",
       "      <td>1.537934</td>\n",
       "      <td>0.110180</td>\n",
       "      <td>0.824057</td>\n",
       "    </tr>\n",
       "    <tr>\n",
       "      <th>10</th>\n",
       "      <td>user_total_views</td>\n",
       "      <td>1.143374</td>\n",
       "      <td>0.345694</td>\n",
       "      <td>0.744534</td>\n",
       "    </tr>\n",
       "    <tr>\n",
       "      <th>11</th>\n",
       "      <td>user_total_purchases</td>\n",
       "      <td>1.149126</td>\n",
       "      <td>0.240834</td>\n",
       "      <td>0.694980</td>\n",
       "    </tr>\n",
       "    <tr>\n",
       "      <th>12</th>\n",
       "      <td>hour_of_day_sin</td>\n",
       "      <td>0.365836</td>\n",
       "      <td>1.020020</td>\n",
       "      <td>0.692928</td>\n",
       "    </tr>\n",
       "    <tr>\n",
       "      <th>13</th>\n",
       "      <td>views_month_u_p</td>\n",
       "      <td>0.753758</td>\n",
       "      <td>0.516687</td>\n",
       "      <td>0.635222</td>\n",
       "    </tr>\n",
       "    <tr>\n",
       "      <th>14</th>\n",
       "      <td>store_unique_products</td>\n",
       "      <td>0.235811</td>\n",
       "      <td>0.891969</td>\n",
       "      <td>0.563890</td>\n",
       "    </tr>\n",
       "    <tr>\n",
       "      <th>15</th>\n",
       "      <td>product_unique_users</td>\n",
       "      <td>0.355746</td>\n",
       "      <td>0.721036</td>\n",
       "      <td>0.538391</td>\n",
       "    </tr>\n",
       "    <tr>\n",
       "      <th>16</th>\n",
       "      <td>days_since_interaction_u_s</td>\n",
       "      <td>0.219742</td>\n",
       "      <td>0.802170</td>\n",
       "      <td>0.510956</td>\n",
       "    </tr>\n",
       "    <tr>\n",
       "      <th>17</th>\n",
       "      <td>purchases_week_u_p</td>\n",
       "      <td>0.789600</td>\n",
       "      <td>0.168145</td>\n",
       "      <td>0.478872</td>\n",
       "    </tr>\n",
       "    <tr>\n",
       "      <th>18</th>\n",
       "      <td>session_purchases</td>\n",
       "      <td>0.717200</td>\n",
       "      <td>0.157699</td>\n",
       "      <td>0.437449</td>\n",
       "    </tr>\n",
       "    <tr>\n",
       "      <th>19</th>\n",
       "      <td>svd_cf_score</td>\n",
       "      <td>0.631952</td>\n",
       "      <td>0.230739</td>\n",
       "      <td>0.431346</td>\n",
       "    </tr>\n",
       "  </tbody>\n",
       "</table>\n",
       "</div>"
      ],
      "text/plain": [
       "                       Feature  Classifier Importance  Ranker Importance  \\\n",
       "0                  source_type              66.951228          78.145273   \n",
       "1          purchase_view_ratio               4.511302           3.471939   \n",
       "2           count_purchase_u_p               4.048052           2.749533   \n",
       "3          purchases_month_u_p               2.470713           0.767363   \n",
       "4           mean_interval_days               1.589401           0.721399   \n",
       "5            bpr_popular_score               0.642718           1.322204   \n",
       "6                npmi_cf_score               1.720794           0.205699   \n",
       "7                     cf_score               0.997711           0.675051   \n",
       "8        cart_to_purchase_rate               0.805088           0.852040   \n",
       "9      user_total_interactions               1.537934           0.110180   \n",
       "10            user_total_views               1.143374           0.345694   \n",
       "11        user_total_purchases               1.149126           0.240834   \n",
       "12             hour_of_day_sin               0.365836           1.020020   \n",
       "13             views_month_u_p               0.753758           0.516687   \n",
       "14       store_unique_products               0.235811           0.891969   \n",
       "15        product_unique_users               0.355746           0.721036   \n",
       "16  days_since_interaction_u_s               0.219742           0.802170   \n",
       "17          purchases_week_u_p               0.789600           0.168145   \n",
       "18           session_purchases               0.717200           0.157699   \n",
       "19                svd_cf_score               0.631952           0.230739   \n",
       "\n",
       "    Average Importance  \n",
       "0            72.548251  \n",
       "1             3.991620  \n",
       "2             3.398792  \n",
       "3             1.619038  \n",
       "4             1.155400  \n",
       "5             0.982461  \n",
       "6             0.963246  \n",
       "7             0.836381  \n",
       "8             0.828564  \n",
       "9             0.824057  \n",
       "10            0.744534  \n",
       "11            0.694980  \n",
       "12            0.692928  \n",
       "13            0.635222  \n",
       "14            0.563890  \n",
       "15            0.538391  \n",
       "16            0.510956  \n",
       "17            0.478872  \n",
       "18            0.437449  \n",
       "19            0.431346  "
      ]
     },
     "metadata": {},
     "output_type": "display_data"
    },
    {
     "data": {
      "image/png": "[encoded data removed]",
      "text/plain": [
       "<Figure size 1200x800 with 1 Axes>"
      ]
     },
     "metadata": {},
     "output_type": "display_data"
    }
   ],
   "source": [
    "# Compare feature importance between models\n",
    "if 'feature_importance' in classifier_results and 'feature_importance' in ranker_results:\n",
    "    # Get all features from both models\n",
    "    all_features = set(list(classifier_results['feature_importance'].keys()) + \n",
    "                        list(ranker_results['feature_importance'].keys()))\n",
    "    \n",
    "    # Create comparison dataframe\n",
    "    fi_comparison = {'Feature': []}\n",
    "    fi_comparison['Classifier Importance'] = []\n",
    "    fi_comparison['Ranker Importance'] = []\n",
    "    \n",
    "    for feature in all_features:\n",
    "        fi_comparison['Feature'].append(feature)\n",
    "        fi_comparison['Classifier Importance'].append(\n",
    "            classifier_results['feature_importance'].get(feature, 0))\n",
    "        fi_comparison['Ranker Importance'].append(\n",
    "            ranker_results['feature_importance'].get(feature, 0))\n",
    "        \n",
    "    # Convert to DataFrame and sort by average importance\n",
    "    fi_df = pd.DataFrame(fi_comparison)\n",
    "    fi_df['Average Importance'] = (fi_df['Classifier Importance'] + fi_df['Ranker Importance']) / 2\n",
    "    fi_df = fi_df.sort_values('Average Importance', ascending=False).reset_index(drop=True)\n",
    "    \n",
    "    # Save to results directory\n",
    "    # fi_df.to_csv(f\"{results_dir}/feature_importance_comparison.csv\", index=False)\n",
    "    \n",
    "    # Display top features\n",
    "    print(\"Top 20 Features by Average Importance:\")\n",
    "    display(fi_df.head(20))\n",
    "    \n",
    "    # Plot top 15 features\n",
    "    plt.figure(figsize=(12, 8))\n",
    "    top_n = 15\n",
    "    top_features = fi_df.head(top_n)\n",
    "    \n",
    "    x = range(len(top_features))\n",
    "    width = 0.35\n",
    "    \n",
    "    plt.barh([p + width/2 for p in x], top_features['Classifier Importance'], \n",
    "            height=width, label='Classifier', color='#3498db')\n",
    "    plt.barh([p - width/2 for p in x], top_features['Ranker Importance'], \n",
    "            height=width, label='Ranker', color='#e74c3c')\n",
    "    \n",
    "    plt.yticks(x, top_features['Feature'])\n",
    "    plt.xlabel('Importance')\n",
    "    plt.title(f'Top {top_n} Feature Importance Comparison')\n",
    "    plt.legend()\n",
    "    plt.tight_layout()\n",
    "    plt.show()"
   ]
  },
  {
   "cell_type": "code",
   "execution_count": null,
   "metadata": {},
   "outputs": [],
   "source": []
  }
 ],
 "metadata": {
  "kernelspec": {
   "display_name": "RS-venv",
   "language": "python",
   "name": "python3"
  },
  "language_info": {
   "codemirror_mode": {
    "name": "ipython",
    "version": 3
   },
   "file_extension": ".py",
   "mimetype": "text/x-python",
   "name": "python",
   "nbconvert_exporter": "python",
   "pygments_lexer": "ipython3",
   "version": "3.10.12"
  }
 },
 "nbformat": 4,
 "nbformat_minor": 4
}
