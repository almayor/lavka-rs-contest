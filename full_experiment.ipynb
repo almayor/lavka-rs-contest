{
 "cells": [
  {
   "cell_type": "markdown",
   "metadata": {},
   "source": [
    "# Full Experiment with CatBoost Models\n",
    "\n",
    "This notebook runs a complete experiment using all available features with both CatBoostClassifier and CatBoostRanker models."
   ]
  },
  {
   "cell_type": "code",
   "execution_count": 1,
   "metadata": {},
   "outputs": [],
   "source": [
    "import os\n",
    "import polars as pl\n",
    "import pandas as pd\n",
    "import matplotlib.pyplot as plt\n",
    "import json\n",
    "import time\n",
    "\n",
    "from lavka_recsys import Config, Experiment, setup_logging"
   ]
  },
  {
   "cell_type": "code",
   "execution_count": 2,
   "metadata": {},
   "outputs": [
    {
     "data": {
      "text/plain": [
       "<Logger lavka_recsys (DEBUG)>"
      ]
     },
     "execution_count": 2,
     "metadata": {},
     "output_type": "execute_result"
    }
   ],
   "source": [
    "setup_logging()"
   ]
  },
  {
   "cell_type": "markdown",
   "metadata": {},
   "source": [
    "## Baseline Experiments"
   ]
  },
  {
   "cell_type": "markdown",
   "metadata": {},
   "source": [
    "First, let's see how well a model that outputs random predictions does."
   ]
  },
  {
   "cell_type": "code",
   "execution_count": 3,
   "metadata": {},
   "outputs": [
    {
     "name": "stdout",
     "output_type": "stream",
     "text": [
      "2025-05-05 17:04:52,189 - lavka_recsys.Experiment(random_baseline_587898) - INFO - Initialized experiment: random_baseline_587898\n",
      "2025-05-05 17:04:52,198 - lavka_recsys.Experiment(random_baseline_587898) - INFO - Config saved: results/random_baseline_587898_config.json\n",
      "2025-05-05 17:04:52,199 - lavka_recsys.Experiment(random_baseline_587898) - INFO - Setting up experiment environment...\n",
      "2025-05-05 17:04:52,201 - lavka_recsys.DataLoader - INFO - Loading training data from ../../data/lavka/train.parquet\n"
     ]
    },
    {
     "name": "stdout",
     "output_type": "stream",
     "text": [
      "2025-05-05 17:04:52,508 - lavka_recsys.DataLoader - INFO - Loading test data from ../../data/lavka/test.parquet\n",
      "2025-05-05 17:04:52,924 - lavka_recsys.DataLoader - INFO - Holdout Split:\n",
      "2025-05-05 17:04:52,951 - lavka_recsys.DataLoader - INFO -   train: 2022-12-31 18:46:42 → 2024-01-03 17:31:52 (15_070_276 rows, 367 days)\n",
      "2025-05-05 17:04:52,955 - lavka_recsys.DataLoader - INFO -   holdout: 2024-01-03 17:56:48 → 2024-02-02 17:34:51 (1_438_338 rows, 29 days)\n",
      "2025-05-05 17:04:52,956 - lavka_recsys.Experiment(random_baseline_587898) - INFO - Setup complete.\n",
      "2025-05-05 17:04:52,957 - lavka_recsys.Experiment(random_baseline_587898) - INFO - Starting experiment run...\n",
      "2025-05-05 17:04:53,437 - lavka_recsys.DataLoader - INFO - Validation Split:\n",
      "2025-05-05 17:04:53,459 - lavka_recsys.DataLoader - INFO -   train_history: 2022-12-31 18:46:42 → 2023-11-04 17:16:23 (12_082_523 rows, 307 days)\n",
      "2025-05-05 17:04:53,463 - lavka_recsys.DataLoader - INFO -   train_target: 2023-11-04 18:19:12 → 2023-12-04 17:25:02 (1_498_126 rows, 29 days)\n",
      "2025-05-05 17:04:53,497 - lavka_recsys.DataLoader - INFO -   val_history: 2022-12-31 18:46:42 → 2023-12-04 17:25:02 (13_580_649 rows, 337 days)\n",
      "2025-05-05 17:04:53,504 - lavka_recsys.DataLoader - INFO -   val_target: 2023-12-04 18:02:13 → 2024-01-03 17:31:52 (1_489_627 rows, 29 days)\n",
      "2025-05-05 17:04:53,596 - lavka_recsys.CachedFeatureFactory - INFO - Using cached feature batch\n",
      "2025-05-05 17:04:53,695 - lavka_recsys.CachedFeatureFactory - INFO - Using cached feature batch\n",
      "2025-05-05 17:04:53,697 - lavka_recsys.ModelFactory - INFO - Creating random_baseline model with params: {'task_type': 'CPU', 'thread_count': -1}\n",
      "2025-05-05 17:04:53,698 - lavka_recsys.Experiment(random_baseline_587898) - INFO - Training completed in 0.00s\n",
      "2025-05-05 17:04:53,698 - lavka_recsys.Experiment(random_baseline_587898) - INFO - Evaluating on holdout.\n",
      "2025-05-05 17:04:53,795 - lavka_recsys.CachedFeatureFactory - INFO - Using cached feature batch\n",
      "2025-05-05 17:05:05,421 - lavka_recsys.Experiment(random_baseline_587898) - INFO - Run results saved: results/random_baseline_587898_results.json\n",
      "2025-05-05 17:05:05,422 - lavka_recsys.Experiment(random_baseline_587898) - INFO - Run finished and results saved.\n",
      "\n",
      "Random Baseline Results (completed in 13.24 seconds):\n",
      "  auc: 0.500740\n",
      "  logloss: 0.998270\n",
      "  ndcg@10: 0.367397\n"
     ]
    }
   ],
   "source": [
    "# Create experiment\n",
    "config = (Config\n",
    "    .load('default_config.yaml')\n",
    "    .set('features', ['random_noise'])\n",
    "    .set('model.type', 'random_baseline')\n",
    ")\n",
    "random_experiment = Experiment(\"random_baseline\", config)\n",
    "\n",
    "# Setup and run\n",
    "start_time = time.time()\n",
    "random_experiment.setup()\n",
    "random_results = random_experiment.run()\n",
    "random_time = time.time() - start_time\n",
    "\n",
    "# Print metrics\n",
    "print(f\"\\nRandom Baseline Results (completed in {random_time:.2f} seconds):\")\n",
    "for metric, value in random_results['metrics'].items():\n",
    "    print(f\"  {metric}: {value:.6f}\")"
   ]
  },
  {
   "cell_type": "code",
   "execution_count": 4,
   "metadata": {},
   "outputs": [],
   "source": [
    "# random_experiment.create_submission()"
   ]
  },
  {
   "cell_type": "markdown",
   "metadata": {},
   "source": [
    "Kaggle Public Score = `0.30071`."
   ]
  },
  {
   "cell_type": "markdown",
   "metadata": {},
   "source": [
    "Now let's consider a baseline that only considers popularity (i.e. `product_total_purchases`)."
   ]
  },
  {
   "cell_type": "code",
   "execution_count": 5,
   "metadata": {},
   "outputs": [
    {
     "name": "stdout",
     "output_type": "stream",
     "text": [
      "2025-05-05 17:05:05,667 - lavka_recsys.Experiment(popularity_baseline_03697e) - INFO - Initialized experiment: popularity_baseline_03697e\n",
      "2025-05-05 17:05:05,674 - lavka_recsys.Experiment(popularity_baseline_03697e) - INFO - Config saved: results/popularity_baseline_03697e_config.json\n",
      "2025-05-05 17:05:05,675 - lavka_recsys.Experiment(popularity_baseline_03697e) - INFO - Setting up experiment environment...\n",
      "2025-05-05 17:05:05,677 - lavka_recsys.DataLoader - INFO - Loading training data from ../../data/lavka/train.parquet\n"
     ]
    },
    {
     "name": "stdout",
     "output_type": "stream",
     "text": [
      "2025-05-05 17:05:06,006 - lavka_recsys.DataLoader - INFO - Loading test data from ../../data/lavka/test.parquet\n",
      "2025-05-05 17:05:06,297 - lavka_recsys.DataLoader - INFO - Holdout Split:\n",
      "2025-05-05 17:05:06,324 - lavka_recsys.DataLoader - INFO -   train: 2022-12-31 18:46:42 → 2024-01-03 17:31:52 (15_070_276 rows, 367 days)\n",
      "2025-05-05 17:05:06,328 - lavka_recsys.DataLoader - INFO -   holdout: 2024-01-03 17:56:48 → 2024-02-02 17:34:51 (1_438_338 rows, 29 days)\n",
      "2025-05-05 17:05:06,329 - lavka_recsys.Experiment(popularity_baseline_03697e) - INFO - Setup complete.\n",
      "2025-05-05 17:05:06,330 - lavka_recsys.Experiment(popularity_baseline_03697e) - INFO - Starting experiment run...\n",
      "2025-05-05 17:05:06,725 - lavka_recsys.DataLoader - INFO - Validation Split:\n",
      "2025-05-05 17:05:06,745 - lavka_recsys.DataLoader - INFO -   train_history: 2022-12-31 18:46:42 → 2023-11-04 17:16:23 (12_082_523 rows, 307 days)\n",
      "2025-05-05 17:05:06,749 - lavka_recsys.DataLoader - INFO -   train_target: 2023-11-04 18:19:12 → 2023-12-04 17:25:02 (1_498_126 rows, 29 days)\n",
      "2025-05-05 17:05:06,773 - lavka_recsys.DataLoader - INFO -   val_history: 2022-12-31 18:46:42 → 2023-12-04 17:25:02 (13_580_649 rows, 337 days)\n",
      "2025-05-05 17:05:06,777 - lavka_recsys.DataLoader - INFO -   val_target: 2023-12-04 18:02:13 → 2024-01-03 17:31:52 (1_489_627 rows, 29 days)\n",
      "2025-05-05 17:05:06,897 - lavka_recsys.CachedFeatureFactory - INFO - Using cached feature batch\n",
      "2025-05-05 17:05:06,997 - lavka_recsys.CachedFeatureFactory - INFO - Using cached feature batch\n",
      "2025-05-05 17:05:06,999 - lavka_recsys.ModelFactory - INFO - Creating single_feature model with params: {'feature_name': 'product_total_purchases', 'desc': True, 'task_type': 'CPU', 'thread_count': -1}\n",
      "2025-05-05 17:05:07,000 - lavka_recsys.Experiment(popularity_baseline_03697e) - INFO - Training completed in 0.00s\n",
      "2025-05-05 17:05:07,001 - lavka_recsys.Experiment(popularity_baseline_03697e) - INFO - Evaluating on holdout.\n",
      "2025-05-05 17:05:07,101 - lavka_recsys.CachedFeatureFactory - INFO - Using cached feature batch\n",
      "2025-05-05 17:05:18,649 - lavka_recsys.Experiment(popularity_baseline_03697e) - INFO - Run results saved: results/popularity_baseline_03697e_results.json\n",
      "2025-05-05 17:05:18,653 - lavka_recsys.Experiment(popularity_baseline_03697e) - INFO - Run finished and results saved.\n",
      "\n",
      "Popularity Baseline Results (completed in 13.02 seconds):\n",
      "  auc: 0.612540\n",
      "  logloss: 31.678228\n",
      "  ndcg@10: 0.395567\n"
     ]
    }
   ],
   "source": [
    "# Create experiment\n",
    "config = (Config\n",
    "    .load('default_config.yaml')\n",
    "    .set('features', ['product_stats'])\n",
    "    .set('model.type', 'single_feature')\n",
    "    .set('model.config.single_feature.feature_name', 'product_total_purchases')\n",
    "    .set('model.config.single_feature.desc', True)\n",
    ")\n",
    "pop_experiment = Experiment(\n",
    "    \"popularity_baseline\",\n",
    "    config\n",
    ")\n",
    "\n",
    "# Setup and run\n",
    "start_time = time.time()\n",
    "pop_experiment.setup()\n",
    "pop_results = pop_experiment.run()\n",
    "pop_time = time.time() - start_time\n",
    "\n",
    "# Print metrics\n",
    "print(f\"\\nPopularity Baseline Results (completed in {pop_time:.2f} seconds):\")\n",
    "for metric, value in pop_results['metrics'].items():\n",
    "    print(f\"  {metric}: {value:.6f}\")"
   ]
  },
  {
   "cell_type": "code",
   "execution_count": 7,
   "metadata": {},
   "outputs": [],
   "source": [
    "# pop_experiment.create_submission()"
   ]
  },
  {
   "cell_type": "markdown",
   "metadata": {},
   "source": [
    "Kaggle Public Score = `0.33188`."
   ]
  },
  {
   "cell_type": "markdown",
   "metadata": {},
   "source": [
    "## CatBoost Classifier Experiment\n",
    "\n",
    "Run an experiment with CatBoost Classifier."
   ]
  },
  {
   "cell_type": "code",
   "execution_count": null,
   "metadata": {},
   "outputs": [
    {
     "name": "stdout",
     "output_type": "stream",
     "text": [
      "2025-05-05 21:13:14,572 - lavka_recsys.Experiment(catboost_classifier_ebe53b) - INFO - Initialized experiment: catboost_classifier_ebe53b\n",
      "2025-05-05 21:13:14,581 - lavka_recsys.Experiment(catboost_classifier_ebe53b) - INFO - Config saved: results/catboost_classifier_ebe53b_config.json\n",
      "2025-05-05 21:13:14,582 - lavka_recsys.Experiment(catboost_classifier_ebe53b) - INFO - Setting up experiment environment...\n",
      "2025-05-05 21:13:14,583 - lavka_recsys.DataLoader - INFO - Loading training data from ../../data/lavka/train.parquet\n"
     ]
    },
    {
     "name": "stdout",
     "output_type": "stream",
     "text": [
      "2025-05-05 21:13:14,884 - lavka_recsys.DataLoader - INFO - Loading test data from ../../data/lavka/test.parquet\n",
      "2025-05-05 21:13:15,152 - lavka_recsys.DataLoader - INFO - Holdout Split:\n",
      "2025-05-05 21:13:15,179 - lavka_recsys.DataLoader - INFO -   train: 2022-12-31 18:46:42 → 2024-01-03 17:31:52 (15_070_276 rows, 367 days)\n",
      "2025-05-05 21:13:15,183 - lavka_recsys.DataLoader - INFO -   holdout: 2024-01-03 17:56:48 → 2024-02-02 17:34:51 (1_438_338 rows, 29 days)\n",
      "2025-05-05 21:13:15,184 - lavka_recsys.Experiment(catboost_classifier_ebe53b) - INFO - Setup complete.\n",
      "2025-05-05 21:13:15,185 - lavka_recsys.Experiment(catboost_classifier_ebe53b) - INFO - Starting experiment run...\n",
      "2025-05-05 21:13:15,524 - lavka_recsys.DataLoader - INFO - Validation Split:\n",
      "2025-05-05 21:13:15,546 - lavka_recsys.DataLoader - INFO -   train_history: 2022-12-31 18:46:42 → 2023-11-04 17:16:23 (12_082_523 rows, 307 days)\n",
      "2025-05-05 21:13:15,550 - lavka_recsys.DataLoader - INFO -   train_target: 2023-11-04 18:19:12 → 2023-12-04 17:25:02 (1_498_126 rows, 29 days)\n",
      "2025-05-05 21:13:15,575 - lavka_recsys.DataLoader - INFO -   val_history: 2022-12-31 18:46:42 → 2023-12-04 17:25:02 (13_580_649 rows, 337 days)\n",
      "2025-05-05 21:13:15,579 - lavka_recsys.DataLoader - INFO -   val_target: 2023-12-04 18:02:13 → 2024-01-03 17:31:52 (1_489_627 rows, 29 days)\n",
      "2025-05-05 21:13:16,845 - lavka_recsys.CachedFeatureFactory - INFO - Using cached feature batch\n",
      "2025-05-05 21:13:18,014 - lavka_recsys.CachedFeatureFactory - INFO - Using cached feature batch\n",
      "2025-05-05 21:13:18,017 - lavka_recsys.ModelFactory - INFO - Creating catboost_classifier model with params: {'loss_function': 'Logloss', 'eval_metric': 'AUC', 'early_stopping_rounds': 50, 'custom_metric': ['AUC', 'NDCG:top=10'], 'task_type': 'GPU', 'devices': '4,5', 'thread_count': -1}\n",
      "2025-05-05 21:13:18,258 - lavka_recsys.CatBoostClassifierModel - INFO - Sorting data by group_id for grouped ranking\n",
      "2025-05-05 21:13:21,997 - lavka_recsys.CatBoostClassifierModel - INFO - Sorting data by group_id for grouped ranking\n",
      "2025-05-05 21:13:25,640 - lavka_recsys.CatBoostClassifierModel - INFO - Converting 'user_segment' to string for CatBoost\n",
      "2025-05-05 21:13:25,663 - lavka_recsys.CatBoostClassifierModel - INFO - Converting 'city_name' to string for CatBoost\n",
      "2025-05-05 21:13:25,684 - lavka_recsys.CatBoostClassifierModel - INFO - Converting 'source_type' to string for CatBoost\n",
      "2025-05-05 21:13:27,566 - lavka_recsys.CatBoostClassifierModel - INFO - Converting 'user_segment' to string for CatBoost\n",
      "2025-05-05 21:13:27,589 - lavka_recsys.CatBoostClassifierModel - INFO - Converting 'city_name' to string for CatBoost\n",
      "2025-05-05 21:13:27,608 - lavka_recsys.CatBoostClassifierModel - INFO - Converting 'source_type' to string for CatBoost\n",
      "2025-05-05 21:13:29,270 - lavka_recsys.CatBoostClassifierModel - INFO - Training CatBoostClassifier model with columns: Index(['user_total_purchases', 'product_total_purchases', 'is_weekend',\n",
      "       'user_product_purchase_cross', 'views_month_u_p', 'user_total_views',\n",
      "       'interactions_week_u_p', 'std_purchase_hour', 'day_of_week',\n",
      "       'session_purchases', 'count_purchase_u_s', 'user_product_store_cross',\n",
      "       'mean_interval_days', 'purchase_trend', 'product_total_views',\n",
      "       'source_type', 'session_unique_stores', 'purchase_view_ratio',\n",
      "       'purchases_week_u_p', 'cf_score', 'session_unique_products',\n",
      "       'hour_of_day', 'product_total_interactions', 'session_length',\n",
      "       'city_total_views', 'days_since_interaction_u_s',\n",
      "       'interactions_day_u_p', 'user_segment', 'month', 'purchases_month_u_p',\n",
      "       'user_store_purchase_cross', 'user_total_interactions',\n",
      "       'store_total_interactions', 'most_common_purchase_day',\n",
      "       'days_since_interaction_u_p', 'product_unique_users', 'views_week_u_p',\n",
      "       'svd_cf_score', 'city_name', 'bpr_popular_score', 'count_purchase_u_p',\n",
      "       'city_unique_stores', 'session_duration_seconds', 'avg_purchase_hour',\n",
      "       'store_total_purchases', 'hour_relevance', 'interactions_month_u_p',\n",
      "       'user_unique_products', 'npmi_cf_score', 'ctr_product',\n",
      "       'store_total_views', 'interaction_trend', 'purchases_day_u_p',\n",
      "       'city_total_interactions', 'day_of_week_relevance', 'puresvd_cf_score',\n",
      "       'views_day_u_p', 'city_total_purchases', 'store_unique_products',\n",
      "       'cart_to_purchase_rate'],\n",
      "      dtype='object') (cat_columns: ['user_segment', 'city_name', 'source_type'])\n"
     ]
    },
    {
     "data": {
      "application/vnd.jupyter.widget-view+json": {
       "model_id": "3c479a159edb4a01a7f2b72b9ac3ebfa",
       "version_major": 2,
       "version_minor": 0
      },
      "text/plain": [
       "MetricVisualizer(layout=Layout(align_self='stretch', height='500px'))"
      ]
     },
     "metadata": {},
     "output_type": "display_data"
    },
    {
     "name": "stderr",
     "output_type": "stream",
     "text": [
      "Default metric period is 5 because AUC, NDCG is/are not implemented for GPU\n",
      "Metric NDCG:top=10;type=Base is not implemented on GPU. Will use CPU for metric computation, this could significantly affect learning time\n"
     ]
    },
    {
     "name": "stdout",
     "output_type": "stream",
     "text": [
      "2025-05-05 21:14:30,526 - lavka_recsys.Experiment(catboost_classifier_ebe53b) - INFO - Training completed in 72.51s\n",
      "2025-05-05 21:14:30,531 - lavka_recsys.Experiment(catboost_classifier_ebe53b) - INFO - Evaluating on holdout.\n",
      "2025-05-05 21:14:31,772 - lavka_recsys.CachedFeatureFactory - INFO - Using cached feature batch\n",
      "2025-05-05 21:14:31,981 - lavka_recsys.CatBoostClassifierModel - INFO - Converting 'source_type' to string for CatBoost\n",
      "2025-05-05 21:14:32,023 - lavka_recsys.CatBoostClassifierModel - INFO - Converting 'user_segment' to string for CatBoost\n",
      "2025-05-05 21:14:32,043 - lavka_recsys.CatBoostClassifierModel - INFO - Converting 'city_name' to string for CatBoost\n",
      "2025-05-05 21:14:46,567 - lavka_recsys.Experiment(catboost_classifier_ebe53b) - INFO - Run results saved: results/catboost_classifier_ebe53b_results.json\n",
      "2025-05-05 21:14:46,570 - lavka_recsys.Experiment(catboost_classifier_ebe53b) - INFO - Run finished and results saved.\n",
      "\n",
      "CatBoost Classifier Results (completed in 92.02 seconds):\n",
      "  auc: 0.854386\n",
      "  logloss: 0.083212\n",
      "  ndcg@10: 0.484254\n",
      "\n",
      "Top 10 Important Features:\n",
      "  source_type: 65.507575\n",
      "  count_purchase_u_p: 4.952153\n",
      "  purchase_view_ratio: 4.870295\n",
      "  purchases_month_u_p: 2.437190\n",
      "  user_total_interactions: 1.448966\n",
      "  user_total_views: 1.218772\n",
      "  user_total_purchases: 1.123921\n",
      "  bpr_popular_score: 1.048813\n",
      "  cf_score: 1.014829\n",
      "  mean_interval_days: 1.012932\n"
     ]
    }
   ],
   "source": [
    "classifier_experiment = Experiment(\"catboost_classifier\", (Config\n",
    "    .load('default_config.yaml')\n",
    "    .set('model.type', 'catboost_classifier')\n",
    "))\n",
    "\n",
    "# Setup and run\n",
    "classifier_experiment.setup()\n",
    "classifier_results = classifier_experiment.run()\n",
    "\n",
    "# Print metrics\n",
    "print(f\"\\nCatBoost Classifier Results:\")\n",
    "for metric, value in classifier_results['metrics'].items():\n",
    "    print(f\"  {metric}: {value:.6f}\")\n",
    "\n",
    "# Print feature importance\n",
    "if 'feature_importance' in classifier_results:\n",
    "    print(\"\\nTop 10 Important Features:\")\n",
    "    top_features = sorted(classifier_results['feature_importance'].items(), \n",
    "                        key=lambda x: x[1], reverse=True)[:10]\n",
    "    for feature, importance in top_features:\n",
    "        print(f\"  {feature}: {importance:.6f}\")"
   ]
  },
  {
   "cell_type": "code",
   "execution_count": 6,
   "metadata": {},
   "outputs": [
    {
     "name": "stdout",
     "output_type": "stream",
     "text": [
      "2025-05-05 21:17:27,157 - lavka_recsys.Experiment(catboost_classifier_ebe53b) - INFO - Computing predictions...\n",
      "2025-05-05 21:17:27,163 - lavka_recsys.DataLoader - INFO - Holdout data merged back into training data.\n",
      "2025-05-05 21:17:27,198 - lavka_recsys.DataLoader - INFO - Validation Split:\n",
      "2025-05-05 21:17:27,228 - lavka_recsys.DataLoader - INFO -   history: 2022-12-31 18:46:42 → 2024-01-03 17:31:52 (15_070_276 rows, 367 days)\n",
      "2025-05-05 21:17:27,232 - lavka_recsys.DataLoader - INFO -   target: 2024-01-03 17:56:48 → 2024-02-02 17:34:51 (1_438_338 rows, 29 days)\n",
      "2025-05-05 21:17:28,350 - lavka_recsys.CachedFeatureFactory - INFO - Using cached feature batch\n",
      "2025-05-05 21:17:28,352 - lavka_recsys.ModelFactory - INFO - Creating catboost_classifier model with params: {'loss_function': 'Logloss', 'eval_metric': 'AUC', 'early_stopping_rounds': 50, 'custom_metric': ['AUC', 'NDCG:top=10'], 'task_type': 'GPU', 'devices': '4,5', 'thread_count': -1}\n",
      "2025-05-05 21:17:28,599 - lavka_recsys.CatBoostClassifierModel - INFO - Sorting data by group_id for grouped ranking\n",
      "2025-05-05 21:17:31,757 - lavka_recsys.CatBoostClassifierModel - INFO - Converting 'user_segment' to string for CatBoost\n",
      "2025-05-05 21:17:31,778 - lavka_recsys.CatBoostClassifierModel - INFO - Converting 'city_name' to string for CatBoost\n",
      "2025-05-05 21:17:31,801 - lavka_recsys.CatBoostClassifierModel - INFO - Converting 'source_type' to string for CatBoost\n",
      "2025-05-05 21:17:33,326 - lavka_recsys.CatBoostClassifierModel - INFO - Training CatBoostClassifier model with columns: Index(['user_total_purchases', 'product_total_purchases', 'is_weekend',\n",
      "       'user_product_purchase_cross', 'views_month_u_p', 'user_total_views',\n",
      "       'interactions_week_u_p', 'std_purchase_hour', 'day_of_week',\n",
      "       'session_purchases', 'count_purchase_u_s', 'user_product_store_cross',\n",
      "       'mean_interval_days', 'purchase_trend', 'product_total_views',\n",
      "       'source_type', 'session_unique_stores', 'purchase_view_ratio',\n",
      "       'purchases_week_u_p', 'cf_score', 'session_unique_products',\n",
      "       'hour_of_day', 'product_total_interactions', 'session_length',\n",
      "       'city_total_views', 'days_since_interaction_u_s',\n",
      "       'interactions_day_u_p', 'user_segment', 'month', 'purchases_month_u_p',\n",
      "       'user_store_purchase_cross', 'user_total_interactions',\n",
      "       'store_total_interactions', 'most_common_purchase_day',\n",
      "       'days_since_interaction_u_p', 'product_unique_users', 'views_week_u_p',\n",
      "       'svd_cf_score', 'city_name', 'bpr_popular_score', 'count_purchase_u_p',\n",
      "       'city_unique_stores', 'session_duration_seconds', 'avg_purchase_hour',\n",
      "       'store_total_purchases', 'hour_relevance', 'interactions_month_u_p',\n",
      "       'user_unique_products', 'npmi_cf_score', 'ctr_product',\n",
      "       'store_total_views', 'interaction_trend', 'purchases_day_u_p',\n",
      "       'city_total_interactions', 'day_of_week_relevance', 'puresvd_cf_score',\n",
      "       'views_day_u_p', 'city_total_purchases', 'store_unique_products',\n",
      "       'cart_to_purchase_rate'],\n",
      "      dtype='object') (cat_columns: ['user_segment', 'city_name', 'source_type'])\n"
     ]
    },
    {
     "data": {
      "application/vnd.jupyter.widget-view+json": {
       "model_id": "e56fac232a204993bc3191e9e3384ecf",
       "version_major": 2,
       "version_minor": 0
      },
      "text/plain": [
       "MetricVisualizer(layout=Layout(align_self='stretch', height='500px'))"
      ]
     },
     "metadata": {},
     "output_type": "display_data"
    },
    {
     "name": "stderr",
     "output_type": "stream",
     "text": [
      "Default metric period is 5 because AUC, NDCG is/are not implemented for GPU\n",
      "Metric NDCG:top=10;type=Base is not implemented on GPU. Will use CPU for metric computation, this could significantly affect learning time\n"
     ]
    },
    {
     "name": "stdout",
     "output_type": "stream",
     "text": [
      "2025-05-05 21:18:26,595 - lavka_recsys.Experiment(catboost_classifier_ebe53b) - INFO - Training completed in 58.24s\n",
      "2025-05-05 21:18:26,600 - lavka_recsys.DataLoader - INFO - Holdout data merged back into training data.\n",
      "2025-05-05 21:18:26,633 - lavka_recsys.CachedFeatureFactory - INFO - Generating feature batch\n",
      "2025-05-05 21:18:26,636 - lavka_recsys.FeatureFactory - INFO - Invoking feature generators: source_type, count_purchase_user_product, count_purchase_user_store, ctr_product, cart_to_purchase_rate, purchase_view_ratio, recency_user_product, user_stats, product_stats, store_stats, city_stats, product_temporal_patterns, recency_user_store, time_features, time_window_user_product, session_features, frequency_features, product_popularity_trend, cross_features, user_segments, memory-based-cf, npmi-cf, puresvd-cf, svd-cf, bpr-popular\n"
     ]
    },
    {
     "data": {
      "application/vnd.jupyter.widget-view+json": {
       "model_id": "22598992b72244e38b219d63559430ef",
       "version_major": 2,
       "version_minor": 0
      },
      "text/plain": [
       "  0%|          | 0/100 [00:00<?, ?it/s]"
      ]
     },
     "metadata": {},
     "output_type": "display_data"
    },
    {
     "data": {
      "application/vnd.jupyter.widget-view+json": {
       "model_id": "b3ed070c5311413bba6e91608730d172",
       "version_major": 2,
       "version_minor": 0
      },
      "text/plain": [
       "BPR processing:   0%|          | 0/807 [00:00<?, ?it/s]"
      ]
     },
     "metadata": {},
     "output_type": "display_data"
    },
    {
     "name": "stdout",
     "output_type": "stream",
     "text": [
      "2025-05-05 21:19:58,736 - lavka_recsys.FeatureFactory - INFO - Joined features\n",
      "2025-05-05 21:19:58,737 - lavka_recsys.FeatureFactory - INFO - All column names: {'user_total_purchases', 'product_total_purchases', 'is_weekend', 'user_product_purchase_cross', 'views_month_u_p', 'user_total_views', 'interactions_week_u_p', 'std_purchase_hour', 'day_of_week', 'session_purchases', 'count_purchase_u_s', 'user_product_store_cross', 'mean_interval_days', 'purchase_trend', 'product_total_views', 'source_type', 'session_unique_stores', 'purchase_view_ratio', 'purchases_week_u_p', 'cf_score', 'session_unique_products', 'hour_of_day', 'product_total_interactions', 'session_length', 'city_total_views', 'days_since_interaction_u_s', 'interactions_day_u_p', 'user_segment', 'month', 'purchases_month_u_p', 'user_store_purchase_cross', 'user_total_interactions', 'store_total_interactions', 'most_common_purchase_day', 'days_since_interaction_u_p', 'product_unique_users', 'views_week_u_p', 'svd_cf_score', 'city_name', 'bpr_popular_score', 'count_purchase_u_p', 'city_unique_stores', 'session_duration_seconds', 'avg_purchase_hour', 'store_total_purchases', 'hour_relevance', 'interactions_month_u_p', 'user_unique_products', 'npmi_cf_score', 'ctr_product', 'store_total_views', 'interaction_trend', 'purchases_day_u_p', 'city_total_interactions', 'day_of_week_relevance', 'puresvd_cf_score', 'views_day_u_p', 'city_total_purchases', 'store_unique_products', 'cart_to_purchase_rate'}\n",
      "2025-05-05 21:19:58,738 - lavka_recsys.FeatureFactory - INFO - All categorical column names: ['user_segment', 'city_name', 'source_type']\n",
      "2025-05-05 21:19:59,177 - lavka_recsys.CatBoostClassifierModel - INFO - Converting 'source_type' to string for CatBoost\n",
      "2025-05-05 21:19:59,184 - lavka_recsys.CatBoostClassifierModel - INFO - Converting 'user_segment' to string for CatBoost\n",
      "2025-05-05 21:19:59,190 - lavka_recsys.CatBoostClassifierModel - INFO - Converting 'city_name' to string for CatBoost\n",
      "2025-05-05 21:19:59,681 - lavka_recsys.Experiment(catboost_classifier_ebe53b) - INFO - Submission saved: results/submissions/catboost_classifier_ebe53b_submission.csv\n",
      "2025-05-05 21:19:59,730 - lavka_recsys.Experiment(catboost_classifier_ebe53b) - INFO - Submission model saved: results/submissions/catboost_classifier_ebe53b_model.pkl\n"
     ]
    },
    {
     "data": {
      "text/html": [
       "<div><style>\n",
       ".dataframe > thead > tr,\n",
       ".dataframe > tbody > tr {\n",
       "  text-align: right;\n",
       "  white-space: pre-wrap;\n",
       "}\n",
       "</style>\n",
       "<small>shape: (292_826, 2)</small><table border=\"1\" class=\"dataframe\"><thead><tr><th>index</th><th>request_id</th></tr><tr><td>u32</td><td>u64</td></tr></thead><tbody><tr><td>10580</td><td>18249322439088082464</td></tr><tr><td>175497</td><td>18249322439088082464</td></tr><tr><td>194218</td><td>18249322439088082464</td></tr><tr><td>240500</td><td>18249322439088082464</td></tr><tr><td>196870</td><td>6482228966567928247</td></tr><tr><td>&hellip;</td><td>&hellip;</td></tr><tr><td>185742</td><td>9521914430913884488</td></tr><tr><td>158989</td><td>8125801675136871061</td></tr><tr><td>246665</td><td>8125801675136871061</td></tr><tr><td>198443</td><td>5291459374113443837</td></tr><tr><td>225904</td><td>7724004428801224267</td></tr></tbody></table></div>"
      ],
      "text/plain": [
       "shape: (292_826, 2)\n",
       "┌────────┬──────────────────────┐\n",
       "│ index  ┆ request_id           │\n",
       "│ ---    ┆ ---                  │\n",
       "│ u32    ┆ u64                  │\n",
       "╞════════╪══════════════════════╡\n",
       "│ 10580  ┆ 18249322439088082464 │\n",
       "│ 175497 ┆ 18249322439088082464 │\n",
       "│ 194218 ┆ 18249322439088082464 │\n",
       "│ 240500 ┆ 18249322439088082464 │\n",
       "│ 196870 ┆ 6482228966567928247  │\n",
       "│ …      ┆ …                    │\n",
       "│ 185742 ┆ 9521914430913884488  │\n",
       "│ 158989 ┆ 8125801675136871061  │\n",
       "│ 246665 ┆ 8125801675136871061  │\n",
       "│ 198443 ┆ 5291459374113443837  │\n",
       "│ 225904 ┆ 7724004428801224267  │\n",
       "└────────┴──────────────────────┘"
      ]
     },
     "execution_count": 6,
     "metadata": {},
     "output_type": "execute_result"
    }
   ],
   "source": [
    "classifier_experiment.create_submission()"
   ]
  },
  {
   "cell_type": "markdown",
   "metadata": {},
   "source": [
    "Kaggle Public Score: `NDCG@10 = 0.40962`."
   ]
  },
  {
   "cell_type": "code",
   "execution_count": 3,
   "metadata": {},
   "outputs": [
    {
     "name": "stdout",
     "output_type": "stream",
     "text": [
      "2025-05-05 22:35:20,777 - lavka_recsys.Experiment(catboost_classifier_07a813) - INFO - Initialized experiment: catboost_classifier_07a813\n",
      "2025-05-05 22:35:20,791 - lavka_recsys.Experiment(catboost_classifier_07a813) - INFO - Config saved: results/catboost_classifier_07a813_config.json\n",
      "2025-05-05 22:35:20,792 - lavka_recsys.Experiment(catboost_classifier_07a813) - INFO - Setting up experiment environment...\n",
      "2025-05-05 22:35:20,794 - lavka_recsys.DataLoader - INFO - Loading training data from ../../data/lavka/train.parquet\n",
      "2025-05-05 22:35:21,127 - lavka_recsys.DataLoader - INFO - Loading test data from ../../data/lavka/test.parquet\n",
      "2025-05-05 22:35:21,540 - lavka_recsys.DataLoader - INFO - Holdout Split:\n",
      "2025-05-05 22:35:21,569 - lavka_recsys.DataLoader - INFO -   train: 2022-12-31 18:46:42 → 2024-01-03 17:31:52 (15_070_276 rows, 367 days)\n",
      "2025-05-05 22:35:21,573 - lavka_recsys.DataLoader - INFO -   holdout: 2024-01-03 17:56:48 → 2024-02-02 17:34:51 (1_438_338 rows, 29 days)\n",
      "2025-05-05 22:35:21,573 - lavka_recsys.Experiment(catboost_classifier_07a813) - INFO - Setup complete.\n",
      "2025-05-05 22:35:21,574 - lavka_recsys.Experiment(catboost_classifier_07a813) - INFO - Starting experiment run...\n",
      "2025-05-05 22:35:22,038 - lavka_recsys.DataLoader - INFO - Validation Split:\n",
      "2025-05-05 22:35:22,060 - lavka_recsys.DataLoader - INFO -   train_history: 2022-12-31 18:46:42 → 2023-11-04 17:16:23 (12_082_523 rows, 307 days)\n",
      "2025-05-05 22:35:22,064 - lavka_recsys.DataLoader - INFO -   train_target: 2023-11-04 18:19:12 → 2023-12-04 17:25:02 (1_498_126 rows, 29 days)\n",
      "2025-05-05 22:35:22,092 - lavka_recsys.DataLoader - INFO -   val_history: 2022-12-31 18:46:42 → 2023-12-04 17:25:02 (13_580_649 rows, 337 days)\n",
      "2025-05-05 22:35:22,096 - lavka_recsys.DataLoader - INFO -   val_target: 2023-12-04 18:02:13 → 2024-01-03 17:31:52 (1_489_627 rows, 29 days)\n",
      "2025-05-05 22:35:23,460 - lavka_recsys.CachedFeatureFactory - INFO - Using cached feature batch\n",
      "2025-05-05 22:35:24,756 - lavka_recsys.CachedFeatureFactory - INFO - Using cached feature batch\n",
      "2025-05-05 22:35:24,759 - lavka_recsys.ModelFactory - INFO - Creating catboost_classifier model with params: {'loss_function': 'Logloss', 'eval_metric': 'NDCG:top=10', 'early_stopping_rounds': 50, 'custom_metric': ['AUC'], 'iterations': 500, 'learning_rate': 0.1, 'depth': 6, 'l2_leaf_reg': 3.0, 'task_type': 'GPU', 'devices': '4,5', 'thread_count': -1}\n",
      "2025-05-05 22:35:25,126 - lavka_recsys.CatBoostClassifierModel - INFO - Sorting data by group_id for grouped ranking\n",
      "2025-05-05 22:35:28,686 - lavka_recsys.CatBoostClassifierModel - INFO - Sorting data by group_id for grouped ranking\n",
      "2025-05-05 22:35:32,059 - lavka_recsys.CatBoostClassifierModel - INFO - Converting 'user_segment' to string for CatBoost\n",
      "2025-05-05 22:35:32,080 - lavka_recsys.CatBoostClassifierModel - INFO - Converting 'city_name' to string for CatBoost\n",
      "2025-05-05 22:35:32,102 - lavka_recsys.CatBoostClassifierModel - INFO - Converting 'source_type' to string for CatBoost\n",
      "2025-05-05 22:35:33,829 - lavka_recsys.CatBoostClassifierModel - INFO - Converting 'user_segment' to string for CatBoost\n",
      "2025-05-05 22:35:33,851 - lavka_recsys.CatBoostClassifierModel - INFO - Converting 'city_name' to string for CatBoost\n",
      "2025-05-05 22:35:33,874 - lavka_recsys.CatBoostClassifierModel - INFO - Converting 'source_type' to string for CatBoost\n",
      "2025-05-05 22:35:35,294 - lavka_recsys.CatBoostClassifierModel - INFO - Training CatBoostClassifier model with columns: Index(['user_total_purchases', 'product_total_purchases', 'is_weekend',\n",
      "       'user_product_purchase_cross', 'views_month_u_p', 'user_total_views',\n",
      "       'interactions_week_u_p', 'std_purchase_hour', 'day_of_week',\n",
      "       'session_purchases', 'count_purchase_u_s', 'user_product_store_cross',\n",
      "       'mean_interval_days', 'purchase_trend', 'product_total_views',\n",
      "       'source_type', 'session_unique_stores', 'purchase_view_ratio',\n",
      "       'purchases_week_u_p', 'cf_score', 'session_unique_products',\n",
      "       'hour_of_day', 'product_total_interactions', 'session_length',\n",
      "       'city_total_views', 'days_since_interaction_u_s',\n",
      "       'interactions_day_u_p', 'user_segment', 'month', 'purchases_month_u_p',\n",
      "       'user_store_purchase_cross', 'user_total_interactions',\n",
      "       'store_total_interactions', 'most_common_purchase_day',\n",
      "       'days_since_interaction_u_p', 'product_unique_users', 'views_week_u_p',\n",
      "       'svd_cf_score', 'city_name', 'bpr_popular_score', 'count_purchase_u_p',\n",
      "       'city_unique_stores', 'session_duration_seconds', 'avg_purchase_hour',\n",
      "       'store_total_purchases', 'hour_relevance', 'interactions_month_u_p',\n",
      "       'user_unique_products', 'npmi_cf_score', 'ctr_product',\n",
      "       'store_total_views', 'interaction_trend', 'purchases_day_u_p',\n",
      "       'city_total_interactions', 'day_of_week_relevance', 'puresvd_cf_score',\n",
      "       'views_day_u_p', 'city_total_purchases', 'store_unique_products',\n",
      "       'cart_to_purchase_rate'],\n",
      "      dtype='object') (cat_columns: ['user_segment', 'city_name', 'source_type'])\n"
     ]
    },
    {
     "data": {
      "application/vnd.jupyter.widget-view+json": {
       "model_id": "673c554e86f348618226c18ae025df65",
       "version_major": 2,
       "version_minor": 0
      },
      "text/plain": [
       "MetricVisualizer(layout=Layout(align_self='stretch', height='500px'))"
      ]
     },
     "metadata": {},
     "output_type": "display_data"
    },
    {
     "name": "stderr",
     "output_type": "stream",
     "text": [
      "Default metric period is 5 because AUC, NDCG is/are not implemented for GPU\n",
      "Metric NDCG:top=10;type=Base is not implemented on GPU. Will use CPU for metric computation, this could significantly affect learning time\n"
     ]
    },
    {
     "name": "stdout",
     "output_type": "stream",
     "text": [
      "2025-05-05 22:35:59,567 - lavka_recsys.Experiment(catboost_classifier_07a813) - INFO - Training completed in 34.79s\n",
      "2025-05-05 22:35:59,571 - lavka_recsys.Experiment(catboost_classifier_07a813) - INFO - Evaluating on holdout.\n",
      "2025-05-05 22:36:00,967 - lavka_recsys.CachedFeatureFactory - INFO - Using cached feature batch\n",
      "2025-05-05 22:36:01,203 - lavka_recsys.CatBoostClassifierModel - INFO - Converting 'source_type' to string for CatBoost\n",
      "2025-05-05 22:36:01,227 - lavka_recsys.CatBoostClassifierModel - INFO - Converting 'user_segment' to string for CatBoost\n",
      "2025-05-05 22:36:01,254 - lavka_recsys.CatBoostClassifierModel - INFO - Converting 'city_name' to string for CatBoost\n",
      "2025-05-05 22:36:15,947 - lavka_recsys.Experiment(catboost_classifier_07a813) - INFO - Run results saved: results/catboost_classifier_07a813_results.json\n",
      "2025-05-05 22:36:15,950 - lavka_recsys.Experiment(catboost_classifier_07a813) - INFO - Run finished and results saved.\n",
      "\n",
      "CatBoost Classifier Results:\n",
      "  auc: 0.852996\n",
      "  logloss: 0.083363\n",
      "  ndcg@10: 0.482620\n",
      "\n",
      "Top 10 Important Features:\n",
      "  source_type: 67.863217\n",
      "  count_purchase_u_p: 6.729401\n",
      "  purchase_view_ratio: 5.391553\n",
      "  purchases_month_u_p: 1.944486\n",
      "  user_total_views: 1.642524\n",
      "  mean_interval_days: 1.093707\n",
      "  user_total_purchases: 1.062118\n",
      "  bpr_popular_score: 0.998055\n",
      "  npmi_cf_score: 0.835654\n",
      "  views_month_u_p: 0.804712\n"
     ]
    }
   ],
   "source": [
    "classifier_experiment = Experiment(\"catboost_classifier\", (Config\n",
    "    .load('default_config.yaml')\n",
    "    .set('model.type', 'catboost_classifier')\n",
    "))\n",
    "\n",
    "# Setup and run\n",
    "classifier_experiment.setup()\n",
    "classifier_results = classifier_experiment.run()\n",
    "\n",
    "# Print metrics\n",
    "print(f\"\\nCatBoost Classifier Results:\")\n",
    "for metric, value in classifier_results['metrics'].items():\n",
    "    print(f\"  {metric}: {value:.6f}\")\n",
    "\n",
    "# Print feature importance\n",
    "if 'feature_importance' in classifier_results:\n",
    "    print(\"\\nTop 10 Important Features:\")\n",
    "    top_features = sorted(classifier_results['feature_importance'].items(), \n",
    "                        key=lambda x: x[1], reverse=True)[:10]\n",
    "    for feature, importance in top_features:\n",
    "        print(f\"  {feature}: {importance:.6f}\")"
   ]
  },
  {
   "cell_type": "markdown",
   "metadata": {},
   "source": [
    "## CatBoost Ranker Experiment\n",
    "\n",
    "Run an experiment with CatBoost Ranker."
   ]
  },
  {
   "cell_type": "code",
   "execution_count": 4,
   "metadata": {},
   "outputs": [
    {
     "name": "stdout",
     "output_type": "stream",
     "text": [
      "2025-05-05 23:09:36,899 - lavka_recsys.Experiment(catboost_ranker_9239b0) - INFO - Initialized experiment: catboost_ranker_9239b0\n",
      "2025-05-05 23:09:36,908 - lavka_recsys.Experiment(catboost_ranker_9239b0) - INFO - Config saved: results/catboost_ranker_9239b0_config.json\n",
      "2025-05-05 23:09:36,909 - lavka_recsys.Experiment(catboost_ranker_9239b0) - INFO - Setting up experiment environment...\n",
      "2025-05-05 23:09:36,911 - lavka_recsys.DataLoader - INFO - Loading training data from ../../data/lavka/train.parquet\n"
     ]
    },
    {
     "name": "stdout",
     "output_type": "stream",
     "text": [
      "2025-05-05 23:09:37,200 - lavka_recsys.DataLoader - INFO - Loading test data from ../../data/lavka/test.parquet\n",
      "2025-05-05 23:09:37,487 - lavka_recsys.DataLoader - INFO - Holdout Split:\n",
      "2025-05-05 23:09:37,515 - lavka_recsys.DataLoader - INFO -   train: 2022-12-31 18:46:42 → 2024-01-03 17:31:52 (15_070_276 rows, 367 days)\n",
      "2025-05-05 23:09:37,519 - lavka_recsys.DataLoader - INFO -   holdout: 2024-01-03 17:56:48 → 2024-02-02 17:34:51 (1_438_338 rows, 29 days)\n",
      "2025-05-05 23:09:37,520 - lavka_recsys.Experiment(catboost_ranker_9239b0) - INFO - Setup complete.\n",
      "2025-05-05 23:09:37,521 - lavka_recsys.Experiment(catboost_ranker_9239b0) - INFO - Starting experiment run...\n",
      "2025-05-05 23:09:37,891 - lavka_recsys.DataLoader - INFO - Validation Split:\n",
      "2025-05-05 23:09:37,914 - lavka_recsys.DataLoader - INFO -   train_history: 2022-12-31 18:46:42 → 2023-11-04 17:16:23 (12_082_523 rows, 307 days)\n",
      "2025-05-05 23:09:37,918 - lavka_recsys.DataLoader - INFO -   train_target: 2023-11-04 18:19:12 → 2023-12-04 17:25:02 (1_498_126 rows, 29 days)\n",
      "2025-05-05 23:09:37,945 - lavka_recsys.DataLoader - INFO -   val_history: 2022-12-31 18:46:42 → 2023-12-04 17:25:02 (13_580_649 rows, 337 days)\n",
      "2025-05-05 23:09:37,949 - lavka_recsys.DataLoader - INFO -   val_target: 2023-12-04 18:02:13 → 2024-01-03 17:31:52 (1_489_627 rows, 29 days)\n",
      "2025-05-05 23:09:39,293 - lavka_recsys.CachedFeatureFactory - INFO - Using cached feature batch\n",
      "2025-05-05 23:09:40,412 - lavka_recsys.CachedFeatureFactory - INFO - Using cached feature batch\n",
      "2025-05-05 23:09:40,415 - lavka_recsys.ModelFactory - INFO - Creating catboost_ranker model with params: {'iterations': 300, 'loss_function': 'YetiRankPairwise', 'eval_metric': 'NDCG:top=10', 'early_stopping_rounds': 50, 'custom_metric': ['NDCG:top=10', 'PrecisionAt:top=10', 'RecallAt:top=10'], 'task_type': 'GPU', 'devices': '4,5', 'thread_count': -1}\n",
      "2025-05-05 23:09:40,667 - lavka_recsys.CatBoostRankerModel - INFO - Sorting data by group_id for grouped ranking\n",
      "2025-05-05 23:09:44,389 - lavka_recsys.CatBoostRankerModel - INFO - Sorting data by group_id for grouped ranking\n",
      "2025-05-05 23:09:47,754 - lavka_recsys.CatBoostRankerModel - INFO - Converting 'city_name' to string for CatBoost\n",
      "2025-05-05 23:09:47,779 - lavka_recsys.CatBoostRankerModel - INFO - Converting 'user_segment' to string for CatBoost\n",
      "2025-05-05 23:09:47,798 - lavka_recsys.CatBoostRankerModel - INFO - Converting 'source_type' to string for CatBoost\n",
      "2025-05-05 23:09:49,859 - lavka_recsys.CatBoostRankerModel - INFO - Converting 'city_name' to string for CatBoost\n",
      "2025-05-05 23:09:49,884 - lavka_recsys.CatBoostRankerModel - INFO - Converting 'user_segment' to string for CatBoost\n",
      "2025-05-05 23:09:49,924 - lavka_recsys.CatBoostRankerModel - INFO - Converting 'source_type' to string for CatBoost\n",
      "2025-05-05 23:09:51,686 - lavka_recsys.CatBoostRankerModel - INFO - Training CatBoostRanker model with columns: ['city_total_purchases', 'hour_of_day_sin', 'month_sin', 'user_total_interactions', 'interaction_trend', 'svd_cf_score', 'views_week_u_p', 'views_month_u_p', 'product_total_interactions', 'session_purchases', 'is_weekend', 'purchases_week_u_p', 'session_duration_seconds', 'store_total_purchases', 'npmi_cf_score', 'session_unique_products', 'puresvd_cf_score', 'day_of_week_sin', 'mean_interval_days', 'purchases_month_u_p', 'session_length', 'hour_relevance', 'store_total_interactions', 'product_total_purchases', 'count_purchase_u_s', 'views_day_u_p', 'cart_to_purchase_rate', 'interactions_week_u_p', 'days_since_interaction_u_p', 'product_total_views', 'product_unique_users', 'user_product_store_cross', 'cf_score', 'user_segment', 'city_total_views', 'purchases_day_u_p', 'bpr_popular_score', 'most_common_purchase_day', 'session_unique_stores', 'user_product_purchase_cross', 'user_unique_products', 'city_name', 'city_unique_stores', 'days_since_interaction_u_s', 'city_total_interactions', 'interactions_day_u_p', 'user_total_purchases', 'user_total_views', 'interactions_month_u_p', 'store_total_views', 'store_unique_products', 'purchase_trend', 'user_store_purchase_cross', 'day_of_week_relevance', 'count_purchase_u_p', 'purchase_view_ratio', 'ctr_product', 'source_type', 'std_purchase_hour', 'avg_purchase_hour'] (cat_columns: ['city_name', 'user_segment', 'source_type'])\n"
     ]
    },
    {
     "data": {
      "application/vnd.jupyter.widget-view+json": {
       "model_id": "e2314715ded249839c3e305e5ebfaaee",
       "version_major": 2,
       "version_minor": 0
      },
      "text/plain": [
       "MetricVisualizer(layout=Layout(align_self='stretch', height='500px'))"
      ]
     },
     "metadata": {},
     "output_type": "display_data"
    },
    {
     "name": "stderr",
     "output_type": "stream",
     "text": [
      "Default metric period is 5 because PFound, PrecisionAt, RecallAt, NDCG is/are not implemented for GPU\n",
      "Metric PFound is not implemented on GPU. Will use CPU for metric computation, this could significantly affect learning time\n",
      "Metric NDCG:top=10;type=Base is not implemented on GPU. Will use CPU for metric computation, this could significantly affect learning time\n",
      "Metric NDCG:top=10;type=Base is not implemented on GPU. Will use CPU for metric computation, this could significantly affect learning time\n",
      "Metric PrecisionAt:top=10 is not implemented on GPU. Will use CPU for metric computation, this could significantly affect learning time\n",
      "Metric RecallAt:top=10 is not implemented on GPU. Will use CPU for metric computation, this could significantly affect learning time\n"
     ]
    },
    {
     "name": "stdout",
     "output_type": "stream",
     "text": [
      "2025-05-05 23:10:40,484 - lavka_recsys.Experiment(catboost_ranker_9239b0) - INFO - Training completed in 60.07s\n",
      "2025-05-05 23:10:40,489 - lavka_recsys.Experiment(catboost_ranker_9239b0) - INFO - Evaluating on holdout.\n",
      "2025-05-05 23:10:40,554 - lavka_recsys.CachedFeatureFactory - INFO - Generating feature batch\n",
      "2025-05-05 23:10:40,555 - lavka_recsys.FeatureFactory - INFO - Invoking feature generators: source_type, count_purchase_user_product, count_purchase_user_store, ctr_product, cart_to_purchase_rate, purchase_view_ratio, recency_user_product, user_stats, product_stats, store_stats, city_stats, product_temporal_patterns, recency_user_store, time_features_cycl, time_window_user_product, session_features, frequency_features, product_popularity_trend, cross_features, user_segments, memory-based-cf, npmi-cf, puresvd-cf, svd-cf, bpr-popular\n"
     ]
    },
    {
     "data": {
      "application/vnd.jupyter.widget-view+json": {
       "model_id": "0c8300ce16764693a6a7ae112a80f88e",
       "version_major": 2,
       "version_minor": 0
      },
      "text/plain": [
       "  0%|          | 0/100 [00:00<?, ?it/s]"
      ]
     },
     "metadata": {},
     "output_type": "display_data"
    },
    {
     "data": {
      "application/vnd.jupyter.widget-view+json": {
       "model_id": "c54285d17c45475a82f340656afdf1a2",
       "version_major": 2,
       "version_minor": 0
      },
      "text/plain": [
       "BPR processing:   0%|          | 0/1283 [00:00<?, ?it/s]"
      ]
     },
     "metadata": {},
     "output_type": "display_data"
    },
    {
     "name": "stdout",
     "output_type": "stream",
     "text": [
      "2025-05-05 23:12:30,052 - lavka_recsys.FeatureFactory - INFO - Joined features\n",
      "2025-05-05 23:12:30,053 - lavka_recsys.FeatureFactory - INFO - All column names: {'city_total_purchases', 'hour_of_day_sin', 'month_sin', 'user_total_interactions', 'interaction_trend', 'svd_cf_score', 'views_week_u_p', 'views_month_u_p', 'product_total_interactions', 'session_purchases', 'is_weekend', 'purchases_week_u_p', 'session_duration_seconds', 'store_total_purchases', 'npmi_cf_score', 'session_unique_products', 'puresvd_cf_score', 'day_of_week_sin', 'mean_interval_days', 'purchases_month_u_p', 'session_length', 'hour_relevance', 'store_total_interactions', 'product_total_purchases', 'count_purchase_u_s', 'views_day_u_p', 'cart_to_purchase_rate', 'interactions_week_u_p', 'days_since_interaction_u_p', 'product_total_views', 'product_unique_users', 'user_product_store_cross', 'cf_score', 'user_segment', 'city_total_views', 'purchases_day_u_p', 'bpr_popular_score', 'most_common_purchase_day', 'session_unique_stores', 'user_product_purchase_cross', 'user_unique_products', 'city_name', 'city_unique_stores', 'days_since_interaction_u_s', 'city_total_interactions', 'interactions_day_u_p', 'user_total_purchases', 'user_total_views', 'interactions_month_u_p', 'store_total_views', 'store_unique_products', 'purchase_trend', 'user_store_purchase_cross', 'day_of_week_relevance', 'count_purchase_u_p', 'purchase_view_ratio', 'ctr_product', 'source_type', 'std_purchase_hour', 'avg_purchase_hour'}\n",
      "2025-05-05 23:12:30,055 - lavka_recsys.FeatureFactory - INFO - All categorical column names: ['city_name', 'user_segment', 'source_type']\n",
      "2025-05-05 23:12:32,805 - lavka_recsys.CatBoostRankerModel - INFO - Sorting data by group_id for grouped ranking\n",
      "2025-05-05 23:12:35,574 - lavka_recsys.CatBoostRankerModel - INFO - Converting 'user_segment' to string for CatBoost\n",
      "2025-05-05 23:12:35,595 - lavka_recsys.CatBoostRankerModel - INFO - Converting 'city_name' to string for CatBoost\n",
      "2025-05-05 23:12:35,621 - lavka_recsys.CatBoostRankerModel - INFO - Converting 'source_type' to string for CatBoost\n",
      "2025-05-05 23:12:50,575 - lavka_recsys.Experiment(catboost_ranker_9239b0) - INFO - Run results saved: results/catboost_ranker_9239b0_results.json\n",
      "2025-05-05 23:12:50,576 - lavka_recsys.Experiment(catboost_ranker_9239b0) - INFO - Run finished and results saved.\n",
      "\n",
      "CatBoost Ranker Results:\n",
      "  auc: 0.802260\n",
      "  logloss: 1.293776\n",
      "  ndcg@10: 0.454146\n",
      "\n",
      "Top 10 Important Features:\n",
      "  source_type: 78.145273\n",
      "  purchase_view_ratio: 3.471939\n",
      "  count_purchase_u_p: 2.749533\n",
      "  bpr_popular_score: 1.322204\n",
      "  hour_of_day_sin: 1.020020\n",
      "  store_unique_products: 0.891969\n",
      "  cart_to_purchase_rate: 0.852040\n",
      "  days_since_interaction_u_s: 0.802170\n",
      "  purchases_month_u_p: 0.767363\n",
      "  mean_interval_days: 0.721399\n"
     ]
    }
   ],
   "source": [
    "ranker_experiment = Experiment(\"catboost_ranker\", (Config\n",
    "    .load('default_config.yaml')\n",
    "    .set('model.type', 'catboost_ranker')\n",
    "    .set('model.config.catboost_ranker.iterations', 300)\n",
    "))\n",
    "\n",
    "# Setup and run\n",
    "ranker_experiment.setup()\n",
    "ranker_results = ranker_experiment.run()\n",
    "\n",
    "# Print metrics\n",
    "print(f\"\\nCatBoost Ranker Results:\")\n",
    "for metric, value in ranker_results['metrics'].items():\n",
    "    print(f\"  {metric}: {value:.6f}\")\n",
    "\n",
    "# Print feature importance\n",
    "if 'feature_importance' in ranker_results:\n",
    "    print(\"\\nTop 10 Important Features:\")\n",
    "    top_features = sorted(ranker_results['feature_importance'].items(), \n",
    "                        key=lambda x: x[1], reverse=True)[:10]\n",
    "    for feature, importance in top_features:\n",
    "        print(f\"  {feature}: {importance:.6f}\")"
   ]
  },
  {
   "cell_type": "code",
   "execution_count": 5,
   "metadata": {},
   "outputs": [
    {
     "name": "stdout",
     "output_type": "stream",
     "text": [
      "2025-05-05 23:13:55,497 - lavka_recsys.Experiment(catboost_ranker_9239b0) - INFO - Computing predictions...\n",
      "2025-05-05 23:13:55,506 - lavka_recsys.DataLoader - INFO - Holdout data merged back into training data.\n",
      "2025-05-05 23:13:55,558 - lavka_recsys.DataLoader - INFO - Validation Split:\n",
      "2025-05-05 23:13:55,587 - lavka_recsys.DataLoader - INFO -   history: 2022-12-31 18:46:42 → 2024-01-03 17:31:52 (15_070_276 rows, 367 days)\n",
      "2025-05-05 23:13:55,591 - lavka_recsys.DataLoader - INFO -   target: 2024-01-03 17:56:48 → 2024-02-02 17:34:51 (1_438_338 rows, 29 days)\n",
      "2025-05-05 23:13:56,931 - lavka_recsys.CachedFeatureFactory - INFO - Using cached feature batch\n",
      "2025-05-05 23:13:56,934 - lavka_recsys.ModelFactory - INFO - Creating catboost_ranker model with params: {'iterations': 300, 'loss_function': 'YetiRankPairwise', 'eval_metric': 'NDCG:top=10', 'early_stopping_rounds': 50, 'custom_metric': ['NDCG:top=10', 'PrecisionAt:top=10', 'RecallAt:top=10'], 'task_type': 'GPU', 'devices': '4,5', 'thread_count': -1}\n",
      "2025-05-05 23:13:57,178 - lavka_recsys.CatBoostRankerModel - INFO - Sorting data by group_id for grouped ranking\n",
      "2025-05-05 23:14:00,716 - lavka_recsys.CatBoostRankerModel - INFO - Converting 'city_name' to string for CatBoost\n",
      "2025-05-05 23:14:00,752 - lavka_recsys.CatBoostRankerModel - INFO - Converting 'user_segment' to string for CatBoost\n",
      "2025-05-05 23:14:00,774 - lavka_recsys.CatBoostRankerModel - INFO - Converting 'source_type' to string for CatBoost\n",
      "2025-05-05 23:14:02,221 - lavka_recsys.CatBoostRankerModel - INFO - Training CatBoostRanker model with columns: ['city_total_purchases', 'hour_of_day_sin', 'month_sin', 'user_total_interactions', 'interaction_trend', 'svd_cf_score', 'views_week_u_p', 'views_month_u_p', 'product_total_interactions', 'session_purchases', 'is_weekend', 'purchases_week_u_p', 'session_duration_seconds', 'store_total_purchases', 'npmi_cf_score', 'session_unique_products', 'puresvd_cf_score', 'day_of_week_sin', 'mean_interval_days', 'purchases_month_u_p', 'session_length', 'hour_relevance', 'store_total_interactions', 'product_total_purchases', 'count_purchase_u_s', 'views_day_u_p', 'cart_to_purchase_rate', 'interactions_week_u_p', 'days_since_interaction_u_p', 'product_total_views', 'product_unique_users', 'user_product_store_cross', 'cf_score', 'user_segment', 'city_total_views', 'purchases_day_u_p', 'bpr_popular_score', 'most_common_purchase_day', 'session_unique_stores', 'user_product_purchase_cross', 'user_unique_products', 'city_name', 'city_unique_stores', 'days_since_interaction_u_s', 'city_total_interactions', 'interactions_day_u_p', 'user_total_purchases', 'user_total_views', 'interactions_month_u_p', 'store_total_views', 'store_unique_products', 'purchase_trend', 'user_store_purchase_cross', 'day_of_week_relevance', 'count_purchase_u_p', 'purchase_view_ratio', 'ctr_product', 'source_type', 'std_purchase_hour', 'avg_purchase_hour'] (cat_columns: ['city_name', 'user_segment', 'source_type'])\n"
     ]
    },
    {
     "data": {
      "application/vnd.jupyter.widget-view+json": {
       "model_id": "a1e871c2c34d486da4bc2f3b41562563",
       "version_major": 2,
       "version_minor": 0
      },
      "text/plain": [
       "MetricVisualizer(layout=Layout(align_self='stretch', height='500px'))"
      ]
     },
     "metadata": {},
     "output_type": "display_data"
    },
    {
     "name": "stderr",
     "output_type": "stream",
     "text": [
      "Default metric period is 5 because PFound, PrecisionAt, RecallAt, NDCG is/are not implemented for GPU\n",
      "Metric PFound is not implemented on GPU. Will use CPU for metric computation, this could significantly affect learning time\n",
      "Metric NDCG:top=10;type=Base is not implemented on GPU. Will use CPU for metric computation, this could significantly affect learning time\n",
      "Metric NDCG:top=10;type=Base is not implemented on GPU. Will use CPU for metric computation, this could significantly affect learning time\n",
      "Metric PrecisionAt:top=10 is not implemented on GPU. Will use CPU for metric computation, this could significantly affect learning time\n",
      "Metric RecallAt:top=10 is not implemented on GPU. Will use CPU for metric computation, this could significantly affect learning time\n"
     ]
    },
    {
     "name": "stdout",
     "output_type": "stream",
     "text": [
      "2025-05-05 23:14:44,356 - lavka_recsys.Experiment(catboost_ranker_9239b0) - INFO - Training completed in 47.42s\n",
      "2025-05-05 23:14:44,365 - lavka_recsys.DataLoader - INFO - Holdout data merged back into training data.\n",
      "2025-05-05 23:14:44,432 - lavka_recsys.CachedFeatureFactory - INFO - Generating feature batch\n",
      "2025-05-05 23:14:44,433 - lavka_recsys.FeatureFactory - INFO - Invoking feature generators: source_type, count_purchase_user_product, count_purchase_user_store, ctr_product, cart_to_purchase_rate, purchase_view_ratio, recency_user_product, user_stats, product_stats, store_stats, city_stats, product_temporal_patterns, recency_user_store, time_features_cycl, time_window_user_product, session_features, frequency_features, product_popularity_trend, cross_features, user_segments, memory-based-cf, npmi-cf, puresvd-cf, svd-cf, bpr-popular\n"
     ]
    },
    {
     "data": {
      "application/vnd.jupyter.widget-view+json": {
       "model_id": "ea80969893aa46839645979d280d4be3",
       "version_major": 2,
       "version_minor": 0
      },
      "text/plain": [
       "  0%|          | 0/100 [00:00<?, ?it/s]"
      ]
     },
     "metadata": {},
     "output_type": "display_data"
    },
    {
     "data": {
      "application/vnd.jupyter.widget-view+json": {
       "model_id": "8e688fbbb4a24b16857ac44bccca2198",
       "version_major": 2,
       "version_minor": 0
      },
      "text/plain": [
       "BPR processing:   0%|          | 0/807 [00:00<?, ?it/s]"
      ]
     },
     "metadata": {},
     "output_type": "display_data"
    },
    {
     "name": "stdout",
     "output_type": "stream",
     "text": [
      "2025-05-05 23:16:16,511 - lavka_recsys.FeatureFactory - INFO - Joined features\n",
      "2025-05-05 23:16:16,513 - lavka_recsys.FeatureFactory - INFO - All column names: {'city_total_purchases', 'hour_of_day_sin', 'month_sin', 'user_total_interactions', 'interaction_trend', 'svd_cf_score', 'views_week_u_p', 'views_month_u_p', 'product_total_interactions', 'session_purchases', 'is_weekend', 'purchases_week_u_p', 'session_duration_seconds', 'store_total_purchases', 'npmi_cf_score', 'session_unique_products', 'puresvd_cf_score', 'day_of_week_sin', 'mean_interval_days', 'purchases_month_u_p', 'session_length', 'hour_relevance', 'store_total_interactions', 'product_total_purchases', 'count_purchase_u_s', 'views_day_u_p', 'cart_to_purchase_rate', 'interactions_week_u_p', 'days_since_interaction_u_p', 'product_total_views', 'product_unique_users', 'user_product_store_cross', 'cf_score', 'user_segment', 'city_total_views', 'purchases_day_u_p', 'bpr_popular_score', 'most_common_purchase_day', 'session_unique_stores', 'user_product_purchase_cross', 'user_unique_products', 'city_name', 'city_unique_stores', 'days_since_interaction_u_s', 'city_total_interactions', 'interactions_day_u_p', 'user_total_purchases', 'user_total_views', 'interactions_month_u_p', 'store_total_views', 'store_unique_products', 'purchase_trend', 'user_store_purchase_cross', 'day_of_week_relevance', 'count_purchase_u_p', 'purchase_view_ratio', 'ctr_product', 'source_type', 'std_purchase_hour', 'avg_purchase_hour'}\n",
      "2025-05-05 23:16:16,514 - lavka_recsys.FeatureFactory - INFO - All categorical column names: ['city_name', 'user_segment', 'source_type']\n",
      "2025-05-05 23:16:16,914 - lavka_recsys.CatBoostRankerModel - INFO - Sorting data by group_id for grouped ranking\n",
      "2025-05-05 23:16:17,189 - lavka_recsys.CatBoostRankerModel - INFO - Converting 'user_segment' to string for CatBoost\n",
      "2025-05-05 23:16:17,195 - lavka_recsys.CatBoostRankerModel - INFO - Converting 'city_name' to string for CatBoost\n",
      "2025-05-05 23:16:17,200 - lavka_recsys.CatBoostRankerModel - INFO - Converting 'source_type' to string for CatBoost\n",
      "2025-05-05 23:16:17,683 - lavka_recsys.Experiment(catboost_ranker_9239b0) - INFO - Submission saved: results/submissions/catboost_ranker_9239b0_submission.csv\n",
      "2025-05-05 23:16:17,744 - lavka_recsys.Experiment(catboost_ranker_9239b0) - INFO - Submission model saved: results/submissions/catboost_ranker_9239b0_model.pkl\n"
     ]
    },
    {
     "data": {
      "text/html": [
       "<div><style>\n",
       ".dataframe > thead > tr,\n",
       ".dataframe > tbody > tr {\n",
       "  text-align: right;\n",
       "  white-space: pre-wrap;\n",
       "}\n",
       "</style>\n",
       "<small>shape: (292_826, 2)</small><table border=\"1\" class=\"dataframe\"><thead><tr><th>index</th><th>request_id</th></tr><tr><td>u32</td><td>u64</td></tr></thead><tbody><tr><td>95970</td><td>18037997914549181289</td></tr><tr><td>118676</td><td>15207620247861633206</td></tr><tr><td>131326</td><td>15207620247861633206</td></tr><tr><td>225106</td><td>15207620247861633206</td></tr><tr><td>41187</td><td>9106065009157563665</td></tr><tr><td>&hellip;</td><td>&hellip;</td></tr><tr><td>201945</td><td>13718769544022533931</td></tr><tr><td>114866</td><td>2499694595598766468</td></tr><tr><td>275274</td><td>6169200570541966232</td></tr><tr><td>132510</td><td>4777856639691010986</td></tr><tr><td>267419</td><td>4777856639691010986</td></tr></tbody></table></div>"
      ],
      "text/plain": [
       "shape: (292_826, 2)\n",
       "┌────────┬──────────────────────┐\n",
       "│ index  ┆ request_id           │\n",
       "│ ---    ┆ ---                  │\n",
       "│ u32    ┆ u64                  │\n",
       "╞════════╪══════════════════════╡\n",
       "│ 95970  ┆ 18037997914549181289 │\n",
       "│ 118676 ┆ 15207620247861633206 │\n",
       "│ 131326 ┆ 15207620247861633206 │\n",
       "│ 225106 ┆ 15207620247861633206 │\n",
       "│ 41187  ┆ 9106065009157563665  │\n",
       "│ …      ┆ …                    │\n",
       "│ 201945 ┆ 13718769544022533931 │\n",
       "│ 114866 ┆ 2499694595598766468  │\n",
       "│ 275274 ┆ 6169200570541966232  │\n",
       "│ 132510 ┆ 4777856639691010986  │\n",
       "│ 267419 ┆ 4777856639691010986  │\n",
       "└────────┴──────────────────────┘"
      ]
     },
     "execution_count": 5,
     "metadata": {},
     "output_type": "execute_result"
    }
   ],
   "source": [
    "ranker_experiment.create_submission()"
   ]
  },
  {
   "cell_type": "markdown",
   "metadata": {},
   "source": [
    "Kaggle Public Score `NDCG@10 = 0.41037`"
   ]
  },
  {
   "cell_type": "markdown",
   "metadata": {},
   "source": [
    "## 7. Feature Importance Comparison"
   ]
  },
  {
   "cell_type": "code",
   "execution_count": 5,
   "metadata": {},
   "outputs": [
    {
     "name": "stdout",
     "output_type": "stream",
     "text": [
      "Top 20 Features by Average Importance:\n"
     ]
    },
    {
     "data": {
      "text/html": [
       "<div>\n",
       "<style scoped>\n",
       "    .dataframe tbody tr th:only-of-type {\n",
       "        vertical-align: middle;\n",
       "    }\n",
       "\n",
       "    .dataframe tbody tr th {\n",
       "        vertical-align: top;\n",
       "    }\n",
       "\n",
       "    .dataframe thead th {\n",
       "        text-align: right;\n",
       "    }\n",
       "</style>\n",
       "<table border=\"1\" class=\"dataframe\">\n",
       "  <thead>\n",
       "    <tr style=\"text-align: right;\">\n",
       "      <th></th>\n",
       "      <th>Feature</th>\n",
       "      <th>Classifier Importance</th>\n",
       "      <th>Ranker Importance</th>\n",
       "      <th>Average Importance</th>\n",
       "    </tr>\n",
       "  </thead>\n",
       "  <tbody>\n",
       "    <tr>\n",
       "      <th>0</th>\n",
       "      <td>source_type</td>\n",
       "      <td>65.507575</td>\n",
       "      <td>80.791409</td>\n",
       "      <td>73.149492</td>\n",
       "    </tr>\n",
       "    <tr>\n",
       "      <th>1</th>\n",
       "      <td>purchase_view_ratio</td>\n",
       "      <td>4.870295</td>\n",
       "      <td>3.442857</td>\n",
       "      <td>4.156576</td>\n",
       "    </tr>\n",
       "    <tr>\n",
       "      <th>2</th>\n",
       "      <td>count_purchase_u_p</td>\n",
       "      <td>4.952153</td>\n",
       "      <td>2.982166</td>\n",
       "      <td>3.967160</td>\n",
       "    </tr>\n",
       "    <tr>\n",
       "      <th>3</th>\n",
       "      <td>purchases_month_u_p</td>\n",
       "      <td>2.437190</td>\n",
       "      <td>0.806278</td>\n",
       "      <td>1.621734</td>\n",
       "    </tr>\n",
       "    <tr>\n",
       "      <th>4</th>\n",
       "      <td>bpr_popular_score</td>\n",
       "      <td>1.048813</td>\n",
       "      <td>1.346528</td>\n",
       "      <td>1.197671</td>\n",
       "    </tr>\n",
       "    <tr>\n",
       "      <th>5</th>\n",
       "      <td>user_total_interactions</td>\n",
       "      <td>1.448966</td>\n",
       "      <td>0.292119</td>\n",
       "      <td>0.870543</td>\n",
       "    </tr>\n",
       "    <tr>\n",
       "      <th>6</th>\n",
       "      <td>mean_interval_days</td>\n",
       "      <td>1.012932</td>\n",
       "      <td>0.704284</td>\n",
       "      <td>0.858608</td>\n",
       "    </tr>\n",
       "    <tr>\n",
       "      <th>7</th>\n",
       "      <td>hour_of_day</td>\n",
       "      <td>0.695721</td>\n",
       "      <td>0.966998</td>\n",
       "      <td>0.831360</td>\n",
       "    </tr>\n",
       "    <tr>\n",
       "      <th>8</th>\n",
       "      <td>cf_score</td>\n",
       "      <td>1.014829</td>\n",
       "      <td>0.645224</td>\n",
       "      <td>0.830026</td>\n",
       "    </tr>\n",
       "    <tr>\n",
       "      <th>9</th>\n",
       "      <td>user_total_views</td>\n",
       "      <td>1.218772</td>\n",
       "      <td>0.200342</td>\n",
       "      <td>0.709557</td>\n",
       "    </tr>\n",
       "    <tr>\n",
       "      <th>10</th>\n",
       "      <td>cart_to_purchase_rate</td>\n",
       "      <td>0.700475</td>\n",
       "      <td>0.714437</td>\n",
       "      <td>0.707456</td>\n",
       "    </tr>\n",
       "    <tr>\n",
       "      <th>11</th>\n",
       "      <td>views_month_u_p</td>\n",
       "      <td>0.981266</td>\n",
       "      <td>0.422218</td>\n",
       "      <td>0.701742</td>\n",
       "    </tr>\n",
       "    <tr>\n",
       "      <th>12</th>\n",
       "      <td>store_unique_products</td>\n",
       "      <td>0.393654</td>\n",
       "      <td>0.947424</td>\n",
       "      <td>0.670539</td>\n",
       "    </tr>\n",
       "    <tr>\n",
       "      <th>13</th>\n",
       "      <td>user_total_purchases</td>\n",
       "      <td>1.123921</td>\n",
       "      <td>0.177406</td>\n",
       "      <td>0.650663</td>\n",
       "    </tr>\n",
       "    <tr>\n",
       "      <th>14</th>\n",
       "      <td>count_purchase_u_s</td>\n",
       "      <td>0.547975</td>\n",
       "      <td>0.419877</td>\n",
       "      <td>0.483926</td>\n",
       "    </tr>\n",
       "    <tr>\n",
       "      <th>15</th>\n",
       "      <td>session_purchases</td>\n",
       "      <td>0.792743</td>\n",
       "      <td>0.137435</td>\n",
       "      <td>0.465089</td>\n",
       "    </tr>\n",
       "    <tr>\n",
       "      <th>16</th>\n",
       "      <td>npmi_cf_score</td>\n",
       "      <td>0.806608</td>\n",
       "      <td>0.123053</td>\n",
       "      <td>0.464830</td>\n",
       "    </tr>\n",
       "    <tr>\n",
       "      <th>17</th>\n",
       "      <td>product_unique_users</td>\n",
       "      <td>0.189129</td>\n",
       "      <td>0.683359</td>\n",
       "      <td>0.436244</td>\n",
       "    </tr>\n",
       "    <tr>\n",
       "      <th>18</th>\n",
       "      <td>purchases_week_u_p</td>\n",
       "      <td>0.681152</td>\n",
       "      <td>0.166903</td>\n",
       "      <td>0.424028</td>\n",
       "    </tr>\n",
       "    <tr>\n",
       "      <th>19</th>\n",
       "      <td>puresvd_cf_score</td>\n",
       "      <td>0.389939</td>\n",
       "      <td>0.393366</td>\n",
       "      <td>0.391653</td>\n",
       "    </tr>\n",
       "  </tbody>\n",
       "</table>\n",
       "</div>"
      ],
      "text/plain": [
       "                    Feature  Classifier Importance  Ranker Importance  \\\n",
       "0               source_type              65.507575          80.791409   \n",
       "1       purchase_view_ratio               4.870295           3.442857   \n",
       "2        count_purchase_u_p               4.952153           2.982166   \n",
       "3       purchases_month_u_p               2.437190           0.806278   \n",
       "4         bpr_popular_score               1.048813           1.346528   \n",
       "5   user_total_interactions               1.448966           0.292119   \n",
       "6        mean_interval_days               1.012932           0.704284   \n",
       "7               hour_of_day               0.695721           0.966998   \n",
       "8                  cf_score               1.014829           0.645224   \n",
       "9          user_total_views               1.218772           0.200342   \n",
       "10    cart_to_purchase_rate               0.700475           0.714437   \n",
       "11          views_month_u_p               0.981266           0.422218   \n",
       "12    store_unique_products               0.393654           0.947424   \n",
       "13     user_total_purchases               1.123921           0.177406   \n",
       "14       count_purchase_u_s               0.547975           0.419877   \n",
       "15        session_purchases               0.792743           0.137435   \n",
       "16            npmi_cf_score               0.806608           0.123053   \n",
       "17     product_unique_users               0.189129           0.683359   \n",
       "18       purchases_week_u_p               0.681152           0.166903   \n",
       "19         puresvd_cf_score               0.389939           0.393366   \n",
       "\n",
       "    Average Importance  \n",
       "0            73.149492  \n",
       "1             4.156576  \n",
       "2             3.967160  \n",
       "3             1.621734  \n",
       "4             1.197671  \n",
       "5             0.870543  \n",
       "6             0.858608  \n",
       "7             0.831360  \n",
       "8             0.830026  \n",
       "9             0.709557  \n",
       "10            0.707456  \n",
       "11            0.701742  \n",
       "12            0.670539  \n",
       "13            0.650663  \n",
       "14            0.483926  \n",
       "15            0.465089  \n",
       "16            0.464830  \n",
       "17            0.436244  \n",
       "18            0.424028  \n",
       "19            0.391653  "
      ]
     },
     "metadata": {},
     "output_type": "display_data"
    },
    {
     "data": {
      "image/png": "[encoded data removed]",
      "text/plain": [
       "<Figure size 1200x800 with 1 Axes>"
      ]
     },
     "metadata": {},
     "output_type": "display_data"
    }
   ],
   "source": [
    "# Compare feature importance between models\n",
    "if 'feature_importance' in classifier_results and 'feature_importance' in ranker_results:\n",
    "    # Get all features from both models\n",
    "    all_features = set(list(classifier_results['feature_importance'].keys()) + \n",
    "                        list(ranker_results['feature_importance'].keys()))\n",
    "    \n",
    "    # Create comparison dataframe\n",
    "    fi_comparison = {'Feature': []}\n",
    "    fi_comparison['Classifier Importance'] = []\n",
    "    fi_comparison['Ranker Importance'] = []\n",
    "    \n",
    "    for feature in all_features:\n",
    "        fi_comparison['Feature'].append(feature)\n",
    "        fi_comparison['Classifier Importance'].append(\n",
    "            classifier_results['feature_importance'].get(feature, 0))\n",
    "        fi_comparison['Ranker Importance'].append(\n",
    "            ranker_results['feature_importance'].get(feature, 0))\n",
    "        \n",
    "    # Convert to DataFrame and sort by average importance\n",
    "    fi_df = pd.DataFrame(fi_comparison)\n",
    "    fi_df['Average Importance'] = (fi_df['Classifier Importance'] + fi_df['Ranker Importance']) / 2\n",
    "    fi_df = fi_df.sort_values('Average Importance', ascending=False).reset_index(drop=True)\n",
    "    \n",
    "    # Save to results directory\n",
    "    # fi_df.to_csv(f\"{results_dir}/feature_importance_comparison.csv\", index=False)\n",
    "    \n",
    "    # Display top features\n",
    "    print(\"Top 20 Features by Average Importance:\")\n",
    "    display(fi_df.head(20))\n",
    "    \n",
    "    # Plot top 15 features\n",
    "    plt.figure(figsize=(12, 8))\n",
    "    top_n = 15\n",
    "    top_features = fi_df.head(top_n)\n",
    "    \n",
    "    x = range(len(top_features))\n",
    "    width = 0.35\n",
    "    \n",
    "    plt.barh([p + width/2 for p in x], top_features['Classifier Importance'], \n",
    "            height=width, label='Classifier', color='#3498db')\n",
    "    plt.barh([p - width/2 for p in x], top_features['Ranker Importance'], \n",
    "            height=width, label='Ranker', color='#e74c3c')\n",
    "    \n",
    "    plt.yticks(x, top_features['Feature'])\n",
    "    plt.xlabel('Importance')\n",
    "    plt.title(f'Top {top_n} Feature Importance Comparison')\n",
    "    plt.legend()\n",
    "    plt.tight_layout()\n",
    "    plt.show()"
   ]
  },
  {
   "cell_type": "code",
   "execution_count": null,
   "metadata": {},
   "outputs": [],
   "source": []
  }
 ],
 "metadata": {
  "kernelspec": {
   "display_name": "RS-venv",
   "language": "python",
   "name": "python3"
  },
  "language_info": {
   "codemirror_mode": {
    "name": "ipython",
    "version": 3
   },
   "file_extension": ".py",
   "mimetype": "text/x-python",
   "name": "python",
   "nbconvert_exporter": "python",
   "pygments_lexer": "ipython3",
   "version": "3.10.12"
  }
 },
 "nbformat": 4,
 "nbformat_minor": 4
}
