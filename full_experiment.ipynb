{
 "cells": [
  {
   "cell_type": "markdown",
   "metadata": {},
   "source": [
    "# Full Experiment with CatBoost Models\n",
    "\n",
    "This notebook runs a complete experiment using all available features with both CatBoostClassifier and CatBoostRanker models."
   ]
  },
  {
   "cell_type": "code",
   "execution_count": 1,
   "metadata": {},
   "outputs": [],
   "source": [
    "import matplotlib.pyplot as plt\n",
    "import pandas as pd\n",
    "import polars as pl\n",
    "import time\n",
    "\n",
    "from lavka_recsys import Config, Experiment, setup_logging"
   ]
  },
  {
   "cell_type": "code",
   "execution_count": 2,
   "metadata": {},
   "outputs": [
    {
     "data": {
      "text/plain": [
       "<Logger lavka_recsys (DEBUG)>"
      ]
     },
     "execution_count": 2,
     "metadata": {},
     "output_type": "execute_result"
    }
   ],
   "source": [
    "setup_logging()"
   ]
  },
  {
   "cell_type": "markdown",
   "metadata": {},
   "source": [
    "## Baseline Experiments"
   ]
  },
  {
   "cell_type": "markdown",
   "metadata": {},
   "source": [
    "First, let's see how well a model that outputs random predictions does."
   ]
  },
  {
   "cell_type": "code",
   "execution_count": null,
   "metadata": {},
   "outputs": [
    {
     "name": "stdout",
     "output_type": "stream",
     "text": [
      "2025-05-05 17:04:52,189 - lavka_recsys.Experiment(random_baseline_587898) - INFO - Initialized experiment: random_baseline_587898\n",
      "2025-05-05 17:04:52,198 - lavka_recsys.Experiment(random_baseline_587898) - INFO - Config saved: results/random_baseline_587898_config.json\n",
      "2025-05-05 17:04:52,199 - lavka_recsys.Experiment(random_baseline_587898) - INFO - Setting up experiment environment...\n",
      "2025-05-05 17:04:52,201 - lavka_recsys.DataLoader - INFO - Loading training data from ../../data/lavka/train.parquet\n"
     ]
    },
    {
     "name": "stdout",
     "output_type": "stream",
     "text": [
      "2025-05-05 17:04:52,508 - lavka_recsys.DataLoader - INFO - Loading test data from ../../data/lavka/test.parquet\n",
      "2025-05-05 17:04:52,924 - lavka_recsys.DataLoader - INFO - Holdout Split:\n",
      "2025-05-05 17:04:52,951 - lavka_recsys.DataLoader - INFO -   train: 2022-12-31 18:46:42 → 2024-01-03 17:31:52 (15_070_276 rows, 367 days)\n",
      "2025-05-05 17:04:52,955 - lavka_recsys.DataLoader - INFO -   holdout: 2024-01-03 17:56:48 → 2024-02-02 17:34:51 (1_438_338 rows, 29 days)\n",
      "2025-05-05 17:04:52,956 - lavka_recsys.Experiment(random_baseline_587898) - INFO - Setup complete.\n",
      "2025-05-05 17:04:52,957 - lavka_recsys.Experiment(random_baseline_587898) - INFO - Starting experiment run...\n",
      "2025-05-05 17:04:53,437 - lavka_recsys.DataLoader - INFO - Validation Split:\n",
      "2025-05-05 17:04:53,459 - lavka_recsys.DataLoader - INFO -   train_history: 2022-12-31 18:46:42 → 2023-11-04 17:16:23 (12_082_523 rows, 307 days)\n",
      "2025-05-05 17:04:53,463 - lavka_recsys.DataLoader - INFO -   train_target: 2023-11-04 18:19:12 → 2023-12-04 17:25:02 (1_498_126 rows, 29 days)\n",
      "2025-05-05 17:04:53,497 - lavka_recsys.DataLoader - INFO -   val_history: 2022-12-31 18:46:42 → 2023-12-04 17:25:02 (13_580_649 rows, 337 days)\n",
      "2025-05-05 17:04:53,504 - lavka_recsys.DataLoader - INFO -   val_target: 2023-12-04 18:02:13 → 2024-01-03 17:31:52 (1_489_627 rows, 29 days)\n",
      "2025-05-05 17:04:53,596 - lavka_recsys.CachedFeatureFactory - INFO - Using cached feature batch\n",
      "2025-05-05 17:04:53,695 - lavka_recsys.CachedFeatureFactory - INFO - Using cached feature batch\n",
      "2025-05-05 17:04:53,697 - lavka_recsys.ModelFactory - INFO - Creating random_baseline model with params: {'task_type': 'CPU', 'thread_count': -1}\n",
      "2025-05-05 17:04:53,698 - lavka_recsys.Experiment(random_baseline_587898) - INFO - Training completed in 0.00s\n",
      "2025-05-05 17:04:53,698 - lavka_recsys.Experiment(random_baseline_587898) - INFO - Evaluating on holdout.\n",
      "2025-05-05 17:04:53,795 - lavka_recsys.CachedFeatureFactory - INFO - Using cached feature batch\n",
      "2025-05-05 17:05:05,421 - lavka_recsys.Experiment(random_baseline_587898) - INFO - Run results saved: results/random_baseline_587898_results.json\n",
      "2025-05-05 17:05:05,422 - lavka_recsys.Experiment(random_baseline_587898) - INFO - Run finished and results saved.\n",
      "\n",
      "Random Baseline Results (completed in 13.24 seconds):\n",
      "  auc: 0.500740\n",
      "  logloss: 0.998270\n",
      "  ndcg@10: 0.367397\n"
     ]
    }
   ],
   "source": [
    "# Create experiment\n",
    "config = (Config\n",
    "    .load('default_config.yaml')\n",
    "    .set('feature_generators', ['random_noise'])\n",
    "    .set('model.type', 'random_baseline')\n",
    ")\n",
    "random_experiment = Experiment(\"random_baseline\", config)\n",
    "\n",
    "# Setup and run\n",
    "start_time = time.time()\n",
    "random_experiment.setup()\n",
    "random_results = random_experiment.run()\n",
    "random_time = time.time() - start_time\n",
    "\n",
    "# Print metrics\n",
    "print(f\"\\nRandom Baseline Results (completed in {random_time:.2f} seconds):\")\n",
    "for metric, value in random_results['metrics'].items():\n",
    "    print(f\"  {metric}: {value:.6f}\")"
   ]
  },
  {
   "cell_type": "code",
   "execution_count": 4,
   "metadata": {},
   "outputs": [],
   "source": [
    "# random_experiment.create_submission()"
   ]
  },
  {
   "cell_type": "markdown",
   "metadata": {},
   "source": [
    "Kaggle Public Score = `0.30071`."
   ]
  },
  {
   "cell_type": "markdown",
   "metadata": {},
   "source": [
    "Now let's consider a baseline that only considers popularity (i.e. `product_total_purchases`)."
   ]
  },
  {
   "cell_type": "code",
   "execution_count": null,
   "metadata": {},
   "outputs": [
    {
     "name": "stdout",
     "output_type": "stream",
     "text": [
      "2025-05-05 17:05:05,667 - lavka_recsys.Experiment(popularity_baseline_03697e) - INFO - Initialized experiment: popularity_baseline_03697e\n",
      "2025-05-05 17:05:05,674 - lavka_recsys.Experiment(popularity_baseline_03697e) - INFO - Config saved: results/popularity_baseline_03697e_config.json\n",
      "2025-05-05 17:05:05,675 - lavka_recsys.Experiment(popularity_baseline_03697e) - INFO - Setting up experiment environment...\n",
      "2025-05-05 17:05:05,677 - lavka_recsys.DataLoader - INFO - Loading training data from ../../data/lavka/train.parquet\n"
     ]
    },
    {
     "name": "stdout",
     "output_type": "stream",
     "text": [
      "2025-05-05 17:05:06,006 - lavka_recsys.DataLoader - INFO - Loading test data from ../../data/lavka/test.parquet\n",
      "2025-05-05 17:05:06,297 - lavka_recsys.DataLoader - INFO - Holdout Split:\n",
      "2025-05-05 17:05:06,324 - lavka_recsys.DataLoader - INFO -   train: 2022-12-31 18:46:42 → 2024-01-03 17:31:52 (15_070_276 rows, 367 days)\n",
      "2025-05-05 17:05:06,328 - lavka_recsys.DataLoader - INFO -   holdout: 2024-01-03 17:56:48 → 2024-02-02 17:34:51 (1_438_338 rows, 29 days)\n",
      "2025-05-05 17:05:06,329 - lavka_recsys.Experiment(popularity_baseline_03697e) - INFO - Setup complete.\n",
      "2025-05-05 17:05:06,330 - lavka_recsys.Experiment(popularity_baseline_03697e) - INFO - Starting experiment run...\n",
      "2025-05-05 17:05:06,725 - lavka_recsys.DataLoader - INFO - Validation Split:\n",
      "2025-05-05 17:05:06,745 - lavka_recsys.DataLoader - INFO -   train_history: 2022-12-31 18:46:42 → 2023-11-04 17:16:23 (12_082_523 rows, 307 days)\n",
      "2025-05-05 17:05:06,749 - lavka_recsys.DataLoader - INFO -   train_target: 2023-11-04 18:19:12 → 2023-12-04 17:25:02 (1_498_126 rows, 29 days)\n",
      "2025-05-05 17:05:06,773 - lavka_recsys.DataLoader - INFO -   val_history: 2022-12-31 18:46:42 → 2023-12-04 17:25:02 (13_580_649 rows, 337 days)\n",
      "2025-05-05 17:05:06,777 - lavka_recsys.DataLoader - INFO -   val_target: 2023-12-04 18:02:13 → 2024-01-03 17:31:52 (1_489_627 rows, 29 days)\n",
      "2025-05-05 17:05:06,897 - lavka_recsys.CachedFeatureFactory - INFO - Using cached feature batch\n",
      "2025-05-05 17:05:06,997 - lavka_recsys.CachedFeatureFactory - INFO - Using cached feature batch\n",
      "2025-05-05 17:05:06,999 - lavka_recsys.ModelFactory - INFO - Creating single_feature model with params: {'feature_name': 'product_total_purchases', 'desc': True, 'task_type': 'CPU', 'thread_count': -1}\n",
      "2025-05-05 17:05:07,000 - lavka_recsys.Experiment(popularity_baseline_03697e) - INFO - Training completed in 0.00s\n",
      "2025-05-05 17:05:07,001 - lavka_recsys.Experiment(popularity_baseline_03697e) - INFO - Evaluating on holdout.\n",
      "2025-05-05 17:05:07,101 - lavka_recsys.CachedFeatureFactory - INFO - Using cached feature batch\n",
      "2025-05-05 17:05:18,649 - lavka_recsys.Experiment(popularity_baseline_03697e) - INFO - Run results saved: results/popularity_baseline_03697e_results.json\n",
      "2025-05-05 17:05:18,653 - lavka_recsys.Experiment(popularity_baseline_03697e) - INFO - Run finished and results saved.\n",
      "\n",
      "Popularity Baseline Results (completed in 13.02 seconds):\n",
      "  auc: 0.612540\n",
      "  logloss: 31.678228\n",
      "  ndcg@10: 0.395567\n"
     ]
    }
   ],
   "source": [
    "# Create experiment\n",
    "config = (Config\n",
    "    .load('default_config.yaml')\n",
    "    .set('feature_generators', ['product_stats'])\n",
    "    .set('model.type', 'single_feature')\n",
    "    .set('model.config.single_feature.feature_name', 'product_total_purchases')\n",
    "    .set('model.config.single_feature.desc', True)\n",
    ")\n",
    "pop_experiment = Experiment(\n",
    "    \"popularity_baseline\",\n",
    "    config\n",
    ")\n",
    "\n",
    "# Setup and run\n",
    "start_time = time.time()\n",
    "pop_experiment.setup()\n",
    "pop_results = pop_experiment.run()\n",
    "pop_time = time.time() - start_time\n",
    "\n",
    "# Print metrics\n",
    "print(f\"\\nPopularity Baseline Results (completed in {pop_time:.2f} seconds):\")\n",
    "for metric, value in pop_results['metrics'].items():\n",
    "    print(f\"  {metric}: {value:.6f}\")"
   ]
  },
  {
   "cell_type": "code",
   "execution_count": 7,
   "metadata": {},
   "outputs": [],
   "source": [
    "# pop_experiment.create_submission()"
   ]
  },
  {
   "cell_type": "markdown",
   "metadata": {},
   "source": [
    "Kaggle Public Score = `0.33188`."
   ]
  },
  {
   "cell_type": "markdown",
   "metadata": {},
   "source": [
    "## CatBoost Classifier Experiment\n",
    "\n",
    "Run an experiment with CatBoost Classifier."
   ]
  },
  {
   "cell_type": "code",
   "execution_count": 6,
   "metadata": {},
   "outputs": [
    {
     "name": "stdout",
     "output_type": "stream",
     "text": [
      "2025-05-06 00:23:01,636 - lavka_recsys.Experiment(catboost_classifier_2ab624) - INFO - Initialized experiment: catboost_classifier_2ab624\n",
      "2025-05-06 00:23:01,646 - lavka_recsys.Experiment(catboost_classifier_2ab624) - INFO - Config saved: results/catboost_classifier_2ab624_config.json\n",
      "2025-05-06 00:23:01,648 - lavka_recsys.Experiment(catboost_classifier_2ab624) - INFO - Setting up experiment environment...\n",
      "2025-05-06 00:23:01,649 - lavka_recsys.DataLoader - INFO - Loading training data from ../../data/lavka/train.parquet\n"
     ]
    },
    {
     "name": "stdout",
     "output_type": "stream",
     "text": [
      "2025-05-06 00:23:01,817 - lavka_recsys.DataLoader - INFO - Loading test data from ../../data/lavka/test.parquet\n",
      "2025-05-06 00:23:02,129 - lavka_recsys.DataLoader - INFO - Holdout Split:\n",
      "2025-05-06 00:23:02,158 - lavka_recsys.DataLoader - INFO -   train: 2022-12-31 18:46:42 → 2024-01-03 17:31:52 (15_070_276 rows, 367 days)\n",
      "2025-05-06 00:23:02,162 - lavka_recsys.DataLoader - INFO -   holdout: 2024-01-03 17:56:48 → 2024-02-02 17:34:51 (1_438_338 rows, 29 days)\n",
      "2025-05-06 00:23:02,164 - lavka_recsys.Experiment(catboost_classifier_2ab624) - INFO - Setup complete.\n",
      "2025-05-06 00:23:02,165 - lavka_recsys.Experiment(catboost_classifier_2ab624) - INFO - Starting experiment run...\n",
      "2025-05-06 00:23:02,519 - lavka_recsys.DataLoader - INFO - Validation Split:\n",
      "2025-05-06 00:23:02,542 - lavka_recsys.DataLoader - INFO -   train_history: 2022-12-31 18:46:42 → 2023-11-04 17:16:23 (12_082_523 rows, 307 days)\n",
      "2025-05-06 00:23:02,545 - lavka_recsys.DataLoader - INFO -   train_target: 2023-11-04 18:19:12 → 2023-12-04 17:25:02 (1_498_126 rows, 29 days)\n",
      "2025-05-06 00:23:02,571 - lavka_recsys.DataLoader - INFO -   val_history: 2022-12-31 18:46:42 → 2023-12-04 17:25:02 (13_580_649 rows, 337 days)\n",
      "2025-05-06 00:23:02,575 - lavka_recsys.DataLoader - INFO -   val_target: 2023-12-04 18:02:13 → 2024-01-03 17:31:52 (1_489_627 rows, 29 days)\n",
      "2025-05-06 00:23:02,602 - lavka_recsys.CachedFeatureFactory - INFO - Generating feature batch\n",
      "2025-05-06 00:23:02,604 - lavka_recsys.FeatureFactory - INFO - Invoking feature generators: source_type, count_purchase_user_product, count_purchase_user_store, ctr_product, cart_to_purchase_rate, purchase_view_ratio, recency_user_product, user_stats, product_stats, store_stats, city_stats, product_temporal_patterns, recency_user_store, time_features_cycl, time_window_user_product, session_features, frequency_features, product_popularity_trend, cross_features, user_segments, memory-based-cf, npmi-cf, puresvd-cf, svd-cf, bpr-popular\n"
     ]
    },
    {
     "data": {
      "application/vnd.jupyter.widget-view+json": {
       "model_id": "2f5605ec69674e6f80b10963332af862",
       "version_major": 2,
       "version_minor": 0
      },
      "text/plain": [
       "  0%|          | 0/100 [00:00<?, ?it/s]"
      ]
     },
     "metadata": {},
     "output_type": "display_data"
    },
    {
     "data": {
      "application/vnd.jupyter.widget-view+json": {
       "model_id": "64d6df9dca7942cdb8027b896c46985d",
       "version_major": 2,
       "version_minor": 0
      },
      "text/plain": [
       "BPR processing:   0%|          | 0/1213 [00:00<?, ?it/s]"
      ]
     },
     "metadata": {},
     "output_type": "display_data"
    },
    {
     "name": "stdout",
     "output_type": "stream",
     "text": [
      "2025-05-06 00:25:12,255 - lavka_recsys.FeatureFactory - INFO - Joined features\n",
      "2025-05-06 00:25:12,257 - lavka_recsys.FeatureFactory - INFO - All column names: {'user_unique_products', 'product_total_purchases', 'store_unique_products', 'hour_relevance', 'session_length', 'cart_to_purchase_rate', 'is_weekend', 'session_unique_products', 'count_purchase_u_s', 'product_unique_users', 'purchase_trend', 'city_total_purchases', 'views_month_u_p', 'ctr_product', 'user_product_purchase_cross', 'npmi_cf_score', 'session_duration_seconds', 'views_week_u_p', 'purchases_day_u_p', 'city_total_views', 'svd_cf_score', 'user_total_purchases', 'store_total_interactions', 'store_total_purchases', 'puresvd_cf_score', 'purchases_week_u_p', 'interactions_month_u_p', 'days_since_interaction_u_p', 'days_since_interaction_u_s', 'interaction_trend', 'user_total_views', 'avg_purchase_hour', 'hour_of_day_sin', 'session_unique_stores', 'user_store_purchase_cross', 'user_product_store_cross', 'std_purchase_hour', 'city_total_interactions', 'product_total_views', 'user_segment', 'city_unique_stores', 'source_type', 'user_total_interactions', 'interactions_week_u_p', 'purchases_month_u_p', 'session_purchases', 'day_of_week_sin', 'mean_interval_days', 'purchase_view_ratio', 'count_purchase_u_p', 'day_of_week_relevance', 'month_sin', 'city_name', 'interactions_day_u_p', 'cf_score', 'most_common_purchase_day', 'views_day_u_p', 'bpr_popular_score', 'store_total_views', 'product_total_interactions'}\n",
      "2025-05-06 00:25:12,258 - lavka_recsys.FeatureFactory - INFO - All categorical column names: ['is_weekend', 'user_segment', 'city_name', 'source_type']\n",
      "2025-05-06 00:25:15,119 - lavka_recsys.CachedFeatureFactory - INFO - Generating feature batch\n",
      "2025-05-06 00:25:15,122 - lavka_recsys.FeatureFactory - INFO - Invoking feature generators: source_type, count_purchase_user_product, count_purchase_user_store, ctr_product, cart_to_purchase_rate, purchase_view_ratio, recency_user_product, user_stats, product_stats, store_stats, city_stats, product_temporal_patterns, recency_user_store, time_features_cycl, time_window_user_product, session_features, frequency_features, product_popularity_trend, cross_features, user_segments, memory-based-cf, npmi-cf, puresvd-cf, svd-cf, bpr-popular\n"
     ]
    },
    {
     "data": {
      "application/vnd.jupyter.widget-view+json": {
       "model_id": "d74f780ce5214e328af04f5f174ef0f1",
       "version_major": 2,
       "version_minor": 0
      },
      "text/plain": [
       "  0%|          | 0/100 [00:00<?, ?it/s]"
      ]
     },
     "metadata": {},
     "output_type": "display_data"
    },
    {
     "data": {
      "application/vnd.jupyter.widget-view+json": {
       "model_id": "dee791d6691a4ffe96a1d8e59b3ea6ea",
       "version_major": 2,
       "version_minor": 0
      },
      "text/plain": [
       "BPR processing:   0%|          | 0/1282 [00:00<?, ?it/s]"
      ]
     },
     "metadata": {},
     "output_type": "display_data"
    },
    {
     "name": "stdout",
     "output_type": "stream",
     "text": [
      "2025-05-06 00:26:57,805 - lavka_recsys.FeatureFactory - INFO - Joined features\n",
      "2025-05-06 00:26:57,807 - lavka_recsys.FeatureFactory - INFO - All column names: {'user_unique_products', 'product_total_purchases', 'store_unique_products', 'hour_relevance', 'session_length', 'cart_to_purchase_rate', 'is_weekend', 'session_unique_products', 'count_purchase_u_s', 'product_unique_users', 'purchase_trend', 'city_total_purchases', 'views_month_u_p', 'ctr_product', 'user_product_purchase_cross', 'npmi_cf_score', 'session_duration_seconds', 'views_week_u_p', 'purchases_day_u_p', 'city_total_views', 'svd_cf_score', 'user_total_purchases', 'store_total_interactions', 'store_total_purchases', 'puresvd_cf_score', 'purchases_week_u_p', 'interactions_month_u_p', 'days_since_interaction_u_p', 'days_since_interaction_u_s', 'interaction_trend', 'user_total_views', 'avg_purchase_hour', 'hour_of_day_sin', 'session_unique_stores', 'user_store_purchase_cross', 'user_product_store_cross', 'std_purchase_hour', 'city_total_interactions', 'product_total_views', 'user_segment', 'city_unique_stores', 'source_type', 'user_total_interactions', 'interactions_week_u_p', 'purchases_month_u_p', 'session_purchases', 'day_of_week_sin', 'mean_interval_days', 'purchase_view_ratio', 'count_purchase_u_p', 'day_of_week_relevance', 'month_sin', 'city_name', 'interactions_day_u_p', 'cf_score', 'most_common_purchase_day', 'views_day_u_p', 'bpr_popular_score', 'store_total_views', 'product_total_interactions'}\n",
      "2025-05-06 00:26:57,808 - lavka_recsys.FeatureFactory - INFO - All categorical column names: ['is_weekend', 'user_segment', 'city_name', 'source_type']\n",
      "2025-05-06 00:27:00,386 - lavka_recsys.ModelFactory - INFO - Creating catboost_classifier model with params: {'loss_function': 'Logloss', 'eval_metric': 'NDCG:top=10', 'early_stopping_rounds': 50, 'custom_metric': ['AUC'], 'iterations': 500, 'learning_rate': 0.1, 'depth': 6, 'l2_leaf_reg': 3.0, 'task_type': 'GPU', 'devices': '4,5', 'thread_count': -1}\n",
      "2025-05-06 00:27:00,725 - lavka_recsys.CatBoostClassifierModel - INFO - Sorting data by group_id for grouped ranking\n",
      "2025-05-06 00:27:04,227 - lavka_recsys.CatBoostClassifierModel - INFO - Sorting data by group_id for grouped ranking\n",
      "2025-05-06 00:27:07,516 - lavka_recsys.CatBoostClassifierModel - INFO - Converting 'is_weekend' to string for CatBoost\n",
      "2025-05-06 00:27:07,878 - lavka_recsys.CatBoostClassifierModel - INFO - Converting 'user_segment' to string for CatBoost\n",
      "2025-05-06 00:27:07,898 - lavka_recsys.CatBoostClassifierModel - INFO - Converting 'city_name' to string for CatBoost\n",
      "2025-05-06 00:27:07,921 - lavka_recsys.CatBoostClassifierModel - INFO - Converting 'source_type' to string for CatBoost\n",
      "2025-05-06 00:27:09,743 - lavka_recsys.CatBoostClassifierModel - INFO - Converting 'is_weekend' to string for CatBoost\n",
      "2025-05-06 00:27:10,079 - lavka_recsys.CatBoostClassifierModel - INFO - Converting 'user_segment' to string for CatBoost\n",
      "2025-05-06 00:27:10,102 - lavka_recsys.CatBoostClassifierModel - INFO - Converting 'city_name' to string for CatBoost\n",
      "2025-05-06 00:27:10,124 - lavka_recsys.CatBoostClassifierModel - INFO - Converting 'source_type' to string for CatBoost\n",
      "2025-05-06 00:27:11,896 - lavka_recsys.CatBoostClassifierModel - INFO - Training CatBoostClassifier model with columns: Index(['user_unique_products', 'product_total_purchases',\n",
      "       'store_unique_products', 'hour_relevance', 'session_length',\n",
      "       'cart_to_purchase_rate', 'is_weekend', 'session_unique_products',\n",
      "       'count_purchase_u_s', 'product_unique_users', 'purchase_trend',\n",
      "       'city_total_purchases', 'views_month_u_p', 'ctr_product',\n",
      "       'user_product_purchase_cross', 'npmi_cf_score',\n",
      "       'session_duration_seconds', 'views_week_u_p', 'purchases_day_u_p',\n",
      "       'city_total_views', 'svd_cf_score', 'user_total_purchases',\n",
      "       'store_total_interactions', 'store_total_purchases', 'puresvd_cf_score',\n",
      "       'purchases_week_u_p', 'interactions_month_u_p',\n",
      "       'days_since_interaction_u_p', 'days_since_interaction_u_s',\n",
      "       'interaction_trend', 'user_total_views', 'avg_purchase_hour',\n",
      "       'hour_of_day_sin', 'session_unique_stores', 'user_store_purchase_cross',\n",
      "       'user_product_store_cross', 'std_purchase_hour',\n",
      "       'city_total_interactions', 'product_total_views', 'user_segment',\n",
      "       'city_unique_stores', 'source_type', 'user_total_interactions',\n",
      "       'interactions_week_u_p', 'purchases_month_u_p', 'session_purchases',\n",
      "       'day_of_week_sin', 'mean_interval_days', 'purchase_view_ratio',\n",
      "       'count_purchase_u_p', 'day_of_week_relevance', 'month_sin', 'city_name',\n",
      "       'interactions_day_u_p', 'cf_score', 'most_common_purchase_day',\n",
      "       'views_day_u_p', 'bpr_popular_score', 'store_total_views',\n",
      "       'product_total_interactions'],\n",
      "      dtype='object') (cat_columns: ['is_weekend', 'user_segment', 'city_name', 'source_type'])\n"
     ]
    },
    {
     "data": {
      "application/vnd.jupyter.widget-view+json": {
       "model_id": "bd4ee5909ec44a839a62c1f917587a8a",
       "version_major": 2,
       "version_minor": 0
      },
      "text/plain": [
       "MetricVisualizer(layout=Layout(align_self='stretch', height='500px'))"
      ]
     },
     "metadata": {},
     "output_type": "display_data"
    },
    {
     "name": "stderr",
     "output_type": "stream",
     "text": [
      "Default metric period is 5 because AUC, NDCG is/are not implemented for GPU\n",
      "Metric NDCG:top=10;type=Base is not implemented on GPU. Will use CPU for metric computation, this could significantly affect learning time\n"
     ]
    },
    {
     "name": "stdout",
     "output_type": "stream",
     "text": [
      "2025-05-06 00:27:36,180 - lavka_recsys.Experiment(catboost_classifier_2ab624) - INFO - Training completed in 35.79s\n",
      "2025-05-06 00:27:36,186 - lavka_recsys.Experiment(catboost_classifier_2ab624) - INFO - Evaluating on holdout.\n",
      "2025-05-06 00:27:36,247 - lavka_recsys.CachedFeatureFactory - INFO - Generating feature batch\n",
      "2025-05-06 00:27:36,249 - lavka_recsys.FeatureFactory - INFO - Invoking feature generators: source_type, count_purchase_user_product, count_purchase_user_store, ctr_product, cart_to_purchase_rate, purchase_view_ratio, recency_user_product, user_stats, product_stats, store_stats, city_stats, product_temporal_patterns, recency_user_store, time_features_cycl, time_window_user_product, session_features, frequency_features, product_popularity_trend, cross_features, user_segments, memory-based-cf, npmi-cf, puresvd-cf, svd-cf, bpr-popular\n"
     ]
    },
    {
     "data": {
      "application/vnd.jupyter.widget-view+json": {
       "model_id": "73ef7cd86e964057839b6cc9ae969144",
       "version_major": 2,
       "version_minor": 0
      },
      "text/plain": [
       "  0%|          | 0/100 [00:00<?, ?it/s]"
      ]
     },
     "metadata": {},
     "output_type": "display_data"
    },
    {
     "data": {
      "application/vnd.jupyter.widget-view+json": {
       "model_id": "aa337ead1dca453ca72d97e3e1b04a07",
       "version_major": 2,
       "version_minor": 0
      },
      "text/plain": [
       "BPR processing:   0%|          | 0/1283 [00:00<?, ?it/s]"
      ]
     },
     "metadata": {},
     "output_type": "display_data"
    },
    {
     "name": "stdout",
     "output_type": "stream",
     "text": [
      "2025-05-06 00:29:28,643 - lavka_recsys.FeatureFactory - INFO - Joined features\n",
      "2025-05-06 00:29:28,645 - lavka_recsys.FeatureFactory - INFO - All column names: {'user_unique_products', 'product_total_purchases', 'store_unique_products', 'hour_relevance', 'session_length', 'cart_to_purchase_rate', 'is_weekend', 'session_unique_products', 'count_purchase_u_s', 'product_unique_users', 'purchase_trend', 'city_total_purchases', 'views_month_u_p', 'ctr_product', 'user_product_purchase_cross', 'npmi_cf_score', 'session_duration_seconds', 'views_week_u_p', 'purchases_day_u_p', 'city_total_views', 'svd_cf_score', 'user_total_purchases', 'store_total_interactions', 'store_total_purchases', 'puresvd_cf_score', 'purchases_week_u_p', 'interactions_month_u_p', 'days_since_interaction_u_p', 'days_since_interaction_u_s', 'interaction_trend', 'user_total_views', 'avg_purchase_hour', 'hour_of_day_sin', 'session_unique_stores', 'user_store_purchase_cross', 'user_product_store_cross', 'std_purchase_hour', 'city_total_interactions', 'product_total_views', 'user_segment', 'city_unique_stores', 'source_type', 'user_total_interactions', 'interactions_week_u_p', 'purchases_month_u_p', 'session_purchases', 'day_of_week_sin', 'mean_interval_days', 'purchase_view_ratio', 'count_purchase_u_p', 'day_of_week_relevance', 'month_sin', 'city_name', 'interactions_day_u_p', 'cf_score', 'most_common_purchase_day', 'views_day_u_p', 'bpr_popular_score', 'store_total_views', 'product_total_interactions'}\n",
      "2025-05-06 00:29:28,646 - lavka_recsys.FeatureFactory - INFO - All categorical column names: ['is_weekend', 'user_segment', 'city_name', 'source_type']\n",
      "2025-05-06 00:29:31,277 - lavka_recsys.CatBoostClassifierModel - INFO - Converting 'is_weekend' to string for CatBoost\n",
      "2025-05-06 00:29:31,668 - lavka_recsys.CatBoostClassifierModel - INFO - Converting 'user_segment' to string for CatBoost\n",
      "2025-05-06 00:29:31,705 - lavka_recsys.CatBoostClassifierModel - INFO - Converting 'source_type' to string for CatBoost\n",
      "2025-05-06 00:29:31,726 - lavka_recsys.CatBoostClassifierModel - INFO - Converting 'city_name' to string for CatBoost\n",
      "2025-05-06 00:29:46,654 - lavka_recsys.Experiment(catboost_classifier_2ab624) - INFO - Run results saved: results/catboost_classifier_2ab624_results.json\n",
      "2025-05-06 00:29:46,656 - lavka_recsys.Experiment(catboost_classifier_2ab624) - INFO - Run finished and results saved.\n",
      "\n",
      "CatBoost Classifier Results:\n",
      "  auc: 0.754402\n",
      "  logloss: 0.084395\n",
      "  ndcg@10: 0.484944\n",
      "\n",
      "Top 10 Important Features:\n",
      "  source_type: 22.258238\n",
      "  purchase_view_ratio: 11.932962\n",
      "  bpr_popular_score: 8.559990\n",
      "  count_purchase_u_p: 5.766648\n",
      "  mean_interval_days: 3.616206\n",
      "  user_total_interactions: 3.543962\n",
      "  npmi_cf_score: 3.466595\n",
      "  user_total_views: 3.239054\n",
      "  purchases_month_u_p: 3.015474\n",
      "  user_total_purchases: 2.502818\n"
     ]
    }
   ],
   "source": [
    "classifier_experiment = Experiment(\"catboost_classifier\", (Config\n",
    "    .load('default_config.yaml')\n",
    "    .set('model.type', 'catboost_classifier')\n",
    "    .set('target', 'CartUpdate_vs_View')\n",
    "))\n",
    "\n",
    "# Setup and run\n",
    "classifier_experiment.setup()\n",
    "classifier_results = classifier_experiment.run()\n",
    "\n",
    "# Print metrics\n",
    "print(f\"\\nCatBoost Classifier Results:\")\n",
    "for metric, value in classifier_results['metrics'].items():\n",
    "    print(f\"  {metric}: {value:.6f}\")\n",
    "\n",
    "# Print feature importance\n",
    "if 'feature_importance' in classifier_results:\n",
    "    print(\"\\nTop 10 Important Features:\")\n",
    "    top_features = sorted(classifier_results['feature_importance'].items(), \n",
    "                        key=lambda x: x[1], reverse=True)[:10]\n",
    "    for feature, importance in top_features:\n",
    "        print(f\"  {feature}: {importance:.6f}\")"
   ]
  },
  {
   "cell_type": "code",
   "execution_count": 6,
   "metadata": {},
   "outputs": [
    {
     "name": "stdout",
     "output_type": "stream",
     "text": [
      "2025-05-05 21:17:27,157 - lavka_recsys.Experiment(catboost_classifier_ebe53b) - INFO - Computing predictions...\n",
      "2025-05-05 21:17:27,163 - lavka_recsys.DataLoader - INFO - Holdout data merged back into training data.\n",
      "2025-05-05 21:17:27,198 - lavka_recsys.DataLoader - INFO - Validation Split:\n",
      "2025-05-05 21:17:27,228 - lavka_recsys.DataLoader - INFO -   history: 2022-12-31 18:46:42 → 2024-01-03 17:31:52 (15_070_276 rows, 367 days)\n",
      "2025-05-05 21:17:27,232 - lavka_recsys.DataLoader - INFO -   target: 2024-01-03 17:56:48 → 2024-02-02 17:34:51 (1_438_338 rows, 29 days)\n",
      "2025-05-05 21:17:28,350 - lavka_recsys.CachedFeatureFactory - INFO - Using cached feature batch\n",
      "2025-05-05 21:17:28,352 - lavka_recsys.ModelFactory - INFO - Creating catboost_classifier model with params: {'loss_function': 'Logloss', 'eval_metric': 'AUC', 'early_stopping_rounds': 50, 'custom_metric': ['AUC', 'NDCG:top=10'], 'task_type': 'GPU', 'devices': '4,5', 'thread_count': -1}\n",
      "2025-05-05 21:17:28,599 - lavka_recsys.CatBoostClassifierModel - INFO - Sorting data by group_id for grouped ranking\n",
      "2025-05-05 21:17:31,757 - lavka_recsys.CatBoostClassifierModel - INFO - Converting 'user_segment' to string for CatBoost\n",
      "2025-05-05 21:17:31,778 - lavka_recsys.CatBoostClassifierModel - INFO - Converting 'city_name' to string for CatBoost\n",
      "2025-05-05 21:17:31,801 - lavka_recsys.CatBoostClassifierModel - INFO - Converting 'source_type' to string for CatBoost\n",
      "2025-05-05 21:17:33,326 - lavka_recsys.CatBoostClassifierModel - INFO - Training CatBoostClassifier model with columns: Index(['user_total_purchases', 'product_total_purchases', 'is_weekend',\n",
      "       'user_product_purchase_cross', 'views_month_u_p', 'user_total_views',\n",
      "       'interactions_week_u_p', 'std_purchase_hour', 'day_of_week',\n",
      "       'session_purchases', 'count_purchase_u_s', 'user_product_store_cross',\n",
      "       'mean_interval_days', 'purchase_trend', 'product_total_views',\n",
      "       'source_type', 'session_unique_stores', 'purchase_view_ratio',\n",
      "       'purchases_week_u_p', 'cf_score', 'session_unique_products',\n",
      "       'hour_of_day', 'product_total_interactions', 'session_length',\n",
      "       'city_total_views', 'days_since_interaction_u_s',\n",
      "       'interactions_day_u_p', 'user_segment', 'month', 'purchases_month_u_p',\n",
      "       'user_store_purchase_cross', 'user_total_interactions',\n",
      "       'store_total_interactions', 'most_common_purchase_day',\n",
      "       'days_since_interaction_u_p', 'product_unique_users', 'views_week_u_p',\n",
      "       'svd_cf_score', 'city_name', 'bpr_popular_score', 'count_purchase_u_p',\n",
      "       'city_unique_stores', 'session_duration_seconds', 'avg_purchase_hour',\n",
      "       'store_total_purchases', 'hour_relevance', 'interactions_month_u_p',\n",
      "       'user_unique_products', 'npmi_cf_score', 'ctr_product',\n",
      "       'store_total_views', 'interaction_trend', 'purchases_day_u_p',\n",
      "       'city_total_interactions', 'day_of_week_relevance', 'puresvd_cf_score',\n",
      "       'views_day_u_p', 'city_total_purchases', 'store_unique_products',\n",
      "       'cart_to_purchase_rate'],\n",
      "      dtype='object') (cat_columns: ['user_segment', 'city_name', 'source_type'])\n"
     ]
    },
    {
     "data": {
      "application/vnd.jupyter.widget-view+json": {
       "model_id": "e56fac232a204993bc3191e9e3384ecf",
       "version_major": 2,
       "version_minor": 0
      },
      "text/plain": [
       "MetricVisualizer(layout=Layout(align_self='stretch', height='500px'))"
      ]
     },
     "metadata": {},
     "output_type": "display_data"
    },
    {
     "name": "stderr",
     "output_type": "stream",
     "text": [
      "Default metric period is 5 because AUC, NDCG is/are not implemented for GPU\n",
      "Metric NDCG:top=10;type=Base is not implemented on GPU. Will use CPU for metric computation, this could significantly affect learning time\n"
     ]
    },
    {
     "name": "stdout",
     "output_type": "stream",
     "text": [
      "2025-05-05 21:18:26,595 - lavka_recsys.Experiment(catboost_classifier_ebe53b) - INFO - Training completed in 58.24s\n",
      "2025-05-05 21:18:26,600 - lavka_recsys.DataLoader - INFO - Holdout data merged back into training data.\n",
      "2025-05-05 21:18:26,633 - lavka_recsys.CachedFeatureFactory - INFO - Generating feature batch\n",
      "2025-05-05 21:18:26,636 - lavka_recsys.FeatureFactory - INFO - Invoking feature generators: source_type, count_purchase_user_product, count_purchase_user_store, ctr_product, cart_to_purchase_rate, purchase_view_ratio, recency_user_product, user_stats, product_stats, store_stats, city_stats, product_temporal_patterns, recency_user_store, time_features, time_window_user_product, session_features, frequency_features, product_popularity_trend, cross_features, user_segments, memory-based-cf, npmi-cf, puresvd-cf, svd-cf, bpr-popular\n"
     ]
    },
    {
     "data": {
      "application/vnd.jupyter.widget-view+json": {
       "model_id": "22598992b72244e38b219d63559430ef",
       "version_major": 2,
       "version_minor": 0
      },
      "text/plain": [
       "  0%|          | 0/100 [00:00<?, ?it/s]"
      ]
     },
     "metadata": {},
     "output_type": "display_data"
    },
    {
     "data": {
      "application/vnd.jupyter.widget-view+json": {
       "model_id": "b3ed070c5311413bba6e91608730d172",
       "version_major": 2,
       "version_minor": 0
      },
      "text/plain": [
       "BPR processing:   0%|          | 0/807 [00:00<?, ?it/s]"
      ]
     },
     "metadata": {},
     "output_type": "display_data"
    },
    {
     "name": "stdout",
     "output_type": "stream",
     "text": [
      "2025-05-05 21:19:58,736 - lavka_recsys.FeatureFactory - INFO - Joined features\n",
      "2025-05-05 21:19:58,737 - lavka_recsys.FeatureFactory - INFO - All column names: {'user_total_purchases', 'product_total_purchases', 'is_weekend', 'user_product_purchase_cross', 'views_month_u_p', 'user_total_views', 'interactions_week_u_p', 'std_purchase_hour', 'day_of_week', 'session_purchases', 'count_purchase_u_s', 'user_product_store_cross', 'mean_interval_days', 'purchase_trend', 'product_total_views', 'source_type', 'session_unique_stores', 'purchase_view_ratio', 'purchases_week_u_p', 'cf_score', 'session_unique_products', 'hour_of_day', 'product_total_interactions', 'session_length', 'city_total_views', 'days_since_interaction_u_s', 'interactions_day_u_p', 'user_segment', 'month', 'purchases_month_u_p', 'user_store_purchase_cross', 'user_total_interactions', 'store_total_interactions', 'most_common_purchase_day', 'days_since_interaction_u_p', 'product_unique_users', 'views_week_u_p', 'svd_cf_score', 'city_name', 'bpr_popular_score', 'count_purchase_u_p', 'city_unique_stores', 'session_duration_seconds', 'avg_purchase_hour', 'store_total_purchases', 'hour_relevance', 'interactions_month_u_p', 'user_unique_products', 'npmi_cf_score', 'ctr_product', 'store_total_views', 'interaction_trend', 'purchases_day_u_p', 'city_total_interactions', 'day_of_week_relevance', 'puresvd_cf_score', 'views_day_u_p', 'city_total_purchases', 'store_unique_products', 'cart_to_purchase_rate'}\n",
      "2025-05-05 21:19:58,738 - lavka_recsys.FeatureFactory - INFO - All categorical column names: ['user_segment', 'city_name', 'source_type']\n",
      "2025-05-05 21:19:59,177 - lavka_recsys.CatBoostClassifierModel - INFO - Converting 'source_type' to string for CatBoost\n",
      "2025-05-05 21:19:59,184 - lavka_recsys.CatBoostClassifierModel - INFO - Converting 'user_segment' to string for CatBoost\n",
      "2025-05-05 21:19:59,190 - lavka_recsys.CatBoostClassifierModel - INFO - Converting 'city_name' to string for CatBoost\n",
      "2025-05-05 21:19:59,681 - lavka_recsys.Experiment(catboost_classifier_ebe53b) - INFO - Submission saved: results/submissions/catboost_classifier_ebe53b_submission.csv\n",
      "2025-05-05 21:19:59,730 - lavka_recsys.Experiment(catboost_classifier_ebe53b) - INFO - Submission model saved: results/submissions/catboost_classifier_ebe53b_model.pkl\n"
     ]
    },
    {
     "data": {
      "text/html": [
       "<div><style>\n",
       ".dataframe > thead > tr,\n",
       ".dataframe > tbody > tr {\n",
       "  text-align: right;\n",
       "  white-space: pre-wrap;\n",
       "}\n",
       "</style>\n",
       "<small>shape: (292_826, 2)</small><table border=\"1\" class=\"dataframe\"><thead><tr><th>index</th><th>request_id</th></tr><tr><td>u32</td><td>u64</td></tr></thead><tbody><tr><td>10580</td><td>18249322439088082464</td></tr><tr><td>175497</td><td>18249322439088082464</td></tr><tr><td>194218</td><td>18249322439088082464</td></tr><tr><td>240500</td><td>18249322439088082464</td></tr><tr><td>196870</td><td>6482228966567928247</td></tr><tr><td>&hellip;</td><td>&hellip;</td></tr><tr><td>185742</td><td>9521914430913884488</td></tr><tr><td>158989</td><td>8125801675136871061</td></tr><tr><td>246665</td><td>8125801675136871061</td></tr><tr><td>198443</td><td>5291459374113443837</td></tr><tr><td>225904</td><td>7724004428801224267</td></tr></tbody></table></div>"
      ],
      "text/plain": [
       "shape: (292_826, 2)\n",
       "┌────────┬──────────────────────┐\n",
       "│ index  ┆ request_id           │\n",
       "│ ---    ┆ ---                  │\n",
       "│ u32    ┆ u64                  │\n",
       "╞════════╪══════════════════════╡\n",
       "│ 10580  ┆ 18249322439088082464 │\n",
       "│ 175497 ┆ 18249322439088082464 │\n",
       "│ 194218 ┆ 18249322439088082464 │\n",
       "│ 240500 ┆ 18249322439088082464 │\n",
       "│ 196870 ┆ 6482228966567928247  │\n",
       "│ …      ┆ …                    │\n",
       "│ 185742 ┆ 9521914430913884488  │\n",
       "│ 158989 ┆ 8125801675136871061  │\n",
       "│ 246665 ┆ 8125801675136871061  │\n",
       "│ 198443 ┆ 5291459374113443837  │\n",
       "│ 225904 ┆ 7724004428801224267  │\n",
       "└────────┴──────────────────────┘"
      ]
     },
     "execution_count": 6,
     "metadata": {},
     "output_type": "execute_result"
    }
   ],
   "source": [
    "classifier_experiment.create_submission()"
   ]
  },
  {
   "cell_type": "markdown",
   "metadata": {},
   "source": [
    "Kaggle Public Score: `NDCG@10 = 0.40962`."
   ]
  },
  {
   "cell_type": "markdown",
   "metadata": {},
   "source": [
    "## CatBoost Ranker Experiment\n",
    "\n",
    "Run an experiment with CatBoost Ranker."
   ]
  },
  {
   "cell_type": "code",
   "execution_count": 3,
   "metadata": {},
   "outputs": [
    {
     "name": "stdout",
     "output_type": "stream",
     "text": [
      "2025-05-06 00:08:37,094 - lavka_recsys.Experiment(catboost_ranker_3dc911) - INFO - Initialized experiment: catboost_ranker_3dc911\n",
      "2025-05-06 00:08:37,103 - lavka_recsys.Experiment(catboost_ranker_3dc911) - INFO - Config saved: results/catboost_ranker_3dc911_config.json\n",
      "2025-05-06 00:08:37,105 - lavka_recsys.Experiment(catboost_ranker_3dc911) - INFO - Setting up experiment environment...\n",
      "2025-05-06 00:08:37,107 - lavka_recsys.DataLoader - INFO - Loading training data from ../../data/lavka/train.parquet\n"
     ]
    },
    {
     "name": "stdout",
     "output_type": "stream",
     "text": [
      "2025-05-06 00:08:37,442 - lavka_recsys.DataLoader - INFO - Loading test data from ../../data/lavka/test.parquet\n",
      "2025-05-06 00:08:37,858 - lavka_recsys.DataLoader - INFO - Holdout Split:\n",
      "2025-05-06 00:08:37,889 - lavka_recsys.DataLoader - INFO -   train: 2022-12-31 18:46:42 → 2024-01-03 17:31:52 (15_070_276 rows, 367 days)\n",
      "2025-05-06 00:08:37,893 - lavka_recsys.DataLoader - INFO -   holdout: 2024-01-03 17:56:48 → 2024-02-02 17:34:51 (1_438_338 rows, 29 days)\n",
      "2025-05-06 00:08:37,894 - lavka_recsys.Experiment(catboost_ranker_3dc911) - INFO - Setup complete.\n",
      "2025-05-06 00:08:37,895 - lavka_recsys.Experiment(catboost_ranker_3dc911) - INFO - Starting experiment run...\n",
      "2025-05-06 00:08:38,385 - lavka_recsys.DataLoader - INFO - Validation Split:\n",
      "2025-05-06 00:08:38,407 - lavka_recsys.DataLoader - INFO -   train_history: 2022-12-31 18:46:42 → 2023-11-04 17:16:23 (12_082_523 rows, 307 days)\n",
      "2025-05-06 00:08:38,411 - lavka_recsys.DataLoader - INFO -   train_target: 2023-11-04 18:19:12 → 2023-12-04 17:25:02 (1_498_126 rows, 29 days)\n",
      "2025-05-06 00:08:38,437 - lavka_recsys.DataLoader - INFO -   val_history: 2022-12-31 18:46:42 → 2023-12-04 17:25:02 (13_580_649 rows, 337 days)\n",
      "2025-05-06 00:08:38,441 - lavka_recsys.DataLoader - INFO -   val_target: 2023-12-04 18:02:13 → 2024-01-03 17:31:52 (1_489_627 rows, 29 days)\n",
      "2025-05-06 00:08:38,468 - lavka_recsys.CachedFeatureFactory - INFO - Generating feature batch\n",
      "2025-05-06 00:08:38,469 - lavka_recsys.FeatureFactory - INFO - Invoking feature generators: source_type, count_purchase_user_product, count_purchase_user_store, ctr_product, cart_to_purchase_rate, purchase_view_ratio, recency_user_product, user_stats, product_stats, store_stats, city_stats, product_temporal_patterns, recency_user_store, time_features_cycl, time_window_user_product, session_features, frequency_features, product_popularity_trend, cross_features, user_segments, memory-based-cf, npmi-cf, puresvd-cf, svd-cf, bpr-popular\n"
     ]
    },
    {
     "data": {
      "application/vnd.jupyter.widget-view+json": {
       "model_id": "870d229006314998a06f42222a10d8e8",
       "version_major": 2,
       "version_minor": 0
      },
      "text/plain": [
       "  0%|          | 0/100 [00:00<?, ?it/s]"
      ]
     },
     "metadata": {},
     "output_type": "display_data"
    },
    {
     "data": {
      "application/vnd.jupyter.widget-view+json": {
       "model_id": "d203d7a239564307ba87847a68d3731f",
       "version_major": 2,
       "version_minor": 0
      },
      "text/plain": [
       "BPR processing:   0%|          | 0/1213 [00:00<?, ?it/s]"
      ]
     },
     "metadata": {},
     "output_type": "display_data"
    },
    {
     "name": "stdout",
     "output_type": "stream",
     "text": [
      "2025-05-06 00:10:09,921 - lavka_recsys.FeatureFactory - INFO - Joined features\n",
      "2025-05-06 00:10:09,922 - lavka_recsys.FeatureFactory - INFO - All column names: {'user_unique_products', 'product_total_purchases', 'store_unique_products', 'hour_relevance', 'session_length', 'cart_to_purchase_rate', 'is_weekend', 'session_unique_products', 'count_purchase_u_s', 'product_unique_users', 'purchase_trend', 'city_total_purchases', 'views_month_u_p', 'ctr_product', 'user_product_purchase_cross', 'npmi_cf_score', 'session_duration_seconds', 'views_week_u_p', 'purchases_day_u_p', 'city_total_views', 'svd_cf_score', 'user_total_purchases', 'store_total_interactions', 'store_total_purchases', 'puresvd_cf_score', 'purchases_week_u_p', 'interactions_month_u_p', 'days_since_interaction_u_p', 'days_since_interaction_u_s', 'interaction_trend', 'user_total_views', 'avg_purchase_hour', 'hour_of_day_sin', 'session_unique_stores', 'user_store_purchase_cross', 'user_product_store_cross', 'std_purchase_hour', 'city_total_interactions', 'product_total_views', 'user_segment', 'city_unique_stores', 'source_type', 'user_total_interactions', 'interactions_week_u_p', 'purchases_month_u_p', 'session_purchases', 'day_of_week_sin', 'mean_interval_days', 'purchase_view_ratio', 'count_purchase_u_p', 'day_of_week_relevance', 'month_sin', 'city_name', 'interactions_day_u_p', 'cf_score', 'most_common_purchase_day', 'views_day_u_p', 'bpr_popular_score', 'store_total_views', 'product_total_interactions'}\n",
      "2025-05-06 00:10:09,923 - lavka_recsys.FeatureFactory - INFO - All categorical column names: ['is_weekend', 'user_segment', 'city_name', 'source_type']\n",
      "2025-05-06 00:10:12,109 - lavka_recsys.CachedFeatureFactory - INFO - Generating feature batch\n",
      "2025-05-06 00:10:12,110 - lavka_recsys.FeatureFactory - INFO - Invoking feature generators: source_type, count_purchase_user_product, count_purchase_user_store, ctr_product, cart_to_purchase_rate, purchase_view_ratio, recency_user_product, user_stats, product_stats, store_stats, city_stats, product_temporal_patterns, recency_user_store, time_features_cycl, time_window_user_product, session_features, frequency_features, product_popularity_trend, cross_features, user_segments, memory-based-cf, npmi-cf, puresvd-cf, svd-cf, bpr-popular\n"
     ]
    },
    {
     "data": {
      "application/vnd.jupyter.widget-view+json": {
       "model_id": "18c3016d9e3d4cf19ef69701ba7920db",
       "version_major": 2,
       "version_minor": 0
      },
      "text/plain": [
       "  0%|          | 0/100 [00:00<?, ?it/s]"
      ]
     },
     "metadata": {},
     "output_type": "display_data"
    },
    {
     "data": {
      "application/vnd.jupyter.widget-view+json": {
       "model_id": "e638c944716944e1b65397ff5574736b",
       "version_major": 2,
       "version_minor": 0
      },
      "text/plain": [
       "BPR processing:   0%|          | 0/1282 [00:00<?, ?it/s]"
      ]
     },
     "metadata": {},
     "output_type": "display_data"
    },
    {
     "name": "stdout",
     "output_type": "stream",
     "text": [
      "2025-05-06 00:11:48,515 - lavka_recsys.FeatureFactory - INFO - Joined features\n",
      "2025-05-06 00:11:48,518 - lavka_recsys.FeatureFactory - INFO - All column names: {'user_unique_products', 'product_total_purchases', 'store_unique_products', 'hour_relevance', 'session_length', 'cart_to_purchase_rate', 'is_weekend', 'session_unique_products', 'count_purchase_u_s', 'product_unique_users', 'purchase_trend', 'city_total_purchases', 'views_month_u_p', 'ctr_product', 'user_product_purchase_cross', 'npmi_cf_score', 'session_duration_seconds', 'views_week_u_p', 'purchases_day_u_p', 'city_total_views', 'svd_cf_score', 'user_total_purchases', 'store_total_interactions', 'store_total_purchases', 'puresvd_cf_score', 'purchases_week_u_p', 'interactions_month_u_p', 'days_since_interaction_u_p', 'days_since_interaction_u_s', 'interaction_trend', 'user_total_views', 'avg_purchase_hour', 'hour_of_day_sin', 'session_unique_stores', 'user_store_purchase_cross', 'user_product_store_cross', 'std_purchase_hour', 'city_total_interactions', 'product_total_views', 'user_segment', 'city_unique_stores', 'source_type', 'user_total_interactions', 'interactions_week_u_p', 'purchases_month_u_p', 'session_purchases', 'day_of_week_sin', 'mean_interval_days', 'purchase_view_ratio', 'count_purchase_u_p', 'day_of_week_relevance', 'month_sin', 'city_name', 'interactions_day_u_p', 'cf_score', 'most_common_purchase_day', 'views_day_u_p', 'bpr_popular_score', 'store_total_views', 'product_total_interactions'}\n",
      "2025-05-06 00:11:48,519 - lavka_recsys.FeatureFactory - INFO - All categorical column names: ['is_weekend', 'user_segment', 'city_name', 'source_type']\n",
      "2025-05-06 00:11:50,532 - lavka_recsys.ModelFactory - INFO - Creating catboost_ranker model with params: {'iterations': 300, 'loss_function': 'YetiRankPairwise', 'eval_metric': 'NDCG:top=10', 'early_stopping_rounds': 50, 'custom_metric': ['NDCG:top=10', 'PrecisionAt:top=10', 'RecallAt:top=10'], 'task_type': 'GPU', 'devices': '4,5', 'thread_count': -1}\n",
      "2025-05-06 00:11:50,834 - lavka_recsys.CatBoostRankerModel - INFO - Sorting data by group_id for grouped ranking\n",
      "2025-05-06 00:11:53,062 - lavka_recsys.CatBoostRankerModel - INFO - Sorting data by group_id for grouped ranking\n",
      "2025-05-06 00:11:55,223 - lavka_recsys.CatBoostRankerModel - INFO - Converting 'is_weekend' to string for CatBoost\n",
      "2025-05-06 00:11:55,660 - lavka_recsys.CatBoostRankerModel - INFO - Converting 'user_segment' to string for CatBoost\n",
      "2025-05-06 00:11:55,682 - lavka_recsys.CatBoostRankerModel - INFO - Converting 'city_name' to string for CatBoost\n",
      "2025-05-06 00:11:55,704 - lavka_recsys.CatBoostRankerModel - INFO - Converting 'source_type' to string for CatBoost\n",
      "2025-05-06 00:11:57,863 - lavka_recsys.CatBoostRankerModel - INFO - Converting 'is_weekend' to string for CatBoost\n",
      "2025-05-06 00:11:58,301 - lavka_recsys.CatBoostRankerModel - INFO - Converting 'user_segment' to string for CatBoost\n",
      "2025-05-06 00:11:58,324 - lavka_recsys.CatBoostRankerModel - INFO - Converting 'city_name' to string for CatBoost\n",
      "2025-05-06 00:11:58,379 - lavka_recsys.CatBoostRankerModel - INFO - Converting 'source_type' to string for CatBoost\n",
      "2025-05-06 00:12:00,276 - lavka_recsys.CatBoostRankerModel - INFO - Training CatBoostRanker model with columns: ['user_unique_products', 'product_total_purchases', 'store_unique_products', 'hour_relevance', 'session_length', 'cart_to_purchase_rate', 'is_weekend', 'session_unique_products', 'count_purchase_u_s', 'product_unique_users', 'purchase_trend', 'city_total_purchases', 'views_month_u_p', 'ctr_product', 'user_product_purchase_cross', 'npmi_cf_score', 'session_duration_seconds', 'views_week_u_p', 'purchases_day_u_p', 'city_total_views', 'svd_cf_score', 'user_total_purchases', 'store_total_interactions', 'store_total_purchases', 'puresvd_cf_score', 'purchases_week_u_p', 'interactions_month_u_p', 'days_since_interaction_u_p', 'days_since_interaction_u_s', 'interaction_trend', 'user_total_views', 'avg_purchase_hour', 'hour_of_day_sin', 'session_unique_stores', 'user_store_purchase_cross', 'user_product_store_cross', 'std_purchase_hour', 'city_total_interactions', 'product_total_views', 'user_segment', 'city_unique_stores', 'source_type', 'user_total_interactions', 'interactions_week_u_p', 'purchases_month_u_p', 'session_purchases', 'day_of_week_sin', 'mean_interval_days', 'purchase_view_ratio', 'count_purchase_u_p', 'day_of_week_relevance', 'month_sin', 'city_name', 'interactions_day_u_p', 'cf_score', 'most_common_purchase_day', 'views_day_u_p', 'bpr_popular_score', 'store_total_views', 'product_total_interactions'] (cat_columns: ['is_weekend', 'user_segment', 'city_name', 'source_type'])\n"
     ]
    },
    {
     "data": {
      "application/vnd.jupyter.widget-view+json": {
       "model_id": "1855cb555f664c6c9582599b6a7157a0",
       "version_major": 2,
       "version_minor": 0
      },
      "text/plain": [
       "MetricVisualizer(layout=Layout(align_self='stretch', height='500px'))"
      ]
     },
     "metadata": {},
     "output_type": "display_data"
    },
    {
     "name": "stderr",
     "output_type": "stream",
     "text": [
      "Default metric period is 5 because PFound, PrecisionAt, RecallAt, NDCG is/are not implemented for GPU\n",
      "Metric PFound is not implemented on GPU. Will use CPU for metric computation, this could significantly affect learning time\n",
      "Metric NDCG:top=10;type=Base is not implemented on GPU. Will use CPU for metric computation, this could significantly affect learning time\n",
      "Metric NDCG:top=10;type=Base is not implemented on GPU. Will use CPU for metric computation, this could significantly affect learning time\n",
      "Metric PrecisionAt:top=10 is not implemented on GPU. Will use CPU for metric computation, this could significantly affect learning time\n",
      "Metric RecallAt:top=10 is not implemented on GPU. Will use CPU for metric computation, this could significantly affect learning time\n"
     ]
    },
    {
     "name": "stdout",
     "output_type": "stream",
     "text": [
      "2025-05-06 00:12:48,440 - lavka_recsys.Experiment(catboost_ranker_3dc911) - INFO - Training completed in 57.89s\n",
      "2025-05-06 00:12:48,448 - lavka_recsys.Experiment(catboost_ranker_3dc911) - INFO - Evaluating on holdout.\n",
      "2025-05-06 00:12:48,590 - lavka_recsys.CachedFeatureFactory - INFO - Generating feature batch\n",
      "2025-05-06 00:12:48,591 - lavka_recsys.FeatureFactory - INFO - Invoking feature generators: source_type, count_purchase_user_product, count_purchase_user_store, ctr_product, cart_to_purchase_rate, purchase_view_ratio, recency_user_product, user_stats, product_stats, store_stats, city_stats, product_temporal_patterns, recency_user_store, time_features_cycl, time_window_user_product, session_features, frequency_features, product_popularity_trend, cross_features, user_segments, memory-based-cf, npmi-cf, puresvd-cf, svd-cf, bpr-popular\n"
     ]
    },
    {
     "data": {
      "application/vnd.jupyter.widget-view+json": {
       "model_id": "e2fc617f4e6843eb904140734a0e5a73",
       "version_major": 2,
       "version_minor": 0
      },
      "text/plain": [
       "  0%|          | 0/100 [00:00<?, ?it/s]"
      ]
     },
     "metadata": {},
     "output_type": "display_data"
    },
    {
     "data": {
      "application/vnd.jupyter.widget-view+json": {
       "model_id": "d69805830b7a433abcba016cb9888646",
       "version_major": 2,
       "version_minor": 0
      },
      "text/plain": [
       "BPR processing:   0%|          | 0/1283 [00:00<?, ?it/s]"
      ]
     },
     "metadata": {},
     "output_type": "display_data"
    },
    {
     "name": "stdout",
     "output_type": "stream",
     "text": [
      "2025-05-06 00:14:34,469 - lavka_recsys.FeatureFactory - INFO - Joined features\n",
      "2025-05-06 00:14:34,471 - lavka_recsys.FeatureFactory - INFO - All column names: {'user_unique_products', 'product_total_purchases', 'store_unique_products', 'hour_relevance', 'session_length', 'cart_to_purchase_rate', 'is_weekend', 'session_unique_products', 'count_purchase_u_s', 'product_unique_users', 'purchase_trend', 'city_total_purchases', 'views_month_u_p', 'ctr_product', 'user_product_purchase_cross', 'npmi_cf_score', 'session_duration_seconds', 'views_week_u_p', 'purchases_day_u_p', 'city_total_views', 'svd_cf_score', 'user_total_purchases', 'store_total_interactions', 'store_total_purchases', 'puresvd_cf_score', 'purchases_week_u_p', 'interactions_month_u_p', 'days_since_interaction_u_p', 'days_since_interaction_u_s', 'interaction_trend', 'user_total_views', 'avg_purchase_hour', 'hour_of_day_sin', 'session_unique_stores', 'user_store_purchase_cross', 'user_product_store_cross', 'std_purchase_hour', 'city_total_interactions', 'product_total_views', 'user_segment', 'city_unique_stores', 'source_type', 'user_total_interactions', 'interactions_week_u_p', 'purchases_month_u_p', 'session_purchases', 'day_of_week_sin', 'mean_interval_days', 'purchase_view_ratio', 'count_purchase_u_p', 'day_of_week_relevance', 'month_sin', 'city_name', 'interactions_day_u_p', 'cf_score', 'most_common_purchase_day', 'views_day_u_p', 'bpr_popular_score', 'store_total_views', 'product_total_interactions'}\n",
      "2025-05-06 00:14:34,472 - lavka_recsys.FeatureFactory - INFO - All categorical column names: ['is_weekend', 'user_segment', 'city_name', 'source_type']\n",
      "2025-05-06 00:14:36,590 - lavka_recsys.CatBoostRankerModel - INFO - Sorting data by group_id for grouped ranking\n",
      "2025-05-06 00:14:38,414 - lavka_recsys.CatBoostRankerModel - INFO - Converting 'is_weekend' to string for CatBoost\n",
      "2025-05-06 00:14:38,775 - lavka_recsys.CatBoostRankerModel - INFO - Converting 'user_segment' to string for CatBoost\n",
      "2025-05-06 00:14:38,797 - lavka_recsys.CatBoostRankerModel - INFO - Converting 'source_type' to string for CatBoost\n",
      "2025-05-06 00:14:38,822 - lavka_recsys.CatBoostRankerModel - INFO - Converting 'city_name' to string for CatBoost\n",
      "2025-05-06 00:14:40,870 - lavka_recsys.Experiment(catboost_ranker_3dc911) - INFO - Binarizing target for metric calculation\n",
      "2025-05-06 00:14:54,785 - lavka_recsys.Experiment(catboost_ranker_3dc911) - INFO - Run results saved: results/catboost_ranker_3dc911_results.json\n",
      "2025-05-06 00:14:54,786 - lavka_recsys.Experiment(catboost_ranker_3dc911) - INFO - Run finished and results saved.\n",
      "\n",
      "CatBoost Ranker Results:\n",
      "  auc: 0.695058\n",
      "  logloss: 1.581149\n",
      "  ndcg@10: 0.564366\n",
      "\n",
      "Top 10 Important Features:\n",
      "  source_type: 75.854444\n",
      "  purchase_view_ratio: 3.640480\n",
      "  count_purchase_u_p: 2.877391\n",
      "  bpr_popular_score: 1.885254\n",
      "  mean_interval_days: 1.086060\n",
      "  views_month_u_p: 1.032297\n",
      "  purchases_month_u_p: 1.002875\n",
      "  user_unique_products: 0.903309\n",
      "  product_unique_users: 0.814912\n",
      "  puresvd_cf_score: 0.810358\n"
     ]
    }
   ],
   "source": [
    "ranker_experiment = Experiment(\"catboost_ranker\", (Config\n",
    "    .load('default_config.yaml')\n",
    "    .set('model.type', 'catboost_ranker')\n",
    "    .set('model.config.catboost_ranker.iterations', 300)\n",
    "    .set('target', 'Weighted')\n",
    "))\n",
    "\n",
    "# Setup and run\n",
    "ranker_experiment.setup()\n",
    "ranker_results = ranker_experiment.run()\n",
    "\n",
    "# Print metrics\n",
    "print(f\"\\nCatBoost Ranker Results:\")\n",
    "for metric, value in ranker_results['metrics'].items():\n",
    "    print(f\"  {metric}: {value:.6f}\")\n",
    "\n",
    "# Print feature importance\n",
    "if 'feature_importance' in ranker_results:\n",
    "    print(\"\\nTop 10 Important Features:\")\n",
    "    top_features = sorted(ranker_results['feature_importance'].items(), \n",
    "                        key=lambda x: x[1], reverse=True)[:10]\n",
    "    for feature, importance in top_features:\n",
    "        print(f\"  {feature}: {importance:.6f}\")"
   ]
  },
  {
   "cell_type": "code",
   "execution_count": 4,
   "metadata": {},
   "outputs": [
    {
     "name": "stdout",
     "output_type": "stream",
     "text": [
      "2025-05-06 00:15:38,232 - lavka_recsys.Experiment(catboost_ranker_3dc911) - INFO - Computing predictions...\n",
      "2025-05-06 00:15:38,239 - lavka_recsys.DataLoader - INFO - Holdout data merged back into training data.\n",
      "2025-05-06 00:15:38,291 - lavka_recsys.DataLoader - INFO - Validation Split:\n",
      "2025-05-06 00:15:38,317 - lavka_recsys.DataLoader - INFO -   history: 2022-12-31 18:46:42 → 2024-01-03 17:31:52 (15_070_276 rows, 367 days)\n",
      "2025-05-06 00:15:38,321 - lavka_recsys.DataLoader - INFO -   target: 2024-01-03 17:56:48 → 2024-02-02 17:34:51 (1_438_338 rows, 29 days)\n",
      "2025-05-06 00:15:39,736 - lavka_recsys.CachedFeatureFactory - INFO - Using cached feature batch\n",
      "2025-05-06 00:15:39,741 - lavka_recsys.ModelFactory - INFO - Creating catboost_ranker model with params: {'iterations': 300, 'loss_function': 'YetiRankPairwise', 'eval_metric': 'NDCG:top=10', 'early_stopping_rounds': 50, 'custom_metric': ['NDCG:top=10', 'PrecisionAt:top=10', 'RecallAt:top=10'], 'task_type': 'GPU', 'devices': '4,5', 'thread_count': -1}\n",
      "2025-05-06 00:15:40,021 - lavka_recsys.CatBoostRankerModel - INFO - Sorting data by group_id for grouped ranking\n",
      "2025-05-06 00:15:42,255 - lavka_recsys.CatBoostRankerModel - INFO - Converting 'is_weekend' to string for CatBoost\n",
      "2025-05-06 00:15:42,607 - lavka_recsys.CatBoostRankerModel - INFO - Converting 'user_segment' to string for CatBoost\n",
      "2025-05-06 00:15:42,627 - lavka_recsys.CatBoostRankerModel - INFO - Converting 'city_name' to string for CatBoost\n",
      "2025-05-06 00:15:42,646 - lavka_recsys.CatBoostRankerModel - INFO - Converting 'source_type' to string for CatBoost\n",
      "2025-05-06 00:15:44,412 - lavka_recsys.CatBoostRankerModel - INFO - Training CatBoostRanker model with columns: ['user_unique_products', 'product_total_purchases', 'store_unique_products', 'hour_relevance', 'session_length', 'cart_to_purchase_rate', 'is_weekend', 'session_unique_products', 'count_purchase_u_s', 'product_unique_users', 'purchase_trend', 'city_total_purchases', 'views_month_u_p', 'ctr_product', 'user_product_purchase_cross', 'npmi_cf_score', 'session_duration_seconds', 'views_week_u_p', 'purchases_day_u_p', 'city_total_views', 'svd_cf_score', 'user_total_purchases', 'store_total_interactions', 'store_total_purchases', 'puresvd_cf_score', 'purchases_week_u_p', 'interactions_month_u_p', 'days_since_interaction_u_p', 'days_since_interaction_u_s', 'interaction_trend', 'user_total_views', 'avg_purchase_hour', 'hour_of_day_sin', 'session_unique_stores', 'user_store_purchase_cross', 'user_product_store_cross', 'std_purchase_hour', 'city_total_interactions', 'product_total_views', 'user_segment', 'city_unique_stores', 'source_type', 'user_total_interactions', 'interactions_week_u_p', 'purchases_month_u_p', 'session_purchases', 'day_of_week_sin', 'mean_interval_days', 'purchase_view_ratio', 'count_purchase_u_p', 'day_of_week_relevance', 'month_sin', 'city_name', 'interactions_day_u_p', 'cf_score', 'most_common_purchase_day', 'views_day_u_p', 'bpr_popular_score', 'store_total_views', 'product_total_interactions'] (cat_columns: ['is_weekend', 'user_segment', 'city_name', 'source_type'])\n"
     ]
    },
    {
     "data": {
      "application/vnd.jupyter.widget-view+json": {
       "model_id": "45e800367d5c48aa95cee307a69a1f12",
       "version_major": 2,
       "version_minor": 0
      },
      "text/plain": [
       "MetricVisualizer(layout=Layout(align_self='stretch', height='500px'))"
      ]
     },
     "metadata": {},
     "output_type": "display_data"
    },
    {
     "name": "stderr",
     "output_type": "stream",
     "text": [
      "Default metric period is 5 because PFound, PrecisionAt, RecallAt, NDCG is/are not implemented for GPU\n",
      "Metric PFound is not implemented on GPU. Will use CPU for metric computation, this could significantly affect learning time\n",
      "Metric NDCG:top=10;type=Base is not implemented on GPU. Will use CPU for metric computation, this could significantly affect learning time\n",
      "Metric NDCG:top=10;type=Base is not implemented on GPU. Will use CPU for metric computation, this could significantly affect learning time\n",
      "Metric PrecisionAt:top=10 is not implemented on GPU. Will use CPU for metric computation, this could significantly affect learning time\n",
      "Metric RecallAt:top=10 is not implemented on GPU. Will use CPU for metric computation, this could significantly affect learning time\n"
     ]
    },
    {
     "name": "stdout",
     "output_type": "stream",
     "text": [
      "2025-05-06 00:16:27,618 - lavka_recsys.Experiment(catboost_ranker_3dc911) - INFO - Training completed in 47.87s\n",
      "2025-05-06 00:16:27,626 - lavka_recsys.DataLoader - INFO - Holdout data merged back into training data.\n",
      "2025-05-06 00:16:27,981 - lavka_recsys.CachedFeatureFactory - INFO - Using cached feature batch\n",
      "2025-05-06 00:16:28,050 - lavka_recsys.CatBoostRankerModel - INFO - Sorting data by group_id for grouped ranking\n",
      "2025-05-06 00:16:28,284 - lavka_recsys.CatBoostRankerModel - INFO - Converting 'is_weekend' to string for CatBoost\n",
      "2025-05-06 00:16:28,362 - lavka_recsys.CatBoostRankerModel - INFO - Converting 'user_segment' to string for CatBoost\n",
      "2025-05-06 00:16:28,366 - lavka_recsys.CatBoostRankerModel - INFO - Converting 'source_type' to string for CatBoost\n",
      "2025-05-06 00:16:28,371 - lavka_recsys.CatBoostRankerModel - INFO - Converting 'city_name' to string for CatBoost\n",
      "2025-05-06 00:16:29,145 - lavka_recsys.Experiment(catboost_ranker_3dc911) - INFO - Submission saved: results/submissions/catboost_ranker_3dc911_submission.csv\n",
      "2025-05-06 00:16:29,186 - lavka_recsys.Experiment(catboost_ranker_3dc911) - INFO - Submission model saved: results/submissions/catboost_ranker_3dc911_model.pkl\n"
     ]
    },
    {
     "data": {
      "text/html": [
       "<div><style>\n",
       ".dataframe > thead > tr,\n",
       ".dataframe > tbody > tr {\n",
       "  text-align: right;\n",
       "  white-space: pre-wrap;\n",
       "}\n",
       "</style>\n",
       "<small>shape: (292_826, 2)</small><table border=\"1\" class=\"dataframe\"><thead><tr><th>index</th><th>request_id</th></tr><tr><td>u32</td><td>u64</td></tr></thead><tbody><tr><td>41187</td><td>9106065009157563665</td></tr><tr><td>99380</td><td>9106065009157563665</td></tr><tr><td>59657</td><td>10513647694369403596</td></tr><tr><td>256298</td><td>10513647694369403596</td></tr><tr><td>85694</td><td>5775887531282439737</td></tr><tr><td>&hellip;</td><td>&hellip;</td></tr><tr><td>165067</td><td>15330015263797658222</td></tr><tr><td>185676</td><td>15330015263797658222</td></tr><tr><td>118932</td><td>1084759691034249444</td></tr><tr><td>288805</td><td>1084759691034249444</td></tr><tr><td>198443</td><td>5291459374113443837</td></tr></tbody></table></div>"
      ],
      "text/plain": [
       "shape: (292_826, 2)\n",
       "┌────────┬──────────────────────┐\n",
       "│ index  ┆ request_id           │\n",
       "│ ---    ┆ ---                  │\n",
       "│ u32    ┆ u64                  │\n",
       "╞════════╪══════════════════════╡\n",
       "│ 41187  ┆ 9106065009157563665  │\n",
       "│ 99380  ┆ 9106065009157563665  │\n",
       "│ 59657  ┆ 10513647694369403596 │\n",
       "│ 256298 ┆ 10513647694369403596 │\n",
       "│ 85694  ┆ 5775887531282439737  │\n",
       "│ …      ┆ …                    │\n",
       "│ 165067 ┆ 15330015263797658222 │\n",
       "│ 185676 ┆ 15330015263797658222 │\n",
       "│ 118932 ┆ 1084759691034249444  │\n",
       "│ 288805 ┆ 1084759691034249444  │\n",
       "│ 198443 ┆ 5291459374113443837  │\n",
       "└────────┴──────────────────────┘"
      ]
     },
     "execution_count": 4,
     "metadata": {},
     "output_type": "execute_result"
    }
   ],
   "source": [
    "ranker_experiment.create_submission()"
   ]
  },
  {
   "cell_type": "markdown",
   "metadata": {},
   "source": [
    "Kaggle Public Score `NDCG@10 = 0.41170`."
   ]
  },
  {
   "cell_type": "markdown",
   "metadata": {},
   "source": [
    "## Feature Importance Comparison"
   ]
  },
  {
   "cell_type": "code",
   "execution_count": 9,
   "metadata": {},
   "outputs": [
    {
     "name": "stdout",
     "output_type": "stream",
     "text": [
      "Top 20 Features by Average Importance:\n"
     ]
    },
    {
     "data": {
      "text/html": [
       "<div>\n",
       "<style scoped>\n",
       "    .dataframe tbody tr th:only-of-type {\n",
       "        vertical-align: middle;\n",
       "    }\n",
       "\n",
       "    .dataframe tbody tr th {\n",
       "        vertical-align: top;\n",
       "    }\n",
       "\n",
       "    .dataframe thead th {\n",
       "        text-align: right;\n",
       "    }\n",
       "</style>\n",
       "<table border=\"1\" class=\"dataframe\">\n",
       "  <thead>\n",
       "    <tr style=\"text-align: right;\">\n",
       "      <th></th>\n",
       "      <th>Feature</th>\n",
       "      <th>Classifier Importance</th>\n",
       "      <th>Ranker Importance</th>\n",
       "      <th>Average Importance</th>\n",
       "    </tr>\n",
       "  </thead>\n",
       "  <tbody>\n",
       "    <tr>\n",
       "      <th>0</th>\n",
       "      <td>source_type</td>\n",
       "      <td>22.258238</td>\n",
       "      <td>75.854444</td>\n",
       "      <td>49.056341</td>\n",
       "    </tr>\n",
       "    <tr>\n",
       "      <th>1</th>\n",
       "      <td>purchase_view_ratio</td>\n",
       "      <td>11.932962</td>\n",
       "      <td>3.640480</td>\n",
       "      <td>7.786721</td>\n",
       "    </tr>\n",
       "    <tr>\n",
       "      <th>2</th>\n",
       "      <td>bpr_popular_score</td>\n",
       "      <td>8.559990</td>\n",
       "      <td>1.885254</td>\n",
       "      <td>5.222622</td>\n",
       "    </tr>\n",
       "    <tr>\n",
       "      <th>3</th>\n",
       "      <td>count_purchase_u_p</td>\n",
       "      <td>5.766648</td>\n",
       "      <td>2.877391</td>\n",
       "      <td>4.322019</td>\n",
       "    </tr>\n",
       "    <tr>\n",
       "      <th>4</th>\n",
       "      <td>mean_interval_days</td>\n",
       "      <td>3.616206</td>\n",
       "      <td>1.086060</td>\n",
       "      <td>2.351133</td>\n",
       "    </tr>\n",
       "    <tr>\n",
       "      <th>5</th>\n",
       "      <td>user_total_interactions</td>\n",
       "      <td>3.543962</td>\n",
       "      <td>0.519429</td>\n",
       "      <td>2.031696</td>\n",
       "    </tr>\n",
       "    <tr>\n",
       "      <th>6</th>\n",
       "      <td>purchases_month_u_p</td>\n",
       "      <td>3.015474</td>\n",
       "      <td>1.002875</td>\n",
       "      <td>2.009175</td>\n",
       "    </tr>\n",
       "    <tr>\n",
       "      <th>7</th>\n",
       "      <td>npmi_cf_score</td>\n",
       "      <td>3.466595</td>\n",
       "      <td>0.460769</td>\n",
       "      <td>1.963682</td>\n",
       "    </tr>\n",
       "    <tr>\n",
       "      <th>8</th>\n",
       "      <td>user_total_views</td>\n",
       "      <td>3.239054</td>\n",
       "      <td>0.639215</td>\n",
       "      <td>1.939134</td>\n",
       "    </tr>\n",
       "    <tr>\n",
       "      <th>9</th>\n",
       "      <td>user_total_purchases</td>\n",
       "      <td>2.502818</td>\n",
       "      <td>0.548975</td>\n",
       "      <td>1.525897</td>\n",
       "    </tr>\n",
       "    <tr>\n",
       "      <th>10</th>\n",
       "      <td>cart_to_purchase_rate</td>\n",
       "      <td>2.209368</td>\n",
       "      <td>0.713478</td>\n",
       "      <td>1.461423</td>\n",
       "    </tr>\n",
       "    <tr>\n",
       "      <th>11</th>\n",
       "      <td>views_month_u_p</td>\n",
       "      <td>1.846758</td>\n",
       "      <td>1.032297</td>\n",
       "      <td>1.439528</td>\n",
       "    </tr>\n",
       "    <tr>\n",
       "      <th>12</th>\n",
       "      <td>user_unique_products</td>\n",
       "      <td>1.359751</td>\n",
       "      <td>0.903309</td>\n",
       "      <td>1.131530</td>\n",
       "    </tr>\n",
       "    <tr>\n",
       "      <th>13</th>\n",
       "      <td>session_purchases</td>\n",
       "      <td>1.922147</td>\n",
       "      <td>0.265146</td>\n",
       "      <td>1.093647</td>\n",
       "    </tr>\n",
       "    <tr>\n",
       "      <th>14</th>\n",
       "      <td>cf_score</td>\n",
       "      <td>1.449860</td>\n",
       "      <td>0.462941</td>\n",
       "      <td>0.956401</td>\n",
       "    </tr>\n",
       "    <tr>\n",
       "      <th>15</th>\n",
       "      <td>day_of_week_relevance</td>\n",
       "      <td>1.784310</td>\n",
       "      <td>0.000000</td>\n",
       "      <td>0.892155</td>\n",
       "    </tr>\n",
       "    <tr>\n",
       "      <th>16</th>\n",
       "      <td>purchases_week_u_p</td>\n",
       "      <td>1.215309</td>\n",
       "      <td>0.300968</td>\n",
       "      <td>0.758139</td>\n",
       "    </tr>\n",
       "    <tr>\n",
       "      <th>17</th>\n",
       "      <td>product_total_purchases</td>\n",
       "      <td>1.297909</td>\n",
       "      <td>0.213304</td>\n",
       "      <td>0.755606</td>\n",
       "    </tr>\n",
       "    <tr>\n",
       "      <th>18</th>\n",
       "      <td>puresvd_cf_score</td>\n",
       "      <td>0.625109</td>\n",
       "      <td>0.810358</td>\n",
       "      <td>0.717734</td>\n",
       "    </tr>\n",
       "    <tr>\n",
       "      <th>19</th>\n",
       "      <td>user_store_purchase_cross</td>\n",
       "      <td>1.218847</td>\n",
       "      <td>0.181040</td>\n",
       "      <td>0.699944</td>\n",
       "    </tr>\n",
       "  </tbody>\n",
       "</table>\n",
       "</div>"
      ],
      "text/plain": [
       "                      Feature  Classifier Importance  Ranker Importance  \\\n",
       "0                 source_type              22.258238          75.854444   \n",
       "1         purchase_view_ratio              11.932962           3.640480   \n",
       "2           bpr_popular_score               8.559990           1.885254   \n",
       "3          count_purchase_u_p               5.766648           2.877391   \n",
       "4          mean_interval_days               3.616206           1.086060   \n",
       "5     user_total_interactions               3.543962           0.519429   \n",
       "6         purchases_month_u_p               3.015474           1.002875   \n",
       "7               npmi_cf_score               3.466595           0.460769   \n",
       "8            user_total_views               3.239054           0.639215   \n",
       "9        user_total_purchases               2.502818           0.548975   \n",
       "10      cart_to_purchase_rate               2.209368           0.713478   \n",
       "11            views_month_u_p               1.846758           1.032297   \n",
       "12       user_unique_products               1.359751           0.903309   \n",
       "13          session_purchases               1.922147           0.265146   \n",
       "14                   cf_score               1.449860           0.462941   \n",
       "15      day_of_week_relevance               1.784310           0.000000   \n",
       "16         purchases_week_u_p               1.215309           0.300968   \n",
       "17    product_total_purchases               1.297909           0.213304   \n",
       "18           puresvd_cf_score               0.625109           0.810358   \n",
       "19  user_store_purchase_cross               1.218847           0.181040   \n",
       "\n",
       "    Average Importance  \n",
       "0            49.056341  \n",
       "1             7.786721  \n",
       "2             5.222622  \n",
       "3             4.322019  \n",
       "4             2.351133  \n",
       "5             2.031696  \n",
       "6             2.009175  \n",
       "7             1.963682  \n",
       "8             1.939134  \n",
       "9             1.525897  \n",
       "10            1.461423  \n",
       "11            1.439528  \n",
       "12            1.131530  \n",
       "13            1.093647  \n",
       "14            0.956401  \n",
       "15            0.892155  \n",
       "16            0.758139  \n",
       "17            0.755606  \n",
       "18            0.717734  \n",
       "19            0.699944  "
      ]
     },
     "metadata": {},
     "output_type": "display_data"
    },
    {
     "data": {
      "image/png": "[encoded data removed]",
      "text/plain": [
       "<Figure size 1200x800 with 1 Axes>"
      ]
     },
     "metadata": {},
     "output_type": "display_data"
    }
   ],
   "source": [
    "# Compare feature importance between models\n",
    "if 'feature_importance' in classifier_results and 'feature_importance' in ranker_results:\n",
    "    # Get all features from both models\n",
    "    all_features = set(list(classifier_results['feature_importance'].keys()) + \n",
    "                        list(ranker_results['feature_importance'].keys()))\n",
    "    \n",
    "    # Create comparison dataframe\n",
    "    fi_comparison = {'Feature': []}\n",
    "    fi_comparison['Classifier Importance'] = []\n",
    "    fi_comparison['Ranker Importance'] = []\n",
    "    \n",
    "    for feature in all_features:\n",
    "        fi_comparison['Feature'].append(feature)\n",
    "        fi_comparison['Classifier Importance'].append(\n",
    "            classifier_results['feature_importance'].get(feature, 0))\n",
    "        fi_comparison['Ranker Importance'].append(\n",
    "            ranker_results['feature_importance'].get(feature, 0))\n",
    "        \n",
    "    # Convert to DataFrame and sort by average importance\n",
    "    fi_df = pd.DataFrame(fi_comparison)\n",
    "    fi_df['Average Importance'] = (fi_df['Classifier Importance'] + fi_df['Ranker Importance']) / 2\n",
    "    fi_df = fi_df.sort_values('Average Importance', ascending=False).reset_index(drop=True)\n",
    "    \n",
    "    # Save to results directory\n",
    "    # fi_df.to_csv(f\"{results_dir}/feature_importance_comparison.csv\", index=False)\n",
    "    \n",
    "    # Display top features\n",
    "    print(\"Top 20 Features by Average Importance:\")\n",
    "    display(fi_df.head(20))\n",
    "    \n",
    "    # Plot top 15 features\n",
    "    plt.figure(figsize=(12, 8))\n",
    "    top_n = 15\n",
    "    top_features = fi_df.head(top_n)\n",
    "    \n",
    "    x = range(len(top_features))\n",
    "    width = 0.35\n",
    "    \n",
    "    plt.barh([p + width/2 for p in x], top_features['Classifier Importance'], \n",
    "            height=width, label='Classifier', color='#3498db')\n",
    "    plt.barh([p - width/2 for p in x], top_features['Ranker Importance'], \n",
    "            height=width, label='Ranker', color='#e74c3c')\n",
    "    \n",
    "    plt.yticks(x, top_features['Feature'])\n",
    "    plt.xlabel('Importance')\n",
    "    plt.title(f'Top {top_n} Feature Importance Comparison')\n",
    "    plt.legend()\n",
    "    plt.tight_layout()\n",
    "    plt.show()"
   ]
  },
  {
   "cell_type": "markdown",
   "metadata": {},
   "source": [
    "## CatBoost Ranker with text features"
   ]
  },
  {
   "cell_type": "code",
   "execution_count": null,
   "metadata": {},
   "outputs": [
    {
     "name": "stdout",
     "output_type": "stream",
     "text": [
      "2025-05-18 02:37:08,716 - lavka_recsys.Experiment(catboost_ranker_48aab0) - INFO - Initialized experiment: catboost_ranker_48aab0\n",
      "2025-05-18 02:37:08,724 - lavka_recsys.Experiment(catboost_ranker_48aab0) - INFO - Config saved: results/catboost_ranker_48aab0_config.json\n",
      "2025-05-18 02:37:08,725 - lavka_recsys.Experiment(catboost_ranker_48aab0) - INFO - Setting up experiment environment...\n",
      "2025-05-18 02:37:08,727 - lavka_recsys.DataLoader - INFO - Loading training data from ../../data/lavka/train.parquet\n"
     ]
    },
    {
     "name": "stdout",
     "output_type": "stream",
     "text": [
      "2025-05-18 02:37:08,955 - lavka_recsys.DataLoader - INFO - Loading test data from ../../data/lavka/test.parquet\n",
      "2025-05-18 02:37:09,212 - lavka_recsys.DataLoader - INFO - Holdout Split:\n",
      "2025-05-18 02:37:09,236 - lavka_recsys.DataLoader - INFO -   train:\t2022-12-31 18:46:42 → 2024-01-03 17:31:52 (15_070_276 rows, 367 days)\n",
      "2025-05-18 02:37:09,239 - lavka_recsys.DataLoader - INFO -   holdout:\t2024-01-03 17:56:48 → 2024-02-02 17:34:51 (1_438_338 rows, 29 days)\n",
      "2025-05-18 02:37:09,240 - lavka_recsys.Experiment(catboost_ranker_48aab0) - INFO - Setup complete.\n",
      "2025-05-18 02:37:09,241 - lavka_recsys.Experiment(catboost_ranker_48aab0) - INFO - Starting experiment run...\n",
      "2025-05-18 02:37:09,512 - lavka_recsys.DataLoader - INFO - Validation Split:\n",
      "2025-05-18 02:37:09,533 - lavka_recsys.DataLoader - INFO -   train_history:\t2022-12-31 18:46:42 → 2023-11-04 17:16:23 (12_082_523 rows, 307 days)\n",
      "2025-05-18 02:37:09,536 - lavka_recsys.DataLoader - INFO -   train_target:\t2023-11-04 18:19:12 → 2023-12-04 17:25:02 (1_498_126 rows, 29 days)\n",
      "2025-05-18 02:37:09,561 - lavka_recsys.DataLoader - INFO -   val_history:\t2022-12-31 18:46:42 → 2023-12-04 17:25:02 (13_580_649 rows, 337 days)\n",
      "2025-05-18 02:37:09,564 - lavka_recsys.DataLoader - INFO -   val_target:\t2023-12-04 18:02:13 → 2024-01-03 17:31:52 (1_489_627 rows, 29 days)\n",
      "2025-05-18 02:37:11,160 - lavka_recsys.CachedFeatureFactory - INFO - Using cached feature batch\n",
      "2025-05-18 02:37:12,707 - lavka_recsys.CachedFeatureFactory - INFO - Using cached feature batch\n",
      "2025-05-18 02:37:12,711 - lavka_recsys.ModelFactory - INFO - Creating catboost_ranker model with params: {'iterations': 500, 'loss_function': 'YetiRankPairwise', 'eval_metric': 'NDCG:top=10', 'early_stopping_rounds': 50, 'custom_metric': ['NDCG:top=10', 'PrecisionAt:top=10', 'RecallAt:top=10'], 'task_type': 'GPU', 'devices': '4,5', 'thread_count': -1}\n",
      "2025-05-18 02:37:12,974 - lavka_recsys.CatBoostRankerModel - INFO - Sorting data by group_id for grouped ranking\n",
      "2025-05-18 02:37:15,300 - lavka_recsys.CatBoostRankerModel - INFO - Sorting data by group_id for grouped ranking\n",
      "2025-05-18 02:37:17,419 - lavka_recsys.CatBoostRankerModel - INFO - Converting 'is_weekend' to string for CatBoost\n",
      "2025-05-18 02:37:17,719 - lavka_recsys.CatBoostRankerModel - INFO - Converting 'user_segment' to string for CatBoost\n",
      "2025-05-18 02:37:17,738 - lavka_recsys.CatBoostRankerModel - INFO - Converting 'city_name' to string for CatBoost\n",
      "2025-05-18 02:37:17,755 - lavka_recsys.CatBoostRankerModel - INFO - Converting 'source_type' to string for CatBoost\n",
      "2025-05-18 02:37:19,366 - lavka_recsys.CatBoostRankerModel - INFO - Converting 'is_weekend' to string for CatBoost\n",
      "2025-05-18 02:37:19,637 - lavka_recsys.CatBoostRankerModel - INFO - Converting 'user_segment' to string for CatBoost\n",
      "2025-05-18 02:37:19,655 - lavka_recsys.CatBoostRankerModel - INFO - Converting 'city_name' to string for CatBoost\n",
      "2025-05-18 02:37:19,676 - lavka_recsys.CatBoostRankerModel - INFO - Converting 'source_type' to string for CatBoost\n",
      "2025-05-18 02:37:21,105 - lavka_recsys.CatBoostRankerModel - INFO - Training CatBoostRanker model with columns: ['cat_embed_7', 'cat_embed_14', 'views_day_u_p', 'cat_embed_9', 'hour_relevance', 'cat_embed_2', 'product_total_interactions', 'user_total_purchases', 'purchase_view_ratio', 'user_store_purchase_cross', 'purchases_month_u_p', 'is_weekend', 'user_segment', 'product_embed_12', 'city_total_interactions', 'product_embed_13', 'session_unique_stores', 'cat_embed_11', 'interactions_month_u_p', 'cat_embed_15', 'interactions_week_u_p', 'product_embed_3', 'user_unique_products', 'product_embed_9', 'interaction_trend', 'most_common_purchase_day', 'cat_embed_18', 'svd_cf_score', 'product_embed_8', 'hour_of_day_sin', 'puresvd_cf_score', 'product_embed_7', 'product_embed_0', 'views_month_u_p', 'product_embed_17', 'count_purchase_u_s', 'month_sin', 'session_length', 'cat_embed_0', 'session_purchases', 'cat_embed_4', 'product_embed_1', 'cat_embed_8', 'city_total_purchases', 'product_embed_2', 'product_embed_10', 'days_since_interaction_u_s', 'day_of_week_relevance', 'product_embed_15', 'std_purchase_hour', 'avg_purchase_hour', 'source_type', 'npmi_cf_score', 'store_total_interactions', 'cat_embed_16', 'days_since_interaction_u_p', 'ctr_product', 'city_name', 'mean_interval_days', 'cat_embed_13', 'product_total_views', 'product_embed_14', 'cat_embed_6', 'cat_embed_5', 'product_embed_16', 'user_product_store_cross', 'views_week_u_p', 'count_purchase_u_p', 'day_of_week_sin', 'cat_embed_19', 'user_total_views', 'user_total_interactions', 'store_total_purchases', 'cat_embed_17', 'product_total_purchases', 'product_embed_19', 'bpr_popular_score', 'cat_embed_12', 'cart_to_purchase_rate', 'cat_embed_3', 'cat_embed_1', 'purchases_day_u_p', 'store_unique_products', 'purchases_week_u_p', 'purchase_trend', 'store_total_views', 'cf_score', 'city_unique_stores', 'product_embed_6', 'session_duration_seconds', 'product_embed_18', 'session_unique_products', 'product_embed_5', 'interactions_day_u_p', 'product_embed_11', 'city_total_views', 'product_unique_users', 'user_product_purchase_cross', 'cat_embed_10', 'product_embed_4'] (cat_columns: ['is_weekend', 'user_segment', 'city_name', 'source_type'])\n"
     ]
    },
    {
     "data": {
      "application/vnd.jupyter.widget-view+json": {
       "model_id": "0562e2bb12ec40bc9f2d77fad0f4582c",
       "version_major": 2,
       "version_minor": 0
      },
      "text/plain": [
       "MetricVisualizer(layout=Layout(align_self='stretch', height='500px'))"
      ]
     },
     "metadata": {},
     "output_type": "display_data"
    },
    {
     "name": "stderr",
     "output_type": "stream",
     "text": [
      "Default metric period is 5 because PFound, PrecisionAt, RecallAt, NDCG is/are not implemented for GPU\n",
      "Metric PFound is not implemented on GPU. Will use CPU for metric computation, this could significantly affect learning time\n",
      "Metric NDCG:top=10;type=Base is not implemented on GPU. Will use CPU for metric computation, this could significantly affect learning time\n",
      "Metric NDCG:top=10;type=Base is not implemented on GPU. Will use CPU for metric computation, this could significantly affect learning time\n",
      "Metric PrecisionAt:top=10 is not implemented on GPU. Will use CPU for metric computation, this could significantly affect learning time\n",
      "Metric RecallAt:top=10 is not implemented on GPU. Will use CPU for metric computation, this could significantly affect learning time\n"
     ]
    },
    {
     "name": "stdout",
     "output_type": "stream",
     "text": [
      "2025-05-18 02:38:34,026 - lavka_recsys.Experiment(catboost_ranker_48aab0) - INFO - Training completed in 81.31s\n",
      "2025-05-18 02:38:34,037 - lavka_recsys.Experiment(catboost_ranker_48aab0) - INFO - Evaluating on holdout.\n",
      "2025-05-18 02:38:35,730 - lavka_recsys.CachedFeatureFactory - INFO - Using cached feature batch\n",
      "2025-05-18 02:38:35,949 - lavka_recsys.CatBoostRankerModel - INFO - Sorting data by group_id for grouped ranking\n",
      "2025-05-18 02:38:37,811 - lavka_recsys.CatBoostRankerModel - INFO - Converting 'is_weekend' to string for CatBoost\n",
      "2025-05-18 02:38:38,064 - lavka_recsys.CatBoostRankerModel - INFO - Converting 'user_segment' to string for CatBoost\n",
      "2025-05-18 02:38:38,081 - lavka_recsys.CatBoostRankerModel - INFO - Converting 'source_type' to string for CatBoost\n",
      "2025-05-18 02:38:38,100 - lavka_recsys.CatBoostRankerModel - INFO - Converting 'city_name' to string for CatBoost\n",
      "2025-05-18 02:38:39,636 - lavka_recsys.Experiment(catboost_ranker_48aab0) - WARNING - Binarizing target for metric calculation\n",
      "2025-05-18 02:38:50,151 - lavka_recsys.Experiment(catboost_ranker_48aab0) - INFO - Run results saved: results/catboost_ranker_48aab0_results.json\n",
      "2025-05-18 02:38:50,152 - lavka_recsys.Experiment(catboost_ranker_48aab0) - INFO - Run finished and results saved.\n",
      "\n",
      "CatBoost Ranker Results:\n",
      "  auc: 0.694680\n",
      "  logloss: 1.794935\n",
      "  ndcg@10: 0.572220\n",
      "\n",
      "Top 10 Important Features:\n",
      "  source_type: 63.673796\n",
      "  purchase_view_ratio: 3.013199\n",
      "  count_purchase_u_p: 2.494187\n",
      "  bpr_popular_score: 1.848078\n",
      "  views_month_u_p: 1.069384\n",
      "  mean_interval_days: 1.008569\n",
      "  product_embed_1: 0.958753\n",
      "  product_unique_users: 0.951344\n",
      "  purchases_month_u_p: 0.899269\n",
      "  puresvd_cf_score: 0.751625\n"
     ]
    }
   ],
   "source": [
    "ranker_experiment = Experiment(\"catboost_ranker\", (Config\n",
    "    .load('default_config.yaml')\n",
    "    .set('model.type', 'catboost_ranker')\n",
    "    .set('model.config.catboost_ranker.iterations', 500)\n",
    "    .set('target', 'Weighted')\n",
    "))\n",
    "\n",
    "# Setup and run\n",
    "ranker_experiment.setup()\n",
    "ranker_results = ranker_experiment.run()\n",
    "\n",
    "# Print metrics\n",
    "print(f\"\\nCatBoost Ranker Results:\")\n",
    "for metric, value in ranker_results['metrics'].items():\n",
    "    print(f\"  {metric}: {value:.6f}\")"
   ]
  },
  {
   "cell_type": "code",
   "execution_count": 5,
   "metadata": {},
   "outputs": [
    {
     "name": "stdout",
     "output_type": "stream",
     "text": [
      "\n",
      "Top 15 Important Features:\n",
      "  source_type: 63.673796\n",
      "  purchase_view_ratio: 3.013199\n",
      "  count_purchase_u_p: 2.494187\n",
      "  bpr_popular_score: 1.848078\n",
      "  views_month_u_p: 1.069384\n",
      "  mean_interval_days: 1.008569\n",
      "  product_embed_1: 0.958753\n",
      "  product_unique_users: 0.951344\n",
      "  purchases_month_u_p: 0.899269\n",
      "  puresvd_cf_score: 0.751625\n",
      "  cart_to_purchase_rate: 0.727287\n",
      "  ctr_product: 0.700020\n",
      "  product_embed_5: 0.647384\n",
      "  cat_embed_2: 0.626036\n",
      "  product_embed_13: 0.624197\n"
     ]
    }
   ],
   "source": [
    "# Print feature importance\n",
    "if 'feature_importance' in ranker_results:\n",
    "    print(\"\\nTop 15 Important Features:\")\n",
    "    top_features = sorted(ranker_results['feature_importance'].items(), \n",
    "                        key=lambda x: x[1], reverse=True)[:15]\n",
    "    for feature, importance in top_features:\n",
    "        print(f\"  {feature}: {importance:.6f}\")"
   ]
  },
  {
   "cell_type": "code",
   "execution_count": 6,
   "metadata": {},
   "outputs": [
    {
     "name": "stdout",
     "output_type": "stream",
     "text": [
      "2025-05-18 02:39:23,407 - lavka_recsys.Experiment(catboost_ranker_48aab0) - INFO - Computing predictions...\n",
      "2025-05-18 02:39:23,414 - lavka_recsys.DataLoader - INFO - Holdout data merged back into training data.\n",
      "2025-05-18 02:39:23,451 - lavka_recsys.DataLoader - INFO - Validation Split:\n",
      "2025-05-18 02:39:23,485 - lavka_recsys.DataLoader - INFO -   history:\t2022-12-31 18:46:42 → 2024-01-03 17:31:52 (15_070_276 rows, 367 days)\n",
      "2025-05-18 02:39:23,490 - lavka_recsys.DataLoader - INFO -   target:\t2024-01-03 17:56:48 → 2024-02-02 17:34:51 (1_438_338 rows, 29 days)\n",
      "2025-05-18 02:39:25,278 - lavka_recsys.CachedFeatureFactory - INFO - Using cached feature batch\n",
      "2025-05-18 02:39:25,280 - lavka_recsys.ModelFactory - INFO - Creating catboost_ranker model with params: {'iterations': 500, 'loss_function': 'YetiRankPairwise', 'eval_metric': 'NDCG:top=10', 'early_stopping_rounds': 50, 'custom_metric': ['NDCG:top=10', 'PrecisionAt:top=10', 'RecallAt:top=10'], 'task_type': 'GPU', 'devices': '4,5', 'thread_count': -1}\n",
      "2025-05-18 02:39:25,539 - lavka_recsys.CatBoostRankerModel - INFO - Sorting data by group_id for grouped ranking\n",
      "2025-05-18 02:39:27,541 - lavka_recsys.CatBoostRankerModel - INFO - Converting 'is_weekend' to string for CatBoost\n",
      "2025-05-18 02:39:27,815 - lavka_recsys.CatBoostRankerModel - INFO - Converting 'user_segment' to string for CatBoost\n",
      "2025-05-18 02:39:27,832 - lavka_recsys.CatBoostRankerModel - INFO - Converting 'city_name' to string for CatBoost\n",
      "2025-05-18 02:39:27,849 - lavka_recsys.CatBoostRankerModel - INFO - Converting 'source_type' to string for CatBoost\n",
      "2025-05-18 02:39:29,271 - lavka_recsys.CatBoostRankerModel - INFO - Training CatBoostRanker model with columns: ['cat_embed_7', 'cat_embed_14', 'views_day_u_p', 'cat_embed_9', 'hour_relevance', 'cat_embed_2', 'product_total_interactions', 'user_total_purchases', 'purchase_view_ratio', 'user_store_purchase_cross', 'purchases_month_u_p', 'is_weekend', 'user_segment', 'product_embed_12', 'city_total_interactions', 'product_embed_13', 'session_unique_stores', 'cat_embed_11', 'interactions_month_u_p', 'cat_embed_15', 'interactions_week_u_p', 'product_embed_3', 'user_unique_products', 'product_embed_9', 'interaction_trend', 'most_common_purchase_day', 'cat_embed_18', 'svd_cf_score', 'product_embed_8', 'hour_of_day_sin', 'puresvd_cf_score', 'product_embed_7', 'product_embed_0', 'views_month_u_p', 'product_embed_17', 'count_purchase_u_s', 'month_sin', 'session_length', 'cat_embed_0', 'session_purchases', 'cat_embed_4', 'product_embed_1', 'cat_embed_8', 'city_total_purchases', 'product_embed_2', 'product_embed_10', 'days_since_interaction_u_s', 'day_of_week_relevance', 'product_embed_15', 'std_purchase_hour', 'avg_purchase_hour', 'source_type', 'npmi_cf_score', 'store_total_interactions', 'cat_embed_16', 'days_since_interaction_u_p', 'ctr_product', 'city_name', 'mean_interval_days', 'cat_embed_13', 'product_total_views', 'product_embed_14', 'cat_embed_6', 'cat_embed_5', 'product_embed_16', 'user_product_store_cross', 'views_week_u_p', 'count_purchase_u_p', 'day_of_week_sin', 'cat_embed_19', 'user_total_views', 'user_total_interactions', 'store_total_purchases', 'cat_embed_17', 'product_total_purchases', 'product_embed_19', 'bpr_popular_score', 'cat_embed_12', 'cart_to_purchase_rate', 'cat_embed_3', 'cat_embed_1', 'purchases_day_u_p', 'store_unique_products', 'purchases_week_u_p', 'purchase_trend', 'store_total_views', 'cf_score', 'city_unique_stores', 'product_embed_6', 'session_duration_seconds', 'product_embed_18', 'session_unique_products', 'product_embed_5', 'interactions_day_u_p', 'product_embed_11', 'city_total_views', 'product_unique_users', 'user_product_purchase_cross', 'cat_embed_10', 'product_embed_4'] (cat_columns: ['is_weekend', 'user_segment', 'city_name', 'source_type'])\n"
     ]
    },
    {
     "data": {
      "application/vnd.jupyter.widget-view+json": {
       "model_id": "285a166498aa4ec6a2e9b312e1fa427f",
       "version_major": 2,
       "version_minor": 0
      },
      "text/plain": [
       "MetricVisualizer(layout=Layout(align_self='stretch', height='500px'))"
      ]
     },
     "metadata": {},
     "output_type": "display_data"
    },
    {
     "name": "stderr",
     "output_type": "stream",
     "text": [
      "Default metric period is 5 because PFound, PrecisionAt, RecallAt, NDCG is/are not implemented for GPU\n",
      "Metric PFound is not implemented on GPU. Will use CPU for metric computation, this could significantly affect learning time\n",
      "Metric NDCG:top=10;type=Base is not implemented on GPU. Will use CPU for metric computation, this could significantly affect learning time\n",
      "Metric NDCG:top=10;type=Base is not implemented on GPU. Will use CPU for metric computation, this could significantly affect learning time\n",
      "Metric PrecisionAt:top=10 is not implemented on GPU. Will use CPU for metric computation, this could significantly affect learning time\n",
      "Metric RecallAt:top=10 is not implemented on GPU. Will use CPU for metric computation, this could significantly affect learning time\n"
     ]
    },
    {
     "name": "stdout",
     "output_type": "stream",
     "text": [
      "2025-05-18 02:40:32,791 - lavka_recsys.Experiment(catboost_ranker_48aab0) - INFO - Training completed in 67.51s\n",
      "2025-05-18 02:40:32,797 - lavka_recsys.DataLoader - INFO - Holdout data merged back into training data.\n",
      "2025-05-18 02:40:32,830 - lavka_recsys.CachedFeatureFactory - INFO - Generating feature batch\n",
      "2025-05-18 02:40:32,832 - lavka_recsys.FeatureFactory - INFO - Invoking feature generators: source_type, count_purchase_user_product, count_purchase_user_store, ctr_product, cart_to_purchase_rate, purchase_view_ratio, recency_user_product, user_stats, product_stats, store_stats, city_stats, product_temporal_patterns, recency_user_store, time_features_cycl, time_window_user_product, session_features, frequency_features, product_popularity_trend, cross_features, user_segments, memory-based-cf, npmi-cf, puresvd-cf, svd-cf, bpr-popular, product_embeddings, category_embeddings\n"
     ]
    },
    {
     "data": {
      "application/vnd.jupyter.widget-view+json": {
       "model_id": "38150c87159c44c899377297df025df2",
       "version_major": 2,
       "version_minor": 0
      },
      "text/plain": [
       "  0%|          | 0/100 [00:00<?, ?it/s]"
      ]
     },
     "metadata": {},
     "output_type": "display_data"
    },
    {
     "data": {
      "application/vnd.jupyter.widget-view+json": {
       "model_id": "737470e49d404b9094c026a3b161a499",
       "version_major": 2,
       "version_minor": 0
      },
      "text/plain": [
       "BPR processing:   0%|          | 0/807 [00:00<?, ?it/s]"
      ]
     },
     "metadata": {},
     "output_type": "display_data"
    },
    {
     "name": "stdout",
     "output_type": "stream",
     "text": [
      "2025-05-18 02:41:43,115 - lavka_recsys.lavka_recsys.feature_generators.text_processor - INFO - Using cached embeddings for product_id with key product_id_sentence-transformers_ai-forever/sbert_large_nlu_ru_20\n",
      "2025-05-18 02:41:43,163 - lavka_recsys.lavka_recsys.feature_generators.text_processor - INFO - Using cached embeddings for product_category with key product_category_sentence-transformers_ai-forever/sbert_large_nlu_ru_20\n",
      "2025-05-18 02:41:43,192 - lavka_recsys.FeatureFactory - INFO - Joined features\n",
      "2025-05-18 02:41:43,194 - lavka_recsys.FeatureFactory - INFO - All column names: {'cat_embed_7', 'cat_embed_14', 'views_day_u_p', 'cat_embed_9', 'hour_relevance', 'cat_embed_2', 'product_total_interactions', 'user_total_purchases', 'purchase_view_ratio', 'user_store_purchase_cross', 'purchases_month_u_p', 'is_weekend', 'user_segment', 'product_embed_12', 'city_total_interactions', 'product_embed_13', 'session_unique_stores', 'cat_embed_11', 'interactions_month_u_p', 'cat_embed_15', 'interactions_week_u_p', 'product_embed_3', 'user_unique_products', 'product_embed_9', 'interaction_trend', 'most_common_purchase_day', 'cat_embed_18', 'svd_cf_score', 'product_embed_8', 'hour_of_day_sin', 'puresvd_cf_score', 'product_embed_7', 'product_embed_0', 'views_month_u_p', 'product_embed_17', 'count_purchase_u_s', 'month_sin', 'session_length', 'cat_embed_0', 'session_purchases', 'cat_embed_4', 'product_embed_1', 'cat_embed_8', 'city_total_purchases', 'product_embed_2', 'product_embed_10', 'days_since_interaction_u_s', 'day_of_week_relevance', 'product_embed_15', 'std_purchase_hour', 'avg_purchase_hour', 'source_type', 'npmi_cf_score', 'store_total_interactions', 'cat_embed_16', 'days_since_interaction_u_p', 'ctr_product', 'city_name', 'mean_interval_days', 'cat_embed_13', 'product_total_views', 'product_embed_14', 'cat_embed_6', 'cat_embed_5', 'product_embed_16', 'user_product_store_cross', 'views_week_u_p', 'count_purchase_u_p', 'day_of_week_sin', 'cat_embed_19', 'user_total_views', 'user_total_interactions', 'store_total_purchases', 'cat_embed_17', 'product_total_purchases', 'product_embed_19', 'bpr_popular_score', 'cat_embed_12', 'cart_to_purchase_rate', 'cat_embed_3', 'cat_embed_1', 'purchases_day_u_p', 'store_unique_products', 'purchases_week_u_p', 'purchase_trend', 'store_total_views', 'cf_score', 'city_unique_stores', 'product_embed_6', 'session_duration_seconds', 'product_embed_18', 'session_unique_products', 'product_embed_5', 'interactions_day_u_p', 'product_embed_11', 'city_total_views', 'product_unique_users', 'user_product_purchase_cross', 'cat_embed_10', 'product_embed_4'}\n",
      "2025-05-18 02:41:43,196 - lavka_recsys.FeatureFactory - INFO - All categorical column names: ['is_weekend', 'user_segment', 'city_name', 'source_type']\n",
      "2025-05-18 02:41:43,871 - lavka_recsys.CatBoostRankerModel - INFO - Sorting data by group_id for grouped ranking\n",
      "2025-05-18 02:41:44,165 - lavka_recsys.CatBoostRankerModel - INFO - Converting 'is_weekend' to string for CatBoost\n",
      "2025-05-18 02:41:44,249 - lavka_recsys.CatBoostRankerModel - INFO - Converting 'user_segment' to string for CatBoost\n",
      "2025-05-18 02:41:44,255 - lavka_recsys.CatBoostRankerModel - INFO - Converting 'source_type' to string for CatBoost\n",
      "2025-05-18 02:41:44,260 - lavka_recsys.CatBoostRankerModel - INFO - Converting 'city_name' to string for CatBoost\n",
      "2025-05-18 02:41:44,788 - lavka_recsys.Experiment(catboost_ranker_48aab0) - INFO - Submission saved: results/submissions/catboost_ranker_48aab0_submission.csv\n",
      "2025-05-18 02:41:44,844 - lavka_recsys.Experiment(catboost_ranker_48aab0) - INFO - Submission model saved: results/submissions/catboost_ranker_48aab0_model.pkl\n"
     ]
    },
    {
     "data": {
      "text/html": [
       "<div><style>\n",
       ".dataframe > thead > tr,\n",
       ".dataframe > tbody > tr {\n",
       "  text-align: right;\n",
       "  white-space: pre-wrap;\n",
       "}\n",
       "</style>\n",
       "<small>shape: (292_826, 2)</small><table border=\"1\" class=\"dataframe\"><thead><tr><th>index</th><th>request_id</th></tr><tr><td>u32</td><td>u64</td></tr></thead><tbody><tr><td>78192</td><td>12250825857664677616</td></tr><tr><td>292255</td><td>12250825857664677616</td></tr><tr><td>41187</td><td>9106065009157563665</td></tr><tr><td>99380</td><td>9106065009157563665</td></tr><tr><td>59657</td><td>10513647694369403596</td></tr><tr><td>&hellip;</td><td>&hellip;</td></tr><tr><td>186955</td><td>9046562081934742702</td></tr><tr><td>25513</td><td>4964702156890821980</td></tr><tr><td>73966</td><td>4964702156890821980</td></tr><tr><td>77339</td><td>4964702156890821980</td></tr><tr><td>288595</td><td>4964702156890821980</td></tr></tbody></table></div>"
      ],
      "text/plain": [
       "shape: (292_826, 2)\n",
       "┌────────┬──────────────────────┐\n",
       "│ index  ┆ request_id           │\n",
       "│ ---    ┆ ---                  │\n",
       "│ u32    ┆ u64                  │\n",
       "╞════════╪══════════════════════╡\n",
       "│ 78192  ┆ 12250825857664677616 │\n",
       "│ 292255 ┆ 12250825857664677616 │\n",
       "│ 41187  ┆ 9106065009157563665  │\n",
       "│ 99380  ┆ 9106065009157563665  │\n",
       "│ 59657  ┆ 10513647694369403596 │\n",
       "│ …      ┆ …                    │\n",
       "│ 186955 ┆ 9046562081934742702  │\n",
       "│ 25513  ┆ 4964702156890821980  │\n",
       "│ 73966  ┆ 4964702156890821980  │\n",
       "│ 77339  ┆ 4964702156890821980  │\n",
       "│ 288595 ┆ 4964702156890821980  │\n",
       "└────────┴──────────────────────┘"
      ]
     },
     "execution_count": 6,
     "metadata": {},
     "output_type": "execute_result"
    }
   ],
   "source": [
    "ranker_experiment.create_submission()"
   ]
  },
  {
   "cell_type": "markdown",
   "metadata": {},
   "source": [
    "Kaggle Public Score `NDCG@10 = 0.41131`."
   ]
  },
  {
   "cell_type": "markdown",
   "metadata": {},
   "source": []
  },
  {
   "cell_type": "markdown",
   "metadata": {},
   "source": [
    "## CatBoost Ranker with hparam optimization"
   ]
  },
  {
   "cell_type": "code",
   "execution_count": null,
   "metadata": {},
   "outputs": [],
   "source": [
    "import optuna\n",
    "import wandb\n",
    "\n",
    "wandb.login()"
   ]
  },
  {
   "cell_type": "code",
   "execution_count": null,
   "metadata": {},
   "outputs": [],
   "source": [
    "def objective(trial: optuna.Trial):\n",
    "    run_name = f\"optuna_trial_{trial.number}\"\n",
    "\n",
    "    params_to_tune = {\n",
    "        \"learning_rate\": trial.suggest_float(\"learning_rate\", 0.01, 0.3),\n",
    "        \"depth\": trial.suggest_int(\"depth\", 4, 10),\n",
    "        'iterations': trial.suggest_int(\"iterations\", 200, 1000),\n",
    "        'random_strength': trial.suggest_float('random_strength', 1e-8, 1.0, log=True),\n",
    "        'border_count': trial.suggest_int('border_count', 32, 255),\n",
    "        'bagging_temperature': trial.suggest_float('bagging_temperature', 0.0, 1.0),\n",
    "        'loss_function': trial.suggest_categorical('loss_function', [\n",
    "            'YetiRankPairwise', 'PairLogitPairwise', \n",
    "        ])\n",
    "    }\n",
    "\n",
    "    # Create a new config for this trial\n",
    "    config = (Config.load('default_config.yaml')\n",
    "        .set('model.type', 'catboost_ranker')\n",
    "        .set('target', 'Weighted')\n",
    "        .set('model.config.catboost_ranker.loss_function', 'YetiRankPairwise')\n",
    "        .set('model.config.catboost_ranker.eval_metric', 'NDCG:top=10')\n",
    "        .set('model.config.catboost_ranker.task_type', 'GPU')\n",
    "        .set('model.config.catboost_ranker.devices', '4,5')\n",
    "        .set('model.config.catboost_ranker.early_stopping_rounds', 50)\n",
    "        .set('model.config.catboost_ranker.random_strength', 50)\n",
    "        .set('model.config.catboost_ranker.verbose', 0) # Keep Optuna trials quiet\n",
    "        .set('feature_generators', [\n",
    "            \"source_type\",\n",
    "            \"count_purchase_user_product\",\n",
    "            \"count_purchase_user_store\",\n",
    "            \"ctr_product\",\n",
    "            \"cart_to_purchase_rate\",\n",
    "            \"purchase_view_ratio\",       \n",
    "            \"recency_user_product\",\n",
    "            \"user_stats\",\n",
    "            \"product_stats\",\n",
    "            \"store_stats\",\n",
    "            \"city_stats\",\n",
    "            \"product_temporal_patterns\",\n",
    "            \"recency_user_store\",\n",
    "            \"time_features_cycl\",\n",
    "            \"time_window_user_product\",\n",
    "            \"session_features\",\n",
    "            \"frequency_features\",\n",
    "            \"product_popularity_trend\",\n",
    "            \"cross_features\",\n",
    "            \"user_segments\",\n",
    "            \"memory-based-cf\",       # Collaborative filtering\n",
    "            \"npmi-cf\",               # Collaborative filtering\n",
    "            \"puresvd-cf\",            # Collaborative filtering\n",
    "            \"svd-cf\" ,               # Collaborative filtering\n",
    "            \"bpr-popular\",           # Implicit item2item\n",
    "            \"product_embeddings\",    # NLP feature\n",
    "            \"category_embeddings\",   # NLP feature\n",
    "            # - \"user_product_similarity\" # Weighted similarity between user history and product\n",
    "            \"text_similarity_cluster\", # Product clusters based on text similarity\n",
    "            \"text_diversity_features\", # How different a product is from user's history\n",
    "        ])\n",
    "    )\n",
    "        \n",
    "    # Update config with Optuna's suggested params\n",
    "    for p_name, p_value in params_to_tune.items():\n",
    "        config = config.set(f'model.config.catboost_ranker.{p_name}', p_value)\n",
    "\n",
    "    # Create and run a new experiment\n",
    "    exp_name = f\"optuna_trial_{trial.number}_{int(time.time())}\"\n",
    "    with wandb.init(\n",
    "        project=\"rs25_catboost_ranker_optuna\",\n",
    "        name=run_name,\n",
    "        config=params_to_tune,\n",
    "        reinit=True,\n",
    "        save_code=True\n",
    "    ):\n",
    "        trial_experiment = Experiment(exp_name, config)\n",
    "        trial_experiment.setup()\n",
    "        results = trial_experiment.run()\n",
    "\n",
    "        ndcg_score = results['metrics']['ndcg@10']\n",
    "        wandb.log(results['metrics'])\n",
    "        if 'feature_importance' in results and results['feature_importance']:\n",
    "            fi_to_log = {f\"fi_{feat.replace('.', '_')}\": val for feat, val in results['feature_importance'].items()}\n",
    "            wandb.log(fi_to_log)\n",
    "\n",
    "    return ndcg_score"
   ]
  },
  {
   "cell_type": "code",
   "execution_count": null,
   "metadata": {},
   "outputs": [],
   "source": [
    "import joblib\n",
    "\n",
    "study = optuna.create_study(direction='maximize') \n",
    "study.optimize(objective, n_trials=50)\n",
    "\n",
    "print(\"Number of finished trials: \", len(study.trials))\n",
    "print(\"Best trial:\")\n",
    "best_trial = study.best_trial\n",
    "\n",
    "print(\"  Value (NDCG@10): \", best_trial.value)\n",
    "print(\"  Params: \")\n",
    "for key, value in best_trial.params.items():\n",
    "    print(f\"    {key}: {value}\")\n",
    "\n",
    "best_params_optuna = best_trial.params\n",
    "joblib.dump(study, 'catboost_ranker_hparam_study.joblib')"
   ]
  }
 ],
 "metadata": {
  "kernelspec": {
   "display_name": "RS-venv",
   "language": "python",
   "name": "python3"
  },
  "language_info": {
   "codemirror_mode": {
    "name": "ipython",
    "version": 3
   },
   "file_extension": ".py",
   "mimetype": "text/x-python",
   "name": "python",
   "nbconvert_exporter": "python",
   "pygments_lexer": "ipython3",
   "version": "3.10.12"
  }
 },
 "nbformat": 4,
 "nbformat_minor": 4
}
