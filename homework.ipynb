{
 "cells": [
  {
   "cell_type": "code",
   "execution_count": 1,
   "id": "1ceddef6",
   "metadata": {},
   "outputs": [
    {
     "name": "stdout",
     "output_type": "stream",
     "text": [
      "/data/majoroval/jupyter/RS-25/homework/week02\n"
     ]
    }
   ],
   "source": [
    "%cd /data/majoroval/jupyter/RS-25/homework/week02"
   ]
  },
  {
   "cell_type": "code",
   "execution_count": 2,
   "id": "1263f7b7",
   "metadata": {},
   "outputs": [
    {
     "data": {
      "text/plain": [
       "<Logger lavka_recsys (DEBUG)>"
      ]
     },
     "execution_count": 2,
     "metadata": {},
     "output_type": "execute_result"
    }
   ],
   "source": [
    "import requests\n",
    "\n",
    "import numpy as np\n",
    "import polars as pl\n",
    "import seaborn as sns\n",
    "import matplotlib.pyplot as plt\n",
    "\n",
    "from PIL import Image\n",
    "from io import BytesIO\n",
    "from textwrap import wrap\n",
    "from tqdm.auto import tqdm\n",
    "from concurrent.futures import ThreadPoolExecutor\n",
    "from sklearn.metrics import roc_auc_score, log_loss, ndcg_score\n",
    "from pprint import pprint\n",
    "\n",
    "from framework import setup_logging, FeatureFactory, Config, DataLoader, Experiment, Visualizer\n",
    "setup_logging()"
   ]
  },
  {
   "cell_type": "markdown",
   "id": "84bcb6fa",
   "metadata": {},
   "source": [
    "# Features"
   ]
  },
  {
   "cell_type": "code",
   "execution_count": 3,
   "id": "71c2ddb0",
   "metadata": {},
   "outputs": [],
   "source": [
    "@FeatureFactory.register('count_purchase_user_product')\n",
    "def generate_count_purchase_user_product(\n",
    "    history_df: pl.DataFrame, target_df: pl.DataFrame\n",
    ") -> tuple[pl.DataFrame, list[str]]:\n",
    "    \"\"\"Count purchases by user-product pairs\"\"\"\n",
    "    return history_df.filter(\n",
    "        pl.col('action_type') == \"AT_Purchase\"\n",
    "    ).group_by(\n",
    "        'user_id', 'product_id'\n",
    "    ).agg(\n",
    "        pl.len().alias('count_purchase_u_p')\n",
    "    ).join(\n",
    "        target_df,\n",
    "        on=['user_id', 'product_id'],\n",
    "        how='right'\n",
    "    ).fill_null(0)"
   ]
  },
  {
   "cell_type": "code",
   "execution_count": 4,
   "id": "a5a16446",
   "metadata": {},
   "outputs": [],
   "source": [
    "@FeatureFactory.register('count_purchase_user_store')\n",
    "def generate_count_purchase_user_store(\n",
    "    history_df: pl.DataFrame, target_df: pl.DataFrame\n",
    ") -> tuple[pl.DataFrame, list[str]]:\n",
    "    \"\"\"Count purchases by user-store pairs\"\"\"\n",
    "    return history_df.filter(\n",
    "        pl.col('action_type') == \"AT_Purchase\"\n",
    "    ).group_by(\n",
    "        'user_id', 'store_id'\n",
    "    ).agg(\n",
    "        pl.len().alias('count_purchase_u_s')\n",
    "    ).join(\n",
    "        target_df,\n",
    "        on=['user_id', 'store_id'],\n",
    "        how='right'\n",
    "    ).fill_null(0)"
   ]
  },
  {
   "cell_type": "code",
   "execution_count": 5,
   "id": "b2b51b03",
   "metadata": {},
   "outputs": [],
   "source": [
    "@FeatureFactory.register('ctr_product')\n",
    "def generate_ctr_product(\n",
    "    history_df: pl.DataFrame, target_df: pl.DataFrame\n",
    ") -> tuple[pl.DataFrame, list[str]]:\n",
    "    \"\"\"Calculate CTR (Click-Through Rate) for products\"\"\"\n",
    "    actions = history_df.group_by(\n",
    "        'action_type', 'product_id'\n",
    "    ).agg(\n",
    "        pl.len()\n",
    "    )\n",
    "    \n",
    "    clicks = actions.filter(pl.col('action_type') == \"AT_Click\")\n",
    "    views = actions.filter(pl.col('action_type') == \"AT_View\")\n",
    "    \n",
    "    feature = clicks.join(\n",
    "        views, on='product_id'\n",
    "    ).with_columns(\n",
    "        ctr_product=pl.col('len') / pl.col('len_right')\n",
    "    ).select(\n",
    "        'product_id', 'ctr_product'\n",
    "    )\n",
    "    return target_df.join(\n",
    "        feature,\n",
    "        on=['product_id'],\n",
    "        how='left'\n",
    "    )"
   ]
  },
  {
   "cell_type": "code",
   "execution_count": 6,
   "id": "17274e9d",
   "metadata": {},
   "outputs": [],
   "source": [
    "@FeatureFactory.register('recency_user_product')\n",
    "def generate_recency_user_product(\n",
    "    history_df: pl.DataFrame, target_df: pl.DataFrame\n",
    ") -> tuple[pl.DataFrame, list[str]]:\n",
    "    \"\"\"Generate recency features for user-product pairs\"\"\"\n",
    "    latest_time = history_df['timestamp'].max()\n",
    "    \n",
    "    feature = history_df.group_by(['user_id', 'product_id']).agg(\n",
    "        pl.max('timestamp').alias('last_interaction_u_p')\n",
    "    ).with_columns(\n",
    "        days_since_interaction_u_p=(latest_time - pl.col('last_interaction_u_p')) / (24 * 60 * 60)\n",
    "    )\n",
    "    return target_df.join(\n",
    "        feature,\n",
    "        on=['user_id', 'product_id'],\n",
    "        how='left'\n",
    "    )"
   ]
  },
  {
   "cell_type": "code",
   "execution_count": 7,
   "id": "6f0829bc",
   "metadata": {},
   "outputs": [],
   "source": [
    "@FeatureFactory.register('recency_user_store')\n",
    "def generate_recency_user_store(\n",
    "    history_df: pl.DataFrame, target_df: pl.DataFrame\n",
    ") -> tuple[pl.DataFrame, list[str]]:\n",
    "    \"\"\"Generate recency features for user-store pairs\"\"\"\n",
    "    latest_time = history_df['timestamp'].max()\n",
    "    \n",
    "    feature = history_df.group_by(['user_id', 'store_id']).agg(\n",
    "        pl.max('timestamp').alias('last_interaction_u_s')\n",
    "    ).with_columns(\n",
    "        days_since_interaction_u_s=(latest_time - pl.col('last_interaction_u_s')) / (24 * 60 * 60)\n",
    "    )\n",
    "    return target_df.join(\n",
    "        feature,\n",
    "        on=['user_id', 'store_id'],\n",
    "        how='left'\n",
    "    )"
   ]
  },
  {
   "cell_type": "code",
   "execution_count": 8,
   "id": "6d72f8df",
   "metadata": {},
   "outputs": [],
   "source": [
    "@FeatureFactory.register('user_stats')\n",
    "def generate_user_stats(\n",
    "    history_df: pl.DataFrame, target_df: pl.DataFrame\n",
    ") -> tuple[pl.DataFrame, list[str]]:\n",
    "    \"\"\"Generate user-level statistics\"\"\"\n",
    "    feature = history_df.group_by('user_id').agg([\n",
    "        pl.len().alias('user_total_interactions'),\n",
    "        pl.col('action_type').eq('AT_Purchase').sum().alias('user_total_purchases'),\n",
    "        pl.col('action_type').eq('AT_View').sum().alias('user_total_views'),\n",
    "        pl.n_unique('product_id').alias('user_unique_products')\n",
    "    ])\n",
    "    return target_df.join(\n",
    "        feature,\n",
    "        on=['user_id'],\n",
    "        how='left'\n",
    "    )"
   ]
  },
  {
   "cell_type": "code",
   "execution_count": 9,
   "id": "0cdb02fe",
   "metadata": {},
   "outputs": [],
   "source": [
    "@FeatureFactory.register('product_stats')\n",
    "def generate_product_stats(\n",
    "    history_df: pl.DataFrame, target_df: pl.DataFrame\n",
    ") -> tuple[pl.DataFrame, list[str]]:\n",
    "    \"\"\"Generate product-level statistics\"\"\"\n",
    "    features = history_df.group_by('product_id').agg([\n",
    "        pl.len().alias('product_total_interactions'),\n",
    "        pl.col('action_type').eq('AT_Purchase').sum().alias('product_total_purchases'),\n",
    "        pl.col('action_type').eq('AT_View').sum().alias('product_total_views'),\n",
    "        pl.n_unique('user_id').alias('product_unique_users')\n",
    "    ])\n",
    "    return target_df.join(\n",
    "        features,\n",
    "        on=['product_id'],\n",
    "        how='left'\n",
    "    )"
   ]
  },
  {
   "cell_type": "code",
   "execution_count": 10,
   "id": "05c1cd4b",
   "metadata": {},
   "outputs": [],
   "source": [
    "@FeatureFactory.register('store_stats')\n",
    "def generate_store_stats(\n",
    "    history_df: pl.DataFrame, target_df: pl.DataFrame\n",
    ") -> tuple[pl.DataFrame, list[str]]:\n",
    "    \"\"\"Generate store-level statistics\"\"\"\n",
    "    feature = history_df.group_by('store_id').agg([\n",
    "        pl.len().alias('store_total_interactions'),\n",
    "        pl.col('action_type').eq('AT_Purchase').sum().alias('store_total_purchases'),\n",
    "        pl.col('action_type').eq('AT_View').sum().alias('store_total_views'),\n",
    "        pl.n_unique('product_id').alias('store_unique_products')\n",
    "    ])\n",
    "    return target_df.join(\n",
    "        feature,\n",
    "        on=['store_id'],\n",
    "        how='left'\n",
    "    )"
   ]
  },
  {
   "cell_type": "code",
   "execution_count": null,
   "id": "736b67e8",
   "metadata": {},
   "outputs": [],
   "source": [
    "@FeatureFactory.register('city_stats', categorical_cols=['city_name'])\n",
    "def generate_city_stats(\n",
    "    history_df: pl.DataFrame, target_df: pl.DataFrame\n",
    ") -> tuple[pl.DataFrame, list[str]]:\n",
    "    \"\"\"Generate city-level statistics\"\"\"\n",
    "    feature = history_df.group_by('city_name').agg([\n",
    "        pl.len().alias('city_total_interactions'),\n",
    "        pl.col('action_type').eq('AT_Purchase').sum().alias('city_total_purchases'),\n",
    "        pl.col('action_type').eq('AT_View').sum().alias('city_total_views'),\n",
    "        pl.n_unique('store_id').alias('city_unique_stores')\n",
    "    ])\n",
    "    # add ratio of purchases to views\n",
    "    feature = feature.with_columns(\n",
    "        city_purchase_view_ratio=pl.col('city_total_purchases') / pl.col('city_total_views')\n",
    "    )\n",
    "    # add ratio of purchases to interactions\n",
    "    feature = feature.with_columns(\n",
    "        city_purchase_interaction_ratio=pl.col('city_total_purchases') / pl.col('city_total_interactions')\n",
    "    )\n",
    "    return target_df.join(\n",
    "        feature,\n",
    "        on=['city_name'],\n",
    "        how='left'\n",
    "    )\n",
    "    "
   ]
  },
  {
   "cell_type": "markdown",
   "id": "7f1bdcf7",
   "metadata": {},
   "source": [
    "# Targets"
   ]
  },
  {
   "cell_type": "code",
   "execution_count": 12,
   "id": "045f726a",
   "metadata": {},
   "outputs": [],
   "source": [
    "@FeatureFactory.register_target('CartUpdate_vs_View')\n",
    "def target(history_df: pl.DataFrame, target_df: pl.DataFrame) -> pl.Series:\n",
    "    \"\"\"Assign 0 for 'AT_View' and 1 for 'AT_CartUpdate'.\"\"\"\n",
    "    mapping = {\n",
    "        'AT_View': 0,\n",
    "        'AT_CartUpdate': 1,\n",
    "    }\n",
    "    return target_df.with_columns(\n",
    "        target=pl.col(\"action_type\").map_elements(\n",
    "            lambda x: mapping.get(x, None),\n",
    "            return_dtype=pl.Int64\n",
    "        )\n",
    "    )['target']"
   ]
  },
  {
   "cell_type": "code",
   "execution_count": 13,
   "id": "3568113b",
   "metadata": {},
   "outputs": [],
   "source": [
    "@FeatureFactory.register_target('CartUpdate_Purchase_vs_View')\n",
    "def target(history_df: pl.DataFrame, target_df: pl.DataFrame) -> pl.Series:\n",
    "    \"\"\"Assign 0 for 'AT_View' and 1 for 'AT_CartUpdate' and 'AT_Purchase'.\"\"\"\n",
    "    mapping = {\n",
    "        'AT_View': 0,\n",
    "        'AT_CartUpdate': 1,\n",
    "        'AT_Purchase': 1,\n",
    "    }\n",
    "    return target_df.with_columns(\n",
    "        target=pl.col(\"action_type\").map_elements(\n",
    "            lambda x: mapping.get(x, None),\n",
    "            return_dtype=pl.Int64\n",
    "        )\n",
    "    )['target']"
   ]
  },
  {
   "cell_type": "code",
   "execution_count": 14,
   "id": "b9f405cb",
   "metadata": {},
   "outputs": [],
   "source": [
    "@FeatureFactory.register_target('CartUpdate_Purchase_vs_View')\n",
    "def target(history_df: pl.DataFrame, target_df: pl.DataFrame) -> pl.Series:\n",
    "    \"\"\"Assign 0 for 'AT_View' and 1 for 'AT_CartUpdate' and 'AT_Purchase'.\"\"\"\n",
    "    mapping = {\n",
    "        'AT_View': 0,\n",
    "        'AT_CartUpdate': 1,\n",
    "        'AT_Purchase': 1,\n",
    "    }\n",
    "    return target_df.with_columns(\n",
    "        target=pl.col(\"action_type\").map_elements(\n",
    "            lambda x: mapping.get(x, None),\n",
    "            return_dtype=pl.Int64\n",
    "        )\n",
    "    )['target']"
   ]
  },
  {
   "cell_type": "code",
   "execution_count": 15,
   "id": "334bd840",
   "metadata": {},
   "outputs": [],
   "source": [
    "@FeatureFactory.register_target('CartUpdate_conversion_aware')\n",
    "def target(history_df: pl.DataFrame, target_df: pl.DataFrame) -> pl.Series:\n",
    "    \"\"\"Assign 0 for 'AT_View' and 1 for 'AT_CartUpdate' and 'AT_Purchase'.\"\"\"\n",
    "    conversion_action_types = [\"AT_CartUpdate\", \"AT_Purchase\", \"AT_Click\"]\n",
    "    target_df = target_df.with_columns(\n",
    "        conv=pl.col(\"action_type\")\n",
    "            .is_in(conversion_action_types)\n",
    "            .any()  # any returns True if at least one conversion event is present\n",
    "            .over([\"request_id\", \"product_id\"])\n",
    "    )\n",
    "    target_series = target_df.with_columns(\n",
    "        target=pl.when(pl.col(\"action_type\").is_in(conversion_action_types))\n",
    "                    .then(1)\n",
    "                    .otherwise(\n",
    "                        pl.when((pl.col(\"action_type\") == \"AT_View\") & (~pl.col(\"conv\")))\n",
    "                          .then(0)\n",
    "                          .otherwise(None)\n",
    "                    )\n",
    "    )[\"target\"]\n",
    "    return target_series"
   ]
  },
  {
   "cell_type": "markdown",
   "id": "62540abf",
   "metadata": {},
   "source": [
    "# Experiments"
   ]
  },
  {
   "cell_type": "code",
   "execution_count": 16,
   "id": "2ad7a2a9",
   "metadata": {},
   "outputs": [],
   "source": [
    "config = Config()\n",
    "config['features'] = [\n",
    "    'count_purchase_user_product',\n",
    "    # 'count_purchase_user_store',\n",
    "    'ctr_product',\n",
    "    # 'ctr_store',\n",
    "    # 'recency_user_product',\n",
    "    # 'recency_user_store',\n",
    "    'user_stats',\n",
    "    'product_stats',\n",
    "    'store_stats',\n",
    "    'city_stats',\n",
    "]\n",
    "config.set('history_cleaning.remove_lurkers', True)\n",
    "config.set('target', 'CartUpdate_conversion_aware')"
   ]
  },
  {
   "cell_type": "code",
   "execution_count": 17,
   "id": "d28b3587",
   "metadata": {},
   "outputs": [
    {
     "name": "stdout",
     "output_type": "stream",
     "text": [
      "2025-04-12 17:20:51,343 - lavka_recsys.DataLoader - INFO - Loaded train data: 14954417 rows\n",
      "2025-04-12 17:20:51,356 - lavka_recsys.DataLoader - INFO - Normalized timestamps\n",
      "2025-04-12 17:20:51,358 - lavka_recsys.DataLoader - INFO - Loaded test data: 565231 rows\n",
      "2025-04-12 17:20:51,360 - lavka_recsys.DataLoader - INFO - Normalized timestamps\n",
      "2025-04-12 17:20:51,362 - lavka_recsys.experiment=test - INFO - Saved experiment configuration to results/test_6fb246_config.json\n",
      "2025-04-12 17:20:51,363 - lavka_recsys.experiment=test - INFO - Starting experiment: test_6fb246\n",
      "2025-04-12 17:20:51,364 - lavka_recsys.experiment=test - INFO - Feature names: ['count_purchase_user_product', 'ctr_product', 'user_stats', 'product_stats', 'store_stats', 'city_stats']\n",
      "2025-04-12 17:20:51,365 - lavka_recsys.experiment=test - INFO - Model type: catboost\n",
      "2025-04-12 17:20:53,835 - lavka_recsys.DataLoader - INFO - Removed 0 users who only watch (lurkers); rows reduced from 3224400 to 3205114\n",
      "2025-04-12 17:20:54,686 - lavka_recsys.DataLoader - INFO - Removed 0 users who only watch (lurkers); rows reduced from 3402994 to 3384452\n",
      "2025-04-12 17:20:54,691 - lavka_recsys.DataLoader - INFO - Created 2 temporal validation folds\n"
     ]
    },
    {
     "data": {
      "application/vnd.jupyter.widget-view+json": {
       "model_id": "78474b8e87544e3abd8dc729a4650567",
       "version_major": 2,
       "version_minor": 0
      },
      "text/plain": [
       "cv:   0%|          | 0/2 [00:00<?, ?it/s]"
      ]
     },
     "metadata": {},
     "output_type": "display_data"
    },
    {
     "name": "stdout",
     "output_type": "stream",
     "text": [
      "2025-04-12 17:20:54,705 - lavka_recsys.experiment=test - INFO - Processing fold 1/2\n",
      "2025-04-12 17:20:54,707 - lavka_recsys.FeatureFactory - INFO - Generating features: count_purchase_user_product, ctr_product, user_stats, product_stats, store_stats, city_stats\n"
     ]
    },
    {
     "ename": "ColumnNotFoundError",
     "evalue": "city_total_purchases\n\nResolved plan until failure:\n\n\t---> FAILED HERE RESOLVING 'sink' <---\nDF [\"action_type\", \"city_name\", \"position_in_request\", \"product_category\", ...]; PROJECT */12 COLUMNS",
     "output_type": "error",
     "traceback": [
      "\u001b[0;31m---------------------------------------------------------------------------\u001b[0m",
      "\u001b[0;31mColumnNotFoundError\u001b[0m                       Traceback (most recent call last)",
      "Cell \u001b[0;32mIn[17], line 3\u001b[0m\n\u001b[1;32m      1\u001b[0m config\u001b[38;5;241m.\u001b[39mset(\u001b[38;5;124m'\u001b[39m\u001b[38;5;124mvalidation.n_folds\u001b[39m\u001b[38;5;124m'\u001b[39m, \u001b[38;5;241m2\u001b[39m)\n\u001b[1;32m      2\u001b[0m exp \u001b[38;5;241m=\u001b[39m Experiment(\u001b[38;5;124m\"\u001b[39m\u001b[38;5;124mtest\u001b[39m\u001b[38;5;124m\"\u001b[39m, config)\n\u001b[0;32m----> 3\u001b[0m results \u001b[38;5;241m=\u001b[39m \u001b[43mexp\u001b[49m\u001b[38;5;241;43m.\u001b[39;49m\u001b[43mrun\u001b[49m\u001b[43m(\u001b[49m\u001b[43m)\u001b[49m\n\u001b[1;32m      4\u001b[0m results\n",
      "File \u001b[0;32m/data/majoroval/jupyter/RS-25/homework/week02/framework/experiment.py:75\u001b[0m, in \u001b[0;36mExperiment.run\u001b[0;34m(self)\u001b[0m\n\u001b[1;32m     73\u001b[0m \u001b[38;5;66;03m# Create validation splits\u001b[39;00m\n\u001b[1;32m     74\u001b[0m validation_splits \u001b[38;5;241m=\u001b[39m \u001b[38;5;28mself\u001b[39m\u001b[38;5;241m.\u001b[39mdata_loader\u001b[38;5;241m.\u001b[39mcreate_validation_splits()\n\u001b[0;32m---> 75\u001b[0m cv_results \u001b[38;5;241m=\u001b[39m \u001b[38;5;28;43mself\u001b[39;49m\u001b[38;5;241;43m.\u001b[39;49m\u001b[43m_run_cross_validation\u001b[49m\u001b[43m(\u001b[49m\n\u001b[1;32m     76\u001b[0m \u001b[43m    \u001b[49m\u001b[43mvalidation_splits\u001b[49m\u001b[43m,\u001b[49m\u001b[43m \u001b[49m\u001b[43mfeature_names\u001b[49m\u001b[43m,\u001b[49m\u001b[43m \u001b[49m\u001b[43mtarget_name\u001b[49m\n\u001b[1;32m     77\u001b[0m \u001b[43m\u001b[49m\u001b[43m)\u001b[49m\n\u001b[1;32m     79\u001b[0m \u001b[38;5;66;03m# Save results\u001b[39;00m\n\u001b[1;32m     80\u001b[0m experiment_results \u001b[38;5;241m=\u001b[39m {\n\u001b[1;32m     81\u001b[0m     \u001b[38;5;124m'\u001b[39m\u001b[38;5;124mname\u001b[39m\u001b[38;5;124m'\u001b[39m: \u001b[38;5;28mself\u001b[39m\u001b[38;5;241m.\u001b[39mname,\n\u001b[1;32m     82\u001b[0m     \u001b[38;5;124m'\u001b[39m\u001b[38;5;124mfeature_names\u001b[39m\u001b[38;5;124m'\u001b[39m: feature_names,\n\u001b[0;32m   (...)\u001b[0m\n\u001b[1;32m     85\u001b[0m     \u001b[38;5;124m'\u001b[39m\u001b[38;5;124mruntime\u001b[39m\u001b[38;5;124m'\u001b[39m: time\u001b[38;5;241m.\u001b[39mtime() \u001b[38;5;241m-\u001b[39m start_time,\n\u001b[1;32m     86\u001b[0m }\n",
      "File \u001b[0;32m/data/majoroval/jupyter/RS-25/homework/week02/framework/experiment.py:119\u001b[0m, in \u001b[0;36mExperiment._run_cross_validation\u001b[0;34m(self, validation_splits, feature_sets, target_name)\u001b[0m\n\u001b[1;32m    116\u001b[0m \u001b[38;5;28;01mfor\u001b[39;00m fold_idx, (train_history, train_df, val_df) \u001b[38;5;129;01min\u001b[39;00m \u001b[38;5;28menumerate\u001b[39m(tqdm(validation_splits, \u001b[38;5;124m'\u001b[39m\u001b[38;5;124mcv\u001b[39m\u001b[38;5;124m'\u001b[39m)):\n\u001b[1;32m    117\u001b[0m     \u001b[38;5;28mself\u001b[39m\u001b[38;5;241m.\u001b[39mlogger\u001b[38;5;241m.\u001b[39minfo(\u001b[38;5;124mf\u001b[39m\u001b[38;5;124m\"\u001b[39m\u001b[38;5;124mProcessing fold \u001b[39m\u001b[38;5;132;01m{\u001b[39;00mfold_idx\u001b[38;5;241m+\u001b[39m\u001b[38;5;241m1\u001b[39m\u001b[38;5;132;01m}\u001b[39;00m\u001b[38;5;124m/\u001b[39m\u001b[38;5;132;01m{\u001b[39;00m\u001b[38;5;28mlen\u001b[39m(validation_splits)\u001b[38;5;132;01m}\u001b[39;00m\u001b[38;5;124m\"\u001b[39m)\n\u001b[0;32m--> 119\u001b[0m     train_features, train_target, cat_columns, _ \u001b[38;5;241m=\u001b[39m \u001b[38;5;28;43mself\u001b[39;49m\u001b[38;5;241;43m.\u001b[39;49m\u001b[43mfeature_factory\u001b[49m\u001b[38;5;241;43m.\u001b[39;49m\u001b[43mgenerate_batch\u001b[49m\u001b[43m(\u001b[49m\n\u001b[1;32m    120\u001b[0m \u001b[43m        \u001b[49m\u001b[43mtrain_history\u001b[49m\u001b[43m,\u001b[49m\u001b[43m \u001b[49m\u001b[43mtrain_df\u001b[49m\u001b[43m,\u001b[49m\u001b[43m \u001b[49m\u001b[43mfeature_sets\u001b[49m\u001b[43m,\u001b[49m\u001b[43m \u001b[49m\u001b[43mtarget_name\u001b[49m\n\u001b[1;32m    121\u001b[0m \u001b[43m    \u001b[49m\u001b[43m)\u001b[49m\n\u001b[1;32m    123\u001b[0m     val_history \u001b[38;5;241m=\u001b[39m pl\u001b[38;5;241m.\u001b[39mconcat(\n\u001b[1;32m    124\u001b[0m         [train_history, train_df],\n\u001b[1;32m    125\u001b[0m         how\u001b[38;5;241m=\u001b[39m\u001b[38;5;124m'\u001b[39m\u001b[38;5;124mvertical\u001b[39m\u001b[38;5;124m'\u001b[39m\n\u001b[1;32m    126\u001b[0m     )\n\u001b[1;32m    127\u001b[0m     val_features, val_target, _, val_request_ids \u001b[38;5;241m=\u001b[39m \u001b[38;5;28mself\u001b[39m\u001b[38;5;241m.\u001b[39mfeature_factory\u001b[38;5;241m.\u001b[39mgenerate_batch(\n\u001b[1;32m    128\u001b[0m         val_history, val_df, feature_sets, target_name\n\u001b[1;32m    129\u001b[0m     )\n",
      "File \u001b[0;32m/data/majoroval/jupyter/RS-25/homework/week02/framework/feature_factory.py:106\u001b[0m, in \u001b[0;36mFeatureFactory.generate_batch\u001b[0;34m(self, history_df, target_df, requested_features, requested_target)\u001b[0m\n\u001b[1;32m     91\u001b[0m \u001b[38;5;250m\u001b[39m\u001b[38;5;124;03m\"\"\"\u001b[39;00m\n\u001b[1;32m     92\u001b[0m \u001b[38;5;124;03mGenerate features and target for a batch of requests.\u001b[39;00m\n\u001b[1;32m     93\u001b[0m \u001b[38;5;124;03mArgs:\u001b[39;00m\n\u001b[0;32m   (...)\u001b[0m\n\u001b[1;32m    103\u001b[0m \u001b[38;5;124;03m        - Request IDs per row (pl.Series)\u001b[39;00m\n\u001b[1;32m    104\u001b[0m \u001b[38;5;124;03m\"\"\"\u001b[39;00m\n\u001b[1;32m    105\u001b[0m request_ids \u001b[38;5;241m=\u001b[39m target_df[\u001b[38;5;124m'\u001b[39m\u001b[38;5;124mrequest_id\u001b[39m\u001b[38;5;124m'\u001b[39m]\n\u001b[0;32m--> 106\u001b[0m features, cat_columns \u001b[38;5;241m=\u001b[39m \u001b[38;5;28;43mself\u001b[39;49m\u001b[38;5;241;43m.\u001b[39;49m\u001b[43mgenerate_features\u001b[49m\u001b[43m(\u001b[49m\u001b[43mhistory_df\u001b[49m\u001b[43m,\u001b[49m\u001b[43m \u001b[49m\u001b[43mtarget_df\u001b[49m\u001b[43m,\u001b[49m\u001b[43m \u001b[49m\u001b[43mrequested_features\u001b[49m\u001b[43m)\u001b[49m\n\u001b[1;32m    107\u001b[0m target, _ \u001b[38;5;241m=\u001b[39m \u001b[38;5;28mself\u001b[39m\u001b[38;5;241m.\u001b[39mgenerate_target(history_df, target_df, requested_target)\n\u001b[1;32m    108\u001b[0m mask \u001b[38;5;241m=\u001b[39m \u001b[38;5;241m~\u001b[39mtarget\u001b[38;5;241m.\u001b[39mis_null()\n",
      "File \u001b[0;32m/data/majoroval/jupyter/RS-25/homework/week02/framework/feature_factory.py:137\u001b[0m, in \u001b[0;36mFeatureFactory.generate_features\u001b[0;34m(self, history_df, target_df, requested_features)\u001b[0m\n\u001b[1;32m    135\u001b[0m all_columns, all_cat_columns \u001b[38;5;241m=\u001b[39m \u001b[38;5;28mset\u001b[39m(), \u001b[38;5;28mset\u001b[39m()\n\u001b[1;32m    136\u001b[0m \u001b[38;5;28;01mfor\u001b[39;00m feature_name \u001b[38;5;129;01min\u001b[39;00m requested_features:\n\u001b[0;32m--> 137\u001b[0m     target_df, columns \u001b[38;5;241m=\u001b[39m \u001b[38;5;28;43mself\u001b[39;49m\u001b[38;5;241;43m.\u001b[39;49m\u001b[43m_generate_feature\u001b[49m\u001b[43m(\u001b[49m\n\u001b[1;32m    138\u001b[0m \u001b[43m        \u001b[49m\u001b[43mfeature_name\u001b[49m\u001b[43m,\u001b[49m\u001b[43m \u001b[49m\u001b[43mhistory_df\u001b[49m\u001b[43m,\u001b[49m\u001b[43m \u001b[49m\u001b[43mtarget_df\u001b[49m\n\u001b[1;32m    139\u001b[0m \u001b[43m    \u001b[49m\u001b[43m)\u001b[49m\n\u001b[1;32m    140\u001b[0m     all_columns\u001b[38;5;241m.\u001b[39mupdate(columns)\n\u001b[1;32m    141\u001b[0m     cat_columns \u001b[38;5;241m=\u001b[39m \u001b[38;5;28mself\u001b[39m\u001b[38;5;241m.\u001b[39m\u001b[38;5;18m__class__\u001b[39m\u001b[38;5;241m.\u001b[39m_feature_registry[feature_name][\u001b[38;5;124m'\u001b[39m\u001b[38;5;124mcategorical_cols\u001b[39m\u001b[38;5;124m'\u001b[39m]\n",
      "File \u001b[0;32m/data/majoroval/jupyter/RS-25/homework/week02/framework/feature_factory.py:208\u001b[0m, in \u001b[0;36mFeatureFactory._generate_feature\u001b[0;34m(self, feature_name, history_df, target_df, generated_features)\u001b[0m\n\u001b[1;32m    206\u001b[0m \u001b[38;5;28mself\u001b[39m\u001b[38;5;241m.\u001b[39mlogger\u001b[38;5;241m.\u001b[39mdebug(\u001b[38;5;124mf\u001b[39m\u001b[38;5;124m\"\u001b[39m\u001b[38;5;124mGenerating feature: \u001b[39m\u001b[38;5;132;01m{\u001b[39;00mfeature_name\u001b[38;5;132;01m}\u001b[39;00m\u001b[38;5;124m\"\u001b[39m)\n\u001b[1;32m    207\u001b[0m old_columns \u001b[38;5;241m=\u001b[39m target_df\u001b[38;5;241m.\u001b[39mcolumns\n\u001b[0;32m--> 208\u001b[0m features \u001b[38;5;241m=\u001b[39m \u001b[43mgenerator_func\u001b[49m\u001b[43m(\u001b[49m\u001b[43mhistory_df\u001b[49m\u001b[43m,\u001b[49m\u001b[43m \u001b[49m\u001b[43mtarget_df\u001b[49m\u001b[43m)\u001b[49m\n\u001b[1;32m    210\u001b[0m \u001b[38;5;28;01mif\u001b[39;00m \u001b[38;5;28misinstance\u001b[39m(features, pl\u001b[38;5;241m.\u001b[39mDataFrame):\n\u001b[1;32m    211\u001b[0m     new_columns \u001b[38;5;241m=\u001b[39m \u001b[38;5;28mlist\u001b[39m(\u001b[38;5;28mset\u001b[39m(features\u001b[38;5;241m.\u001b[39mcolumns)\u001b[38;5;241m.\u001b[39mdifference(old_columns))\n",
      "File \u001b[0;32m/data/majoroval/jupyter/RS-25/homework/week02/framework/feature_factory.py:40\u001b[0m, in \u001b[0;36mFeatureFactory.register.<locals>.decorator.<locals>.wrapper\u001b[0;34m(*args, **kwargs)\u001b[0m\n\u001b[1;32m     38\u001b[0m \u001b[38;5;129m@wraps\u001b[39m(func)\n\u001b[1;32m     39\u001b[0m \u001b[38;5;28;01mdef\u001b[39;00m\u001b[38;5;250m \u001b[39m\u001b[38;5;21mwrapper\u001b[39m(\u001b[38;5;241m*\u001b[39margs, \u001b[38;5;241m*\u001b[39m\u001b[38;5;241m*\u001b[39mkwargs):\n\u001b[0;32m---> 40\u001b[0m     \u001b[38;5;28;01mreturn\u001b[39;00m \u001b[43mfunc\u001b[49m\u001b[43m(\u001b[49m\u001b[38;5;241;43m*\u001b[39;49m\u001b[43margs\u001b[49m\u001b[43m,\u001b[49m\u001b[43m \u001b[49m\u001b[38;5;241;43m*\u001b[39;49m\u001b[38;5;241;43m*\u001b[39;49m\u001b[43mkwargs\u001b[49m\u001b[43m)\u001b[49m\n",
      "Cell \u001b[0;32mIn[11], line 6\u001b[0m, in \u001b[0;36mgenerate_city_stats\u001b[0;34m(history_df, target_df)\u001b[0m\n\u001b[1;32m      1\u001b[0m \u001b[38;5;129m@FeatureFactory\u001b[39m\u001b[38;5;241m.\u001b[39mregister(\u001b[38;5;124m'\u001b[39m\u001b[38;5;124mcity_stats\u001b[39m\u001b[38;5;124m'\u001b[39m, categorical_cols\u001b[38;5;241m=\u001b[39m[\u001b[38;5;124m'\u001b[39m\u001b[38;5;124mcity_name\u001b[39m\u001b[38;5;124m'\u001b[39m])\n\u001b[1;32m      2\u001b[0m \u001b[38;5;28;01mdef\u001b[39;00m\u001b[38;5;250m \u001b[39m\u001b[38;5;21mgenerate_city_stats\u001b[39m(\n\u001b[1;32m      3\u001b[0m     history_df: pl\u001b[38;5;241m.\u001b[39mDataFrame, target_df: pl\u001b[38;5;241m.\u001b[39mDataFrame\n\u001b[1;32m      4\u001b[0m ) \u001b[38;5;241m-\u001b[39m\u001b[38;5;241m>\u001b[39m \u001b[38;5;28mtuple\u001b[39m[pl\u001b[38;5;241m.\u001b[39mDataFrame, \u001b[38;5;28mlist\u001b[39m[\u001b[38;5;28mstr\u001b[39m]]:\n\u001b[1;32m      5\u001b[0m \u001b[38;5;250m    \u001b[39m\u001b[38;5;124;03m\"\"\"Generate city-level statistics\"\"\"\u001b[39;00m\n\u001b[0;32m----> 6\u001b[0m     feature \u001b[38;5;241m=\u001b[39m \u001b[43mhistory_df\u001b[49m\u001b[38;5;241;43m.\u001b[39;49m\u001b[43mgroup_by\u001b[49m\u001b[43m(\u001b[49m\u001b[38;5;124;43m'\u001b[39;49m\u001b[38;5;124;43mcity_name\u001b[39;49m\u001b[38;5;124;43m'\u001b[39;49m\u001b[43m)\u001b[49m\u001b[38;5;241;43m.\u001b[39;49m\u001b[43magg\u001b[49m\u001b[43m(\u001b[49m\u001b[43m[\u001b[49m\n\u001b[1;32m      7\u001b[0m \u001b[43m        \u001b[49m\u001b[43mpl\u001b[49m\u001b[38;5;241;43m.\u001b[39;49m\u001b[43mlen\u001b[49m\u001b[43m(\u001b[49m\u001b[43m)\u001b[49m\u001b[38;5;241;43m.\u001b[39;49m\u001b[43malias\u001b[49m\u001b[43m(\u001b[49m\u001b[38;5;124;43m'\u001b[39;49m\u001b[38;5;124;43mcity_total_interactions\u001b[39;49m\u001b[38;5;124;43m'\u001b[39;49m\u001b[43m)\u001b[49m\u001b[43m,\u001b[49m\n\u001b[1;32m      8\u001b[0m \u001b[43m        \u001b[49m\u001b[43mpl\u001b[49m\u001b[38;5;241;43m.\u001b[39;49m\u001b[43mcol\u001b[49m\u001b[43m(\u001b[49m\u001b[38;5;124;43m'\u001b[39;49m\u001b[38;5;124;43maction_type\u001b[39;49m\u001b[38;5;124;43m'\u001b[39;49m\u001b[43m)\u001b[49m\u001b[38;5;241;43m.\u001b[39;49m\u001b[43meq\u001b[49m\u001b[43m(\u001b[49m\u001b[38;5;124;43m'\u001b[39;49m\u001b[38;5;124;43mAT_Purchase\u001b[39;49m\u001b[38;5;124;43m'\u001b[39;49m\u001b[43m)\u001b[49m\u001b[38;5;241;43m.\u001b[39;49m\u001b[43msum\u001b[49m\u001b[43m(\u001b[49m\u001b[43m)\u001b[49m\u001b[38;5;241;43m.\u001b[39;49m\u001b[43malias\u001b[49m\u001b[43m(\u001b[49m\u001b[38;5;124;43m'\u001b[39;49m\u001b[38;5;124;43mcity_total_purchases\u001b[39;49m\u001b[38;5;124;43m'\u001b[39;49m\u001b[43m)\u001b[49m\u001b[43m,\u001b[49m\n\u001b[1;32m      9\u001b[0m \u001b[43m        \u001b[49m\u001b[43mpl\u001b[49m\u001b[38;5;241;43m.\u001b[39;49m\u001b[43mcol\u001b[49m\u001b[43m(\u001b[49m\u001b[38;5;124;43m'\u001b[39;49m\u001b[38;5;124;43maction_type\u001b[39;49m\u001b[38;5;124;43m'\u001b[39;49m\u001b[43m)\u001b[49m\u001b[38;5;241;43m.\u001b[39;49m\u001b[43meq\u001b[49m\u001b[43m(\u001b[49m\u001b[38;5;124;43m'\u001b[39;49m\u001b[38;5;124;43mAT_View\u001b[39;49m\u001b[38;5;124;43m'\u001b[39;49m\u001b[43m)\u001b[49m\u001b[38;5;241;43m.\u001b[39;49m\u001b[43msum\u001b[49m\u001b[43m(\u001b[49m\u001b[43m)\u001b[49m\u001b[38;5;241;43m.\u001b[39;49m\u001b[43malias\u001b[49m\u001b[43m(\u001b[49m\u001b[38;5;124;43m'\u001b[39;49m\u001b[38;5;124;43mcity_total_views\u001b[39;49m\u001b[38;5;124;43m'\u001b[39;49m\u001b[43m)\u001b[49m\u001b[43m,\u001b[49m\n\u001b[1;32m     10\u001b[0m \u001b[43m        \u001b[49m\u001b[38;5;66;43;03m#ratio of purchases to views\u001b[39;49;00m\n\u001b[1;32m     11\u001b[0m \u001b[43m        \u001b[49m\u001b[43m(\u001b[49m\u001b[43mpl\u001b[49m\u001b[38;5;241;43m.\u001b[39;49m\u001b[43mcol\u001b[49m\u001b[43m(\u001b[49m\u001b[38;5;124;43m'\u001b[39;49m\u001b[38;5;124;43mcity_total_purchases\u001b[39;49m\u001b[38;5;124;43m'\u001b[39;49m\u001b[43m)\u001b[49m\u001b[43m \u001b[49m\u001b[38;5;241;43m/\u001b[39;49m\u001b[43m \u001b[49m\u001b[43mpl\u001b[49m\u001b[38;5;241;43m.\u001b[39;49m\u001b[43mcol\u001b[49m\u001b[43m(\u001b[49m\u001b[38;5;124;43m'\u001b[39;49m\u001b[38;5;124;43mcity_total_views\u001b[39;49m\u001b[38;5;124;43m'\u001b[39;49m\u001b[43m)\u001b[49m\u001b[43m)\u001b[49m\u001b[38;5;241;43m.\u001b[39;49m\u001b[43malias\u001b[49m\u001b[43m(\u001b[49m\u001b[38;5;124;43m'\u001b[39;49m\u001b[38;5;124;43mcity_purchase_view_ratio\u001b[39;49m\u001b[38;5;124;43m'\u001b[39;49m\u001b[43m)\u001b[49m\u001b[43m,\u001b[49m\n\u001b[1;32m     12\u001b[0m \u001b[43m        \u001b[49m\u001b[43mpl\u001b[49m\u001b[38;5;241;43m.\u001b[39;49m\u001b[43mn_unique\u001b[49m\u001b[43m(\u001b[49m\u001b[38;5;124;43m'\u001b[39;49m\u001b[38;5;124;43mstore_id\u001b[39;49m\u001b[38;5;124;43m'\u001b[39;49m\u001b[43m)\u001b[49m\u001b[38;5;241;43m.\u001b[39;49m\u001b[43malias\u001b[49m\u001b[43m(\u001b[49m\u001b[38;5;124;43m'\u001b[39;49m\u001b[38;5;124;43mcity_unique_stores\u001b[39;49m\u001b[38;5;124;43m'\u001b[39;49m\u001b[43m)\u001b[49m\n\u001b[1;32m     13\u001b[0m \u001b[43m    \u001b[49m\u001b[43m]\u001b[49m\u001b[43m)\u001b[49m\n\u001b[1;32m     14\u001b[0m     \u001b[38;5;28;01mreturn\u001b[39;00m target_df\u001b[38;5;241m.\u001b[39mjoin(\n\u001b[1;32m     15\u001b[0m         feature,\n\u001b[1;32m     16\u001b[0m         on\u001b[38;5;241m=\u001b[39m[\u001b[38;5;124m'\u001b[39m\u001b[38;5;124mcity_name\u001b[39m\u001b[38;5;124m'\u001b[39m],\n\u001b[1;32m     17\u001b[0m         how\u001b[38;5;241m=\u001b[39m\u001b[38;5;124m'\u001b[39m\u001b[38;5;124mleft\u001b[39m\u001b[38;5;124m'\u001b[39m\n\u001b[1;32m     18\u001b[0m     )\n",
      "File \u001b[0;32m/data/majoroval/jupyter/RS-25/RS-venv/lib/python3.10/site-packages/polars/dataframe/group_by.py:229\u001b[0m, in \u001b[0;36mGroupBy.agg\u001b[0;34m(self, *aggs, **named_aggs)\u001b[0m\n\u001b[1;32m    123\u001b[0m \u001b[38;5;28;01mdef\u001b[39;00m\u001b[38;5;250m \u001b[39m\u001b[38;5;21magg\u001b[39m(\n\u001b[1;32m    124\u001b[0m     \u001b[38;5;28mself\u001b[39m,\n\u001b[1;32m    125\u001b[0m     \u001b[38;5;241m*\u001b[39maggs: IntoExpr \u001b[38;5;241m|\u001b[39m Iterable[IntoExpr],\n\u001b[1;32m    126\u001b[0m     \u001b[38;5;241m*\u001b[39m\u001b[38;5;241m*\u001b[39mnamed_aggs: IntoExpr,\n\u001b[1;32m    127\u001b[0m ) \u001b[38;5;241m-\u001b[39m\u001b[38;5;241m>\u001b[39m DataFrame:\n\u001b[1;32m    128\u001b[0m \u001b[38;5;250m    \u001b[39m\u001b[38;5;124;03m\"\"\"\u001b[39;00m\n\u001b[1;32m    129\u001b[0m \u001b[38;5;124;03m    Compute aggregations for each group of a group by operation.\u001b[39;00m\n\u001b[1;32m    130\u001b[0m \n\u001b[0;32m   (...)\u001b[0m\n\u001b[1;32m    226\u001b[0m \u001b[38;5;124;03m    └─────┴───────┴────────────────┘\u001b[39;00m\n\u001b[1;32m    227\u001b[0m \u001b[38;5;124;03m    \"\"\"\u001b[39;00m\n\u001b[1;32m    228\u001b[0m     \u001b[38;5;28;01mreturn\u001b[39;00m (\n\u001b[0;32m--> 229\u001b[0m         \u001b[38;5;28;43mself\u001b[39;49m\u001b[38;5;241;43m.\u001b[39;49m\u001b[43mdf\u001b[49m\u001b[38;5;241;43m.\u001b[39;49m\u001b[43mlazy\u001b[49m\u001b[43m(\u001b[49m\u001b[43m)\u001b[49m\n\u001b[1;32m    230\u001b[0m \u001b[43m        \u001b[49m\u001b[38;5;241;43m.\u001b[39;49m\u001b[43mgroup_by\u001b[49m\u001b[43m(\u001b[49m\u001b[38;5;241;43m*\u001b[39;49m\u001b[38;5;28;43mself\u001b[39;49m\u001b[38;5;241;43m.\u001b[39;49m\u001b[43mby\u001b[49m\u001b[43m,\u001b[49m\u001b[43m \u001b[49m\u001b[38;5;241;43m*\u001b[39;49m\u001b[38;5;241;43m*\u001b[39;49m\u001b[38;5;28;43mself\u001b[39;49m\u001b[38;5;241;43m.\u001b[39;49m\u001b[43mnamed_by\u001b[49m\u001b[43m,\u001b[49m\u001b[43m \u001b[49m\u001b[43mmaintain_order\u001b[49m\u001b[38;5;241;43m=\u001b[39;49m\u001b[38;5;28;43mself\u001b[39;49m\u001b[38;5;241;43m.\u001b[39;49m\u001b[43mmaintain_order\u001b[49m\u001b[43m)\u001b[49m\n\u001b[1;32m    231\u001b[0m \u001b[43m        \u001b[49m\u001b[38;5;241;43m.\u001b[39;49m\u001b[43magg\u001b[49m\u001b[43m(\u001b[49m\u001b[38;5;241;43m*\u001b[39;49m\u001b[43maggs\u001b[49m\u001b[43m,\u001b[49m\u001b[43m \u001b[49m\u001b[38;5;241;43m*\u001b[39;49m\u001b[38;5;241;43m*\u001b[39;49m\u001b[43mnamed_aggs\u001b[49m\u001b[43m)\u001b[49m\n\u001b[1;32m    232\u001b[0m \u001b[43m        \u001b[49m\u001b[38;5;241;43m.\u001b[39;49m\u001b[43mcollect\u001b[49m\u001b[43m(\u001b[49m\u001b[43mno_optimization\u001b[49m\u001b[38;5;241;43m=\u001b[39;49m\u001b[38;5;28;43;01mTrue\u001b[39;49;00m\u001b[43m)\u001b[49m\n\u001b[1;32m    233\u001b[0m     )\n",
      "File \u001b[0;32m/data/majoroval/jupyter/RS-25/RS-venv/lib/python3.10/site-packages/polars/_utils/deprecation.py:93\u001b[0m, in \u001b[0;36mdeprecate_streaming_parameter.<locals>.decorate.<locals>.wrapper\u001b[0;34m(*args, **kwargs)\u001b[0m\n\u001b[1;32m     89\u001b[0m         kwargs[\u001b[38;5;124m\"\u001b[39m\u001b[38;5;124mengine\u001b[39m\u001b[38;5;124m\"\u001b[39m] \u001b[38;5;241m=\u001b[39m \u001b[38;5;124m\"\u001b[39m\u001b[38;5;124min-memory\u001b[39m\u001b[38;5;124m\"\u001b[39m\n\u001b[1;32m     91\u001b[0m     \u001b[38;5;28;01mdel\u001b[39;00m kwargs[\u001b[38;5;124m\"\u001b[39m\u001b[38;5;124mstreaming\u001b[39m\u001b[38;5;124m\"\u001b[39m]\n\u001b[0;32m---> 93\u001b[0m \u001b[38;5;28;01mreturn\u001b[39;00m \u001b[43mfunction\u001b[49m\u001b[43m(\u001b[49m\u001b[38;5;241;43m*\u001b[39;49m\u001b[43margs\u001b[49m\u001b[43m,\u001b[49m\u001b[43m \u001b[49m\u001b[38;5;241;43m*\u001b[39;49m\u001b[38;5;241;43m*\u001b[39;49m\u001b[43mkwargs\u001b[49m\u001b[43m)\u001b[49m\n",
      "File \u001b[0;32m/data/majoroval/jupyter/RS-25/RS-venv/lib/python3.10/site-packages/polars/lazyframe/frame.py:2188\u001b[0m, in \u001b[0;36mLazyFrame.collect\u001b[0;34m(self, type_coercion, _type_check, predicate_pushdown, projection_pushdown, simplify_expression, slice_pushdown, comm_subplan_elim, comm_subexpr_elim, cluster_with_columns, collapse_joins, no_optimization, engine, background, _check_order, _eager, **_kwargs)\u001b[0m\n\u001b[1;32m   2186\u001b[0m \u001b[38;5;66;03m# Only for testing purposes\u001b[39;00m\n\u001b[1;32m   2187\u001b[0m callback \u001b[38;5;241m=\u001b[39m _kwargs\u001b[38;5;241m.\u001b[39mget(\u001b[38;5;124m\"\u001b[39m\u001b[38;5;124mpost_opt_callback\u001b[39m\u001b[38;5;124m\"\u001b[39m, callback)\n\u001b[0;32m-> 2188\u001b[0m \u001b[38;5;28;01mreturn\u001b[39;00m wrap_df(\u001b[43mldf\u001b[49m\u001b[38;5;241;43m.\u001b[39;49m\u001b[43mcollect\u001b[49m\u001b[43m(\u001b[49m\u001b[43mengine\u001b[49m\u001b[43m,\u001b[49m\u001b[43m \u001b[49m\u001b[43mcallback\u001b[49m\u001b[43m)\u001b[49m)\n",
      "\u001b[0;31mColumnNotFoundError\u001b[0m: city_total_purchases\n\nResolved plan until failure:\n\n\t---> FAILED HERE RESOLVING 'sink' <---\nDF [\"action_type\", \"city_name\", \"position_in_request\", \"product_category\", ...]; PROJECT */12 COLUMNS"
     ]
    }
   ],
   "source": [
    "config.set('validation.n_folds', 2)\n",
    "exp = Experiment(\"test\", config)\n",
    "results = exp.run()\n",
    "results"
   ]
  },
  {
   "cell_type": "code",
   "execution_count": 18,
   "id": "a5df7c0b",
   "metadata": {},
   "outputs": [
    {
     "data": {
      "image/png": "[encoded data removed]",
      "text/plain": [
       "<Figure size 1200x800 with 1 Axes>"
      ]
     },
     "metadata": {},
     "output_type": "display_data"
    }
   ],
   "source": [
    "vis = Visualizer()\n",
    "vis.plot_feature_importance(results['cv_results']['folds'][0]['feature_importance']);"
   ]
  },
  {
   "cell_type": "code",
   "execution_count": 19,
   "id": "2071ae8d",
   "metadata": {},
   "outputs": [
    {
     "name": "stdout",
     "output_type": "stream",
     "text": [
      "2025-04-12 17:10:45,068 - lavka_recsys.DataLoader - INFO - Loaded train data: 14954417 rows\n",
      "2025-04-12 17:10:45,080 - lavka_recsys.DataLoader - INFO - Normalized timestamps\n",
      "2025-04-12 17:10:45,081 - lavka_recsys.DataLoader - INFO - Loaded test data: 565231 rows\n",
      "2025-04-12 17:10:45,084 - lavka_recsys.DataLoader - INFO - Normalized timestamps\n",
      "2025-04-12 17:10:45,086 - lavka_recsys.experiment=test-w-lurkers-conv-aware - INFO - Saved experiment configuration to results/test-w-lurkers-conv-aware_e14a2e_config.json\n"
     ]
    },
    {
     "ename": "TypeError",
     "evalue": "Experiment.predict() takes 1 positional argument but 2 were given",
     "output_type": "error",
     "traceback": [
      "\u001b[0;31m---------------------------------------------------------------------------\u001b[0m",
      "\u001b[0;31mTypeError\u001b[0m                                 Traceback (most recent call last)",
      "Cell \u001b[0;32mIn[19], line 3\u001b[0m\n\u001b[1;32m      1\u001b[0m config\u001b[38;5;241m.\u001b[39mset(\u001b[38;5;124m'\u001b[39m\u001b[38;5;124mhistory_cleaning.remove_lurkers\u001b[39m\u001b[38;5;124m'\u001b[39m, \u001b[38;5;28;01mTrue\u001b[39;00m)\n\u001b[1;32m      2\u001b[0m exp \u001b[38;5;241m=\u001b[39m Experiment(\u001b[38;5;124m\"\u001b[39m\u001b[38;5;124mtest-w-lurkers-conv-aware\u001b[39m\u001b[38;5;124m\"\u001b[39m, config)\n\u001b[0;32m----> 3\u001b[0m preds \u001b[38;5;241m=\u001b[39m \u001b[43mexp\u001b[49m\u001b[38;5;241;43m.\u001b[39;49m\u001b[43mpredict\u001b[49m\u001b[43m(\u001b[49m\u001b[43m{\u001b[49m\u001b[38;5;124;43m'\u001b[39;49m\u001b[38;5;124;43miterations\u001b[39;49m\u001b[38;5;124;43m'\u001b[39;49m\u001b[43m:\u001b[49m\u001b[43m \u001b[49m\u001b[38;5;241;43m100\u001b[39;49m\u001b[43m}\u001b[49m\u001b[43m)\u001b[49m\n",
      "\u001b[0;31mTypeError\u001b[0m: Experiment.predict() takes 1 positional argument but 2 were given"
     ]
    }
   ],
   "source": [
    "config.set('history_cleaning.remove_lurkers', True)\n",
    "exp = Experiment(\"test-w-lurkers-conv-aware\", config)\n",
    "preds = exp.predict({'iterations': 100})"
   ]
  },
  {
   "cell_type": "code",
   "execution_count": null,
   "id": "f0e947db",
   "metadata": {},
   "outputs": [],
   "source": []
  }
 ],
 "metadata": {
  "kernelspec": {
   "display_name": "RS-venv",
   "language": "python",
   "name": "rs-venv"
  },
  "language_info": {
   "codemirror_mode": {
    "name": "ipython",
    "version": 3
   },
   "file_extension": ".py",
   "mimetype": "text/x-python",
   "name": "python",
   "nbconvert_exporter": "python",
   "pygments_lexer": "ipython3",
   "version": "3.10.12"
  }
 },
 "nbformat": 4,
 "nbformat_minor": 5
}
