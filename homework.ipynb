{
 "cells": [
  {
   "cell_type": "code",
   "execution_count": 3,
   "id": "1ceddef6",
   "metadata": {},
   "outputs": [
    {
     "name": "stdout",
     "output_type": "stream",
     "text": [
      "/data/majoroval/jupyter/RS-25/homework/week02\n"
     ]
    }
   ],
   "source": [
    "%cd /data/majoroval/jupyter/RS-25/homework/week02"
   ]
  },
  {
   "cell_type": "code",
   "execution_count": 18,
   "id": "1263f7b7",
   "metadata": {},
   "outputs": [],
   "source": [
    "import zipfile\n",
    "import requests\n",
    "\n",
    "import numpy as np\n",
    "import polars as pl\n",
    "import seaborn as sns\n",
    "import matplotlib.pyplot as plt\n",
    "\n",
    "from PIL import Image\n",
    "from io import BytesIO\n",
    "from textwrap import wrap\n",
    "from tqdm.auto import tqdm\n",
    "from concurrent.futures import ThreadPoolExecutor\n",
    "from sklearn.metrics import roc_auc_score, log_loss, ndcg_score\n",
    "\n",
    "from framework import setup_logging"
   ]
  },
  {
   "cell_type": "markdown",
   "id": "796ffae4",
   "metadata": {},
   "source": [
    "# EDA"
   ]
  },
  {
   "cell_type": "code",
   "execution_count": 4,
   "id": "fef6a388",
   "metadata": {},
   "outputs": [
    {
     "data": {
      "text/html": [
       "<div><style>\n",
       ".dataframe > thead > tr,\n",
       ".dataframe > tbody > tr {\n",
       "  text-align: right;\n",
       "  white-space: pre-wrap;\n",
       "}\n",
       "</style>\n",
       "<small>shape: (100, 12)</small><table border=\"1\" class=\"dataframe\"><thead><tr><th>action_type</th><th>city_name</th><th>position_in_request</th><th>product_category</th><th>product_id</th><th>product_image</th><th>product_name</th><th>request_id</th><th>source_type</th><th>store_id</th><th>timestamp</th><th>user_id</th></tr><tr><td>str</td><td>str</td><td>i64</td><td>str</td><td>u64</td><td>str</td><td>str</td><td>u64</td><td>str</td><td>u64</td><td>i64</td><td>u64</td></tr></thead><tbody><tr><td>&quot;AT_View&quot;</td><td>&quot;Москва&quot;</td><td>36</td><td>&quot;ЛАПША ГРЕЧНЕВАЯ С МЯСОМ&quot;</td><td>16123780718943738616</td><td>&quot;https://avatars.mds.yandex.net…</td><td>&quot;Гречневая лапша с курицей, ово…</td><td>2648890305186553331</td><td>&quot;ST_Feed&quot;</td><td>16009534250158248514</td><td>1679806419</td><td>9812600053596579429</td></tr><tr><td>&quot;AT_View&quot;</td><td>&quot;Краснодар&quot;</td><td>4</td><td>&quot;Другие соленья&quot;</td><td>9225194405337347900</td><td>&quot;https://avatars.mds.yandex.net…</td><td>&quot;Грибы Опята маринованные «Гриб…</td><td>11772559297474986756</td><td>&quot;ST_Catalog&quot;</td><td>17528705347053126993</td><td>1684047251</td><td>5490055591987012418</td></tr><tr><td>&quot;AT_View&quot;</td><td>&quot;Москва&quot;</td><td>8</td><td>&quot;Другие виды вафель&quot;</td><td>5093205019591406338</td><td>&quot;https://avatars.mds.yandex.net…</td><td>&quot;Палочки вафельные «Коломенский…</td><td>6530124002700424792</td><td>&quot;ST_Search&quot;</td><td>8036341040759991016</td><td>1687439633</td><td>7732070145991942829</td></tr><tr><td>&quot;AT_View&quot;</td><td>&quot;Санкт-Петербург&quot;</td><td>6</td><td>&quot;Коласодержащие напитки с сахар…</td><td>6248957849722053876</td><td>&quot;https://avatars.mds.yandex.net…</td><td>&quot;Напиток Cola «Добрый» газирова…</td><td>16719003150245349158</td><td>&quot;ST_OnClickDelivery&quot;</td><td>13710539526554605580</td><td>1688540033</td><td>6666258464011831625</td></tr><tr><td>&quot;AT_View&quot;</td><td>&quot;Санкт-Петербург&quot;</td><td>4</td><td>&quot;Зерновые чипсы&quot;</td><td>1860732219874556850</td><td>&quot;https://avatars.mds.yandex.net…</td><td>&quot;Чипсы цельнозерновые Корнерсы …</td><td>16169165339671437251</td><td>&quot;ST_Uplift&quot;</td><td>12515600471032553786</td><td>1678793136</td><td>12902623331747310451</td></tr><tr><td>&hellip;</td><td>&hellip;</td><td>&hellip;</td><td>&hellip;</td><td>&hellip;</td><td>&hellip;</td><td>&hellip;</td><td>&hellip;</td><td>&hellip;</td><td>&hellip;</td><td>&hellip;</td><td>&hellip;</td></tr><tr><td>&quot;AT_View&quot;</td><td>&quot;Москва&quot;</td><td>18</td><td>&quot;Мороженое в ведерках/лотках&quot;</td><td>4962457401570396603</td><td>&quot;https://avatars.mds.yandex.net…</td><td>&quot;Мороженое Monterra бельгийский…</td><td>3732239185086142913</td><td>&quot;ST_Catalog&quot;</td><td>2253484422878426321</td><td>1687522515</td><td>4529653658662005692</td></tr><tr><td>&quot;AT_View&quot;</td><td>&quot;Москва&quot;</td><td>7</td><td>&quot;СЫРНИКИ С НАЧИНКАМИ И ТОПИНГАМ…</td><td>18119989971542602749</td><td>&quot;https://avatars.mds.yandex.net…</td><td>&quot;Сырники с вишней «Из Лавки», 1…</td><td>9213519401833166504</td><td>&quot;ST_Catalog&quot;</td><td>15351512924493625964</td><td>1687415630</td><td>4376886766801706275</td></tr><tr><td>&quot;AT_Click&quot;</td><td>&quot;Москва&quot;</td><td>null</td><td>&quot;Прочие замороженные торты&quot;</td><td>10397281864504523812</td><td>&quot;https://avatars.mds.yandex.net…</td><td>&quot;Торт Графские развалины «Из Ла…</td><td>14140071391418017592</td><td>&quot;ST_Search&quot;</td><td>17885235751668191113</td><td>1697192345</td><td>9040343820851285402</td></tr><tr><td>&quot;AT_View&quot;</td><td>&quot;Екатеринбург&quot;</td><td>10</td><td>&quot;Смеси ягод замороженные&quot;</td><td>4027876597313987535</td><td>&quot;https://avatars.mds.yandex.net…</td><td>&quot;Смесь Ягодный морс «Мираторг» …</td><td>3094961366929977472</td><td>&quot;ST_Catalog&quot;</td><td>3672295437626905454</td><td>1702634939</td><td>7421231689159170748</td></tr><tr><td>&quot;AT_View&quot;</td><td>&quot;Москва&quot;</td><td>361</td><td>&quot;Другие мягкие итальянские сыры&quot;</td><td>11162393527556563235</td><td>&quot;https://avatars.mds.yandex.net…</td><td>&quot;Сыр Боккончини копчёный «Из Ла…</td><td>11601824534301144471</td><td>&quot;ST_OnClickDelivery&quot;</td><td>10335228397621829223</td><td>1697455964</td><td>12448607563168957791</td></tr></tbody></table></div>"
      ],
      "text/plain": [
       "shape: (100, 12)\n",
       "┌───────────┬───────────┬───────────┬───────────┬───┬───────────┬───────────┬───────────┬──────────┐\n",
       "│ action_ty ┆ city_name ┆ position_ ┆ product_c ┆ … ┆ source_ty ┆ store_id  ┆ timestamp ┆ user_id  │\n",
       "│ pe        ┆ ---       ┆ in_reques ┆ ategory   ┆   ┆ pe        ┆ ---       ┆ ---       ┆ ---      │\n",
       "│ ---       ┆ str       ┆ t         ┆ ---       ┆   ┆ ---       ┆ u64       ┆ i64       ┆ u64      │\n",
       "│ str       ┆           ┆ ---       ┆ str       ┆   ┆ str       ┆           ┆           ┆          │\n",
       "│           ┆           ┆ i64       ┆           ┆   ┆           ┆           ┆           ┆          │\n",
       "╞═══════════╪═══════════╪═══════════╪═══════════╪═══╪═══════════╪═══════════╪═══════════╪══════════╡\n",
       "│ AT_View   ┆ Москва    ┆ 36        ┆ ЛАПША     ┆ … ┆ ST_Feed   ┆ 160095342 ┆ 167980641 ┆ 98126000 │\n",
       "│           ┆           ┆           ┆ ГРЕЧНЕВАЯ ┆   ┆           ┆ 501582485 ┆ 9         ┆ 53596579 │\n",
       "│           ┆           ┆           ┆ С МЯСОМ   ┆   ┆           ┆ 14        ┆           ┆ 429      │\n",
       "│ AT_View   ┆ Краснодар ┆ 4         ┆ Другие    ┆ … ┆ ST_Catalo ┆ 175287053 ┆ 168404725 ┆ 54900555 │\n",
       "│           ┆           ┆           ┆ соленья   ┆   ┆ g         ┆ 470531269 ┆ 1         ┆ 91987012 │\n",
       "│           ┆           ┆           ┆           ┆   ┆           ┆ 93        ┆           ┆ 418      │\n",
       "│ AT_View   ┆ Москва    ┆ 8         ┆ Другие    ┆ … ┆ ST_Search ┆ 803634104 ┆ 168743963 ┆ 77320701 │\n",
       "│           ┆           ┆           ┆ виды      ┆   ┆           ┆ 075999101 ┆ 3         ┆ 45991942 │\n",
       "│           ┆           ┆           ┆ вафель    ┆   ┆           ┆ 6         ┆           ┆ 829      │\n",
       "│ AT_View   ┆ Санкт-Пет ┆ 6         ┆ Коласодер ┆ … ┆ ST_OnClic ┆ 137105395 ┆ 168854003 ┆ 66662584 │\n",
       "│           ┆ ербург    ┆           ┆ жащие     ┆   ┆ kDelivery ┆ 265546055 ┆ 3         ┆ 64011831 │\n",
       "│           ┆           ┆           ┆ напитки с ┆   ┆           ┆ 80        ┆           ┆ 625      │\n",
       "│           ┆           ┆           ┆ сахар…    ┆   ┆           ┆           ┆           ┆          │\n",
       "│ AT_View   ┆ Санкт-Пет ┆ 4         ┆ Зерновые  ┆ … ┆ ST_Uplift ┆ 125156004 ┆ 167879313 ┆ 12902623 │\n",
       "│           ┆ ербург    ┆           ┆ чипсы     ┆   ┆           ┆ 710325537 ┆ 6         ┆ 33174731 │\n",
       "│           ┆           ┆           ┆           ┆   ┆           ┆ 86        ┆           ┆ 0451     │\n",
       "│ …         ┆ …         ┆ …         ┆ …         ┆ … ┆ …         ┆ …         ┆ …         ┆ …        │\n",
       "│ AT_View   ┆ Москва    ┆ 18        ┆ Мороженое ┆ … ┆ ST_Catalo ┆ 225348442 ┆ 168752251 ┆ 45296536 │\n",
       "│           ┆           ┆           ┆ в ведерка ┆   ┆ g         ┆ 287842632 ┆ 5         ┆ 58662005 │\n",
       "│           ┆           ┆           ┆ х/лотках  ┆   ┆           ┆ 1         ┆           ┆ 692      │\n",
       "│ AT_View   ┆ Москва    ┆ 7         ┆ СЫРНИКИ С ┆ … ┆ ST_Catalo ┆ 153515129 ┆ 168741563 ┆ 43768867 │\n",
       "│           ┆           ┆           ┆ НАЧИНКАМИ ┆   ┆ g         ┆ 244936259 ┆ 0         ┆ 66801706 │\n",
       "│           ┆           ┆           ┆ И         ┆   ┆           ┆ 64        ┆           ┆ 275      │\n",
       "│           ┆           ┆           ┆ ТОПИНГАМ… ┆   ┆           ┆           ┆           ┆          │\n",
       "│ AT_Click  ┆ Москва    ┆ null      ┆ Прочие    ┆ … ┆ ST_Search ┆ 178852357 ┆ 169719234 ┆ 90403438 │\n",
       "│           ┆           ┆           ┆ заморожен ┆   ┆           ┆ 516681911 ┆ 5         ┆ 20851285 │\n",
       "│           ┆           ┆           ┆ ные торты ┆   ┆           ┆ 13        ┆           ┆ 402      │\n",
       "│ AT_View   ┆ Екатеринб ┆ 10        ┆ Смеси     ┆ … ┆ ST_Catalo ┆ 367229543 ┆ 170263493 ┆ 74212316 │\n",
       "│           ┆ ург       ┆           ┆ ягод замо ┆   ┆ g         ┆ 762690545 ┆ 9         ┆ 89159170 │\n",
       "│           ┆           ┆           ┆ роженные  ┆   ┆           ┆ 4         ┆           ┆ 748      │\n",
       "│ AT_View   ┆ Москва    ┆ 361       ┆ Другие    ┆ … ┆ ST_OnClic ┆ 103352283 ┆ 169745596 ┆ 12448607 │\n",
       "│           ┆           ┆           ┆ мягкие    ┆   ┆ kDelivery ┆ 976218292 ┆ 4         ┆ 56316895 │\n",
       "│           ┆           ┆           ┆ итальянск ┆   ┆           ┆ 23        ┆           ┆ 7791     │\n",
       "│           ┆           ┆           ┆ ие сыры   ┆   ┆           ┆           ┆           ┆          │\n",
       "└───────────┴───────────┴───────────┴───────────┴───┴───────────┴───────────┴───────────┴──────────┘"
      ]
     },
     "execution_count": 4,
     "metadata": {},
     "output_type": "execute_result"
    }
   ],
   "source": [
    "train = pl.read_parquet('train.parquet')\n",
    "test = pl.read_parquet('test.parquet')\n",
    "\n",
    "# Если запускаетесь на кагле:\n",
    "# train = train.sample(200000, shuffle=True)\n",
    "\n",
    "train.head(100)"
   ]
  },
  {
   "cell_type": "code",
   "execution_count": 5,
   "id": "99bd1f6c",
   "metadata": {},
   "outputs": [],
   "source": [
    "def load_poster(row):\n",
    "    title, poster_url = row[0], row[2]\n",
    "    try:\n",
    "        response = requests.get(poster_url, timeout=20)\n",
    "        response.raise_for_status()\n",
    "        return Image.open(BytesIO(response.content)), title\n",
    "\n",
    "    except Exception as e:\n",
    "        print(f\"Error loading poster for '{title}': {e}\")\n",
    "        return None, None\n",
    "\n",
    "def show_posters(data):\n",
    "    fig, axes = plt.subplots(2, 5, figsize=(20, 10))\n",
    "    plt.subplots_adjust(hspace=0.5, wspace=0.3)\n",
    "\n",
    "    rows = [row for row in data.iter_rows()]\n",
    "\n",
    "    with ThreadPoolExecutor(max_workers=10) as executor:\n",
    "        results = list(executor.map(load_poster, rows))\n",
    "\n",
    "    for idx, (img, title) in enumerate(results):\n",
    "        ax = axes[idx//5, idx%5]\n",
    "        if img and title:\n",
    "            ax.imshow(img)\n",
    "            wrapped_title = \"\\n\".join(wrap(title, width=40))\n",
    "            ax.set_title(wrapped_title)\n",
    "        else:\n",
    "            ax.set_title(\"Image not available\", fontsize=10)\n",
    "        ax.axis('off')\n",
    "\n",
    "    plt.tight_layout()\n",
    "    plt.show()"
   ]
  },
  {
   "cell_type": "code",
   "execution_count": null,
   "id": "84f9388a",
   "metadata": {},
   "outputs": [],
   "source": [
    "class Experiment:\n",
    "    def __init__(self, name, feature_sets, model, metrics):\n",
    "        self.name = name\n",
    "        self.feature_sets = feature_sets\n",
    "        self.model = model\n",
    "        self.metrics = metrics\n",
    "        self.results = {}\n",
    "        \n",
    "    def run(self, train_fold, val_fold):\n",
    "        \"\"\"Run experiment on a single fold\"\"\"\n",
    "        # Prepare features\n",
    "        # Train model\n",
    "        # Generate predictions\n",
    "        # Calculate metrics\n",
    "        \n",
    "    def get_metrics(self, val_fold):\n",
    "        "
   ]
  },
  {
   "cell_type": "code",
   "execution_count": null,
   "id": "83e0c09f",
   "metadata": {},
   "outputs": [],
   "source": [
    "class RankingMetrics:\n",
    "    @staticmethod\n",
    "    def map_at_k(true_relevance, predicted_scores, k=10):\n",
    "        \"\"\"Calculate MAP@K metric\"\"\"\n",
    "        # Implementation\n",
    "        \n",
    "    @staticmethod\n",
    "    def ndcg_at_k(true_relevance, predicted_scores, k=10):\n",
    "        \"\"\"Calculate NDCG@K metric\"\"\"\n",
    "        # Implementation\n",
    "        \n",
    "    @staticmethod\n",
    "    def novelty_at_k(recommendations, popularity_df, k=10):\n",
    "        \"\"\"Calculate Novelty@K metric\"\"\"\n",
    "        # Implementation\n",
    "        \n",
    "    @staticmethod\n",
    "    def serendipity_at_k(recommendations, user_history, k=10):\n",
    "        \"\"\"Calculate Serendipity@K metric\"\"\"\n",
    "        # Implementation"
   ]
  }
 ],
 "metadata": {
  "kernelspec": {
   "display_name": "RS-venv",
   "language": "python",
   "name": "rs-venv"
  },
  "language_info": {
   "codemirror_mode": {
    "name": "ipython",
    "version": 3
   },
   "file_extension": ".py",
   "mimetype": "text/x-python",
   "name": "python",
   "nbconvert_exporter": "python",
   "pygments_lexer": "ipython3",
   "version": "3.10.12"
  }
 },
 "nbformat": 4,
 "nbformat_minor": 5
}
