{
 "cells": [
  {
   "cell_type": "markdown",
   "id": "5a2e4254",
   "metadata": {},
   "source": [
    "# Recommender System\n",
    "\n",
    "A streamlined recommender system framework with NLP capabilities for easy experimentation.\n",
    "\n",
    "## Installation\n",
    "\n",
    "1. Install core dependencies:\n",
    "\n",
    "```bash\n",
    "pip install polars catboost optuna scikit-learn pandas numpy\n",
    "```\n",
    "\n",
    "2. Install NLP dependencies:\n",
    "\n",
    "```bash\n",
    "pip install sentence-transformers\n",
    "```\n",
    "\n",
    "## Project Structure\n",
    "\n",
    "The  framework consists of these key components:\n",
    "\n",
    "- `data_loader.py` - Handles data loading and time-based splitting\n",
    "- `experiment.py` - Manages the experiment lifecycle\n",
    "- `hyperparameter_tuner.py` - Provides optional parameter tuning\n",
    "- `text_processor.py` - Processes text features using pretrained models\n",
    "- `feature_factory.py` - Generates features, handles dependencies, keeps track of categorical columns\n",
    "- `model_factory.py` - Model factory\n"
   ]
  },
  {
   "cell_type": "markdown",
   "id": "e3ac2955",
   "metadata": {},
   "source": [
    "\n",
    "## Basic Usage\n",
    "\n",
    "```python\n",
    "from lavka_recsys import Config, Experiment, register_text_embedding_features\n",
    "\n",
    "# Allows use of NLP features (\"product_embeddings\", \"category_embeddings\", etc) \n",
    "register_text_embedding_features()\n",
    "\n",
    "# Create configuration\n",
    "config = Config({\n",
    "    \"experiment_name\": \"simple_recommender\",\n",
    "    \"model\": {\n",
    "        \"type\": \"catboost\",\n",
    "        \"config\": {\n",
    "            \"catboost\": {\n",
    "                \"iterations\": 500,\n",
    "                \"learning_rate\": 0.1,\n",
    "                \"depth\": 6\n",
    "            }\n",
    "        }\n",
    "    },\n",
    "    \"features\": [\n",
    "        \"count_purchase_user_product\",\n",
    "        \"ctr_product\",\n",
    "        \"user_stats\", \n",
    "        \"product_stats\",\n",
    "        \"store_stats\",\n",
    "        \"product_embeddings\",\n",
    "        \"category_embeddings\"\n",
    "    ],\n",
    "    \"target\": \"CartUpdate_Purchase_vs_View\",\n",
    "    \"data\": {\n",
    "        \"train_path\": \"data/train.parquet\",\n",
    "        \"test_path\": \"data/test.parquet\"\n",
    "    },\n",
    "    \"text_processing\": {\n",
    "        \"model_type\": \"sentence-transformers\",\n",
    "        \"model_name\": \"all-MiniLM-L6-v2\",\n",
    "        \"embedding_dimensions\": 20\n",
    "    }\n",
    "})\n",
    "\n",
    "# Create and run experiment\n",
    "experiment = SimpleExperiment(\"my_experiment\", config)\n",
    "results = experiment.run()\n",
    "print(f\"Metrics: {results['metrics']}\")\n",
    "\n",
    "# Generate predictions\n",
    "submission = experiment.predict()\n",
    "```"
   ]
  },
  {
   "cell_type": "markdown",
   "id": "13fda9bc",
   "metadata": {},
   "source": [
    "## Text Feature Options\n",
    "\n",
    "The system supports multiple pretrained NLP models:\n",
    "\n",
    "1. **Sentence Transformers** (recommended):\n",
    "   - Modern, transformer-based embeddings\n",
    "   - Configuration: `\"model_type\": \"sentence-transformers\"`\n",
    "   - Good models: `\"all-MiniLM-L6-v2\"` (small), `\"all-mpnet-base-v2\"` (larger but better)\n",
    "\n",
    "2. **Word2Vec** (optional):\n",
    "   - Classic word embeddings\n",
    "   - Configuration: `\"model_type\": \"word2vec\"`\n",
    "   - Good models: `\"glove-wiki-gigaword-100\"`, `\"word2vec-google-news-300\"`"
   ]
  },
  {
   "cell_type": "markdown",
   "id": "cc93f925",
   "metadata": {},
   "source": [
    "\n",
    "## Hyperparameter Tuning\n",
    "\n",
    "To run with hyperparameter tuning:\n",
    "\n",
    "```python\n",
    "results = experiment.run_with_tuning()\n",
    "best_params = results['best_params']\n",
    "submission = experiment.predict(best_params)\n",
    "```\n",
    "\n",
    "## Customization\n",
    "\n",
    "For custom feature engineering, simply add your feature generators to the `feature_factory.py` file as you've been doing.\n",
    "\n",
    "## Memory Requirements\n",
    "\n",
    "- **Base System**: ~2GB RAM\n",
    "- **With Sentence Transformers**: ~3GB RAM (depends on model size)\n",
    "- **With Word2Vec**: ~2.5GB RAM\n",
    "\n",
    "## Troubleshooting\n",
    "\n",
    "- If you encounter memory issues, try a smaller model or reduce embedding dimensions\n",
    "- For faster debugging, set `\"sample_size\": 10000` in your configuration"
   ]
  },
  {
   "cell_type": "code",
   "execution_count": 2,
   "id": "ec5f58b8",
   "metadata": {},
   "outputs": [],
   "source": [
    "from datetime import datetime"
   ]
  },
  {
   "cell_type": "code",
   "execution_count": 1,
   "id": "f13a7307",
   "metadata": {},
   "outputs": [],
   "source": [
    "%load_ext autoreload\n",
    "%autoreload 2\n",
    "from lavka_recsys import Config, Experiment, setup_logging, Visualizer"
   ]
  },
  {
   "cell_type": "code",
   "execution_count": null,
   "id": "6ddebfbe",
   "metadata": {},
   "outputs": [],
   "source": [
    "config_dict = {\n",
    "    \"experiment_name\": \"simple_recommender\",\n",
    "    \"model\": {\n",
    "        \"type\": \"catboost\",\n",
    "        \"config\": {\n",
    "            \"catboost\": {\n",
    "                \"iterations\": 500,\n",
    "                \"learning_rate\": 0.1,\n",
    "                \"depth\": 6,\n",
    "                \"verbose\": 100\n",
    "            }\n",
    "        }\n",
    "    },\n",
    "    \"features\": [\n",
    "        \"count_purchase_user_product\",\n",
    "        \"ctr_product\", \n",
    "        \"user_stats\",\n",
    "        \"product_stats\",\n",
    "        \"store_stats\",\n",
    "        \"recency_user_store\",\n",
    "        \"time_features\",\n",
    "        \"time_window_user_product\",\n",
    "        \"product_temporal_patterns\",\n",
    "        \"session_features\",\n",
    "        \"frequency_features\",\n",
    "        \"product_popularity_trend\",\n",
    "        \"cross_features\",\n",
    "        \"user_segments\",\n",
    "\n",
    "        # NLP embeddings\n",
    "        \"product_embeddings\",\n",
    "        \"category_embeddings\"\n",
    "    ],\n",
    "    \"target\": \"CartUpdate_Purchase_vs_View\",\n",
    "    \"data\": {\n",
    "        \"train_path\": \"data/train.parquet\",\n",
    "        \"test_path\": \"data/test.parquet\",\n",
    "        \"sample_size\": None  # Use full dataset (or set to a number for testing)\n",
    "    },\n",
    "    # \"output\": {\n",
    "    #     \"results_dir\": \"results\",\n",
    "    #     \"save_model\": True,\n",
    "    #     \"save_predictions\": True\n",
    "    # },\n",
    "    # Text processing with pretrained model\n",
    "    \"text_processing\": {\n",
    "        \"model_type\": \"sentence-transformers\",\n",
    "        \"model_name\": \"paraphrase-multilingual-MiniLM-L12-v2\",  # Small but effective model\n",
    "        \"embedding_dimensions\": 20\n",
    "    }\n",
    "}"
   ]
  },
  {
   "cell_type": "code",
   "execution_count": 11,
   "id": "9447a3a2",
   "metadata": {},
   "outputs": [
    {
     "data": {
      "text/plain": [
       "<Logger lavka_recsys (DEBUG)>"
      ]
     },
     "execution_count": 11,
     "metadata": {},
     "output_type": "execute_result"
    }
   ],
   "source": [
    "config = Config(config_dict)\n",
    "setup_logging(config)"
   ]
  },
  {
   "cell_type": "code",
   "execution_count": 12,
   "id": "08dc935a",
   "metadata": {},
   "outputs": [
    {
     "data": {
      "text/plain": [
       "{'model': {'type': 'catboost',\n",
       "  'config': {'catboost': {'iterations': 900,\n",
       "    'learning_rate': 0.19,\n",
       "    'depth': 8,\n",
       "    'l2_leaf_reg': 2.6583600490113417,\n",
       "    'verbose': 100,\n",
       "    'loss_function': 'Logloss',\n",
       "    'eval_metric': 'AUC',\n",
       "    'early_stopping_rounds': 50}}},\n",
       " 'features': ['count_purchase_user_product',\n",
       "  'ctr_product',\n",
       "  'user_stats',\n",
       "  'product_stats',\n",
       "  'store_stats',\n",
       "  'recency_user_store',\n",
       "  'time_features',\n",
       "  'time_window_user_product',\n",
       "  'product_temporal_patterns',\n",
       "  'session_features',\n",
       "  'frequency_features',\n",
       "  'product_popularity_trend',\n",
       "  'cross_features',\n",
       "  'user_segments'],\n",
       " 'target': 'CartUpdate_Purchase_vs_View',\n",
       " 'data': {'train_path': 'data/train.parquet',\n",
       "  'test_path': 'data/test.parquet',\n",
       "  'sample_size': None},\n",
       " 'text_processing': {'model_type': 'sentence-transformers',\n",
       "  'model_name': 'paraphrase-multilingual-MiniLM-L12-v2',\n",
       "  'embedding_dimensions': 20},\n",
       " 'output': {'results_dir': 'results',\n",
       "  'save_model': True,\n",
       "  'save_predictions': True},\n",
       " 'history_cleaning': {'remove_lurkers': True},\n",
       " 'logging': {'console_level': 'INFO',\n",
       "  'file_level': 'DEBUG',\n",
       "  'file': 'lavka_recsys.log'},\n",
       " 'preprocessing': {'normalize_timestamps': True},\n",
       " 'experiment_name': 'simple_recommender'}"
      ]
     },
     "execution_count": 12,
     "metadata": {},
     "output_type": "execute_result"
    }
   ],
   "source": [
    "config.config"
   ]
  },
  {
   "cell_type": "code",
   "execution_count": 13,
   "id": "11ff512d",
   "metadata": {},
   "outputs": [
    {
     "name": "stdout",
     "output_type": "stream",
     "text": [
      "2025-04-13 15:26:51,770 - lavka_recsys.experiment=recommender_20250413_152651 - INFO - Saved configuration to results/recommender_20250413_152651_530a94_config.json\n",
      "2025-04-13 15:26:53,430 - lavka_recsys.DataLoader - INFO - Loaded train data: 14954417 rows\n",
      "2025-04-13 15:26:53,433 - lavka_recsys.DataLoader - INFO - Loaded test data: 565231 rows\n",
      "Starting experiment: recommender_20250413_152651\n",
      "2025-04-13 15:26:53,435 - lavka_recsys.experiment=recommender_20250413_152651 - INFO - Starting experiment: recommender_20250413_152651_530a94\n",
      "2025-04-13 15:26:53,436 - lavka_recsys.experiment=recommender_20250413_152651 - INFO - Feature names: ['count_purchase_user_product', 'ctr_product', 'user_stats', 'product_stats', 'store_stats', 'recency_user_store', 'time_features', 'time_window_user_product', 'product_temporal_patterns', 'session_features', 'frequency_features', 'product_popularity_trend', 'cross_features', 'user_segments']\n",
      "2025-04-13 15:26:53,437 - lavka_recsys.experiment=recommender_20250413_152651 - INFO - Model type: catboost\n",
      "2025-04-13 15:26:56,785 - lavka_recsys.DataLoader - INFO - Validation split: history until 2023-11-07 21:53:44\n",
      "2025-04-13 15:26:56,787 - lavka_recsys.DataLoader - INFO - Training: 2023-11-07 21:53:44 to 2023-12-17 21:53:44\n",
      "2025-04-13 15:26:56,788 - lavka_recsys.DataLoader - INFO - Validation: 2023-12-17 21:53:44 to 2023-12-31 21:53:44\n",
      "2025-04-13 15:26:56,788 - lavka_recsys.DataLoader - INFO - Split data: 12237090 history, 2025540 train, 691787 validation rows\n",
      "2025-04-13 15:26:56,789 - lavka_recsys.FeatureFactory - INFO - Generating features: count_purchase_user_product, ctr_product, user_stats, product_stats, store_stats, recency_user_store, time_features, time_window_user_product, product_temporal_patterns, session_features, frequency_features, product_popularity_trend, cross_features, user_segments\n",
      "2025-04-13 15:27:09,711 - lavka_recsys.FeatureFactory - INFO - Joined features\n",
      "2025-04-13 15:27:09,713 - lavka_recsys.FeatureFactory - INFO - All column names: {'city_purchase_view_ratio', 'user_total_views', 'views_day_u_p', 'city_purchase_interaction_ratio', 'session_unique_products', 'interactions_week_u_p', 'city_total_views', 'product_total_purchases', 'interactions_day_u_p', 'user_product_purchase_cross', 'most_common_purchase_day', 'session_length', 'purchases_week_u_p', 'mean_interval_days', 'city_unique_stores', 'product_total_interactions', 'user_total_interactions', 'user_store_purchase_cross', 'city_total_interactions', 'purchases_month_u_p', 'views_week_u_p', 'session_purchases', 'hour_relevance', 'user_product_store_cross', 'user_unique_products', 'session_duration_seconds', 'purchases_day_u_p', 'user_total_purchases', 'product_unique_users', 'hour_of_day', 'is_weekend', 'avg_purchase_hour', 'interaction_trend', 'store_total_purchases', 'interactions_month_u_p', 'std_purchase_hour', 'session_unique_stores', 'day_of_week', 'day_of_week_relevance', 'city_total_purchases', 'purchase_trend', 'views_month_u_p', 'month', 'last_interaction_u_s', 'store_total_interactions', 'count_purchase_u_p', 'user_segment', 'product_total_views', 'store_total_views', 'days_since_interaction_u_s', 'ctr_product', 'store_unique_products'}\n",
      "2025-04-13 15:27:09,714 - lavka_recsys.FeatureFactory - INFO - All categorical column names: ['user_segment']\n",
      "2025-04-13 15:27:10,291 - lavka_recsys.FeatureFactory - INFO - Generating features: count_purchase_user_product, ctr_product, user_stats, product_stats, store_stats, recency_user_store, time_features, time_window_user_product, product_temporal_patterns, session_features, frequency_features, product_popularity_trend, cross_features, user_segments\n",
      "2025-04-13 15:27:24,881 - lavka_recsys.FeatureFactory - INFO - Joined features\n",
      "2025-04-13 15:27:24,883 - lavka_recsys.FeatureFactory - INFO - All column names: {'city_purchase_view_ratio', 'user_total_views', 'views_day_u_p', 'city_purchase_interaction_ratio', 'session_unique_products', 'interactions_week_u_p', 'city_total_views', 'product_total_purchases', 'interactions_day_u_p', 'user_product_purchase_cross', 'most_common_purchase_day', 'session_length', 'purchases_week_u_p', 'mean_interval_days', 'city_unique_stores', 'product_total_interactions', 'user_total_interactions', 'user_store_purchase_cross', 'city_total_interactions', 'purchases_month_u_p', 'views_week_u_p', 'session_purchases', 'hour_relevance', 'user_product_store_cross', 'user_unique_products', 'session_duration_seconds', 'purchases_day_u_p', 'user_total_purchases', 'product_unique_users', 'hour_of_day', 'is_weekend', 'avg_purchase_hour', 'interaction_trend', 'store_total_purchases', 'interactions_month_u_p', 'std_purchase_hour', 'session_unique_stores', 'day_of_week', 'day_of_week_relevance', 'city_total_purchases', 'purchase_trend', 'views_month_u_p', 'month', 'last_interaction_u_s', 'store_total_interactions', 'count_purchase_u_p', 'user_segment', 'product_total_views', 'store_total_views', 'days_since_interaction_u_s', 'ctr_product', 'store_unique_products'}\n",
      "2025-04-13 15:27:24,884 - lavka_recsys.FeatureFactory - INFO - All categorical column names: ['user_segment']\n",
      "2025-04-13 15:27:25,065 - lavka_recsys.ModelFactory - INFO - Creating catboost model with params: {'iterations': 900, 'learning_rate': 0.19, 'depth': 8, 'l2_leaf_reg': 2.6583600490113417, 'verbose': 100, 'loss_function': 'Logloss', 'eval_metric': 'AUC', 'early_stopping_rounds': 50}\n",
      "2025-04-13 15:27:25,386 - lavka_recsys.CatBoostModel - INFO - Training CatBoost model with columns: ['city_purchase_view_ratio', 'user_total_views', 'views_day_u_p', 'city_purchase_interaction_ratio', 'session_unique_products', 'interactions_week_u_p', 'city_total_views', 'product_total_purchases', 'interactions_day_u_p', 'user_product_purchase_cross', 'most_common_purchase_day', 'session_length', 'purchases_week_u_p', 'mean_interval_days', 'city_unique_stores', 'product_total_interactions', 'user_total_interactions', 'user_store_purchase_cross', 'city_total_interactions', 'purchases_month_u_p', 'views_week_u_p', 'session_purchases', 'hour_relevance', 'user_product_store_cross', 'user_unique_products', 'session_duration_seconds', 'purchases_day_u_p', 'user_total_purchases', 'product_unique_users', 'hour_of_day', 'is_weekend', 'avg_purchase_hour', 'interaction_trend', 'store_total_purchases', 'interactions_month_u_p', 'std_purchase_hour', 'session_unique_stores', 'day_of_week', 'day_of_week_relevance', 'city_total_purchases', 'purchase_trend', 'views_month_u_p', 'month', 'last_interaction_u_s', 'store_total_interactions', 'count_purchase_u_p', 'user_segment', 'product_total_views', 'store_total_views', 'days_since_interaction_u_s', 'ctr_product', 'store_unique_products'] (cat_columns: ['user_segment'])\n",
      "0:\ttest: 0.6559899\tbest: 0.6559899 (0)\ttotal: 701ms\tremaining: 10m 30s\n",
      "Stopped by overfitting detector  (50 iterations wait)\n",
      "\n",
      "bestTest = 0.7313290454\n",
      "bestIteration = 43\n",
      "\n",
      "Shrink model to first 44 iterations.\n",
      "2025-04-13 15:28:15,696 - lavka_recsys.experiment=recommender_20250413_152651 - INFO - Saved results to results/recommender_20250413_152651_530a94_results.json\n",
      "2025-04-13 15:28:15,697 - lavka_recsys.experiment=recommender_20250413_152651 - INFO - Experiment metrics: {'auc': 0.7313290453997314, 'logloss': 0.12867122530961972}\n",
      "2025-04-13 15:28:15,698 - lavka_recsys.experiment=recommender_20250413_152651 - INFO - Experiment completed in 82.26 seconds\n",
      "Experiment metrics: {'auc': 0.7313290453997314, 'logloss': 0.12867122530961972}\n"
     ]
    }
   ],
   "source": [
    "# Create experiment\n",
    "timestamp = datetime.now().strftime(\"%Y%m%d_%H%M%S\")\n",
    "experiment_name = f\"recommender_{timestamp}\"\n",
    "\n",
    "experiment = Experiment(experiment_name, config)\n",
    "print(f\"Starting experiment: {experiment_name}\")\n",
    "\n",
    "# Choose one of these options:\n",
    "    \n",
    "# Option 1: Run without hyperparameter tuning (fastest)\n",
    "results = experiment.run()\n",
    "\n",
    "# Option 2: Run with hyperparameter tuning (better results)\n",
    "# results = experiment.run_with_tuning()\n",
    "    \n",
    "print(f\"Experiment metrics: {results['metrics']}\")"
   ]
  },
  {
   "cell_type": "code",
   "execution_count": 14,
   "id": "6de637cc",
   "metadata": {},
   "outputs": [
    {
     "name": "stdout",
     "output_type": "stream",
     "text": [
      "Top 10 most important features:\n",
      "mean_interval_days: 13.337689\n",
      "product_total_purchases: 9.533006\n",
      "count_purchase_u_p: 7.406181\n",
      "product_total_views: 5.150043\n",
      "user_total_interactions: 4.558457\n",
      "user_total_views: 4.278794\n",
      "user_product_purchase_cross: 4.254032\n",
      "purchases_month_u_p: 4.051829\n",
      "session_purchases: 3.792954\n",
      "views_month_u_p: 3.669408\n"
     ]
    },
    {
     "data": {
      "image/png": "[encoded data removed]",
      "text/plain": [
       "<Figure size 1200x800 with 1 Axes>"
      ]
     },
     "metadata": {},
     "output_type": "display_data"
    }
   ],
   "source": [
    "    # Print top 10 most important features\n",
    "print(\"Top 10 most important features:\")\n",
    "top_features = sorted(\n",
    "    results['feature_importance'].items(), \n",
    "    key=lambda x: x[1], \n",
    "    reverse=True\n",
    ")[:10]\n",
    "\n",
    "for feature, importance in top_features:\n",
    "    print(f\"{feature}: {importance:.6f}\")\n",
    "\n",
    "vis = Visualizer.plot_feature_importance(results['feature_importance'])\n"
   ]
  },
  {
   "cell_type": "code",
   "execution_count": 15,
   "id": "8e14ccc5",
   "metadata": {},
   "outputs": [
    {
     "name": "stdout",
     "output_type": "stream",
     "text": [
      "2025-04-13 15:28:27,167 - lavka_recsys.experiment=recommender_20250413_152651 - INFO - Training final model for prediction\n",
      "2025-04-13 15:28:31,439 - lavka_recsys.DataLoader - INFO - Final split: history until 2023-12-17 21:53:44\n",
      "2025-04-13 15:28:31,447 - lavka_recsys.DataLoader - INFO - Final training: 2023-12-17 21:53:44 to 2023-12-31 21:53:44\n",
      "2025-04-13 15:28:31,449 - lavka_recsys.DataLoader - INFO - Final split data: 14262630 history, 691787 train rows\n",
      "2025-04-13 15:28:31,451 - lavka_recsys.FeatureFactory - INFO - Generating features: count_purchase_user_product, ctr_product, user_stats, product_stats, store_stats, recency_user_store, time_features, time_window_user_product, product_temporal_patterns, session_features, frequency_features, product_popularity_trend, cross_features, user_segments\n",
      "2025-04-13 15:28:52,461 - lavka_recsys.FeatureFactory - INFO - Joined features\n",
      "2025-04-13 15:28:52,468 - lavka_recsys.FeatureFactory - INFO - All column names: {'city_purchase_view_ratio', 'user_total_views', 'views_day_u_p', 'city_purchase_interaction_ratio', 'session_unique_products', 'interactions_week_u_p', 'city_total_views', 'product_total_purchases', 'interactions_day_u_p', 'user_product_purchase_cross', 'most_common_purchase_day', 'session_length', 'purchases_week_u_p', 'mean_interval_days', 'city_unique_stores', 'product_total_interactions', 'user_total_interactions', 'user_store_purchase_cross', 'city_total_interactions', 'purchases_month_u_p', 'views_week_u_p', 'session_purchases', 'hour_relevance', 'user_product_store_cross', 'user_unique_products', 'session_duration_seconds', 'purchases_day_u_p', 'user_total_purchases', 'product_unique_users', 'hour_of_day', 'is_weekend', 'avg_purchase_hour', 'interaction_trend', 'store_total_purchases', 'interactions_month_u_p', 'std_purchase_hour', 'session_unique_stores', 'day_of_week', 'day_of_week_relevance', 'city_total_purchases', 'purchase_trend', 'views_month_u_p', 'month', 'last_interaction_u_s', 'store_total_interactions', 'count_purchase_u_p', 'user_segment', 'product_total_views', 'store_total_views', 'days_since_interaction_u_s', 'ctr_product', 'store_unique_products'}\n",
      "2025-04-13 15:28:52,469 - lavka_recsys.FeatureFactory - INFO - All categorical column names: ['user_segment']\n",
      "2025-04-13 15:28:52,660 - lavka_recsys.ModelFactory - INFO - Creating catboost model with params: {'iterations': 900, 'learning_rate': 0.19, 'depth': 8, 'l2_leaf_reg': 2.6583600490113417, 'verbose': 100, 'loss_function': 'Logloss', 'eval_metric': 'AUC', 'early_stopping_rounds': 50}\n",
      "2025-04-13 15:28:52,721 - lavka_recsys.CatBoostModel - INFO - Training CatBoost model with columns: ['city_purchase_view_ratio', 'user_total_views', 'views_day_u_p', 'city_purchase_interaction_ratio', 'session_unique_products', 'interactions_week_u_p', 'city_total_views', 'product_total_purchases', 'interactions_day_u_p', 'user_product_purchase_cross', 'most_common_purchase_day', 'session_length', 'purchases_week_u_p', 'mean_interval_days', 'city_unique_stores', 'product_total_interactions', 'user_total_interactions', 'user_store_purchase_cross', 'city_total_interactions', 'purchases_month_u_p', 'views_week_u_p', 'session_purchases', 'hour_relevance', 'user_product_store_cross', 'user_unique_products', 'session_duration_seconds', 'purchases_day_u_p', 'user_total_purchases', 'product_unique_users', 'hour_of_day', 'is_weekend', 'avg_purchase_hour', 'interaction_trend', 'store_total_purchases', 'interactions_month_u_p', 'std_purchase_hour', 'session_unique_stores', 'day_of_week', 'day_of_week_relevance', 'city_total_purchases', 'purchase_trend', 'views_month_u_p', 'month', 'last_interaction_u_s', 'store_total_interactions', 'count_purchase_u_p', 'user_segment', 'product_total_views', 'store_total_views', 'days_since_interaction_u_s', 'ctr_product', 'store_unique_products'] (cat_columns: ['user_segment'])\n",
      "0:\ttotal: 180ms\tremaining: 2m 41s\n",
      "100:\ttotal: 17.4s\tremaining: 2m 17s\n",
      "200:\ttotal: 34.8s\tremaining: 2m 1s\n",
      "300:\ttotal: 52.5s\tremaining: 1m 44s\n",
      "400:\ttotal: 1m 10s\tremaining: 1m 27s\n",
      "500:\ttotal: 1m 28s\tremaining: 1m 10s\n",
      "600:\ttotal: 1m 46s\tremaining: 53s\n",
      "700:\ttotal: 2m 6s\tremaining: 35.9s\n",
      "800:\ttotal: 2m 24s\tremaining: 17.9s\n",
      "899:\ttotal: 2m 43s\tremaining: 0us\n",
      "2025-04-13 15:31:36,867 - lavka_recsys.FeatureFactory - INFO - Generating features: count_purchase_user_product, ctr_product, user_stats, product_stats, store_stats, recency_user_store, time_features, time_window_user_product, product_temporal_patterns, session_features, frequency_features, product_popularity_trend, cross_features, user_segments\n",
      "2025-04-13 15:31:55,818 - lavka_recsys.FeatureFactory - INFO - Joined features\n",
      "2025-04-13 15:31:55,821 - lavka_recsys.FeatureFactory - INFO - All column names: {'city_purchase_view_ratio', 'user_total_views', 'views_day_u_p', 'city_purchase_interaction_ratio', 'session_unique_products', 'interactions_week_u_p', 'city_total_views', 'product_total_purchases', 'interactions_day_u_p', 'user_product_purchase_cross', 'most_common_purchase_day', 'session_length', 'purchases_week_u_p', 'mean_interval_days', 'city_unique_stores', 'product_total_interactions', 'user_total_interactions', 'user_store_purchase_cross', 'city_total_interactions', 'purchases_month_u_p', 'views_week_u_p', 'session_purchases', 'hour_relevance', 'user_product_store_cross', 'user_unique_products', 'session_duration_seconds', 'purchases_day_u_p', 'user_total_purchases', 'product_unique_users', 'hour_of_day', 'is_weekend', 'avg_purchase_hour', 'interaction_trend', 'store_total_purchases', 'interactions_month_u_p', 'std_purchase_hour', 'session_unique_stores', 'day_of_week', 'day_of_week_relevance', 'city_total_purchases', 'purchase_trend', 'views_month_u_p', 'month', 'last_interaction_u_s', 'store_total_interactions', 'count_purchase_u_p', 'user_segment', 'product_total_views', 'store_total_views', 'days_since_interaction_u_s', 'ctr_product', 'store_unique_products'}\n",
      "2025-04-13 15:31:55,821 - lavka_recsys.FeatureFactory - INFO - All categorical column names: ['user_segment']\n",
      "2025-04-13 15:31:56,692 - lavka_recsys.experiment=recommender_20250413_152651 - INFO - Saved model to results/recommender_20250413_152651_530a94_model.pkl\n",
      "2025-04-13 15:31:56,747 - lavka_recsys.experiment=recommender_20250413_152651 - INFO - Saved predictions to results/recommender_20250413_152651_530a94_predictions.csv\n",
      "2025-04-13 15:31:56,748 - lavka_recsys.experiment=recommender_20250413_152651 - INFO - Prediction completed in 209.58 seconds\n",
      "\n",
      "Predictions generated. First 5 rows:\n",
      "shape: (10, 3)\n",
      "┌────────┬──────────────────────┬──────────┐\n",
      "│ index  ┆ request_id           ┆ predict  │\n",
      "│ ---    ┆ ---                  ┆ ---      │\n",
      "│ u32    ┆ u64                  ┆ f64      │\n",
      "╞════════╪══════════════════════╪══════════╡\n",
      "│ 320706 ┆ 15471915343018678869 ┆ 0.740979 │\n",
      "│ 461806 ┆ 15788295936893612846 ┆ 0.740979 │\n",
      "│ 553340 ┆ 15788295936893612846 ┆ 0.740979 │\n",
      "│ 45032  ┆ 10151481713345405032 ┆ 0.648426 │\n",
      "│ 482561 ┆ 10151481713345405032 ┆ 0.648426 │\n",
      "│ 283348 ┆ 8929750070240855249  ┆ 0.640037 │\n",
      "│ 1912   ┆ 1513129646641970253  ┆ 0.632689 │\n",
      "│ 54383  ┆ 11498499289609092444 ┆ 0.632689 │\n",
      "│ 74049  ┆ 8809650879627577876  ┆ 0.632689 │\n",
      "│ 77692  ┆ 1513129646641970253  ┆ 0.632689 │\n",
      "└────────┴──────────────────────┴──────────┘\n",
      "\n",
      "Experiment completed: recommender_20250413_152651\n"
     ]
    }
   ],
   "source": [
    "best_params = results.get('best_params')  # Will be None if using run() without tuning\n",
    "submission = experiment.predict(best_params)\n",
    "\n",
    "print(f\"\\nPredictions generated. First 5 rows:\")\n",
    "print(submission.head(10))\n",
    "\n",
    "print(f\"\\nExperiment completed: {experiment_name}\")"
   ]
  },
  {
   "cell_type": "code",
   "execution_count": 17,
   "id": "b0185a17",
   "metadata": {},
   "outputs": [
    {
     "data": {
      "text/html": [
       "<div><style>\n",
       ".dataframe > thead > tr,\n",
       ".dataframe > tbody > tr {\n",
       "  text-align: right;\n",
       "  white-space: pre-wrap;\n",
       "}\n",
       "</style>\n",
       "<small>shape: (9, 2)</small><table border=\"1\" class=\"dataframe\"><thead><tr><th>statistic</th><th>value</th></tr><tr><td>str</td><td>f64</td></tr></thead><tbody><tr><td>&quot;count&quot;</td><td>565231.0</td></tr><tr><td>&quot;null_count&quot;</td><td>0.0</td></tr><tr><td>&quot;mean&quot;</td><td>0.015839</td></tr><tr><td>&quot;std&quot;</td><td>0.029679</td></tr><tr><td>&quot;min&quot;</td><td>0.000001</td></tr><tr><td>&quot;25%&quot;</td><td>0.002887</td></tr><tr><td>&quot;50%&quot;</td><td>0.007205</td></tr><tr><td>&quot;75%&quot;</td><td>0.016896</td></tr><tr><td>&quot;max&quot;</td><td>0.740979</td></tr></tbody></table></div>"
      ],
      "text/plain": [
       "shape: (9, 2)\n",
       "┌────────────┬──────────┐\n",
       "│ statistic  ┆ value    │\n",
       "│ ---        ┆ ---      │\n",
       "│ str        ┆ f64      │\n",
       "╞════════════╪══════════╡\n",
       "│ count      ┆ 565231.0 │\n",
       "│ null_count ┆ 0.0      │\n",
       "│ mean       ┆ 0.015839 │\n",
       "│ std        ┆ 0.029679 │\n",
       "│ min        ┆ 0.000001 │\n",
       "│ 25%        ┆ 0.002887 │\n",
       "│ 50%        ┆ 0.007205 │\n",
       "│ 75%        ┆ 0.016896 │\n",
       "│ max        ┆ 0.740979 │\n",
       "└────────────┴──────────┘"
      ]
     },
     "execution_count": 17,
     "metadata": {},
     "output_type": "execute_result"
    }
   ],
   "source": [
    "submission['predict'].describe()"
   ]
  },
  {
   "cell_type": "code",
   "execution_count": null,
   "id": "d4866fcd",
   "metadata": {},
   "outputs": [],
   "source": []
  }
 ],
 "metadata": {
  "kernelspec": {
   "display_name": "SDC-25",
   "language": "python",
   "name": "sdc-25"
  },
  "language_info": {
   "codemirror_mode": {
    "name": "ipython",
    "version": 3
   },
   "file_extension": ".py",
   "mimetype": "text/x-python",
   "name": "python",
   "nbconvert_exporter": "python",
   "pygments_lexer": "ipython3",
   "version": "3.11.11"
  }
 },
 "nbformat": 4,
 "nbformat_minor": 5
}
