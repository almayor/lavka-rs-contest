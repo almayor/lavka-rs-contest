{
 "cells": [
  {
   "cell_type": "markdown",
   "id": "5a2e4254",
   "metadata": {},
   "source": [
    "# Simplified Recommender System\n",
    "\n",
    "A streamlined recommender system framework with NLP capabilities for easy experimentation.\n",
    "\n",
    "## Features\n",
    "\n",
    "- Simple, focused implementation for quick iteration\n",
    "- Pretrained NLP models for text features\n",
    "- Time-based data splitting for realistic evaluation\n",
    "- Optional hyperparameter tuning\n",
    "- Minimal dependencies\n",
    "\n",
    "## Installation\n",
    "\n",
    "1. Install core dependencies:\n",
    "\n",
    "```bash\n",
    "pip install polars catboost optuna scikit-learn pandas numpy\n",
    "```\n",
    "\n",
    "2. Install NLP dependencies:\n",
    "\n",
    "```bash\n",
    "pip install sentence-transformers\n",
    "```\n",
    "\n",
    "## Project Structure\n",
    "\n",
    "The simplified framework consists of these key components:\n",
    "\n",
    "- `simplified_data_loader.py` - Handles data loading and time-based splitting\n",
    "- `simplified_experiment.py` - Manages the experiment lifecycle\n",
    "- `simplified_hyperparameter_tuner.py` - Provides optional parameter tuning\n",
    "- `text_processor.py` - Processes text features using pretrained models\n",
    "- `feature_factory.py` - Your existing feature generation code (unmodified)\n",
    "- `model_factory.py` - Your existing model factory (unmodified)\n"
   ]
  },
  {
   "cell_type": "markdown",
   "id": "e3ac2955",
   "metadata": {},
   "source": [
    "\n",
    "## Basic Usage\n",
    "\n",
    "```python\n",
    "from lavka_recsys.config import Config\n",
    "from lavka_recsys.simplified_experiment import SimpleExperiment\n",
    "from lavka_recsys.text_processor import register_text_embedding_features\n",
    "\n",
    "# Register text embedding features\n",
    "register_text_embedding_features()\n",
    "\n",
    "# Create configuration\n",
    "config = Config({\n",
    "    \"experiment_name\": \"simple_recommender\",\n",
    "    \"model\": {\n",
    "        \"type\": \"catboost\",\n",
    "        \"config\": {\n",
    "            \"catboost\": {\n",
    "                \"iterations\": 500,\n",
    "                \"learning_rate\": 0.1,\n",
    "                \"depth\": 6\n",
    "            }\n",
    "        }\n",
    "    },\n",
    "    \"features\": [\n",
    "        \"count_purchase_user_product\",\n",
    "        \"ctr_product\",\n",
    "        \"user_stats\", \n",
    "        \"product_stats\",\n",
    "        \"store_stats\",\n",
    "        \"product_embeddings\",\n",
    "        \"category_embeddings\"\n",
    "    ],\n",
    "    \"target\": \"CartUpdate_Purchase_vs_View\",\n",
    "    \"data\": {\n",
    "        \"train_path\": \"data/train.parquet\",\n",
    "        \"test_path\": \"data/test.parquet\"\n",
    "    },\n",
    "    \"text_processing\": {\n",
    "        \"model_type\": \"sentence-transformers\",\n",
    "        \"model_name\": \"all-MiniLM-L6-v2\",\n",
    "        \"embedding_dimensions\": 20\n",
    "    }\n",
    "})\n",
    "\n",
    "# Create and run experiment\n",
    "experiment = SimpleExperiment(\"my_experiment\", config)\n",
    "results = experiment.run()\n",
    "print(f\"Metrics: {results['metrics']}\")\n",
    "\n",
    "# Generate predictions\n",
    "submission = experiment.predict()\n",
    "```\n"
   ]
  },
  {
   "cell_type": "markdown",
   "id": "13fda9bc",
   "metadata": {},
   "source": [
    "## Text Feature Options\n",
    "\n",
    "The system supports multiple pretrained NLP models:\n",
    "\n",
    "1. **Sentence Transformers** (recommended):\n",
    "   - Modern, transformer-based embeddings\n",
    "   - Configuration: `\"model_type\": \"sentence-transformers\"`\n",
    "   - Good models: `\"all-MiniLM-L6-v2\"` (small), `\"all-mpnet-base-v2\"` (larger but better)\n",
    "\n",
    "2. **Word2Vec** (optional):\n",
    "   - Classic word embeddings\n",
    "   - Configuration: `\"model_type\": \"word2vec\"`\n",
    "   - Good models: `\"glove-wiki-gigaword-100\"`, `\"word2vec-google-news-300\"`"
   ]
  },
  {
   "cell_type": "markdown",
   "id": "cc93f925",
   "metadata": {},
   "source": [
    "\n",
    "## Hyperparameter Tuning\n",
    "\n",
    "To run with hyperparameter tuning:\n",
    "\n",
    "```python\n",
    "results = experiment.run_with_tuning()\n",
    "best_params = results['best_params']\n",
    "submission = experiment.predict(best_params)\n",
    "```\n",
    "\n",
    "## Customization\n",
    "\n",
    "For custom feature engineering, simply add your feature generators to the `feature_factory.py` file as you've been doing.\n",
    "\n",
    "## Memory Requirements\n",
    "\n",
    "- **Base System**: ~2GB RAM\n",
    "- **With Sentence Transformers**: ~3GB RAM (depends on model size)\n",
    "- **With Word2Vec**: ~2.5GB RAM\n",
    "\n",
    "## Troubleshooting\n",
    "\n",
    "- If you encounter memory issues, try a smaller model or reduce embedding dimensions\n",
    "- For faster debugging, set `\"sample_size\": 10000` in your configuration"
   ]
  },
  {
   "cell_type": "code",
   "execution_count": 1,
   "id": "ec5f58b8",
   "metadata": {},
   "outputs": [],
   "source": [
    "import os\n",
    "from datetime import datetime"
   ]
  },
  {
   "cell_type": "code",
   "execution_count": 2,
   "id": "f13a7307",
   "metadata": {},
   "outputs": [
    {
     "data": {
      "text/plain": [
       "True"
      ]
     },
     "execution_count": 2,
     "metadata": {},
     "output_type": "execute_result"
    }
   ],
   "source": [
    "%load_ext autoreload\n",
    "%autoreload 2\n",
    "from lavka_recsys.config import Config\n",
    "from lavka_recsys.experiment import Experiment\n",
    "from lavka_recsys.text_processor import register_text_embedding_features\n",
    "\n",
    "register_text_embedding_features()"
   ]
  },
  {
   "cell_type": "code",
   "execution_count": 3,
   "id": "6ddebfbe",
   "metadata": {},
   "outputs": [],
   "source": [
    "config_dict = {\n",
    "    \"experiment_name\": \"simple_recommender\",\n",
    "    \"model\": {\n",
    "        \"type\": \"catboost\",\n",
    "        \"config\": {\n",
    "            \"catboost\": {\n",
    "                \"iterations\": 500,\n",
    "                \"learning_rate\": 0.1,\n",
    "                \"depth\": 6,\n",
    "                \"verbose\": 100\n",
    "            }\n",
    "        }\n",
    "    },\n",
    "    # Essential features only\n",
    "    \"features\": [\n",
    "        # Basic statistics\n",
    "        \"count_purchase_user_product\",\n",
    "        \"ctr_product\", \n",
    "        \"user_stats\",\n",
    "        \"product_stats\",\n",
    "        \"store_stats\",\n",
    "        \"recency_user_store\",\n",
    "        \"time_features\",\n",
    "        \"time_window_user_product\",\n",
    "        \"session_features\",\n",
    "        \"frequency_features\",\n",
    "        \"product_popularity_trend\",\n",
    "        \"cross_features\",\n",
    "        \"user_segments\",\n",
    "\n",
    "        # NLP embeddings\n",
    "        \"product_embeddings\",\n",
    "        \"category_embeddings\"\n",
    "    ],\n",
    "    \"target\": \"CartUpdate_Purchase_vs_View\",\n",
    "    \"data\": {\n",
    "        \"train_path\": \"data/train.parquet\",\n",
    "        \"test_path\": \"data/test.parquet\",\n",
    "        \"sample_size\": None  # Use full dataset (or set to a number for testing)\n",
    "    },\n",
    "    \"output\": {\n",
    "        \"results_dir\": \"results\",\n",
    "        \"save_model\": True,\n",
    "        \"save_predictions\": True\n",
    "    },\n",
    "    # Text processing with pretrained model\n",
    "    \"text_processing\": {\n",
    "        \"model_type\": \"sentence-transformers\",\n",
    "        \"model_name\": \"all-MiniLM-L6-v2\",  # Small but effective model\n",
    "        \"embedding_dimensions\": 20\n",
    "    }\n",
    "}"
   ]
  },
  {
   "cell_type": "code",
   "execution_count": 4,
   "id": "9447a3a2",
   "metadata": {},
   "outputs": [],
   "source": [
    "timestamp = datetime.now().strftime(\"%Y%m%d_%H%M%S\")\n",
    "experiment_name = f\"recommender_{timestamp}\"\n",
    "\n",
    "# Create configuration\n",
    "config = Config(config_dict)"
   ]
  },
  {
   "cell_type": "code",
   "execution_count": null,
   "id": "289a4442",
   "metadata": {},
   "outputs": [
    {
     "name": "stdout",
     "output_type": "stream",
     "text": [
      "2025-04-13 00:04:19,396 - lavka_recsys.experiment=recommender_20250413_000419 - INFO - Saved configuration to results/recommender_20250413_000419_1cbc16_config.json\n",
      "2025-04-13 00:04:20,089 - lavka_recsys.DataLoader - INFO - Loaded train data: 14954417 rows\n",
      "2025-04-13 00:04:20,089 - lavka_recsys.DataLoader - INFO - Loaded test data: 565231 rows\n",
      "Starting experiment: recommender_20250413_000419\n",
      "2025-04-13 00:04:20,090 - lavka_recsys.experiment=recommender_20250413_000419 - INFO - Starting experiment with tuning: recommender_20250413_000419_1cbc16\n",
      "2025-04-13 00:04:20,092 - lavka_recsys.HyperparameterTuner - INFO - Starting hyperparameter tuning with 20 trials\n"
     ]
    },
    {
     "name": "stderr",
     "output_type": "stream",
     "text": [
      "[I 2025-04-13 00:04:20,093] A new study created in memory with name: no-name-da630aa6-283e-4bfe-a248-d0d3461e2925\n"
     ]
    },
    {
     "name": "stdout",
     "output_type": "stream",
     "text": [
      "2025-04-13 00:04:20,095 - lavka_recsys.HyperparameterTuner - INFO - Trial 0: Testing parameters {'learning_rate': 0.025855262377220935, 'depth': 6, 'l2_leaf_reg': 6.056010767225593, 'iterations': 831}\n",
      "2025-04-13 00:04:22,185 - lavka_recsys.DataLoader - INFO - Validation split: history until 2023-11-07 21:53:44\n",
      "2025-04-13 00:04:22,186 - lavka_recsys.DataLoader - INFO - Training: 2023-11-07 21:53:44 to 2023-12-17 21:53:44\n",
      "2025-04-13 00:04:22,187 - lavka_recsys.DataLoader - INFO - Validation: 2023-12-17 21:53:44 to 2023-12-31 21:53:44\n",
      "2025-04-13 00:04:22,187 - lavka_recsys.DataLoader - INFO - Split data: 12237090 history, 2025540 train, 691787 validation rows\n",
      "2025-04-13 00:04:22,188 - lavka_recsys.FeatureFactory - INFO - Generating features: count_purchase_user_product, ctr_product, user_stats, product_stats, store_stats, recency_user_store, time_features, time_window_user_product, session_features, frequency_features, product_popularity_trend, cross_features, user_segments, product_embeddings, category_embeddings, count_purchase_user_product, count_purchase_user_store, ctr_product, recency_user_product, user_stats, product_stats, store_stats, city_stats\n",
      "2025-04-13 00:04:45,857 - lavka_recsys.TextProcessor - INFO - Loaded sentence-transformers model: paraphrase-multilingual-MiniLM-L12-v2\n",
      "2025-04-13 00:05:37,569 - lavka_recsys.TextProcessor - INFO - Reduced embeddings from 384 to 20 dimensions\n",
      "2025-04-13 00:05:41,569 - lavka_recsys.TextProcessor - INFO - Loaded sentence-transformers model: paraphrase-multilingual-MiniLM-L12-v2\n",
      "2025-04-13 00:05:46,684 - lavka_recsys.TextProcessor - INFO - Reduced embeddings from 384 to 20 dimensions\n",
      "2025-04-13 00:05:55,157 - lavka_recsys.FeatureFactory - INFO - Joined features\n",
      "2025-04-13 00:05:55,159 - lavka_recsys.FeatureFactory - INFO - All column names: {'city_total_views', 'views_month_u_p', 'product_embed_7', 'product_embed_8', 'purchase_trend', 'product_total_views_right', 'category_embed_11', 'user_product_purchase_cross', 'category_embed_12', 'interactions_week_u_p', 'user_total_interactions', 'product_embed_0', 'store_total_interactions', 'category_embed_7', 'category_embed_17', 'category_embed_3', 'product_embed_12', 'store_total_interactions_right', 'city_total_views_right', 'category_embed_18', 'city_unique_stores_right', 'session_unique_products', 'city_purchase_interaction_ratio', 'city_total_purchases', 'product_embed_4', 'product_unique_users_right', 'user_total_views', 'days_since_interaction_u_s', 'city_total_interactions', 'last_interaction_u_s', 'category_embed_13', 'user_store_purchase_cross', 'store_total_purchases_right', 'product_total_views', 'city_total_interactions_right', 'category_embed_9', 'ctr_product_right', 'category_embed_2', 'store_total_purchases', 'product_embed_10', 'product_embed_6', 'city_purchase_view_ratio', 'city_total_purchases_right', 'product_embed_11', 'product_embed_13', 'store_total_views_right', 'user_unique_products', 'is_weekend', 'category_embed_14', 'city_purchase_interaction_ratio_right', 'category_embed_19', 'user_product_store_cross', 'category_embed_10', 'user_total_views_right', 'user_total_interactions_right', 'product_embed_2', 'session_length', 'product_embed_3', 'product_embed_14', 'product_embed_19', 'category_embed_6', 'count_purchase_u_s', 'category_embed_15', 'product_total_interactions_right', 'interactions_month_u_p', 'user_segment', 'ctr_product', 'product_total_purchases_right', 'product_total_purchases', 'category_embed_1', 'category_embed_8', 'session_unique_stores', 'interactions_day_u_p', 'product_embed_18', 'category_embed_4', 'store_unique_products_right', 'user_total_purchases_right', 'interaction_trend', 'category_embed_5', 'category_embed_16', 'day_of_week', 'hour_of_day', 'purchases_day_u_p', 'purchases_month_u_p', 'category_embed_0', 'city_unique_stores', 'product_embed_1', 'views_week_u_p', 'product_unique_users', 'session_purchases', 'session_duration_seconds', 'user_total_purchases', 'count_purchase_u_p_right', 'days_since_interaction_u_p', 'last_interaction_u_p', 'product_embed_16', 'product_total_interactions', 'user_unique_products_right', 'month', 'views_day_u_p', 'mean_interval_days', 'product_embed_15', 'purchases_week_u_p', 'product_embed_9', 'store_total_views', 'city_name', 'product_embed_17', 'store_unique_products', 'product_embed_5', 'city_purchase_view_ratio_right', 'count_purchase_u_p'}\n",
      "2025-04-13 00:05:55,159 - lavka_recsys.FeatureFactory - INFO - All categorical column names: ['user_segment', 'city_name']\n",
      "2025-04-13 00:05:55,787 - lavka_recsys.FeatureFactory - INFO - Generating features: count_purchase_user_product, ctr_product, user_stats, product_stats, store_stats, recency_user_store, time_features, time_window_user_product, session_features, frequency_features, product_popularity_trend, cross_features, user_segments, product_embeddings, category_embeddings, count_purchase_user_product, count_purchase_user_store, ctr_product, recency_user_product, user_stats, product_stats, store_stats, city_stats\n",
      "2025-04-13 00:06:14,085 - lavka_recsys.TextProcessor - INFO - Loaded sentence-transformers model: paraphrase-multilingual-MiniLM-L12-v2\n",
      "2025-04-13 00:06:57,654 - lavka_recsys.TextProcessor - INFO - Reduced embeddings from 384 to 20 dimensions\n",
      "2025-04-13 00:07:00,603 - lavka_recsys.TextProcessor - INFO - Loaded sentence-transformers model: paraphrase-multilingual-MiniLM-L12-v2\n",
      "2025-04-13 00:07:04,158 - lavka_recsys.TextProcessor - INFO - Reduced embeddings from 384 to 20 dimensions\n",
      "2025-04-13 00:07:11,739 - lavka_recsys.FeatureFactory - INFO - Joined features\n",
      "2025-04-13 00:07:11,742 - lavka_recsys.FeatureFactory - INFO - All column names: {'city_total_views', 'views_month_u_p', 'product_embed_7', 'product_embed_8', 'purchase_trend', 'product_total_views_right', 'category_embed_11', 'user_product_purchase_cross', 'category_embed_12', 'interactions_week_u_p', 'user_total_interactions', 'product_embed_0', 'store_total_interactions', 'category_embed_7', 'category_embed_17', 'category_embed_3', 'product_embed_12', 'store_total_interactions_right', 'city_total_views_right', 'category_embed_18', 'city_unique_stores_right', 'session_unique_products', 'city_purchase_interaction_ratio', 'city_total_purchases', 'product_embed_4', 'product_unique_users_right', 'user_total_views', 'days_since_interaction_u_s', 'city_total_interactions', 'last_interaction_u_s', 'category_embed_13', 'user_store_purchase_cross', 'store_total_purchases_right', 'product_total_views', 'city_total_interactions_right', 'category_embed_9', 'ctr_product_right', 'category_embed_2', 'store_total_purchases', 'product_embed_10', 'product_embed_6', 'city_purchase_view_ratio', 'city_total_purchases_right', 'product_embed_11', 'product_embed_13', 'store_total_views_right', 'user_unique_products', 'is_weekend', 'category_embed_14', 'city_purchase_interaction_ratio_right', 'category_embed_19', 'user_product_store_cross', 'category_embed_10', 'user_total_views_right', 'user_total_interactions_right', 'product_embed_2', 'session_length', 'product_embed_3', 'product_embed_14', 'product_embed_19', 'category_embed_6', 'count_purchase_u_s', 'category_embed_15', 'product_total_interactions_right', 'interactions_month_u_p', 'user_segment', 'ctr_product', 'product_total_purchases_right', 'product_total_purchases', 'category_embed_1', 'category_embed_8', 'session_unique_stores', 'interactions_day_u_p', 'product_embed_18', 'category_embed_4', 'store_unique_products_right', 'user_total_purchases_right', 'interaction_trend', 'category_embed_5', 'category_embed_16', 'day_of_week', 'hour_of_day', 'purchases_day_u_p', 'purchases_month_u_p', 'category_embed_0', 'city_unique_stores', 'product_embed_1', 'views_week_u_p', 'product_unique_users', 'session_purchases', 'session_duration_seconds', 'user_total_purchases', 'count_purchase_u_p_right', 'days_since_interaction_u_p', 'last_interaction_u_p', 'product_embed_16', 'product_total_interactions', 'user_unique_products_right', 'month', 'views_day_u_p', 'mean_interval_days', 'product_embed_15', 'purchases_week_u_p', 'product_embed_9', 'store_total_views', 'city_name', 'product_embed_17', 'store_unique_products', 'product_embed_5', 'city_purchase_view_ratio_right', 'count_purchase_u_p'}\n",
      "2025-04-13 00:07:11,742 - lavka_recsys.FeatureFactory - INFO - All categorical column names: ['user_segment', 'city_name']\n",
      "2025-04-13 00:07:14,990 - lavka_recsys.CatBoostModel - INFO - Training CatBoost model with columns: ['city_total_views', 'views_month_u_p', 'product_embed_7', 'product_embed_8', 'purchase_trend', 'product_total_views_right', 'category_embed_11', 'user_product_purchase_cross', 'category_embed_12', 'interactions_week_u_p', 'user_total_interactions', 'product_embed_0', 'store_total_interactions', 'category_embed_7', 'category_embed_17', 'category_embed_3', 'product_embed_12', 'store_total_interactions_right', 'city_total_views_right', 'category_embed_18', 'city_unique_stores_right', 'session_unique_products', 'city_purchase_interaction_ratio', 'city_total_purchases', 'product_embed_4', 'product_unique_users_right', 'user_total_views', 'days_since_interaction_u_s', 'city_total_interactions', 'last_interaction_u_s', 'category_embed_13', 'user_store_purchase_cross', 'store_total_purchases_right', 'product_total_views', 'city_total_interactions_right', 'category_embed_9', 'ctr_product_right', 'category_embed_2', 'store_total_purchases', 'product_embed_10', 'product_embed_6', 'city_purchase_view_ratio', 'city_total_purchases_right', 'product_embed_11', 'product_embed_13', 'store_total_views_right', 'user_unique_products', 'is_weekend', 'category_embed_14', 'city_purchase_interaction_ratio_right', 'category_embed_19', 'user_product_store_cross', 'category_embed_10', 'user_total_views_right', 'user_total_interactions_right', 'product_embed_2', 'session_length', 'product_embed_3', 'product_embed_14', 'product_embed_19', 'category_embed_6', 'count_purchase_u_s', 'category_embed_15', 'product_total_interactions_right', 'interactions_month_u_p', 'user_segment', 'ctr_product', 'product_total_purchases_right', 'product_total_purchases', 'category_embed_1', 'category_embed_8', 'session_unique_stores', 'interactions_day_u_p', 'product_embed_18', 'category_embed_4', 'store_unique_products_right', 'user_total_purchases_right', 'interaction_trend', 'category_embed_5', 'category_embed_16', 'day_of_week', 'hour_of_day', 'purchases_day_u_p', 'purchases_month_u_p', 'category_embed_0', 'city_unique_stores', 'product_embed_1', 'views_week_u_p', 'product_unique_users', 'session_purchases', 'session_duration_seconds', 'user_total_purchases', 'count_purchase_u_p_right', 'days_since_interaction_u_p', 'last_interaction_u_p', 'product_embed_16', 'product_total_interactions', 'user_unique_products_right', 'month', 'views_day_u_p', 'mean_interval_days', 'product_embed_15', 'purchases_week_u_p', 'product_embed_9', 'store_total_views', 'city_name', 'product_embed_17', 'store_unique_products', 'product_embed_5', 'city_purchase_view_ratio_right', 'count_purchase_u_p'] (cat_columns: ['user_segment', 'city_name'])\n",
      "0:\ttest: 0.5945060\tbest: 0.5945060 (0)\ttotal: 924ms\tremaining: 12m 47s\n",
      "100:\ttest: 0.7194217\tbest: 0.7194217 (100)\ttotal: 1m 7s\tremaining: 8m 10s\n",
      "200:\ttest: 0.7293469\tbest: 0.7293469 (200)\ttotal: 2m 10s\tremaining: 6m 47s\n",
      "300:\ttest: 0.7334682\tbest: 0.7337297 (294)\ttotal: 3m 20s\tremaining: 5m 52s\n",
      "400:\ttest: 0.7356274\tbest: 0.7357032 (387)\ttotal: 4m 26s\tremaining: 4m 45s\n",
      "500:\ttest: 0.7372217\tbest: 0.7372242 (492)\ttotal: 5m 35s\tremaining: 3m 40s\n",
      "Stopped by overfitting detector  (50 iterations wait)\n",
      "\n",
      "bestTest = 0.7372242167\n",
      "bestIteration = 492\n",
      "\n",
      "Shrink model to first 493 iterations.\n",
      "2025-04-13 00:13:26,748 - lavka_recsys.HyperparameterTuner - INFO - Trial 0 AUC: 0.737224\n"
     ]
    },
    {
     "name": "stderr",
     "output_type": "stream",
     "text": [
      "[I 2025-04-13 00:13:26,752] Trial 0 finished with value: 0.7372242166578341 and parameters: {'learning_rate': 0.025855262377220935, 'depth': 6, 'l2_leaf_reg': 6.056010767225593, 'iterations': 831}. Best is trial 0 with value: 0.7372242166578341.\n"
     ]
    },
    {
     "name": "stdout",
     "output_type": "stream",
     "text": [
      "2025-04-13 00:13:26,757 - lavka_recsys.HyperparameterTuner - INFO - Trial 1: Testing parameters {'learning_rate': 0.08531604484376926, 'depth': 10, 'l2_leaf_reg': 4.670743279863423, 'iterations': 283}\n",
      "2025-04-13 00:13:32,559 - lavka_recsys.DataLoader - INFO - Validation split: history until 2023-11-07 21:53:44\n",
      "2025-04-13 00:13:32,563 - lavka_recsys.DataLoader - INFO - Training: 2023-11-07 21:53:44 to 2023-12-17 21:53:44\n",
      "2025-04-13 00:13:32,564 - lavka_recsys.DataLoader - INFO - Validation: 2023-12-17 21:53:44 to 2023-12-31 21:53:44\n",
      "2025-04-13 00:13:32,565 - lavka_recsys.DataLoader - INFO - Split data: 12237090 history, 2025540 train, 691787 validation rows\n",
      "2025-04-13 00:13:32,566 - lavka_recsys.FeatureFactory - INFO - Generating features: count_purchase_user_product, ctr_product, user_stats, product_stats, store_stats, recency_user_store, time_features, time_window_user_product, session_features, frequency_features, product_popularity_trend, cross_features, user_segments, product_embeddings, category_embeddings, count_purchase_user_product, count_purchase_user_store, ctr_product, recency_user_product, user_stats, product_stats, store_stats, city_stats\n",
      "2025-04-13 00:13:56,361 - lavka_recsys.TextProcessor - INFO - Loaded sentence-transformers model: paraphrase-multilingual-MiniLM-L12-v2\n",
      "2025-04-13 00:14:41,451 - lavka_recsys.TextProcessor - INFO - Reduced embeddings from 384 to 20 dimensions\n",
      "2025-04-13 00:14:45,388 - lavka_recsys.TextProcessor - INFO - Loaded sentence-transformers model: paraphrase-multilingual-MiniLM-L12-v2\n",
      "2025-04-13 00:14:48,510 - lavka_recsys.TextProcessor - INFO - Reduced embeddings from 384 to 20 dimensions\n",
      "2025-04-13 00:14:56,538 - lavka_recsys.FeatureFactory - INFO - Joined features\n",
      "2025-04-13 00:14:56,541 - lavka_recsys.FeatureFactory - INFO - All column names: {'city_total_views', 'views_month_u_p', 'product_embed_7', 'product_embed_8', 'purchase_trend', 'product_total_views_right', 'category_embed_11', 'user_product_purchase_cross', 'category_embed_12', 'interactions_week_u_p', 'user_total_interactions', 'product_embed_0', 'store_total_interactions', 'category_embed_7', 'category_embed_17', 'category_embed_3', 'product_embed_12', 'store_total_interactions_right', 'city_total_views_right', 'category_embed_18', 'city_unique_stores_right', 'session_unique_products', 'city_purchase_interaction_ratio', 'city_total_purchases', 'product_embed_4', 'product_unique_users_right', 'user_total_views', 'days_since_interaction_u_s', 'city_total_interactions', 'last_interaction_u_s', 'category_embed_13', 'user_store_purchase_cross', 'store_total_purchases_right', 'product_total_views', 'city_total_interactions_right', 'category_embed_9', 'ctr_product_right', 'category_embed_2', 'store_total_purchases', 'product_embed_10', 'product_embed_6', 'city_purchase_view_ratio', 'city_total_purchases_right', 'product_embed_11', 'product_embed_13', 'store_total_views_right', 'user_unique_products', 'is_weekend', 'category_embed_14', 'city_purchase_interaction_ratio_right', 'category_embed_19', 'user_product_store_cross', 'category_embed_10', 'user_total_views_right', 'user_total_interactions_right', 'product_embed_2', 'session_length', 'product_embed_3', 'product_embed_14', 'product_embed_19', 'category_embed_6', 'count_purchase_u_s', 'category_embed_15', 'product_total_interactions_right', 'interactions_month_u_p', 'user_segment', 'ctr_product', 'product_total_purchases_right', 'product_total_purchases', 'category_embed_1', 'category_embed_8', 'session_unique_stores', 'interactions_day_u_p', 'product_embed_18', 'category_embed_4', 'store_unique_products_right', 'user_total_purchases_right', 'interaction_trend', 'category_embed_5', 'category_embed_16', 'day_of_week', 'hour_of_day', 'purchases_day_u_p', 'purchases_month_u_p', 'category_embed_0', 'city_unique_stores', 'product_embed_1', 'views_week_u_p', 'product_unique_users', 'session_purchases', 'session_duration_seconds', 'user_total_purchases', 'count_purchase_u_p_right', 'days_since_interaction_u_p', 'last_interaction_u_p', 'product_embed_16', 'product_total_interactions', 'user_unique_products_right', 'month', 'views_day_u_p', 'mean_interval_days', 'product_embed_15', 'purchases_week_u_p', 'product_embed_9', 'store_total_views', 'city_name', 'product_embed_17', 'store_unique_products', 'product_embed_5', 'city_purchase_view_ratio_right', 'count_purchase_u_p'}\n",
      "2025-04-13 00:14:56,541 - lavka_recsys.FeatureFactory - INFO - All categorical column names: ['user_segment', 'city_name']\n",
      "2025-04-13 00:14:57,226 - lavka_recsys.FeatureFactory - INFO - Generating features: count_purchase_user_product, ctr_product, user_stats, product_stats, store_stats, recency_user_store, time_features, time_window_user_product, session_features, frequency_features, product_popularity_trend, cross_features, user_segments, product_embeddings, category_embeddings, count_purchase_user_product, count_purchase_user_store, ctr_product, recency_user_product, user_stats, product_stats, store_stats, city_stats\n",
      "2025-04-13 00:15:15,000 - lavka_recsys.TextProcessor - INFO - Loaded sentence-transformers model: paraphrase-multilingual-MiniLM-L12-v2\n",
      "2025-04-13 00:15:58,410 - lavka_recsys.TextProcessor - INFO - Reduced embeddings from 384 to 20 dimensions\n",
      "2025-04-13 00:16:02,454 - lavka_recsys.TextProcessor - INFO - Loaded sentence-transformers model: paraphrase-multilingual-MiniLM-L12-v2\n",
      "2025-04-13 00:16:05,973 - lavka_recsys.TextProcessor - INFO - Reduced embeddings from 384 to 20 dimensions\n",
      "2025-04-13 00:16:13,370 - lavka_recsys.FeatureFactory - INFO - Joined features\n",
      "2025-04-13 00:16:13,373 - lavka_recsys.FeatureFactory - INFO - All column names: {'city_total_views', 'views_month_u_p', 'product_embed_7', 'product_embed_8', 'purchase_trend', 'product_total_views_right', 'category_embed_11', 'user_product_purchase_cross', 'category_embed_12', 'interactions_week_u_p', 'user_total_interactions', 'product_embed_0', 'store_total_interactions', 'category_embed_7', 'category_embed_17', 'category_embed_3', 'product_embed_12', 'store_total_interactions_right', 'city_total_views_right', 'category_embed_18', 'city_unique_stores_right', 'session_unique_products', 'city_purchase_interaction_ratio', 'city_total_purchases', 'product_embed_4', 'product_unique_users_right', 'user_total_views', 'days_since_interaction_u_s', 'city_total_interactions', 'last_interaction_u_s', 'category_embed_13', 'user_store_purchase_cross', 'store_total_purchases_right', 'product_total_views', 'city_total_interactions_right', 'category_embed_9', 'ctr_product_right', 'category_embed_2', 'store_total_purchases', 'product_embed_10', 'product_embed_6', 'city_purchase_view_ratio', 'city_total_purchases_right', 'product_embed_11', 'product_embed_13', 'store_total_views_right', 'user_unique_products', 'is_weekend', 'category_embed_14', 'city_purchase_interaction_ratio_right', 'category_embed_19', 'user_product_store_cross', 'category_embed_10', 'user_total_views_right', 'user_total_interactions_right', 'product_embed_2', 'session_length', 'product_embed_3', 'product_embed_14', 'product_embed_19', 'category_embed_6', 'count_purchase_u_s', 'category_embed_15', 'product_total_interactions_right', 'interactions_month_u_p', 'user_segment', 'ctr_product', 'product_total_purchases_right', 'product_total_purchases', 'category_embed_1', 'category_embed_8', 'session_unique_stores', 'interactions_day_u_p', 'product_embed_18', 'category_embed_4', 'store_unique_products_right', 'user_total_purchases_right', 'interaction_trend', 'category_embed_5', 'category_embed_16', 'day_of_week', 'hour_of_day', 'purchases_day_u_p', 'purchases_month_u_p', 'category_embed_0', 'city_unique_stores', 'product_embed_1', 'views_week_u_p', 'product_unique_users', 'session_purchases', 'session_duration_seconds', 'user_total_purchases', 'count_purchase_u_p_right', 'days_since_interaction_u_p', 'last_interaction_u_p', 'product_embed_16', 'product_total_interactions', 'user_unique_products_right', 'month', 'views_day_u_p', 'mean_interval_days', 'product_embed_15', 'purchases_week_u_p', 'product_embed_9', 'store_total_views', 'city_name', 'product_embed_17', 'store_unique_products', 'product_embed_5', 'city_purchase_view_ratio_right', 'count_purchase_u_p'}\n",
      "2025-04-13 00:16:13,373 - lavka_recsys.FeatureFactory - INFO - All categorical column names: ['user_segment', 'city_name']\n",
      "2025-04-13 00:16:14,254 - lavka_recsys.CatBoostModel - INFO - Training CatBoost model with columns: ['city_total_views', 'views_month_u_p', 'product_embed_7', 'product_embed_8', 'purchase_trend', 'product_total_views_right', 'category_embed_11', 'user_product_purchase_cross', 'category_embed_12', 'interactions_week_u_p', 'user_total_interactions', 'product_embed_0', 'store_total_interactions', 'category_embed_7', 'category_embed_17', 'category_embed_3', 'product_embed_12', 'store_total_interactions_right', 'city_total_views_right', 'category_embed_18', 'city_unique_stores_right', 'session_unique_products', 'city_purchase_interaction_ratio', 'city_total_purchases', 'product_embed_4', 'product_unique_users_right', 'user_total_views', 'days_since_interaction_u_s', 'city_total_interactions', 'last_interaction_u_s', 'category_embed_13', 'user_store_purchase_cross', 'store_total_purchases_right', 'product_total_views', 'city_total_interactions_right', 'category_embed_9', 'ctr_product_right', 'category_embed_2', 'store_total_purchases', 'product_embed_10', 'product_embed_6', 'city_purchase_view_ratio', 'city_total_purchases_right', 'product_embed_11', 'product_embed_13', 'store_total_views_right', 'user_unique_products', 'is_weekend', 'category_embed_14', 'city_purchase_interaction_ratio_right', 'category_embed_19', 'user_product_store_cross', 'category_embed_10', 'user_total_views_right', 'user_total_interactions_right', 'product_embed_2', 'session_length', 'product_embed_3', 'product_embed_14', 'product_embed_19', 'category_embed_6', 'count_purchase_u_s', 'category_embed_15', 'product_total_interactions_right', 'interactions_month_u_p', 'user_segment', 'ctr_product', 'product_total_purchases_right', 'product_total_purchases', 'category_embed_1', 'category_embed_8', 'session_unique_stores', 'interactions_day_u_p', 'product_embed_18', 'category_embed_4', 'store_unique_products_right', 'user_total_purchases_right', 'interaction_trend', 'category_embed_5', 'category_embed_16', 'day_of_week', 'hour_of_day', 'purchases_day_u_p', 'purchases_month_u_p', 'category_embed_0', 'city_unique_stores', 'product_embed_1', 'views_week_u_p', 'product_unique_users', 'session_purchases', 'session_duration_seconds', 'user_total_purchases', 'count_purchase_u_p_right', 'days_since_interaction_u_p', 'last_interaction_u_p', 'product_embed_16', 'product_total_interactions', 'user_unique_products_right', 'month', 'views_day_u_p', 'mean_interval_days', 'product_embed_15', 'purchases_week_u_p', 'product_embed_9', 'store_total_views', 'city_name', 'product_embed_17', 'store_unique_products', 'product_embed_5', 'city_purchase_view_ratio_right', 'count_purchase_u_p'] (cat_columns: ['user_segment', 'city_name'])\n",
      "0:\ttest: 0.6455785\tbest: 0.6455785 (0)\ttotal: 2.28s\tremaining: 10m 42s\n",
      "100:\ttest: 0.7316627\tbest: 0.7316627 (100)\ttotal: 2m 48s\tremaining: 5m 3s\n"
     ]
    }
   ],
   "source": [
    "# Create experiment\n",
    "experiment = Experiment(experiment_name, config)\n",
    "\n",
    "print(f\"Starting experiment: {experiment_name}\")\n",
    "\n",
    "# Choose one of these options:\n",
    "    \n",
    "# Option 1: Run without hyperparameter tuning (fastest)\n",
    "# results = experiment.run()\n",
    "\n",
    "# Option 2: Run with hyperparameter tuning (better results)\n",
    "results = experiment.run_with_tuning()\n",
    "    \n",
    "print(f\"Experiment metrics: {results['metrics']}\")"
   ]
  },
  {
   "cell_type": "code",
   "execution_count": null,
   "id": "6de637cc",
   "metadata": {},
   "outputs": [
    {
     "name": "stdout",
     "output_type": "stream",
     "text": [
      "Experiment metrics: {'auc': 0.7355136520346217, 'logloss': 0.12800882401530772}\n",
      "\n",
      "Top 10 most important features:\n",
      "mean_interval_days: 10.078548\n",
      "count_purchase_u_p_right: 9.299074\n",
      "product_total_purchases: 7.772214\n",
      "product_total_purchases_right: 5.748494\n",
      "purchases_month_u_p: 3.857708\n",
      "user_product_purchase_cross: 3.370766\n",
      "product_total_views_right: 3.049936\n",
      "user_total_interactions: 2.894758\n",
      "user_total_purchases: 2.821779\n",
      "product_total_views: 2.763572\n"
     ]
    }
   ],
   "source": [
    "print(f\"Experiment metrics: {results['metrics']}\")\n",
    "    \n",
    "# Print top 10 most important features\n",
    "print(\"\\nTop 10 most important features:\")\n",
    "top_features = sorted(\n",
    "    results['feature_importance'].items(), \n",
    "    key=lambda x: x[1], \n",
    "    reverse=True\n",
    ")[:10]\n",
    "\n",
    "for feature, importance in top_features:\n",
    "    print(f\"{feature}: {importance:.6f}\")"
   ]
  },
  {
   "cell_type": "code",
   "execution_count": null,
   "id": "8e14ccc5",
   "metadata": {},
   "outputs": [
    {
     "name": "stdout",
     "output_type": "stream",
     "text": [
      "2025-04-12 23:28:02,345 - lavka_recsys.experiment=recommender_20250412_232422 - INFO - Training final model for prediction\n",
      "2025-04-12 23:28:05,677 - lavka_recsys.DataLoader - INFO - Final split: history until 2023-12-17 21:53:44\n",
      "2025-04-12 23:28:05,681 - lavka_recsys.DataLoader - INFO - Final training: 2023-12-17 21:53:44 to 2023-12-31 21:53:44\n",
      "2025-04-12 23:28:05,683 - lavka_recsys.DataLoader - INFO - Final split data: 14262630 history, 691787 train rows\n",
      "2025-04-12 23:28:05,683 - lavka_recsys.FeatureFactory - INFO - Generating features: count_purchase_user_product, ctr_product, user_stats, product_stats, store_stats, recency_user_store, time_features, time_window_user_product, session_features, frequency_features, product_popularity_trend, cross_features, user_segments, count_purchase_user_product, count_purchase_user_store, ctr_product, recency_user_product, user_stats, product_stats, store_stats, city_stats\n",
      "2025-04-12 23:28:25,836 - lavka_recsys.FeatureFactory - INFO - Joined features\n",
      "2025-04-12 23:28:25,838 - lavka_recsys.FeatureFactory - INFO - All column names: {'user_total_views', 'session_length', 'days_since_interaction_u_p', 'product_total_interactions_right', 'month', 'store_total_views_right', 'store_total_purchases', 'interactions_day_u_p', 'city_unique_stores_right', 'city_purchase_interaction_ratio_right', 'days_since_interaction_u_s', 'ctr_product', 'user_total_interactions', 'city_purchase_view_ratio_right', 'store_total_views', 'product_unique_users', 'user_store_purchase_cross', 'user_total_purchases_right', 'views_week_u_p', 'city_total_views_right', 'count_purchase_u_p', 'city_total_purchases', 'is_weekend', 'interaction_trend', 'interactions_month_u_p', 'city_total_purchases_right', 'store_total_interactions', 'day_of_week', 'city_total_views', 'last_interaction_u_p', 'purchases_week_u_p', 'user_segment', 'purchases_month_u_p', 'mean_interval_days', 'city_purchase_view_ratio', 'last_interaction_u_s', 'product_total_purchases_right', 'user_unique_products_right', 'store_total_purchases_right', 'product_unique_users_right', 'views_day_u_p', 'session_unique_products', 'interactions_week_u_p', 'product_total_interactions', 'ctr_product_right', 'store_unique_products', 'session_purchases', 'user_total_views_right', 'hour_of_day', 'city_purchase_interaction_ratio', 'product_total_views_right', 'purchase_trend', 'user_product_store_cross', 'user_unique_products', 'count_purchase_u_s', 'product_total_views', 'user_total_purchases', 'city_unique_stores', 'product_total_purchases', 'store_unique_products_right', 'purchases_day_u_p', 'count_purchase_u_p_right', 'city_total_interactions', 'city_total_interactions_right', 'city_name', 'session_duration_seconds', 'session_unique_stores', 'user_product_purchase_cross', 'user_total_interactions_right', 'store_total_interactions_right', 'views_month_u_p'}\n",
      "2025-04-12 23:28:25,839 - lavka_recsys.FeatureFactory - INFO - All categorical column names: ['city_name', 'user_segment']\n",
      "2025-04-12 23:28:26,116 - lavka_recsys.CatBoostModel - INFO - Training CatBoost model with columns: ['user_total_views', 'session_length', 'days_since_interaction_u_p', 'product_total_interactions_right', 'month', 'store_total_views_right', 'store_total_purchases', 'interactions_day_u_p', 'city_unique_stores_right', 'city_purchase_interaction_ratio_right', 'days_since_interaction_u_s', 'ctr_product', 'user_total_interactions', 'city_purchase_view_ratio_right', 'store_total_views', 'product_unique_users', 'user_store_purchase_cross', 'user_total_purchases_right', 'views_week_u_p', 'city_total_views_right', 'count_purchase_u_p', 'city_total_purchases', 'is_weekend', 'interaction_trend', 'interactions_month_u_p', 'city_total_purchases_right', 'store_total_interactions', 'day_of_week', 'city_total_views', 'last_interaction_u_p', 'purchases_week_u_p', 'user_segment', 'purchases_month_u_p', 'mean_interval_days', 'city_purchase_view_ratio', 'last_interaction_u_s', 'product_total_purchases_right', 'user_unique_products_right', 'store_total_purchases_right', 'product_unique_users_right', 'views_day_u_p', 'session_unique_products', 'interactions_week_u_p', 'product_total_interactions', 'ctr_product_right', 'store_unique_products', 'session_purchases', 'user_total_views_right', 'hour_of_day', 'city_purchase_interaction_ratio', 'product_total_views_right', 'purchase_trend', 'user_product_store_cross', 'user_unique_products', 'count_purchase_u_s', 'product_total_views', 'user_total_purchases', 'city_unique_stores', 'product_total_purchases', 'store_unique_products_right', 'purchases_day_u_p', 'count_purchase_u_p_right', 'city_total_interactions', 'city_total_interactions_right', 'city_name', 'session_duration_seconds', 'session_unique_stores', 'user_product_purchase_cross', 'user_total_interactions_right', 'store_total_interactions_right', 'views_month_u_p'] (cat_columns: ['city_name', 'user_segment'])\n",
      "0:\ttotal: 185ms\tremaining: 1m 32s\n",
      "100:\ttotal: 17.1s\tremaining: 1m 7s\n",
      "200:\ttotal: 35.7s\tremaining: 53.1s\n",
      "300:\ttotal: 53.1s\tremaining: 35.1s\n",
      "400:\ttotal: 1m 9s\tremaining: 17.3s\n",
      "499:\ttotal: 1m 27s\tremaining: 0us\n",
      "2025-04-12 23:29:54,672 - lavka_recsys.FeatureFactory - INFO - Generating features: count_purchase_user_product, ctr_product, user_stats, product_stats, store_stats, recency_user_store, time_features, time_window_user_product, session_features, frequency_features, product_popularity_trend, cross_features, user_segments, count_purchase_user_product, count_purchase_user_store, ctr_product, recency_user_product, user_stats, product_stats, store_stats, city_stats\n",
      "2025-04-12 23:30:18,163 - lavka_recsys.FeatureFactory - INFO - Joined features\n",
      "2025-04-12 23:30:18,165 - lavka_recsys.FeatureFactory - INFO - All column names: {'user_total_views', 'session_length', 'days_since_interaction_u_p', 'product_total_interactions_right', 'month', 'store_total_views_right', 'store_total_purchases', 'interactions_day_u_p', 'city_unique_stores_right', 'city_purchase_interaction_ratio_right', 'days_since_interaction_u_s', 'ctr_product', 'user_total_interactions', 'city_purchase_view_ratio_right', 'store_total_views', 'product_unique_users', 'user_store_purchase_cross', 'user_total_purchases_right', 'views_week_u_p', 'city_total_views_right', 'count_purchase_u_p', 'city_total_purchases', 'is_weekend', 'interaction_trend', 'interactions_month_u_p', 'city_total_purchases_right', 'store_total_interactions', 'day_of_week', 'city_total_views', 'last_interaction_u_p', 'purchases_week_u_p', 'user_segment', 'purchases_month_u_p', 'mean_interval_days', 'city_purchase_view_ratio', 'last_interaction_u_s', 'product_total_purchases_right', 'user_unique_products_right', 'store_total_purchases_right', 'product_unique_users_right', 'views_day_u_p', 'session_unique_products', 'interactions_week_u_p', 'product_total_interactions', 'ctr_product_right', 'store_unique_products', 'session_purchases', 'user_total_views_right', 'hour_of_day', 'city_purchase_interaction_ratio', 'product_total_views_right', 'purchase_trend', 'user_product_store_cross', 'user_unique_products', 'count_purchase_u_s', 'product_total_views', 'user_total_purchases', 'city_unique_stores', 'product_total_purchases', 'store_unique_products_right', 'purchases_day_u_p', 'count_purchase_u_p_right', 'city_total_interactions', 'city_total_interactions_right', 'city_name', 'session_duration_seconds', 'session_unique_stores', 'user_product_purchase_cross', 'user_total_interactions_right', 'store_total_interactions_right', 'views_month_u_p'}\n",
      "2025-04-12 23:30:18,166 - lavka_recsys.FeatureFactory - INFO - All categorical column names: ['city_name', 'user_segment']\n",
      "2025-04-12 23:30:18,689 - lavka_recsys.experiment=recommender_20250412_232422 - INFO - Saved model to results/recommender_20250412_232422_9ec71e_model.pkl\n",
      "2025-04-12 23:30:18,735 - lavka_recsys.experiment=recommender_20250412_232422 - INFO - Saved predictions to results/recommender_20250412_232422_9ec71e_predictions.csv\n",
      "2025-04-12 23:30:18,736 - lavka_recsys.experiment=recommender_20250412_232422 - INFO - Prediction completed in 136.39 seconds\n",
      "\n",
      "Predictions generated. First 5 rows:\n",
      "shape: (5, 3)\n",
      "┌────────┬─────────────────────┬──────────┐\n",
      "│ index  ┆ request_id          ┆ predict  │\n",
      "│ ---    ┆ ---                 ┆ ---      │\n",
      "│ u32    ┆ u64                 ┆ f64      │\n",
      "╞════════╪═════════════════════╪══════════╡\n",
      "│ 65088  ┆ 5858536007999182875 ┆ 0.728352 │\n",
      "│ 190350 ┆ 5858536007999182875 ┆ 0.728352 │\n",
      "│ 210994 ┆ 5858536007999182875 ┆ 0.728352 │\n",
      "│ 243320 ┆ 5858536007999182875 ┆ 0.728352 │\n",
      "│ 465993 ┆ 5858536007999182875 ┆ 0.728352 │\n",
      "└────────┴─────────────────────┴──────────┘\n",
      "\n",
      "Experiment completed: recommender_20250412_232422\n"
     ]
    }
   ],
   "source": [
    "best_params = results.get('best_params')  # Will be None if using run() without tuning\n",
    "submission = experiment.predict(best_params)\n",
    "\n",
    "print(f\"\\nPredictions generated. First 5 rows:\")\n",
    "print(submission.head(5))\n",
    "\n",
    "print(f\"\\nExperiment completed: {experiment_name}\")"
   ]
  },
  {
   "cell_type": "code",
   "execution_count": null,
   "id": "e57f2a5f",
   "metadata": {},
   "outputs": [
    {
     "data": {
      "text/html": [
       "<div><style>\n",
       ".dataframe > thead > tr,\n",
       ".dataframe > tbody > tr {\n",
       "  text-align: right;\n",
       "  white-space: pre-wrap;\n",
       "}\n",
       "</style>\n",
       "<small>shape: (565_231, 3)</small><table border=\"1\" class=\"dataframe\"><thead><tr><th>index</th><th>request_id</th><th>predict</th></tr><tr><td>u32</td><td>u64</td><td>f64</td></tr></thead><tbody><tr><td>65088</td><td>5858536007999182875</td><td>0.728352</td></tr><tr><td>190350</td><td>5858536007999182875</td><td>0.728352</td></tr><tr><td>210994</td><td>5858536007999182875</td><td>0.728352</td></tr><tr><td>243320</td><td>5858536007999182875</td><td>0.728352</td></tr><tr><td>465993</td><td>5858536007999182875</td><td>0.728352</td></tr><tr><td>&hellip;</td><td>&hellip;</td><td>&hellip;</td></tr><tr><td>511269</td><td>15600691769453273983</td><td>0.000753</td></tr><tr><td>433797</td><td>12645323795377778123</td><td>0.000751</td></tr><tr><td>368625</td><td>16619401595275987764</td><td>0.000604</td></tr><tr><td>430331</td><td>14789876256328305967</td><td>0.00056</td></tr><tr><td>253165</td><td>16084743070753919579</td><td>0.000401</td></tr></tbody></table></div>"
      ],
      "text/plain": [
       "shape: (565_231, 3)\n",
       "┌────────┬──────────────────────┬──────────┐\n",
       "│ index  ┆ request_id           ┆ predict  │\n",
       "│ ---    ┆ ---                  ┆ ---      │\n",
       "│ u32    ┆ u64                  ┆ f64      │\n",
       "╞════════╪══════════════════════╪══════════╡\n",
       "│ 65088  ┆ 5858536007999182875  ┆ 0.728352 │\n",
       "│ 190350 ┆ 5858536007999182875  ┆ 0.728352 │\n",
       "│ 210994 ┆ 5858536007999182875  ┆ 0.728352 │\n",
       "│ 243320 ┆ 5858536007999182875  ┆ 0.728352 │\n",
       "│ 465993 ┆ 5858536007999182875  ┆ 0.728352 │\n",
       "│ …      ┆ …                    ┆ …        │\n",
       "│ 511269 ┆ 15600691769453273983 ┆ 0.000753 │\n",
       "│ 433797 ┆ 12645323795377778123 ┆ 0.000751 │\n",
       "│ 368625 ┆ 16619401595275987764 ┆ 0.000604 │\n",
       "│ 430331 ┆ 14789876256328305967 ┆ 0.00056  │\n",
       "│ 253165 ┆ 16084743070753919579 ┆ 0.000401 │\n",
       "└────────┴──────────────────────┴──────────┘"
      ]
     },
     "execution_count": 17,
     "metadata": {},
     "output_type": "execute_result"
    }
   ],
   "source": [
    "submission"
   ]
  },
  {
   "cell_type": "code",
   "execution_count": null,
   "id": "b0185a17",
   "metadata": {},
   "outputs": [],
   "source": []
  }
 ],
 "metadata": {
  "kernelspec": {
   "display_name": "SDC-25",
   "language": "python",
   "name": "sdc-25"
  },
  "language_info": {
   "codemirror_mode": {
    "name": "ipython",
    "version": 3
   },
   "file_extension": ".py",
   "mimetype": "text/x-python",
   "name": "python",
   "nbconvert_exporter": "python",
   "pygments_lexer": "ipython3",
   "version": "3.11.11"
  }
 },
 "nbformat": 4,
 "nbformat_minor": 5
}
